{
 "metadata": {
  "language_info": {
   "codemirror_mode": {
    "name": "ipython",
    "version": 3
   },
   "file_extension": ".py",
   "mimetype": "text/x-python",
   "name": "python",
   "nbconvert_exporter": "python",
   "pygments_lexer": "ipython3",
   "version": "3.7.6-final"
  },
  "orig_nbformat": 2,
  "kernelspec": {
   "name": "python3",
   "display_name": "Python 3"
  }
 },
 "nbformat": 4,
 "nbformat_minor": 2,
 "cells": [
  {
   "cell_type": "code",
   "execution_count": 1,
   "metadata": {},
   "outputs": [],
   "source": [
    "import numpy as np"
   ]
  },
  {
   "cell_type": "code",
   "execution_count": 2,
   "metadata": {},
   "outputs": [],
   "source": [
    "import pandas as pd"
   ]
  },
  {
   "cell_type": "code",
   "execution_count": 3,
   "metadata": {},
   "outputs": [],
   "source": [
    "cars = pd.read_csv(\"mtcars.csv\")"
   ]
  },
  {
   "cell_type": "code",
   "execution_count": 4,
   "metadata": {},
   "outputs": [
    {
     "output_type": "execute_result",
     "data": {
      "text/plain": "                   name   mpg  cyl   disp   hp  drat     wt   qsec  vs  am  \\\n0             Mazda RX4  21.0    6  160.0  110  3.90  2.620  16.46   0   1   \n1         Mazda RX4 Wag  21.0    6  160.0  110  3.90  2.875  17.02   0   1   \n2            Datsun 710  22.8    4  108.0   93  3.85  2.320  18.61   1   1   \n3        Hornet 4 Drive  21.4    6  258.0  110  3.08  3.215  19.44   1   0   \n4     Hornet Sportabout  18.7    8  360.0  175  3.15  3.440  17.02   0   0   \n5               Valiant  18.1    6  225.0  105  2.76  3.460  20.22   1   0   \n6            Duster 360  14.3    8  360.0  245  3.21  3.570  15.84   0   0   \n7             Merc 240D  24.4    4  146.7   62  3.69  3.190  20.00   1   0   \n8              Merc 230  22.8    4  140.8   95  3.92  3.150  22.90   1   0   \n9              Merc 280  19.2    6  167.6  123  3.92  3.440  18.30   1   0   \n10            Merc 280C  17.8    6  167.6  123  3.92  3.440  18.90   1   0   \n11           Merc 450SE  16.4    8  275.8  180  3.07  4.070  17.40   0   0   \n12           Merc 450SL  17.3    8  275.8  180  3.07  3.730  17.60   0   0   \n13          Merc 450SLC  15.2    8  275.8  180  3.07  3.780  18.00   0   0   \n14   Cadillac Fleetwood  10.4    8  472.0  205  2.93  5.250  17.98   0   0   \n15  Lincoln Continental  10.4    8  460.0  215  3.00  5.424  17.82   0   0   \n16    Chrysler Imperial  14.7    8  440.0  230  3.23  5.345  17.42   0   0   \n17             Fiat 128  32.4    4   78.7   66  4.08  2.200  19.47   1   1   \n18          Honda Civic  30.4    4   75.7   52  4.93  1.615  18.52   1   1   \n19       Toyota Corolla  33.9    4   71.1   65  4.22  1.835  19.90   1   1   \n20        Toyota Corona  21.5    4  120.1   97  3.70  2.465  20.01   1   0   \n21     Dodge Challenger  15.5    8  318.0  150  2.76  3.520  16.87   0   0   \n22          AMC Javelin  15.2    8  304.0  150  3.15  3.435  17.30   0   0   \n23           Camaro Z28  13.3    8  350.0  245  3.73  3.840  15.41   0   0   \n24     Pontiac Firebird  19.2    8  400.0  175  3.08  3.845  17.05   0   0   \n25            Fiat X1-9  27.3    4   79.0   66  4.08  1.935  18.90   1   1   \n26        Porsche 914-2  26.0    4  120.3   91  4.43  2.140  16.70   0   1   \n27         Lotus Europa  30.4    4   95.1  113  3.77  1.513  16.90   1   1   \n28       Ford Pantera L  15.8    8  351.0  264  4.22  3.170  14.50   0   1   \n29         Ferrari Dino  19.7    6  145.0  175  3.62  2.770  15.50   0   1   \n30        Maserati Bora  15.0    8  301.0  335  3.54  3.570  14.60   0   1   \n31           Volvo 142E  21.4    4  121.0  109  4.11  2.780  18.60   1   1   \n\n    gear  carb  \n0      4     4  \n1      4     4  \n2      4     1  \n3      3     1  \n4      3     2  \n5      3     1  \n6      3     4  \n7      4     2  \n8      4     2  \n9      4     4  \n10     4     4  \n11     3     3  \n12     3     3  \n13     3     3  \n14     3     4  \n15     3     4  \n16     3     4  \n17     4     1  \n18     4     2  \n19     4     1  \n20     3     1  \n21     3     2  \n22     3     2  \n23     3     4  \n24     3     2  \n25     4     1  \n26     5     2  \n27     5     2  \n28     5     4  \n29     5     6  \n30     5     8  \n31     4     2  ",
      "text/html": "<div>\n<style scoped>\n    .dataframe tbody tr th:only-of-type {\n        vertical-align: middle;\n    }\n\n    .dataframe tbody tr th {\n        vertical-align: top;\n    }\n\n    .dataframe thead th {\n        text-align: right;\n    }\n</style>\n<table border=\"1\" class=\"dataframe\">\n  <thead>\n    <tr style=\"text-align: right;\">\n      <th></th>\n      <th>name</th>\n      <th>mpg</th>\n      <th>cyl</th>\n      <th>disp</th>\n      <th>hp</th>\n      <th>drat</th>\n      <th>wt</th>\n      <th>qsec</th>\n      <th>vs</th>\n      <th>am</th>\n      <th>gear</th>\n      <th>carb</th>\n    </tr>\n  </thead>\n  <tbody>\n    <tr>\n      <th>0</th>\n      <td>Mazda RX4</td>\n      <td>21.0</td>\n      <td>6</td>\n      <td>160.0</td>\n      <td>110</td>\n      <td>3.90</td>\n      <td>2.620</td>\n      <td>16.46</td>\n      <td>0</td>\n      <td>1</td>\n      <td>4</td>\n      <td>4</td>\n    </tr>\n    <tr>\n      <th>1</th>\n      <td>Mazda RX4 Wag</td>\n      <td>21.0</td>\n      <td>6</td>\n      <td>160.0</td>\n      <td>110</td>\n      <td>3.90</td>\n      <td>2.875</td>\n      <td>17.02</td>\n      <td>0</td>\n      <td>1</td>\n      <td>4</td>\n      <td>4</td>\n    </tr>\n    <tr>\n      <th>2</th>\n      <td>Datsun 710</td>\n      <td>22.8</td>\n      <td>4</td>\n      <td>108.0</td>\n      <td>93</td>\n      <td>3.85</td>\n      <td>2.320</td>\n      <td>18.61</td>\n      <td>1</td>\n      <td>1</td>\n      <td>4</td>\n      <td>1</td>\n    </tr>\n    <tr>\n      <th>3</th>\n      <td>Hornet 4 Drive</td>\n      <td>21.4</td>\n      <td>6</td>\n      <td>258.0</td>\n      <td>110</td>\n      <td>3.08</td>\n      <td>3.215</td>\n      <td>19.44</td>\n      <td>1</td>\n      <td>0</td>\n      <td>3</td>\n      <td>1</td>\n    </tr>\n    <tr>\n      <th>4</th>\n      <td>Hornet Sportabout</td>\n      <td>18.7</td>\n      <td>8</td>\n      <td>360.0</td>\n      <td>175</td>\n      <td>3.15</td>\n      <td>3.440</td>\n      <td>17.02</td>\n      <td>0</td>\n      <td>0</td>\n      <td>3</td>\n      <td>2</td>\n    </tr>\n    <tr>\n      <th>5</th>\n      <td>Valiant</td>\n      <td>18.1</td>\n      <td>6</td>\n      <td>225.0</td>\n      <td>105</td>\n      <td>2.76</td>\n      <td>3.460</td>\n      <td>20.22</td>\n      <td>1</td>\n      <td>0</td>\n      <td>3</td>\n      <td>1</td>\n    </tr>\n    <tr>\n      <th>6</th>\n      <td>Duster 360</td>\n      <td>14.3</td>\n      <td>8</td>\n      <td>360.0</td>\n      <td>245</td>\n      <td>3.21</td>\n      <td>3.570</td>\n      <td>15.84</td>\n      <td>0</td>\n      <td>0</td>\n      <td>3</td>\n      <td>4</td>\n    </tr>\n    <tr>\n      <th>7</th>\n      <td>Merc 240D</td>\n      <td>24.4</td>\n      <td>4</td>\n      <td>146.7</td>\n      <td>62</td>\n      <td>3.69</td>\n      <td>3.190</td>\n      <td>20.00</td>\n      <td>1</td>\n      <td>0</td>\n      <td>4</td>\n      <td>2</td>\n    </tr>\n    <tr>\n      <th>8</th>\n      <td>Merc 230</td>\n      <td>22.8</td>\n      <td>4</td>\n      <td>140.8</td>\n      <td>95</td>\n      <td>3.92</td>\n      <td>3.150</td>\n      <td>22.90</td>\n      <td>1</td>\n      <td>0</td>\n      <td>4</td>\n      <td>2</td>\n    </tr>\n    <tr>\n      <th>9</th>\n      <td>Merc 280</td>\n      <td>19.2</td>\n      <td>6</td>\n      <td>167.6</td>\n      <td>123</td>\n      <td>3.92</td>\n      <td>3.440</td>\n      <td>18.30</td>\n      <td>1</td>\n      <td>0</td>\n      <td>4</td>\n      <td>4</td>\n    </tr>\n    <tr>\n      <th>10</th>\n      <td>Merc 280C</td>\n      <td>17.8</td>\n      <td>6</td>\n      <td>167.6</td>\n      <td>123</td>\n      <td>3.92</td>\n      <td>3.440</td>\n      <td>18.90</td>\n      <td>1</td>\n      <td>0</td>\n      <td>4</td>\n      <td>4</td>\n    </tr>\n    <tr>\n      <th>11</th>\n      <td>Merc 450SE</td>\n      <td>16.4</td>\n      <td>8</td>\n      <td>275.8</td>\n      <td>180</td>\n      <td>3.07</td>\n      <td>4.070</td>\n      <td>17.40</td>\n      <td>0</td>\n      <td>0</td>\n      <td>3</td>\n      <td>3</td>\n    </tr>\n    <tr>\n      <th>12</th>\n      <td>Merc 450SL</td>\n      <td>17.3</td>\n      <td>8</td>\n      <td>275.8</td>\n      <td>180</td>\n      <td>3.07</td>\n      <td>3.730</td>\n      <td>17.60</td>\n      <td>0</td>\n      <td>0</td>\n      <td>3</td>\n      <td>3</td>\n    </tr>\n    <tr>\n      <th>13</th>\n      <td>Merc 450SLC</td>\n      <td>15.2</td>\n      <td>8</td>\n      <td>275.8</td>\n      <td>180</td>\n      <td>3.07</td>\n      <td>3.780</td>\n      <td>18.00</td>\n      <td>0</td>\n      <td>0</td>\n      <td>3</td>\n      <td>3</td>\n    </tr>\n    <tr>\n      <th>14</th>\n      <td>Cadillac Fleetwood</td>\n      <td>10.4</td>\n      <td>8</td>\n      <td>472.0</td>\n      <td>205</td>\n      <td>2.93</td>\n      <td>5.250</td>\n      <td>17.98</td>\n      <td>0</td>\n      <td>0</td>\n      <td>3</td>\n      <td>4</td>\n    </tr>\n    <tr>\n      <th>15</th>\n      <td>Lincoln Continental</td>\n      <td>10.4</td>\n      <td>8</td>\n      <td>460.0</td>\n      <td>215</td>\n      <td>3.00</td>\n      <td>5.424</td>\n      <td>17.82</td>\n      <td>0</td>\n      <td>0</td>\n      <td>3</td>\n      <td>4</td>\n    </tr>\n    <tr>\n      <th>16</th>\n      <td>Chrysler Imperial</td>\n      <td>14.7</td>\n      <td>8</td>\n      <td>440.0</td>\n      <td>230</td>\n      <td>3.23</td>\n      <td>5.345</td>\n      <td>17.42</td>\n      <td>0</td>\n      <td>0</td>\n      <td>3</td>\n      <td>4</td>\n    </tr>\n    <tr>\n      <th>17</th>\n      <td>Fiat 128</td>\n      <td>32.4</td>\n      <td>4</td>\n      <td>78.7</td>\n      <td>66</td>\n      <td>4.08</td>\n      <td>2.200</td>\n      <td>19.47</td>\n      <td>1</td>\n      <td>1</td>\n      <td>4</td>\n      <td>1</td>\n    </tr>\n    <tr>\n      <th>18</th>\n      <td>Honda Civic</td>\n      <td>30.4</td>\n      <td>4</td>\n      <td>75.7</td>\n      <td>52</td>\n      <td>4.93</td>\n      <td>1.615</td>\n      <td>18.52</td>\n      <td>1</td>\n      <td>1</td>\n      <td>4</td>\n      <td>2</td>\n    </tr>\n    <tr>\n      <th>19</th>\n      <td>Toyota Corolla</td>\n      <td>33.9</td>\n      <td>4</td>\n      <td>71.1</td>\n      <td>65</td>\n      <td>4.22</td>\n      <td>1.835</td>\n      <td>19.90</td>\n      <td>1</td>\n      <td>1</td>\n      <td>4</td>\n      <td>1</td>\n    </tr>\n    <tr>\n      <th>20</th>\n      <td>Toyota Corona</td>\n      <td>21.5</td>\n      <td>4</td>\n      <td>120.1</td>\n      <td>97</td>\n      <td>3.70</td>\n      <td>2.465</td>\n      <td>20.01</td>\n      <td>1</td>\n      <td>0</td>\n      <td>3</td>\n      <td>1</td>\n    </tr>\n    <tr>\n      <th>21</th>\n      <td>Dodge Challenger</td>\n      <td>15.5</td>\n      <td>8</td>\n      <td>318.0</td>\n      <td>150</td>\n      <td>2.76</td>\n      <td>3.520</td>\n      <td>16.87</td>\n      <td>0</td>\n      <td>0</td>\n      <td>3</td>\n      <td>2</td>\n    </tr>\n    <tr>\n      <th>22</th>\n      <td>AMC Javelin</td>\n      <td>15.2</td>\n      <td>8</td>\n      <td>304.0</td>\n      <td>150</td>\n      <td>3.15</td>\n      <td>3.435</td>\n      <td>17.30</td>\n      <td>0</td>\n      <td>0</td>\n      <td>3</td>\n      <td>2</td>\n    </tr>\n    <tr>\n      <th>23</th>\n      <td>Camaro Z28</td>\n      <td>13.3</td>\n      <td>8</td>\n      <td>350.0</td>\n      <td>245</td>\n      <td>3.73</td>\n      <td>3.840</td>\n      <td>15.41</td>\n      <td>0</td>\n      <td>0</td>\n      <td>3</td>\n      <td>4</td>\n    </tr>\n    <tr>\n      <th>24</th>\n      <td>Pontiac Firebird</td>\n      <td>19.2</td>\n      <td>8</td>\n      <td>400.0</td>\n      <td>175</td>\n      <td>3.08</td>\n      <td>3.845</td>\n      <td>17.05</td>\n      <td>0</td>\n      <td>0</td>\n      <td>3</td>\n      <td>2</td>\n    </tr>\n    <tr>\n      <th>25</th>\n      <td>Fiat X1-9</td>\n      <td>27.3</td>\n      <td>4</td>\n      <td>79.0</td>\n      <td>66</td>\n      <td>4.08</td>\n      <td>1.935</td>\n      <td>18.90</td>\n      <td>1</td>\n      <td>1</td>\n      <td>4</td>\n      <td>1</td>\n    </tr>\n    <tr>\n      <th>26</th>\n      <td>Porsche 914-2</td>\n      <td>26.0</td>\n      <td>4</td>\n      <td>120.3</td>\n      <td>91</td>\n      <td>4.43</td>\n      <td>2.140</td>\n      <td>16.70</td>\n      <td>0</td>\n      <td>1</td>\n      <td>5</td>\n      <td>2</td>\n    </tr>\n    <tr>\n      <th>27</th>\n      <td>Lotus Europa</td>\n      <td>30.4</td>\n      <td>4</td>\n      <td>95.1</td>\n      <td>113</td>\n      <td>3.77</td>\n      <td>1.513</td>\n      <td>16.90</td>\n      <td>1</td>\n      <td>1</td>\n      <td>5</td>\n      <td>2</td>\n    </tr>\n    <tr>\n      <th>28</th>\n      <td>Ford Pantera L</td>\n      <td>15.8</td>\n      <td>8</td>\n      <td>351.0</td>\n      <td>264</td>\n      <td>4.22</td>\n      <td>3.170</td>\n      <td>14.50</td>\n      <td>0</td>\n      <td>1</td>\n      <td>5</td>\n      <td>4</td>\n    </tr>\n    <tr>\n      <th>29</th>\n      <td>Ferrari Dino</td>\n      <td>19.7</td>\n      <td>6</td>\n      <td>145.0</td>\n      <td>175</td>\n      <td>3.62</td>\n      <td>2.770</td>\n      <td>15.50</td>\n      <td>0</td>\n      <td>1</td>\n      <td>5</td>\n      <td>6</td>\n    </tr>\n    <tr>\n      <th>30</th>\n      <td>Maserati Bora</td>\n      <td>15.0</td>\n      <td>8</td>\n      <td>301.0</td>\n      <td>335</td>\n      <td>3.54</td>\n      <td>3.570</td>\n      <td>14.60</td>\n      <td>0</td>\n      <td>1</td>\n      <td>5</td>\n      <td>8</td>\n    </tr>\n    <tr>\n      <th>31</th>\n      <td>Volvo 142E</td>\n      <td>21.4</td>\n      <td>4</td>\n      <td>121.0</td>\n      <td>109</td>\n      <td>4.11</td>\n      <td>2.780</td>\n      <td>18.60</td>\n      <td>1</td>\n      <td>1</td>\n      <td>4</td>\n      <td>2</td>\n    </tr>\n  </tbody>\n</table>\n</div>"
     },
     "metadata": {},
     "execution_count": 4
    }
   ],
   "source": [
    "cars"
   ]
  },
  {
   "cell_type": "code",
   "execution_count": 6,
   "metadata": {},
   "outputs": [
    {
     "output_type": "execute_result",
     "data": {
      "text/plain": "name    32\nmpg     32\ncyl     32\ndisp    32\nhp      32\ndrat    32\nwt      32\nqsec    32\nvs      32\nam      32\ngear    32\ncarb    32\ndtype: int64"
     },
     "metadata": {},
     "execution_count": 6
    }
   ],
   "source": [
    "cars.count()"
   ]
  },
  {
   "cell_type": "code",
   "execution_count": 23,
   "metadata": {},
   "outputs": [],
   "source": [
    "gp_cyl = cars.groupby(by=\"cyl\")"
   ]
  },
  {
   "cell_type": "code",
   "execution_count": 25,
   "metadata": {},
   "outputs": [
    {
     "output_type": "execute_result",
     "data": {
      "text/plain": "cyl\n4     909\n6     856\n8    2929\nName: hp, dtype: int64"
     },
     "metadata": {},
     "execution_count": 25
    }
   ],
   "source": [
    "gp_cyl[\"hp\"].sum()"
   ]
  },
  {
   "cell_type": "code",
   "execution_count": 28,
   "metadata": {},
   "outputs": [],
   "source": [
    "gp2=cars[[\"cyl\", \"hp\"]].groupby(by=\"cyl\")"
   ]
  },
  {
   "cell_type": "code",
   "execution_count": 29,
   "metadata": {},
   "outputs": [
    {
     "output_type": "execute_result",
     "data": {
      "text/plain": "       hp\ncyl      \n4     909\n6     856\n8    2929",
      "text/html": "<div>\n<style scoped>\n    .dataframe tbody tr th:only-of-type {\n        vertical-align: middle;\n    }\n\n    .dataframe tbody tr th {\n        vertical-align: top;\n    }\n\n    .dataframe thead th {\n        text-align: right;\n    }\n</style>\n<table border=\"1\" class=\"dataframe\">\n  <thead>\n    <tr style=\"text-align: right;\">\n      <th></th>\n      <th>hp</th>\n    </tr>\n    <tr>\n      <th>cyl</th>\n      <th></th>\n    </tr>\n  </thead>\n  <tbody>\n    <tr>\n      <th>4</th>\n      <td>909</td>\n    </tr>\n    <tr>\n      <th>6</th>\n      <td>856</td>\n    </tr>\n    <tr>\n      <th>8</th>\n      <td>2929</td>\n    </tr>\n  </tbody>\n</table>\n</div>"
     },
     "metadata": {},
     "execution_count": 29
    }
   ],
   "source": [
    "gp2.sum()"
   ]
  },
  {
   "cell_type": "code",
   "execution_count": 30,
   "metadata": {},
   "outputs": [
    {
     "output_type": "execute_result",
     "data": {
      "text/plain": "     name    mpg    cyl   disp     hp   drat     wt   qsec     vs     am  \\\n0   False  False  False  False  False  False  False  False  False  False   \n1   False  False  False  False  False  False  False  False  False  False   \n2   False  False  False  False  False  False  False  False  False  False   \n3   False  False  False  False  False  False  False  False  False  False   \n4   False  False  False  False  False  False  False  False  False  False   \n5   False  False  False  False  False  False  False  False  False  False   \n6   False  False  False  False  False  False  False  False  False  False   \n7   False  False  False  False  False  False  False  False  False  False   \n8   False  False  False  False  False  False  False  False  False  False   \n9   False  False  False  False  False  False  False  False  False  False   \n10  False  False  False  False  False  False  False  False  False  False   \n11  False  False  False  False  False  False  False  False  False  False   \n12  False  False  False  False  False  False  False  False  False  False   \n13  False  False  False  False  False  False  False  False  False  False   \n14  False  False  False  False  False  False  False  False  False  False   \n15  False  False  False  False  False  False  False  False  False  False   \n16  False  False  False  False  False  False  False  False  False  False   \n17  False  False  False  False  False  False  False  False  False  False   \n18  False  False  False  False  False  False  False  False  False  False   \n19  False  False  False  False  False  False  False  False  False  False   \n20  False  False  False  False  False  False  False  False  False  False   \n21  False  False  False  False  False  False  False  False  False  False   \n22  False  False  False  False  False  False  False  False  False  False   \n23  False  False  False  False  False  False  False  False  False  False   \n24  False  False  False  False  False  False  False  False  False  False   \n25  False  False  False  False  False  False  False  False  False  False   \n26  False  False  False  False  False  False  False  False  False  False   \n27  False  False  False  False  False  False  False  False  False  False   \n28  False  False  False  False  False  False  False  False  False  False   \n29  False  False  False  False  False  False  False  False  False  False   \n30  False  False  False  False  False  False  False  False  False  False   \n31  False  False  False  False  False  False  False  False  False  False   \n\n     gear   carb  \n0   False  False  \n1   False  False  \n2   False  False  \n3   False  False  \n4   False  False  \n5   False  False  \n6   False  False  \n7   False  False  \n8   False  False  \n9   False  False  \n10  False  False  \n11  False  False  \n12  False  False  \n13  False  False  \n14  False  False  \n15  False  False  \n16  False  False  \n17  False  False  \n18  False  False  \n19  False  False  \n20  False  False  \n21  False  False  \n22  False  False  \n23  False  False  \n24  False  False  \n25  False  False  \n26  False  False  \n27  False  False  \n28  False  False  \n29  False  False  \n30  False  False  \n31  False  False  ",
      "text/html": "<div>\n<style scoped>\n    .dataframe tbody tr th:only-of-type {\n        vertical-align: middle;\n    }\n\n    .dataframe tbody tr th {\n        vertical-align: top;\n    }\n\n    .dataframe thead th {\n        text-align: right;\n    }\n</style>\n<table border=\"1\" class=\"dataframe\">\n  <thead>\n    <tr style=\"text-align: right;\">\n      <th></th>\n      <th>name</th>\n      <th>mpg</th>\n      <th>cyl</th>\n      <th>disp</th>\n      <th>hp</th>\n      <th>drat</th>\n      <th>wt</th>\n      <th>qsec</th>\n      <th>vs</th>\n      <th>am</th>\n      <th>gear</th>\n      <th>carb</th>\n    </tr>\n  </thead>\n  <tbody>\n    <tr>\n      <th>0</th>\n      <td>False</td>\n      <td>False</td>\n      <td>False</td>\n      <td>False</td>\n      <td>False</td>\n      <td>False</td>\n      <td>False</td>\n      <td>False</td>\n      <td>False</td>\n      <td>False</td>\n      <td>False</td>\n      <td>False</td>\n    </tr>\n    <tr>\n      <th>1</th>\n      <td>False</td>\n      <td>False</td>\n      <td>False</td>\n      <td>False</td>\n      <td>False</td>\n      <td>False</td>\n      <td>False</td>\n      <td>False</td>\n      <td>False</td>\n      <td>False</td>\n      <td>False</td>\n      <td>False</td>\n    </tr>\n    <tr>\n      <th>2</th>\n      <td>False</td>\n      <td>False</td>\n      <td>False</td>\n      <td>False</td>\n      <td>False</td>\n      <td>False</td>\n      <td>False</td>\n      <td>False</td>\n      <td>False</td>\n      <td>False</td>\n      <td>False</td>\n      <td>False</td>\n    </tr>\n    <tr>\n      <th>3</th>\n      <td>False</td>\n      <td>False</td>\n      <td>False</td>\n      <td>False</td>\n      <td>False</td>\n      <td>False</td>\n      <td>False</td>\n      <td>False</td>\n      <td>False</td>\n      <td>False</td>\n      <td>False</td>\n      <td>False</td>\n    </tr>\n    <tr>\n      <th>4</th>\n      <td>False</td>\n      <td>False</td>\n      <td>False</td>\n      <td>False</td>\n      <td>False</td>\n      <td>False</td>\n      <td>False</td>\n      <td>False</td>\n      <td>False</td>\n      <td>False</td>\n      <td>False</td>\n      <td>False</td>\n    </tr>\n    <tr>\n      <th>5</th>\n      <td>False</td>\n      <td>False</td>\n      <td>False</td>\n      <td>False</td>\n      <td>False</td>\n      <td>False</td>\n      <td>False</td>\n      <td>False</td>\n      <td>False</td>\n      <td>False</td>\n      <td>False</td>\n      <td>False</td>\n    </tr>\n    <tr>\n      <th>6</th>\n      <td>False</td>\n      <td>False</td>\n      <td>False</td>\n      <td>False</td>\n      <td>False</td>\n      <td>False</td>\n      <td>False</td>\n      <td>False</td>\n      <td>False</td>\n      <td>False</td>\n      <td>False</td>\n      <td>False</td>\n    </tr>\n    <tr>\n      <th>7</th>\n      <td>False</td>\n      <td>False</td>\n      <td>False</td>\n      <td>False</td>\n      <td>False</td>\n      <td>False</td>\n      <td>False</td>\n      <td>False</td>\n      <td>False</td>\n      <td>False</td>\n      <td>False</td>\n      <td>False</td>\n    </tr>\n    <tr>\n      <th>8</th>\n      <td>False</td>\n      <td>False</td>\n      <td>False</td>\n      <td>False</td>\n      <td>False</td>\n      <td>False</td>\n      <td>False</td>\n      <td>False</td>\n      <td>False</td>\n      <td>False</td>\n      <td>False</td>\n      <td>False</td>\n    </tr>\n    <tr>\n      <th>9</th>\n      <td>False</td>\n      <td>False</td>\n      <td>False</td>\n      <td>False</td>\n      <td>False</td>\n      <td>False</td>\n      <td>False</td>\n      <td>False</td>\n      <td>False</td>\n      <td>False</td>\n      <td>False</td>\n      <td>False</td>\n    </tr>\n    <tr>\n      <th>10</th>\n      <td>False</td>\n      <td>False</td>\n      <td>False</td>\n      <td>False</td>\n      <td>False</td>\n      <td>False</td>\n      <td>False</td>\n      <td>False</td>\n      <td>False</td>\n      <td>False</td>\n      <td>False</td>\n      <td>False</td>\n    </tr>\n    <tr>\n      <th>11</th>\n      <td>False</td>\n      <td>False</td>\n      <td>False</td>\n      <td>False</td>\n      <td>False</td>\n      <td>False</td>\n      <td>False</td>\n      <td>False</td>\n      <td>False</td>\n      <td>False</td>\n      <td>False</td>\n      <td>False</td>\n    </tr>\n    <tr>\n      <th>12</th>\n      <td>False</td>\n      <td>False</td>\n      <td>False</td>\n      <td>False</td>\n      <td>False</td>\n      <td>False</td>\n      <td>False</td>\n      <td>False</td>\n      <td>False</td>\n      <td>False</td>\n      <td>False</td>\n      <td>False</td>\n    </tr>\n    <tr>\n      <th>13</th>\n      <td>False</td>\n      <td>False</td>\n      <td>False</td>\n      <td>False</td>\n      <td>False</td>\n      <td>False</td>\n      <td>False</td>\n      <td>False</td>\n      <td>False</td>\n      <td>False</td>\n      <td>False</td>\n      <td>False</td>\n    </tr>\n    <tr>\n      <th>14</th>\n      <td>False</td>\n      <td>False</td>\n      <td>False</td>\n      <td>False</td>\n      <td>False</td>\n      <td>False</td>\n      <td>False</td>\n      <td>False</td>\n      <td>False</td>\n      <td>False</td>\n      <td>False</td>\n      <td>False</td>\n    </tr>\n    <tr>\n      <th>15</th>\n      <td>False</td>\n      <td>False</td>\n      <td>False</td>\n      <td>False</td>\n      <td>False</td>\n      <td>False</td>\n      <td>False</td>\n      <td>False</td>\n      <td>False</td>\n      <td>False</td>\n      <td>False</td>\n      <td>False</td>\n    </tr>\n    <tr>\n      <th>16</th>\n      <td>False</td>\n      <td>False</td>\n      <td>False</td>\n      <td>False</td>\n      <td>False</td>\n      <td>False</td>\n      <td>False</td>\n      <td>False</td>\n      <td>False</td>\n      <td>False</td>\n      <td>False</td>\n      <td>False</td>\n    </tr>\n    <tr>\n      <th>17</th>\n      <td>False</td>\n      <td>False</td>\n      <td>False</td>\n      <td>False</td>\n      <td>False</td>\n      <td>False</td>\n      <td>False</td>\n      <td>False</td>\n      <td>False</td>\n      <td>False</td>\n      <td>False</td>\n      <td>False</td>\n    </tr>\n    <tr>\n      <th>18</th>\n      <td>False</td>\n      <td>False</td>\n      <td>False</td>\n      <td>False</td>\n      <td>False</td>\n      <td>False</td>\n      <td>False</td>\n      <td>False</td>\n      <td>False</td>\n      <td>False</td>\n      <td>False</td>\n      <td>False</td>\n    </tr>\n    <tr>\n      <th>19</th>\n      <td>False</td>\n      <td>False</td>\n      <td>False</td>\n      <td>False</td>\n      <td>False</td>\n      <td>False</td>\n      <td>False</td>\n      <td>False</td>\n      <td>False</td>\n      <td>False</td>\n      <td>False</td>\n      <td>False</td>\n    </tr>\n    <tr>\n      <th>20</th>\n      <td>False</td>\n      <td>False</td>\n      <td>False</td>\n      <td>False</td>\n      <td>False</td>\n      <td>False</td>\n      <td>False</td>\n      <td>False</td>\n      <td>False</td>\n      <td>False</td>\n      <td>False</td>\n      <td>False</td>\n    </tr>\n    <tr>\n      <th>21</th>\n      <td>False</td>\n      <td>False</td>\n      <td>False</td>\n      <td>False</td>\n      <td>False</td>\n      <td>False</td>\n      <td>False</td>\n      <td>False</td>\n      <td>False</td>\n      <td>False</td>\n      <td>False</td>\n      <td>False</td>\n    </tr>\n    <tr>\n      <th>22</th>\n      <td>False</td>\n      <td>False</td>\n      <td>False</td>\n      <td>False</td>\n      <td>False</td>\n      <td>False</td>\n      <td>False</td>\n      <td>False</td>\n      <td>False</td>\n      <td>False</td>\n      <td>False</td>\n      <td>False</td>\n    </tr>\n    <tr>\n      <th>23</th>\n      <td>False</td>\n      <td>False</td>\n      <td>False</td>\n      <td>False</td>\n      <td>False</td>\n      <td>False</td>\n      <td>False</td>\n      <td>False</td>\n      <td>False</td>\n      <td>False</td>\n      <td>False</td>\n      <td>False</td>\n    </tr>\n    <tr>\n      <th>24</th>\n      <td>False</td>\n      <td>False</td>\n      <td>False</td>\n      <td>False</td>\n      <td>False</td>\n      <td>False</td>\n      <td>False</td>\n      <td>False</td>\n      <td>False</td>\n      <td>False</td>\n      <td>False</td>\n      <td>False</td>\n    </tr>\n    <tr>\n      <th>25</th>\n      <td>False</td>\n      <td>False</td>\n      <td>False</td>\n      <td>False</td>\n      <td>False</td>\n      <td>False</td>\n      <td>False</td>\n      <td>False</td>\n      <td>False</td>\n      <td>False</td>\n      <td>False</td>\n      <td>False</td>\n    </tr>\n    <tr>\n      <th>26</th>\n      <td>False</td>\n      <td>False</td>\n      <td>False</td>\n      <td>False</td>\n      <td>False</td>\n      <td>False</td>\n      <td>False</td>\n      <td>False</td>\n      <td>False</td>\n      <td>False</td>\n      <td>False</td>\n      <td>False</td>\n    </tr>\n    <tr>\n      <th>27</th>\n      <td>False</td>\n      <td>False</td>\n      <td>False</td>\n      <td>False</td>\n      <td>False</td>\n      <td>False</td>\n      <td>False</td>\n      <td>False</td>\n      <td>False</td>\n      <td>False</td>\n      <td>False</td>\n      <td>False</td>\n    </tr>\n    <tr>\n      <th>28</th>\n      <td>False</td>\n      <td>False</td>\n      <td>False</td>\n      <td>False</td>\n      <td>False</td>\n      <td>False</td>\n      <td>False</td>\n      <td>False</td>\n      <td>False</td>\n      <td>False</td>\n      <td>False</td>\n      <td>False</td>\n    </tr>\n    <tr>\n      <th>29</th>\n      <td>False</td>\n      <td>False</td>\n      <td>False</td>\n      <td>False</td>\n      <td>False</td>\n      <td>False</td>\n      <td>False</td>\n      <td>False</td>\n      <td>False</td>\n      <td>False</td>\n      <td>False</td>\n      <td>False</td>\n    </tr>\n    <tr>\n      <th>30</th>\n      <td>False</td>\n      <td>False</td>\n      <td>False</td>\n      <td>False</td>\n      <td>False</td>\n      <td>False</td>\n      <td>False</td>\n      <td>False</td>\n      <td>False</td>\n      <td>False</td>\n      <td>False</td>\n      <td>False</td>\n    </tr>\n    <tr>\n      <th>31</th>\n      <td>False</td>\n      <td>False</td>\n      <td>False</td>\n      <td>False</td>\n      <td>False</td>\n      <td>False</td>\n      <td>False</td>\n      <td>False</td>\n      <td>False</td>\n      <td>False</td>\n      <td>False</td>\n      <td>False</td>\n    </tr>\n  </tbody>\n</table>\n</div>"
     },
     "metadata": {},
     "execution_count": 30
    }
   ],
   "source": [
    "cars.isnull()"
   ]
  },
  {
   "cell_type": "code",
   "execution_count": 35,
   "metadata": {},
   "outputs": [
    {
     "output_type": "execute_result",
     "data": {
      "text/plain": "False"
     },
     "metadata": {},
     "execution_count": 35
    }
   ],
   "source": [
    "cars.isnull().any().any()"
   ]
  },
  {
   "cell_type": "code",
   "execution_count": 37,
   "metadata": {},
   "outputs": [
    {
     "output_type": "execute_result",
     "data": {
      "text/plain": "384"
     },
     "metadata": {},
     "execution_count": 37
    }
   ],
   "source": [
    "cars.size"
   ]
  },
  {
   "cell_type": "code",
   "execution_count": 40,
   "metadata": {},
   "outputs": [
    {
     "output_type": "execute_result",
     "data": {
      "text/plain": "name    0\nmpg     0\ncyl     0\ndisp    0\nhp      0\ndrat    0\nwt      0\nqsec    0\nvs      0\nam      0\ngear    0\ncarb    0\ndtype: int64"
     },
     "metadata": {},
     "execution_count": 40
    }
   ],
   "source": [
    "cars.isnull().sum()"
   ]
  },
  {
   "cell_type": "code",
   "execution_count": 41,
   "metadata": {},
   "outputs": [
    {
     "output_type": "execute_result",
     "data": {
      "text/plain": "0     6\n1     6\n2     4\n3     6\n4     8\n5     6\n6     8\n7     4\n8     4\n9     6\n10    6\n11    8\n12    8\n13    8\n14    8\n15    8\n16    8\n17    4\n18    4\n19    4\n20    4\n21    8\n22    8\n23    8\n24    8\n25    4\n26    4\n27    4\n28    8\n29    6\n30    8\n31    4\nName: cyl, dtype: int64"
     },
     "metadata": {},
     "execution_count": 41
    }
   ],
   "source": [
    "cars.cyl # not recommended"
   ]
  },
  {
   "cell_type": "code",
   "execution_count": 43,
   "metadata": {},
   "outputs": [
    {
     "output_type": "execute_result",
     "data": {
      "text/plain": "                   name   mpg  cyl   disp   hp  drat     wt   qsec  vs  am  \\\n0             Mazda RX4  21.0    6  160.0  110  3.90  2.620  16.46   0   1   \n1         Mazda RX4 Wag  21.0    6  160.0  110  3.90  2.875  17.02   0   1   \n2            Datsun 710  22.8    4  108.0   93  3.85  2.320  18.61   1   1   \n3        Hornet 4 Drive  21.4    6  258.0  110  3.08  3.215  19.44   1   0   \n4     Hornet Sportabout  18.7    8  360.0  175  3.15  3.440  17.02   0   0   \n5               Valiant  18.1    6  225.0  105  2.76  3.460  20.22   1   0   \n6            Duster 360  14.3    8  360.0  245  3.21  3.570  15.84   0   0   \n7             Merc 240D  24.4    4  146.7   62  3.69  3.190  20.00   1   0   \n8              Merc 230  22.8    4  140.8   95  3.92  3.150  22.90   1   0   \n9              Merc 280  19.2    6  167.6  123  3.92  3.440  18.30   1   0   \n10            Merc 280C  17.8    6  167.6  123  3.92  3.440  18.90   1   0   \n11           Merc 450SE  16.4    8  275.8  180  3.07  4.070  17.40   0   0   \n12           Merc 450SL  17.3    8  275.8  180  3.07  3.730  17.60   0   0   \n13          Merc 450SLC  15.2    8  275.8  180  3.07  3.780  18.00   0   0   \n14   Cadillac Fleetwood  10.4    8  472.0  205  2.93  5.250  17.98   0   0   \n15  Lincoln Continental  10.4    8  460.0  215  3.00  5.424  17.82   0   0   \n16    Chrysler Imperial  14.7    8  440.0  230  3.23  5.345  17.42   0   0   \n17             Fiat 128  32.4    4   78.7   66  4.08  2.200  19.47   1   1   \n18          Honda Civic  30.4    4   75.7   52  4.93  1.615  18.52   1   1   \n19       Toyota Corolla  33.9    4   71.1   65  4.22  1.835  19.90   1   1   \n20        Toyota Corona  21.5    4  120.1   97  3.70  2.465  20.01   1   0   \n21     Dodge Challenger  15.5    8  318.0  150  2.76  3.520  16.87   0   0   \n22          AMC Javelin  15.2    8  304.0  150  3.15  3.435  17.30   0   0   \n23           Camaro Z28  13.3    8  350.0  245  3.73  3.840  15.41   0   0   \n24     Pontiac Firebird  19.2    8  400.0  175  3.08  3.845  17.05   0   0   \n25            Fiat X1-9  27.3    4   79.0   66  4.08  1.935  18.90   1   1   \n26        Porsche 914-2  26.0    4  120.3   91  4.43  2.140  16.70   0   1   \n27         Lotus Europa  30.4    4   95.1  113  3.77  1.513  16.90   1   1   \n28       Ford Pantera L  15.8    8  351.0  264  4.22  3.170  14.50   0   1   \n29         Ferrari Dino  19.7    6  145.0  175  3.62  2.770  15.50   0   1   \n30        Maserati Bora  15.0    8  301.0  335  3.54  3.570  14.60   0   1   \n31           Volvo 142E  21.4    4  121.0  109  4.11  2.780  18.60   1   1   \n\n    gear  carb  \n0      4     4  \n1      4     4  \n2      4     1  \n3      3     1  \n4      3     2  \n5      3     1  \n6      3     4  \n7      4     2  \n8      4     2  \n9      4     4  \n10     4     4  \n11     3     3  \n12     3     3  \n13     3     3  \n14     3     4  \n15     3     4  \n16     3     4  \n17     4     1  \n18     4     2  \n19     4     1  \n20     3     1  \n21     3     2  \n22     3     2  \n23     3     4  \n24     3     2  \n25     4     1  \n26     5     2  \n27     5     2  \n28     5     4  \n29     5     6  \n30     5     8  \n31     4     2  ",
      "text/html": "<div>\n<style scoped>\n    .dataframe tbody tr th:only-of-type {\n        vertical-align: middle;\n    }\n\n    .dataframe tbody tr th {\n        vertical-align: top;\n    }\n\n    .dataframe thead th {\n        text-align: right;\n    }\n</style>\n<table border=\"1\" class=\"dataframe\">\n  <thead>\n    <tr style=\"text-align: right;\">\n      <th></th>\n      <th>name</th>\n      <th>mpg</th>\n      <th>cyl</th>\n      <th>disp</th>\n      <th>hp</th>\n      <th>drat</th>\n      <th>wt</th>\n      <th>qsec</th>\n      <th>vs</th>\n      <th>am</th>\n      <th>gear</th>\n      <th>carb</th>\n    </tr>\n  </thead>\n  <tbody>\n    <tr>\n      <th>0</th>\n      <td>Mazda RX4</td>\n      <td>21.0</td>\n      <td>6</td>\n      <td>160.0</td>\n      <td>110</td>\n      <td>3.90</td>\n      <td>2.620</td>\n      <td>16.46</td>\n      <td>0</td>\n      <td>1</td>\n      <td>4</td>\n      <td>4</td>\n    </tr>\n    <tr>\n      <th>1</th>\n      <td>Mazda RX4 Wag</td>\n      <td>21.0</td>\n      <td>6</td>\n      <td>160.0</td>\n      <td>110</td>\n      <td>3.90</td>\n      <td>2.875</td>\n      <td>17.02</td>\n      <td>0</td>\n      <td>1</td>\n      <td>4</td>\n      <td>4</td>\n    </tr>\n    <tr>\n      <th>2</th>\n      <td>Datsun 710</td>\n      <td>22.8</td>\n      <td>4</td>\n      <td>108.0</td>\n      <td>93</td>\n      <td>3.85</td>\n      <td>2.320</td>\n      <td>18.61</td>\n      <td>1</td>\n      <td>1</td>\n      <td>4</td>\n      <td>1</td>\n    </tr>\n    <tr>\n      <th>3</th>\n      <td>Hornet 4 Drive</td>\n      <td>21.4</td>\n      <td>6</td>\n      <td>258.0</td>\n      <td>110</td>\n      <td>3.08</td>\n      <td>3.215</td>\n      <td>19.44</td>\n      <td>1</td>\n      <td>0</td>\n      <td>3</td>\n      <td>1</td>\n    </tr>\n    <tr>\n      <th>4</th>\n      <td>Hornet Sportabout</td>\n      <td>18.7</td>\n      <td>8</td>\n      <td>360.0</td>\n      <td>175</td>\n      <td>3.15</td>\n      <td>3.440</td>\n      <td>17.02</td>\n      <td>0</td>\n      <td>0</td>\n      <td>3</td>\n      <td>2</td>\n    </tr>\n    <tr>\n      <th>5</th>\n      <td>Valiant</td>\n      <td>18.1</td>\n      <td>6</td>\n      <td>225.0</td>\n      <td>105</td>\n      <td>2.76</td>\n      <td>3.460</td>\n      <td>20.22</td>\n      <td>1</td>\n      <td>0</td>\n      <td>3</td>\n      <td>1</td>\n    </tr>\n    <tr>\n      <th>6</th>\n      <td>Duster 360</td>\n      <td>14.3</td>\n      <td>8</td>\n      <td>360.0</td>\n      <td>245</td>\n      <td>3.21</td>\n      <td>3.570</td>\n      <td>15.84</td>\n      <td>0</td>\n      <td>0</td>\n      <td>3</td>\n      <td>4</td>\n    </tr>\n    <tr>\n      <th>7</th>\n      <td>Merc 240D</td>\n      <td>24.4</td>\n      <td>4</td>\n      <td>146.7</td>\n      <td>62</td>\n      <td>3.69</td>\n      <td>3.190</td>\n      <td>20.00</td>\n      <td>1</td>\n      <td>0</td>\n      <td>4</td>\n      <td>2</td>\n    </tr>\n    <tr>\n      <th>8</th>\n      <td>Merc 230</td>\n      <td>22.8</td>\n      <td>4</td>\n      <td>140.8</td>\n      <td>95</td>\n      <td>3.92</td>\n      <td>3.150</td>\n      <td>22.90</td>\n      <td>1</td>\n      <td>0</td>\n      <td>4</td>\n      <td>2</td>\n    </tr>\n    <tr>\n      <th>9</th>\n      <td>Merc 280</td>\n      <td>19.2</td>\n      <td>6</td>\n      <td>167.6</td>\n      <td>123</td>\n      <td>3.92</td>\n      <td>3.440</td>\n      <td>18.30</td>\n      <td>1</td>\n      <td>0</td>\n      <td>4</td>\n      <td>4</td>\n    </tr>\n    <tr>\n      <th>10</th>\n      <td>Merc 280C</td>\n      <td>17.8</td>\n      <td>6</td>\n      <td>167.6</td>\n      <td>123</td>\n      <td>3.92</td>\n      <td>3.440</td>\n      <td>18.90</td>\n      <td>1</td>\n      <td>0</td>\n      <td>4</td>\n      <td>4</td>\n    </tr>\n    <tr>\n      <th>11</th>\n      <td>Merc 450SE</td>\n      <td>16.4</td>\n      <td>8</td>\n      <td>275.8</td>\n      <td>180</td>\n      <td>3.07</td>\n      <td>4.070</td>\n      <td>17.40</td>\n      <td>0</td>\n      <td>0</td>\n      <td>3</td>\n      <td>3</td>\n    </tr>\n    <tr>\n      <th>12</th>\n      <td>Merc 450SL</td>\n      <td>17.3</td>\n      <td>8</td>\n      <td>275.8</td>\n      <td>180</td>\n      <td>3.07</td>\n      <td>3.730</td>\n      <td>17.60</td>\n      <td>0</td>\n      <td>0</td>\n      <td>3</td>\n      <td>3</td>\n    </tr>\n    <tr>\n      <th>13</th>\n      <td>Merc 450SLC</td>\n      <td>15.2</td>\n      <td>8</td>\n      <td>275.8</td>\n      <td>180</td>\n      <td>3.07</td>\n      <td>3.780</td>\n      <td>18.00</td>\n      <td>0</td>\n      <td>0</td>\n      <td>3</td>\n      <td>3</td>\n    </tr>\n    <tr>\n      <th>14</th>\n      <td>Cadillac Fleetwood</td>\n      <td>10.4</td>\n      <td>8</td>\n      <td>472.0</td>\n      <td>205</td>\n      <td>2.93</td>\n      <td>5.250</td>\n      <td>17.98</td>\n      <td>0</td>\n      <td>0</td>\n      <td>3</td>\n      <td>4</td>\n    </tr>\n    <tr>\n      <th>15</th>\n      <td>Lincoln Continental</td>\n      <td>10.4</td>\n      <td>8</td>\n      <td>460.0</td>\n      <td>215</td>\n      <td>3.00</td>\n      <td>5.424</td>\n      <td>17.82</td>\n      <td>0</td>\n      <td>0</td>\n      <td>3</td>\n      <td>4</td>\n    </tr>\n    <tr>\n      <th>16</th>\n      <td>Chrysler Imperial</td>\n      <td>14.7</td>\n      <td>8</td>\n      <td>440.0</td>\n      <td>230</td>\n      <td>3.23</td>\n      <td>5.345</td>\n      <td>17.42</td>\n      <td>0</td>\n      <td>0</td>\n      <td>3</td>\n      <td>4</td>\n    </tr>\n    <tr>\n      <th>17</th>\n      <td>Fiat 128</td>\n      <td>32.4</td>\n      <td>4</td>\n      <td>78.7</td>\n      <td>66</td>\n      <td>4.08</td>\n      <td>2.200</td>\n      <td>19.47</td>\n      <td>1</td>\n      <td>1</td>\n      <td>4</td>\n      <td>1</td>\n    </tr>\n    <tr>\n      <th>18</th>\n      <td>Honda Civic</td>\n      <td>30.4</td>\n      <td>4</td>\n      <td>75.7</td>\n      <td>52</td>\n      <td>4.93</td>\n      <td>1.615</td>\n      <td>18.52</td>\n      <td>1</td>\n      <td>1</td>\n      <td>4</td>\n      <td>2</td>\n    </tr>\n    <tr>\n      <th>19</th>\n      <td>Toyota Corolla</td>\n      <td>33.9</td>\n      <td>4</td>\n      <td>71.1</td>\n      <td>65</td>\n      <td>4.22</td>\n      <td>1.835</td>\n      <td>19.90</td>\n      <td>1</td>\n      <td>1</td>\n      <td>4</td>\n      <td>1</td>\n    </tr>\n    <tr>\n      <th>20</th>\n      <td>Toyota Corona</td>\n      <td>21.5</td>\n      <td>4</td>\n      <td>120.1</td>\n      <td>97</td>\n      <td>3.70</td>\n      <td>2.465</td>\n      <td>20.01</td>\n      <td>1</td>\n      <td>0</td>\n      <td>3</td>\n      <td>1</td>\n    </tr>\n    <tr>\n      <th>21</th>\n      <td>Dodge Challenger</td>\n      <td>15.5</td>\n      <td>8</td>\n      <td>318.0</td>\n      <td>150</td>\n      <td>2.76</td>\n      <td>3.520</td>\n      <td>16.87</td>\n      <td>0</td>\n      <td>0</td>\n      <td>3</td>\n      <td>2</td>\n    </tr>\n    <tr>\n      <th>22</th>\n      <td>AMC Javelin</td>\n      <td>15.2</td>\n      <td>8</td>\n      <td>304.0</td>\n      <td>150</td>\n      <td>3.15</td>\n      <td>3.435</td>\n      <td>17.30</td>\n      <td>0</td>\n      <td>0</td>\n      <td>3</td>\n      <td>2</td>\n    </tr>\n    <tr>\n      <th>23</th>\n      <td>Camaro Z28</td>\n      <td>13.3</td>\n      <td>8</td>\n      <td>350.0</td>\n      <td>245</td>\n      <td>3.73</td>\n      <td>3.840</td>\n      <td>15.41</td>\n      <td>0</td>\n      <td>0</td>\n      <td>3</td>\n      <td>4</td>\n    </tr>\n    <tr>\n      <th>24</th>\n      <td>Pontiac Firebird</td>\n      <td>19.2</td>\n      <td>8</td>\n      <td>400.0</td>\n      <td>175</td>\n      <td>3.08</td>\n      <td>3.845</td>\n      <td>17.05</td>\n      <td>0</td>\n      <td>0</td>\n      <td>3</td>\n      <td>2</td>\n    </tr>\n    <tr>\n      <th>25</th>\n      <td>Fiat X1-9</td>\n      <td>27.3</td>\n      <td>4</td>\n      <td>79.0</td>\n      <td>66</td>\n      <td>4.08</td>\n      <td>1.935</td>\n      <td>18.90</td>\n      <td>1</td>\n      <td>1</td>\n      <td>4</td>\n      <td>1</td>\n    </tr>\n    <tr>\n      <th>26</th>\n      <td>Porsche 914-2</td>\n      <td>26.0</td>\n      <td>4</td>\n      <td>120.3</td>\n      <td>91</td>\n      <td>4.43</td>\n      <td>2.140</td>\n      <td>16.70</td>\n      <td>0</td>\n      <td>1</td>\n      <td>5</td>\n      <td>2</td>\n    </tr>\n    <tr>\n      <th>27</th>\n      <td>Lotus Europa</td>\n      <td>30.4</td>\n      <td>4</td>\n      <td>95.1</td>\n      <td>113</td>\n      <td>3.77</td>\n      <td>1.513</td>\n      <td>16.90</td>\n      <td>1</td>\n      <td>1</td>\n      <td>5</td>\n      <td>2</td>\n    </tr>\n    <tr>\n      <th>28</th>\n      <td>Ford Pantera L</td>\n      <td>15.8</td>\n      <td>8</td>\n      <td>351.0</td>\n      <td>264</td>\n      <td>4.22</td>\n      <td>3.170</td>\n      <td>14.50</td>\n      <td>0</td>\n      <td>1</td>\n      <td>5</td>\n      <td>4</td>\n    </tr>\n    <tr>\n      <th>29</th>\n      <td>Ferrari Dino</td>\n      <td>19.7</td>\n      <td>6</td>\n      <td>145.0</td>\n      <td>175</td>\n      <td>3.62</td>\n      <td>2.770</td>\n      <td>15.50</td>\n      <td>0</td>\n      <td>1</td>\n      <td>5</td>\n      <td>6</td>\n    </tr>\n    <tr>\n      <th>30</th>\n      <td>Maserati Bora</td>\n      <td>15.0</td>\n      <td>8</td>\n      <td>301.0</td>\n      <td>335</td>\n      <td>3.54</td>\n      <td>3.570</td>\n      <td>14.60</td>\n      <td>0</td>\n      <td>1</td>\n      <td>5</td>\n      <td>8</td>\n    </tr>\n    <tr>\n      <th>31</th>\n      <td>Volvo 142E</td>\n      <td>21.4</td>\n      <td>4</td>\n      <td>121.0</td>\n      <td>109</td>\n      <td>4.11</td>\n      <td>2.780</td>\n      <td>18.60</td>\n      <td>1</td>\n      <td>1</td>\n      <td>4</td>\n      <td>2</td>\n    </tr>\n  </tbody>\n</table>\n</div>"
     },
     "metadata": {},
     "execution_count": 43
    }
   ],
   "source": [
    "cars"
   ]
  },
  {
   "cell_type": "code",
   "execution_count": 45,
   "metadata": {},
   "outputs": [
    {
     "output_type": "execute_result",
     "data": {
      "text/plain": "                  name   mpg  cyl   disp   hp  drat     wt   qsec  vs  am  \\\n2           Datsun 710  22.8    4  108.0   93  3.85  2.320  18.61   1   1   \n4    Hornet Sportabout  18.7    8  360.0  175  3.15  3.440  17.02   0   0   \n6           Duster 360  14.3    8  360.0  245  3.21  3.570  15.84   0   0   \n8             Merc 230  22.8    4  140.8   95  3.92  3.150  22.90   1   0   \n10           Merc 280C  17.8    6  167.6  123  3.92  3.440  18.90   1   0   \n12          Merc 450SL  17.3    8  275.8  180  3.07  3.730  17.60   0   0   \n14  Cadillac Fleetwood  10.4    8  472.0  205  2.93  5.250  17.98   0   0   \n16   Chrysler Imperial  14.7    8  440.0  230  3.23  5.345  17.42   0   0   \n18         Honda Civic  30.4    4   75.7   52  4.93  1.615  18.52   1   1   \n20       Toyota Corona  21.5    4  120.1   97  3.70  2.465  20.01   1   0   \n22         AMC Javelin  15.2    8  304.0  150  3.15  3.435  17.30   0   0   \n24    Pontiac Firebird  19.2    8  400.0  175  3.08  3.845  17.05   0   0   \n26       Porsche 914-2  26.0    4  120.3   91  4.43  2.140  16.70   0   1   \n28      Ford Pantera L  15.8    8  351.0  264  4.22  3.170  14.50   0   1   \n30       Maserati Bora  15.0    8  301.0  335  3.54  3.570  14.60   0   1   \n\n    gear  carb  \n2      4     1  \n4      3     2  \n6      3     4  \n8      4     2  \n10     4     4  \n12     3     3  \n14     3     4  \n16     3     4  \n18     4     2  \n20     3     1  \n22     3     2  \n24     3     2  \n26     5     2  \n28     5     4  \n30     5     8  ",
      "text/html": "<div>\n<style scoped>\n    .dataframe tbody tr th:only-of-type {\n        vertical-align: middle;\n    }\n\n    .dataframe tbody tr th {\n        vertical-align: top;\n    }\n\n    .dataframe thead th {\n        text-align: right;\n    }\n</style>\n<table border=\"1\" class=\"dataframe\">\n  <thead>\n    <tr style=\"text-align: right;\">\n      <th></th>\n      <th>name</th>\n      <th>mpg</th>\n      <th>cyl</th>\n      <th>disp</th>\n      <th>hp</th>\n      <th>drat</th>\n      <th>wt</th>\n      <th>qsec</th>\n      <th>vs</th>\n      <th>am</th>\n      <th>gear</th>\n      <th>carb</th>\n    </tr>\n  </thead>\n  <tbody>\n    <tr>\n      <th>2</th>\n      <td>Datsun 710</td>\n      <td>22.8</td>\n      <td>4</td>\n      <td>108.0</td>\n      <td>93</td>\n      <td>3.85</td>\n      <td>2.320</td>\n      <td>18.61</td>\n      <td>1</td>\n      <td>1</td>\n      <td>4</td>\n      <td>1</td>\n    </tr>\n    <tr>\n      <th>4</th>\n      <td>Hornet Sportabout</td>\n      <td>18.7</td>\n      <td>8</td>\n      <td>360.0</td>\n      <td>175</td>\n      <td>3.15</td>\n      <td>3.440</td>\n      <td>17.02</td>\n      <td>0</td>\n      <td>0</td>\n      <td>3</td>\n      <td>2</td>\n    </tr>\n    <tr>\n      <th>6</th>\n      <td>Duster 360</td>\n      <td>14.3</td>\n      <td>8</td>\n      <td>360.0</td>\n      <td>245</td>\n      <td>3.21</td>\n      <td>3.570</td>\n      <td>15.84</td>\n      <td>0</td>\n      <td>0</td>\n      <td>3</td>\n      <td>4</td>\n    </tr>\n    <tr>\n      <th>8</th>\n      <td>Merc 230</td>\n      <td>22.8</td>\n      <td>4</td>\n      <td>140.8</td>\n      <td>95</td>\n      <td>3.92</td>\n      <td>3.150</td>\n      <td>22.90</td>\n      <td>1</td>\n      <td>0</td>\n      <td>4</td>\n      <td>2</td>\n    </tr>\n    <tr>\n      <th>10</th>\n      <td>Merc 280C</td>\n      <td>17.8</td>\n      <td>6</td>\n      <td>167.6</td>\n      <td>123</td>\n      <td>3.92</td>\n      <td>3.440</td>\n      <td>18.90</td>\n      <td>1</td>\n      <td>0</td>\n      <td>4</td>\n      <td>4</td>\n    </tr>\n    <tr>\n      <th>12</th>\n      <td>Merc 450SL</td>\n      <td>17.3</td>\n      <td>8</td>\n      <td>275.8</td>\n      <td>180</td>\n      <td>3.07</td>\n      <td>3.730</td>\n      <td>17.60</td>\n      <td>0</td>\n      <td>0</td>\n      <td>3</td>\n      <td>3</td>\n    </tr>\n    <tr>\n      <th>14</th>\n      <td>Cadillac Fleetwood</td>\n      <td>10.4</td>\n      <td>8</td>\n      <td>472.0</td>\n      <td>205</td>\n      <td>2.93</td>\n      <td>5.250</td>\n      <td>17.98</td>\n      <td>0</td>\n      <td>0</td>\n      <td>3</td>\n      <td>4</td>\n    </tr>\n    <tr>\n      <th>16</th>\n      <td>Chrysler Imperial</td>\n      <td>14.7</td>\n      <td>8</td>\n      <td>440.0</td>\n      <td>230</td>\n      <td>3.23</td>\n      <td>5.345</td>\n      <td>17.42</td>\n      <td>0</td>\n      <td>0</td>\n      <td>3</td>\n      <td>4</td>\n    </tr>\n    <tr>\n      <th>18</th>\n      <td>Honda Civic</td>\n      <td>30.4</td>\n      <td>4</td>\n      <td>75.7</td>\n      <td>52</td>\n      <td>4.93</td>\n      <td>1.615</td>\n      <td>18.52</td>\n      <td>1</td>\n      <td>1</td>\n      <td>4</td>\n      <td>2</td>\n    </tr>\n    <tr>\n      <th>20</th>\n      <td>Toyota Corona</td>\n      <td>21.5</td>\n      <td>4</td>\n      <td>120.1</td>\n      <td>97</td>\n      <td>3.70</td>\n      <td>2.465</td>\n      <td>20.01</td>\n      <td>1</td>\n      <td>0</td>\n      <td>3</td>\n      <td>1</td>\n    </tr>\n    <tr>\n      <th>22</th>\n      <td>AMC Javelin</td>\n      <td>15.2</td>\n      <td>8</td>\n      <td>304.0</td>\n      <td>150</td>\n      <td>3.15</td>\n      <td>3.435</td>\n      <td>17.30</td>\n      <td>0</td>\n      <td>0</td>\n      <td>3</td>\n      <td>2</td>\n    </tr>\n    <tr>\n      <th>24</th>\n      <td>Pontiac Firebird</td>\n      <td>19.2</td>\n      <td>8</td>\n      <td>400.0</td>\n      <td>175</td>\n      <td>3.08</td>\n      <td>3.845</td>\n      <td>17.05</td>\n      <td>0</td>\n      <td>0</td>\n      <td>3</td>\n      <td>2</td>\n    </tr>\n    <tr>\n      <th>26</th>\n      <td>Porsche 914-2</td>\n      <td>26.0</td>\n      <td>4</td>\n      <td>120.3</td>\n      <td>91</td>\n      <td>4.43</td>\n      <td>2.140</td>\n      <td>16.70</td>\n      <td>0</td>\n      <td>1</td>\n      <td>5</td>\n      <td>2</td>\n    </tr>\n    <tr>\n      <th>28</th>\n      <td>Ford Pantera L</td>\n      <td>15.8</td>\n      <td>8</td>\n      <td>351.0</td>\n      <td>264</td>\n      <td>4.22</td>\n      <td>3.170</td>\n      <td>14.50</td>\n      <td>0</td>\n      <td>1</td>\n      <td>5</td>\n      <td>4</td>\n    </tr>\n    <tr>\n      <th>30</th>\n      <td>Maserati Bora</td>\n      <td>15.0</td>\n      <td>8</td>\n      <td>301.0</td>\n      <td>335</td>\n      <td>3.54</td>\n      <td>3.570</td>\n      <td>14.60</td>\n      <td>0</td>\n      <td>1</td>\n      <td>5</td>\n      <td>8</td>\n    </tr>\n  </tbody>\n</table>\n</div>"
     },
     "metadata": {},
     "execution_count": 45
    }
   ],
   "source": [
    "cars.iloc[2::2]"
   ]
  },
  {
   "cell_type": "code",
   "execution_count": 50,
   "metadata": {},
   "outputs": [
    {
     "output_type": "error",
     "ename": "ModuleNotFoundError",
     "evalue": "No module named 'pandas_profiling'",
     "traceback": [
      "\u001b[1;31m---------------------------------------------------------------------------\u001b[0m",
      "\u001b[1;31mModuleNotFoundError\u001b[0m                       Traceback (most recent call last)",
      "\u001b[1;32m<ipython-input-50-6a00893fb3e1>\u001b[0m in \u001b[0;36m<module>\u001b[1;34m\u001b[0m\n\u001b[1;32m----> 1\u001b[1;33m \u001b[1;32mimport\u001b[0m \u001b[0mpandas_profiling\u001b[0m\u001b[1;33m\u001b[0m\u001b[1;33m\u001b[0m\u001b[0m\n\u001b[0m",
      "\u001b[1;31mModuleNotFoundError\u001b[0m: No module named 'pandas_profiling'"
     ]
    }
   ],
   "source": [
    "import pandas_profiling"
   ]
  },
  {
   "cell_type": "code",
   "execution_count": 51,
   "metadata": {},
   "outputs": [
    {
     "output_type": "execute_result",
     "data": {
      "text/plain": "                name   mpg  cyl   disp   hp  drat     wt   qsec  vs  am  gear  \\\n0          Mazda RX4  21.0    6  160.0  110  3.90  2.620  16.46   0   1     4   \n1      Mazda RX4 Wag  21.0    6  160.0  110  3.90  2.875  17.02   0   1     4   \n2         Datsun 710  22.8    4  108.0   93  3.85  2.320  18.61   1   1     4   \n3     Hornet 4 Drive  21.4    6  258.0  110  3.08  3.215  19.44   1   0     3   \n4  Hornet Sportabout  18.7    8  360.0  175  3.15  3.440  17.02   0   0     3   \n5            Valiant  18.1    6  225.0  105  2.76  3.460  20.22   1   0     3   \n6         Duster 360  14.3    8  360.0  245  3.21  3.570  15.84   0   0     3   \n7          Merc 240D  24.4    4  146.7   62  3.69  3.190  20.00   1   0     4   \n8           Merc 230  22.8    4  140.8   95  3.92  3.150  22.90   1   0     4   \n9           Merc 280  19.2    6  167.6  123  3.92  3.440  18.30   1   0     4   \n\n   carb  \n0     4  \n1     4  \n2     1  \n3     1  \n4     2  \n5     1  \n6     4  \n7     2  \n8     2  \n9     4  ",
      "text/html": "<div>\n<style scoped>\n    .dataframe tbody tr th:only-of-type {\n        vertical-align: middle;\n    }\n\n    .dataframe tbody tr th {\n        vertical-align: top;\n    }\n\n    .dataframe thead th {\n        text-align: right;\n    }\n</style>\n<table border=\"1\" class=\"dataframe\">\n  <thead>\n    <tr style=\"text-align: right;\">\n      <th></th>\n      <th>name</th>\n      <th>mpg</th>\n      <th>cyl</th>\n      <th>disp</th>\n      <th>hp</th>\n      <th>drat</th>\n      <th>wt</th>\n      <th>qsec</th>\n      <th>vs</th>\n      <th>am</th>\n      <th>gear</th>\n      <th>carb</th>\n    </tr>\n  </thead>\n  <tbody>\n    <tr>\n      <th>0</th>\n      <td>Mazda RX4</td>\n      <td>21.0</td>\n      <td>6</td>\n      <td>160.0</td>\n      <td>110</td>\n      <td>3.90</td>\n      <td>2.620</td>\n      <td>16.46</td>\n      <td>0</td>\n      <td>1</td>\n      <td>4</td>\n      <td>4</td>\n    </tr>\n    <tr>\n      <th>1</th>\n      <td>Mazda RX4 Wag</td>\n      <td>21.0</td>\n      <td>6</td>\n      <td>160.0</td>\n      <td>110</td>\n      <td>3.90</td>\n      <td>2.875</td>\n      <td>17.02</td>\n      <td>0</td>\n      <td>1</td>\n      <td>4</td>\n      <td>4</td>\n    </tr>\n    <tr>\n      <th>2</th>\n      <td>Datsun 710</td>\n      <td>22.8</td>\n      <td>4</td>\n      <td>108.0</td>\n      <td>93</td>\n      <td>3.85</td>\n      <td>2.320</td>\n      <td>18.61</td>\n      <td>1</td>\n      <td>1</td>\n      <td>4</td>\n      <td>1</td>\n    </tr>\n    <tr>\n      <th>3</th>\n      <td>Hornet 4 Drive</td>\n      <td>21.4</td>\n      <td>6</td>\n      <td>258.0</td>\n      <td>110</td>\n      <td>3.08</td>\n      <td>3.215</td>\n      <td>19.44</td>\n      <td>1</td>\n      <td>0</td>\n      <td>3</td>\n      <td>1</td>\n    </tr>\n    <tr>\n      <th>4</th>\n      <td>Hornet Sportabout</td>\n      <td>18.7</td>\n      <td>8</td>\n      <td>360.0</td>\n      <td>175</td>\n      <td>3.15</td>\n      <td>3.440</td>\n      <td>17.02</td>\n      <td>0</td>\n      <td>0</td>\n      <td>3</td>\n      <td>2</td>\n    </tr>\n    <tr>\n      <th>5</th>\n      <td>Valiant</td>\n      <td>18.1</td>\n      <td>6</td>\n      <td>225.0</td>\n      <td>105</td>\n      <td>2.76</td>\n      <td>3.460</td>\n      <td>20.22</td>\n      <td>1</td>\n      <td>0</td>\n      <td>3</td>\n      <td>1</td>\n    </tr>\n    <tr>\n      <th>6</th>\n      <td>Duster 360</td>\n      <td>14.3</td>\n      <td>8</td>\n      <td>360.0</td>\n      <td>245</td>\n      <td>3.21</td>\n      <td>3.570</td>\n      <td>15.84</td>\n      <td>0</td>\n      <td>0</td>\n      <td>3</td>\n      <td>4</td>\n    </tr>\n    <tr>\n      <th>7</th>\n      <td>Merc 240D</td>\n      <td>24.4</td>\n      <td>4</td>\n      <td>146.7</td>\n      <td>62</td>\n      <td>3.69</td>\n      <td>3.190</td>\n      <td>20.00</td>\n      <td>1</td>\n      <td>0</td>\n      <td>4</td>\n      <td>2</td>\n    </tr>\n    <tr>\n      <th>8</th>\n      <td>Merc 230</td>\n      <td>22.8</td>\n      <td>4</td>\n      <td>140.8</td>\n      <td>95</td>\n      <td>3.92</td>\n      <td>3.150</td>\n      <td>22.90</td>\n      <td>1</td>\n      <td>0</td>\n      <td>4</td>\n      <td>2</td>\n    </tr>\n    <tr>\n      <th>9</th>\n      <td>Merc 280</td>\n      <td>19.2</td>\n      <td>6</td>\n      <td>167.6</td>\n      <td>123</td>\n      <td>3.92</td>\n      <td>3.440</td>\n      <td>18.30</td>\n      <td>1</td>\n      <td>0</td>\n      <td>4</td>\n      <td>4</td>\n    </tr>\n  </tbody>\n</table>\n</div>"
     },
     "metadata": {},
     "execution_count": 51
    }
   ],
   "source": [
    "cars.head(10)"
   ]
  },
  {
   "cell_type": "code",
   "execution_count": 86,
   "metadata": {},
   "outputs": [
    {
     "output_type": "execute_result",
     "data": {
      "text/plain": "<pandas.core.groupby.generic.SeriesGroupBy object at 0x00000283C60E4BC8>"
     },
     "metadata": {},
     "execution_count": 86
    }
   ],
   "source": [
    "cars.groupby(\"cyl\")[\"hp\"] #.filter(lambda x: x.mean() > 100)"
   ]
  },
  {
   "cell_type": "code",
   "execution_count": null,
   "metadata": {},
   "outputs": [],
   "source": []
  }
 ]
}