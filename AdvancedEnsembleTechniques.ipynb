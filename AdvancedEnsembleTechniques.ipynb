{
  "nbformat": 4,
  "nbformat_minor": 0,
  "metadata": {
    "colab": {
      "name": "VotingClassifierExample.ipynb",
      "provenance": [],
      "collapsed_sections": [],
      "authorship_tag": "ABX9TyNMKBwG8dMLSzEfAjAnIdVd",
      "include_colab_link": true
    },
    "kernelspec": {
      "name": "python3",
      "display_name": "Python 3"
    }
  },
  "cells": [
    {
      "cell_type": "markdown",
      "metadata": {
        "id": "view-in-github",
        "colab_type": "text"
      },
      "source": [
        "<a href=\"https://colab.research.google.com/github/nandhukumar86/AIML-Practice/blob/master/AdvancedEnsembleTechniques.ipynb\" target=\"_parent\"><img src=\"https://colab.research.google.com/assets/colab-badge.svg\" alt=\"Open In Colab\"/></a>"
      ]
    },
    {
      "cell_type": "code",
      "metadata": {
        "id": "2XyfPGIkSjLG"
      },
      "source": [
        "import numpy as np\n",
        "import pandas as pd\n",
        "import seaborn as sns\n",
        "import matplotlib.pyplot as plt\n",
        "sns.set(color_codes=True)\n",
        "%matplotlib inline\n"
      ],
      "execution_count": 1,
      "outputs": []
    },
    {
      "cell_type": "code",
      "metadata": {
        "id": "sIrnw6IeSlmu"
      },
      "source": [
        "y_train = [34, 45, 67, 34, 56, 23, 104, 234, 45, 78]"
      ],
      "execution_count": 6,
      "outputs": []
    },
    {
      "cell_type": "code",
      "metadata": {
        "id": "ICE-U43KTZQD"
      },
      "source": [
        "y_train = np.array(y_train)\n"
      ],
      "execution_count": 8,
      "outputs": []
    },
    {
      "cell_type": "code",
      "metadata": {
        "id": "oVmQ155fgO1P"
      },
      "source": [
        ""
      ],
      "execution_count": null,
      "outputs": []
    },
    {
      "cell_type": "code",
      "metadata": {
        "id": "rVk88yHlSwrc"
      },
      "source": [
        "x1 = np.random.random((10))\n",
        "x2 = (45 + np.log(y_train)) * 0.8453"
      ],
      "execution_count": 33,
      "outputs": []
    },
    {
      "cell_type": "code",
      "metadata": {
        "id": "N2yW4ZobTKCb"
      },
      "source": [
        "X_train = {'x1': x1, 'x2': x2 }\n",
        "X_train = pd.DataFrame(X_train, columns=['x1', 'x2'])\n"
      ],
      "execution_count": 34,
      "outputs": []
    },
    {
      "cell_type": "code",
      "metadata": {
        "colab": {
          "base_uri": "https://localhost:8080/"
        },
        "id": "cySfemROTwN6",
        "outputId": "12242b7f-93b6-4d0a-bb14-0495df886643"
      },
      "source": [
        "from sklearn.linear_model import LinearRegression\n",
        "\n",
        "model = LinearRegression()\n",
        "\n",
        "model.fit(X_train, y_train)\n",
        "\n",
        "y_train_predict = model.predict(X_train)\n",
        "\n",
        "print('Training Score: ', model.score(X_train, y_train))"
      ],
      "execution_count": 36,
      "outputs": [
        {
          "output_type": "stream",
          "text": [
            "Training Score:  0.9077441818596458\n"
          ],
          "name": "stdout"
        }
      ]
    },
    {
      "cell_type": "code",
      "metadata": {
        "colab": {
          "base_uri": "https://localhost:8080/"
        },
        "id": "wtxN77tnUSEL",
        "outputId": "11c89f03-2a79-4cf3-9591-df9b73dde610"
      },
      "source": [
        "from sklearn.linear_model import LassoCV\n",
        "\n",
        "model = LassoCV()\n",
        "\n",
        "model.fit(X_train, y_train)\n",
        "\n",
        "y_train_predict = model.predict(X_train)\n",
        "\n",
        "print('Training Score: ', model.score(X_train, y_train))"
      ],
      "execution_count": 40,
      "outputs": [
        {
          "output_type": "stream",
          "text": [
            "Training Score:  0.9077408815184912\n"
          ],
          "name": "stdout"
        }
      ]
    },
    {
      "cell_type": "code",
      "metadata": {
        "colab": {
          "base_uri": "https://localhost:8080/"
        },
        "id": "AtifFoUuVHSb",
        "outputId": "ad15fb4e-57a3-46bd-a2f3-3465f149ade2"
      },
      "source": [
        "from sklearn.linear_model import RidgeCV\n",
        "\n",
        "model = RidgeCV()\n",
        "\n",
        "model.fit(X_train, y_train)\n",
        "\n",
        "y_train_predict = model.predict(X_train)\n",
        "\n",
        "print('Training Score: ', model.score(X_train, y_train))"
      ],
      "execution_count": 41,
      "outputs": [
        {
          "output_type": "stream",
          "text": [
            "Training Score:  0.9066556501067173\n"
          ],
          "name": "stdout"
        }
      ]
    },
    {
      "cell_type": "code",
      "metadata": {
        "colab": {
          "base_uri": "https://localhost:8080/"
        },
        "id": "NBioq_o-VX9K",
        "outputId": "d6410175-f951-4dd9-caea-f4b5bd27952c"
      },
      "source": [
        "from sklearn.linear_model import ElasticNetCV\n",
        "\n",
        "model = ElasticNetCV()\n",
        "\n",
        "model.fit(X_train, y_train)\n",
        "\n",
        "y_train_predict = model.predict(X_train)\n",
        "\n",
        "print('Training Score: ', model.score(X_train, y_train))"
      ],
      "execution_count": 42,
      "outputs": [
        {
          "output_type": "stream",
          "text": [
            "Training Score:  0.8994521211399708\n"
          ],
          "name": "stdout"
        }
      ]
    },
    {
      "cell_type": "code",
      "metadata": {
        "colab": {
          "base_uri": "https://localhost:8080/"
        },
        "id": "xxZCMtE1YPWh",
        "outputId": "ee8d4dd4-8b67-4f59-cf51-aba111c998c0"
      },
      "source": [
        "!pip install xgboost"
      ],
      "execution_count": 66,
      "outputs": [
        {
          "output_type": "stream",
          "text": [
            "Requirement already satisfied: xgboost in /usr/local/lib/python3.6/dist-packages (0.90)\n",
            "Requirement already satisfied: numpy in /usr/local/lib/python3.6/dist-packages (from xgboost) (1.18.5)\n",
            "Requirement already satisfied: scipy in /usr/local/lib/python3.6/dist-packages (from xgboost) (1.4.1)\n"
          ],
          "name": "stdout"
        }
      ]
    },
    {
      "cell_type": "code",
      "metadata": {
        "colab": {
          "base_uri": "https://localhost:8080/"
        },
        "id": "JslAFjlAYWj5",
        "outputId": "a15bfdcf-f0c2-4c16-cbb2-53ee6b97c47d"
      },
      "source": [
        "!pip install catboost"
      ],
      "execution_count": 67,
      "outputs": [
        {
          "output_type": "stream",
          "text": [
            "Collecting catboost\n",
            "\u001b[?25l  Downloading https://files.pythonhosted.org/packages/7e/c1/c1c4707013f9e2f8a96899dd3a87f66c9167d6d776a6dc8fe7ec8678d446/catboost-0.24.3-cp36-none-manylinux1_x86_64.whl (66.3MB)\n",
            "\u001b[K     |████████████████████████████████| 66.3MB 52kB/s \n",
            "\u001b[?25hRequirement already satisfied: six in /usr/local/lib/python3.6/dist-packages (from catboost) (1.15.0)\n",
            "Requirement already satisfied: scipy in /usr/local/lib/python3.6/dist-packages (from catboost) (1.4.1)\n",
            "Requirement already satisfied: graphviz in /usr/local/lib/python3.6/dist-packages (from catboost) (0.10.1)\n",
            "Requirement already satisfied: numpy>=1.16.0 in /usr/local/lib/python3.6/dist-packages (from catboost) (1.18.5)\n",
            "Requirement already satisfied: plotly in /usr/local/lib/python3.6/dist-packages (from catboost) (4.4.1)\n",
            "Requirement already satisfied: matplotlib in /usr/local/lib/python3.6/dist-packages (from catboost) (3.2.2)\n",
            "Requirement already satisfied: pandas>=0.24.0 in /usr/local/lib/python3.6/dist-packages (from catboost) (1.1.4)\n",
            "Requirement already satisfied: retrying>=1.3.3 in /usr/local/lib/python3.6/dist-packages (from plotly->catboost) (1.3.3)\n",
            "Requirement already satisfied: cycler>=0.10 in /usr/local/lib/python3.6/dist-packages (from matplotlib->catboost) (0.10.0)\n",
            "Requirement already satisfied: pyparsing!=2.0.4,!=2.1.2,!=2.1.6,>=2.0.1 in /usr/local/lib/python3.6/dist-packages (from matplotlib->catboost) (2.4.7)\n",
            "Requirement already satisfied: python-dateutil>=2.1 in /usr/local/lib/python3.6/dist-packages (from matplotlib->catboost) (2.8.1)\n",
            "Requirement already satisfied: kiwisolver>=1.0.1 in /usr/local/lib/python3.6/dist-packages (from matplotlib->catboost) (1.3.1)\n",
            "Requirement already satisfied: pytz>=2017.2 in /usr/local/lib/python3.6/dist-packages (from pandas>=0.24.0->catboost) (2018.9)\n",
            "Installing collected packages: catboost\n",
            "Successfully installed catboost-0.24.3\n"
          ],
          "name": "stdout"
        }
      ]
    },
    {
      "cell_type": "code",
      "metadata": {
        "colab": {
          "base_uri": "https://localhost:8080/"
        },
        "id": "l5WJhjAybWdq",
        "outputId": "64c8be2b-5dc3-48a3-b9af-0f052ca9fa9e"
      },
      "source": [
        "!pip install lightgbm"
      ],
      "execution_count": 91,
      "outputs": [
        {
          "output_type": "stream",
          "text": [
            "Requirement already satisfied: lightgbm in /usr/local/lib/python3.6/dist-packages (2.2.3)\n",
            "Requirement already satisfied: scikit-learn in /usr/local/lib/python3.6/dist-packages (from lightgbm) (0.22.2.post1)\n",
            "Requirement already satisfied: scipy in /usr/local/lib/python3.6/dist-packages (from lightgbm) (1.4.1)\n",
            "Requirement already satisfied: numpy in /usr/local/lib/python3.6/dist-packages (from lightgbm) (1.18.5)\n",
            "Requirement already satisfied: joblib>=0.11 in /usr/local/lib/python3.6/dist-packages (from scikit-learn->lightgbm) (0.17.0)\n"
          ],
          "name": "stdout"
        }
      ]
    },
    {
      "cell_type": "code",
      "metadata": {
        "id": "yONypd27Yphw"
      },
      "source": [
        "from xgboost import XGBRegressor\n",
        "from catboost import CatBoostRegressor\n",
        "import lightgbm as lgb"
      ],
      "execution_count": 98,
      "outputs": []
    },
    {
      "cell_type": "code",
      "metadata": {
        "colab": {
          "base_uri": "https://localhost:8080/"
        },
        "id": "q_aP722wYpZY",
        "outputId": "b8e83cf3-af7d-442b-fad6-701b61642f0f"
      },
      "source": [
        "model = XGBRegressor(verbosity=0)\n",
        "\n",
        "model.fit(X_train, y_train)\n",
        "\n",
        "y_train_predict = model.predict(X_train)\n",
        "\n",
        "print('Training Score: ', model.score(X_train, y_train))"
      ],
      "execution_count": 77,
      "outputs": [
        {
          "output_type": "stream",
          "text": [
            "Training Score:  0.9999351048493532\n"
          ],
          "name": "stdout"
        }
      ]
    },
    {
      "cell_type": "code",
      "metadata": {
        "colab": {
          "base_uri": "https://localhost:8080/"
        },
        "id": "kz87lazTYpPA",
        "outputId": "8a92b5fc-6a79-4b37-c3d3-4a1730e5179e"
      },
      "source": [
        "model = CatBoostRegressor(verbose=False)\n",
        "\n",
        "model.fit(X_train, y_train)\n",
        "\n",
        "y_train_predict = model.predict(X_train)\n",
        "\n",
        "print('Training Score: ', model.score(X_train, y_train))"
      ],
      "execution_count": 75,
      "outputs": [
        {
          "output_type": "stream",
          "text": [
            "Training Score:  0.9998220099367949\n"
          ],
          "name": "stdout"
        }
      ]
    },
    {
      "cell_type": "code",
      "metadata": {
        "colab": {
          "base_uri": "https://localhost:8080/"
        },
        "id": "kAf1g58WbhGI",
        "outputId": "bef65a50-2f6a-4072-a63f-e634da5c1fe3"
      },
      "source": [
        "from sklearn.metrics import accuracy_score\n",
        "\n",
        "X_train_lgb = lgb.Dataset(X_train, label=y_train)\n",
        "\n",
        "params={}\n",
        "params['learning_rate']=0.03\n",
        "params['boosting_type']='gbdt' #GradientBoostingDecisionTree\n",
        "params['objective']='regression' #Binary target feature\n",
        "params['n_estimators']=100\n",
        "params['max_depth']=10\n",
        "\n",
        "model = lgb.train(params, X_train_lgb, 100)\n",
        "\n",
        "y_train_predict = model.predict(X_train)\n",
        "\n",
        "y_train_predict"
      ],
      "execution_count": 109,
      "outputs": [
        {
          "output_type": "stream",
          "text": [
            "/usr/local/lib/python3.6/dist-packages/lightgbm/engine.py:118: UserWarning: Found `n_estimators` in params. Will use it instead of argument\n",
            "  warnings.warn(\"Found `{}` in params. Will use it instead of argument\".format(alias))\n"
          ],
          "name": "stderr"
        },
        {
          "output_type": "execute_result",
          "data": {
            "text/plain": [
              "array([72., 72., 72., 72., 72., 72., 72., 72., 72., 72.])"
            ]
          },
          "metadata": {
            "tags": []
          },
          "execution_count": 109
        }
      ]
    },
    {
      "cell_type": "code",
      "metadata": {
        "colab": {
          "base_uri": "https://localhost:8080/"
        },
        "id": "BykHoj5KcG1m",
        "outputId": "51d77b06-4344-403e-eaf6-9b84287ed6b3"
      },
      "source": [
        "y_train_predict"
      ],
      "execution_count": 96,
      "outputs": [
        {
          "output_type": "execute_result",
          "data": {
            "text/plain": [
              "array([72., 72., 72., 72., 72., 72., 72., 72., 72., 72.])"
            ]
          },
          "metadata": {
            "tags": []
          },
          "execution_count": 96
        }
      ]
    },
    {
      "cell_type": "code",
      "metadata": {
        "colab": {
          "base_uri": "https://localhost:8080/"
        },
        "id": "TAyl40iwVcoc",
        "outputId": "158b3ea7-7325-4374-81eb-251c2795cee8"
      },
      "source": [
        "from sklearn.ensemble import StackingRegressor, VotingRegressor\n",
        "from sklearn.ensemble import RandomForestRegressor\n",
        "from sklearn.svm import SVR\n",
        "from xgboost import XGBRegressor\n",
        "from catboost import CatBoostRegressor\n",
        "\n",
        "model = StackingRegressor([\n",
        "                           ('lr', RidgeCV()),\n",
        "                           ('lasso',LassoCV()),\n",
        "], final_estimator = CatBoostRegressor(verbose=False), passthrough = True)\n",
        "\n",
        "model.fit(X_train, y_train)\n",
        "\n",
        "y_train_predict = model.predict(X_train)\n",
        "\n",
        "print('Training Score: ', model.score(X_train, y_train))"
      ],
      "execution_count": 90,
      "outputs": [
        {
          "output_type": "stream",
          "text": [
            "Training Score:  0.9568117335203622\n"
          ],
          "name": "stdout"
        }
      ]
    },
    {
      "cell_type": "code",
      "metadata": {
        "colab": {
          "base_uri": "https://localhost:8080/",
          "height": 301
        },
        "id": "O0lmujfYWE8O",
        "outputId": "ce75658d-f56b-4256-dfca-fdd31afe7860"
      },
      "source": [
        "plt.plot(y_train,y_train_predict,'o')\n",
        "plt.xlabel('xLabel')\n",
        "plt.ylabel('yLabel')\n",
        "plt.title('Title')\n",
        "plt.show()\n",
        "\n"
      ],
      "execution_count": 80,
      "outputs": [
        {
          "output_type": "display_data",
          "data": {
            "image/png": "[encoded data removed]",
            "text/plain": [
              "<Figure size 432x288 with 1 Axes>"
            ]
          },
          "metadata": {
            "tags": [],
            "needs_background": "light"
          }
        }
      ]
    },
    {
      "cell_type": "code",
      "metadata": {
        "colab": {
          "base_uri": "https://localhost:8080/"
        },
        "id": "cSSKICbiWkRL",
        "outputId": "dd411521-d5d9-40e7-ab2b-024937c88370"
      },
      "source": [
        "y_train_predict"
      ],
      "execution_count": 81,
      "outputs": [
        {
          "output_type": "execute_result",
          "data": {
            "text/plain": [
              "array([ 34.21447232,  45.13768261,  66.86706279,  34.1086208 ,\n",
              "        55.97924527,  23.31310019, 103.50762863, 232.19461562,\n",
              "        45.14737588,  77.69415701])"
            ]
          },
          "metadata": {
            "tags": []
          },
          "execution_count": 81
        }
      ]
    },
    {
      "cell_type": "code",
      "metadata": {
        "id": "rVlrIBwsZoFa"
      },
      "source": [
        ""
      ],
      "execution_count": null,
      "outputs": []
    }
  ]
}