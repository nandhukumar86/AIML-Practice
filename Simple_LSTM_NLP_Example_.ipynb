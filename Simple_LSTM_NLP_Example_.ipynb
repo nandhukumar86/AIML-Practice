{
  "nbformat": 4,
  "nbformat_minor": 0,
  "metadata": {
    "colab": {
      "name": "Simple LSTM - NLP Example .ipynb",
      "provenance": [],
      "collapsed_sections": [],
      "machine_shape": "hm",
      "authorship_tag": "ABX9TyPO88psaGK2pcdcT2kEENcQ",
      "include_colab_link": true
    },
    "kernelspec": {
      "name": "python3",
      "display_name": "Python 3"
    },
    "language_info": {
      "name": "python"
    },
    "accelerator": "GPU"
  },
  "cells": [
    {
      "cell_type": "markdown",
      "metadata": {
        "id": "view-in-github",
        "colab_type": "text"
      },
      "source": [
        "<a href=\"https://colab.research.google.com/github/nandhukumar86/AIML-Practice/blob/master/Simple_LSTM_NLP_Example_.ipynb\" target=\"_parent\"><img src=\"https://colab.research.google.com/assets/colab-badge.svg\" alt=\"Open In Colab\"/></a>"
      ]
    },
    {
      "cell_type": "code",
      "metadata": {
        "id": "GmC0Pt1z1nTL"
      },
      "source": [
        "import numpy as np\n",
        "import pandas as pd\n",
        "import seaborn as sns\n",
        "import matplotlib.pyplot as plt\n",
        "sns.set(color_codes=True)\n",
        "%matplotlib inline\n"
      ],
      "execution_count": 1,
      "outputs": []
    },
    {
      "cell_type": "code",
      "metadata": {
        "id": "UsZ3K10p1r-x"
      },
      "source": [
        "import warnings\n",
        "warnings.filterwarnings(\"ignore\")\n"
      ],
      "execution_count": 2,
      "outputs": []
    },
    {
      "cell_type": "code",
      "metadata": {
        "id": "cFtM2AKd1toI"
      },
      "source": [
        "sentence = 'my name is nandhakumar i live in coimbatore my favourite food is biryani everyone loves biryani'\n",
        "sentence = sentence + ' EOF'"
      ],
      "execution_count": 3,
      "outputs": []
    },
    {
      "cell_type": "code",
      "metadata": {
        "colab": {
          "base_uri": "https://localhost:8080/"
        },
        "id": "l_tbU1jw160p",
        "outputId": "58b7cd50-d8ee-4028-ce11-7a98866eec0a"
      },
      "source": [
        "from keras.preprocessing.text import Tokenizer\n",
        "import nltk\n",
        "from nltk.tokenize import word_tokenize\n",
        "import re\n",
        "nltk.download('punkt')"
      ],
      "execution_count": 4,
      "outputs": [
        {
          "output_type": "stream",
          "text": [
            "[nltk_data] Downloading package punkt to /root/nltk_data...\n",
            "[nltk_data]   Unzipping tokenizers/punkt.zip.\n"
          ],
          "name": "stdout"
        },
        {
          "output_type": "execute_result",
          "data": {
            "text/plain": [
              "True"
            ]
          },
          "metadata": {
            "tags": []
          },
          "execution_count": 4
        }
      ]
    },
    {
      "cell_type": "code",
      "metadata": {
        "colab": {
          "base_uri": "https://localhost:8080/"
        },
        "id": "SORadSJa2DM5",
        "outputId": "8c207e8e-32cf-47e3-f768-e81748692fb3"
      },
      "source": [
        "tokens = word_tokenize(sentence)\n",
        "tokens"
      ],
      "execution_count": 5,
      "outputs": [
        {
          "output_type": "execute_result",
          "data": {
            "text/plain": [
              "['my',\n",
              " 'name',\n",
              " 'is',\n",
              " 'nandhakumar',\n",
              " 'i',\n",
              " 'live',\n",
              " 'in',\n",
              " 'coimbatore',\n",
              " 'my',\n",
              " 'favourite',\n",
              " 'food',\n",
              " 'is',\n",
              " 'biryani',\n",
              " 'everyone',\n",
              " 'loves',\n",
              " 'biryani',\n",
              " 'EOF']"
            ]
          },
          "metadata": {
            "tags": []
          },
          "execution_count": 5
        }
      ]
    },
    {
      "cell_type": "code",
      "metadata": {
        "colab": {
          "base_uri": "https://localhost:8080/"
        },
        "id": "R12TnHri2IeY",
        "outputId": "cecd2e92-2e6d-4896-c865-80bb4c004795"
      },
      "source": [
        "dictionatyOfWords = set(tokens)\n",
        "dictionatyOfWords"
      ],
      "execution_count": 6,
      "outputs": [
        {
          "output_type": "execute_result",
          "data": {
            "text/plain": [
              "{'EOF',\n",
              " 'biryani',\n",
              " 'coimbatore',\n",
              " 'everyone',\n",
              " 'favourite',\n",
              " 'food',\n",
              " 'i',\n",
              " 'in',\n",
              " 'is',\n",
              " 'live',\n",
              " 'loves',\n",
              " 'my',\n",
              " 'name',\n",
              " 'nandhakumar'}"
            ]
          },
          "metadata": {
            "tags": []
          },
          "execution_count": 6
        }
      ]
    },
    {
      "cell_type": "code",
      "metadata": {
        "colab": {
          "base_uri": "https://localhost:8080/"
        },
        "id": "Wgg6vmpi2osJ",
        "outputId": "aa6108e3-18dc-4c7e-9d8e-343b8d13cfe3"
      },
      "source": [
        "{w: i for i, w in enumerate(tokens)}"
      ],
      "execution_count": 7,
      "outputs": [
        {
          "output_type": "execute_result",
          "data": {
            "text/plain": [
              "{'EOF': 16,\n",
              " 'biryani': 15,\n",
              " 'coimbatore': 7,\n",
              " 'everyone': 13,\n",
              " 'favourite': 9,\n",
              " 'food': 10,\n",
              " 'i': 4,\n",
              " 'in': 6,\n",
              " 'is': 11,\n",
              " 'live': 5,\n",
              " 'loves': 14,\n",
              " 'my': 8,\n",
              " 'name': 1,\n",
              " 'nandhakumar': 3}"
            ]
          },
          "metadata": {
            "tags": []
          },
          "execution_count": 7
        }
      ]
    },
    {
      "cell_type": "code",
      "metadata": {
        "id": "gt6d4HPQAgMJ"
      },
      "source": [
        "df = pd.DataFrame(tokens, columns=['words'])"
      ],
      "execution_count": 8,
      "outputs": []
    },
    {
      "cell_type": "code",
      "metadata": {
        "colab": {
          "base_uri": "https://localhost:8080/",
          "height": 576
        },
        "id": "4L8ofts6AuOa",
        "outputId": "0438b704-eef5-4938-ea74-0daedad99937"
      },
      "source": [
        "df"
      ],
      "execution_count": 9,
      "outputs": [
        {
          "output_type": "execute_result",
          "data": {
            "text/html": [
              "<div>\n",
              "<style scoped>\n",
              "    .dataframe tbody tr th:only-of-type {\n",
              "        vertical-align: middle;\n",
              "    }\n",
              "\n",
              "    .dataframe tbody tr th {\n",
              "        vertical-align: top;\n",
              "    }\n",
              "\n",
              "    .dataframe thead th {\n",
              "        text-align: right;\n",
              "    }\n",
              "</style>\n",
              "<table border=\"1\" class=\"dataframe\">\n",
              "  <thead>\n",
              "    <tr style=\"text-align: right;\">\n",
              "      <th></th>\n",
              "      <th>words</th>\n",
              "    </tr>\n",
              "  </thead>\n",
              "  <tbody>\n",
              "    <tr>\n",
              "      <th>0</th>\n",
              "      <td>my</td>\n",
              "    </tr>\n",
              "    <tr>\n",
              "      <th>1</th>\n",
              "      <td>name</td>\n",
              "    </tr>\n",
              "    <tr>\n",
              "      <th>2</th>\n",
              "      <td>is</td>\n",
              "    </tr>\n",
              "    <tr>\n",
              "      <th>3</th>\n",
              "      <td>nandhakumar</td>\n",
              "    </tr>\n",
              "    <tr>\n",
              "      <th>4</th>\n",
              "      <td>i</td>\n",
              "    </tr>\n",
              "    <tr>\n",
              "      <th>5</th>\n",
              "      <td>live</td>\n",
              "    </tr>\n",
              "    <tr>\n",
              "      <th>6</th>\n",
              "      <td>in</td>\n",
              "    </tr>\n",
              "    <tr>\n",
              "      <th>7</th>\n",
              "      <td>coimbatore</td>\n",
              "    </tr>\n",
              "    <tr>\n",
              "      <th>8</th>\n",
              "      <td>my</td>\n",
              "    </tr>\n",
              "    <tr>\n",
              "      <th>9</th>\n",
              "      <td>favourite</td>\n",
              "    </tr>\n",
              "    <tr>\n",
              "      <th>10</th>\n",
              "      <td>food</td>\n",
              "    </tr>\n",
              "    <tr>\n",
              "      <th>11</th>\n",
              "      <td>is</td>\n",
              "    </tr>\n",
              "    <tr>\n",
              "      <th>12</th>\n",
              "      <td>biryani</td>\n",
              "    </tr>\n",
              "    <tr>\n",
              "      <th>13</th>\n",
              "      <td>everyone</td>\n",
              "    </tr>\n",
              "    <tr>\n",
              "      <th>14</th>\n",
              "      <td>loves</td>\n",
              "    </tr>\n",
              "    <tr>\n",
              "      <th>15</th>\n",
              "      <td>biryani</td>\n",
              "    </tr>\n",
              "    <tr>\n",
              "      <th>16</th>\n",
              "      <td>EOF</td>\n",
              "    </tr>\n",
              "  </tbody>\n",
              "</table>\n",
              "</div>"
            ],
            "text/plain": [
              "          words\n",
              "0            my\n",
              "1          name\n",
              "2            is\n",
              "3   nandhakumar\n",
              "4             i\n",
              "5          live\n",
              "6            in\n",
              "7    coimbatore\n",
              "8            my\n",
              "9     favourite\n",
              "10         food\n",
              "11           is\n",
              "12      biryani\n",
              "13     everyone\n",
              "14        loves\n",
              "15      biryani\n",
              "16          EOF"
            ]
          },
          "metadata": {
            "tags": []
          },
          "execution_count": 9
        }
      ]
    },
    {
      "cell_type": "code",
      "metadata": {
        "id": "2sBDN86GAuz5"
      },
      "source": [
        "from sklearn.preprocessing import LabelEncoder\n",
        "\n",
        "lEncoder = LabelEncoder()\n",
        "df['n'] = lEncoder.fit_transform(df['words'])\n"
      ],
      "execution_count": 10,
      "outputs": []
    },
    {
      "cell_type": "code",
      "metadata": {
        "id": "hOx5WUBEBELp"
      },
      "source": [
        "df['n-1'] = df['n'].shift(-1)\n",
        "df['n-2'] = df['n'].shift(-2)\n",
        "df['target'] = df['words'].shift(-3)"
      ],
      "execution_count": 11,
      "outputs": []
    },
    {
      "cell_type": "code",
      "metadata": {
        "colab": {
          "base_uri": "https://localhost:8080/",
          "height": 576
        },
        "id": "zW_xWRATBE_a",
        "outputId": "e93aa2b9-f467-44c4-b668-8cc41422dfe8"
      },
      "source": [
        "df"
      ],
      "execution_count": 12,
      "outputs": [
        {
          "output_type": "execute_result",
          "data": {
            "text/html": [
              "<div>\n",
              "<style scoped>\n",
              "    .dataframe tbody tr th:only-of-type {\n",
              "        vertical-align: middle;\n",
              "    }\n",
              "\n",
              "    .dataframe tbody tr th {\n",
              "        vertical-align: top;\n",
              "    }\n",
              "\n",
              "    .dataframe thead th {\n",
              "        text-align: right;\n",
              "    }\n",
              "</style>\n",
              "<table border=\"1\" class=\"dataframe\">\n",
              "  <thead>\n",
              "    <tr style=\"text-align: right;\">\n",
              "      <th></th>\n",
              "      <th>words</th>\n",
              "      <th>n</th>\n",
              "      <th>n-1</th>\n",
              "      <th>n-2</th>\n",
              "      <th>target</th>\n",
              "    </tr>\n",
              "  </thead>\n",
              "  <tbody>\n",
              "    <tr>\n",
              "      <th>0</th>\n",
              "      <td>my</td>\n",
              "      <td>11</td>\n",
              "      <td>12.0</td>\n",
              "      <td>8.0</td>\n",
              "      <td>nandhakumar</td>\n",
              "    </tr>\n",
              "    <tr>\n",
              "      <th>1</th>\n",
              "      <td>name</td>\n",
              "      <td>12</td>\n",
              "      <td>8.0</td>\n",
              "      <td>13.0</td>\n",
              "      <td>i</td>\n",
              "    </tr>\n",
              "    <tr>\n",
              "      <th>2</th>\n",
              "      <td>is</td>\n",
              "      <td>8</td>\n",
              "      <td>13.0</td>\n",
              "      <td>6.0</td>\n",
              "      <td>live</td>\n",
              "    </tr>\n",
              "    <tr>\n",
              "      <th>3</th>\n",
              "      <td>nandhakumar</td>\n",
              "      <td>13</td>\n",
              "      <td>6.0</td>\n",
              "      <td>9.0</td>\n",
              "      <td>in</td>\n",
              "    </tr>\n",
              "    <tr>\n",
              "      <th>4</th>\n",
              "      <td>i</td>\n",
              "      <td>6</td>\n",
              "      <td>9.0</td>\n",
              "      <td>7.0</td>\n",
              "      <td>coimbatore</td>\n",
              "    </tr>\n",
              "    <tr>\n",
              "      <th>5</th>\n",
              "      <td>live</td>\n",
              "      <td>9</td>\n",
              "      <td>7.0</td>\n",
              "      <td>2.0</td>\n",
              "      <td>my</td>\n",
              "    </tr>\n",
              "    <tr>\n",
              "      <th>6</th>\n",
              "      <td>in</td>\n",
              "      <td>7</td>\n",
              "      <td>2.0</td>\n",
              "      <td>11.0</td>\n",
              "      <td>favourite</td>\n",
              "    </tr>\n",
              "    <tr>\n",
              "      <th>7</th>\n",
              "      <td>coimbatore</td>\n",
              "      <td>2</td>\n",
              "      <td>11.0</td>\n",
              "      <td>4.0</td>\n",
              "      <td>food</td>\n",
              "    </tr>\n",
              "    <tr>\n",
              "      <th>8</th>\n",
              "      <td>my</td>\n",
              "      <td>11</td>\n",
              "      <td>4.0</td>\n",
              "      <td>5.0</td>\n",
              "      <td>is</td>\n",
              "    </tr>\n",
              "    <tr>\n",
              "      <th>9</th>\n",
              "      <td>favourite</td>\n",
              "      <td>4</td>\n",
              "      <td>5.0</td>\n",
              "      <td>8.0</td>\n",
              "      <td>biryani</td>\n",
              "    </tr>\n",
              "    <tr>\n",
              "      <th>10</th>\n",
              "      <td>food</td>\n",
              "      <td>5</td>\n",
              "      <td>8.0</td>\n",
              "      <td>1.0</td>\n",
              "      <td>everyone</td>\n",
              "    </tr>\n",
              "    <tr>\n",
              "      <th>11</th>\n",
              "      <td>is</td>\n",
              "      <td>8</td>\n",
              "      <td>1.0</td>\n",
              "      <td>3.0</td>\n",
              "      <td>loves</td>\n",
              "    </tr>\n",
              "    <tr>\n",
              "      <th>12</th>\n",
              "      <td>biryani</td>\n",
              "      <td>1</td>\n",
              "      <td>3.0</td>\n",
              "      <td>10.0</td>\n",
              "      <td>biryani</td>\n",
              "    </tr>\n",
              "    <tr>\n",
              "      <th>13</th>\n",
              "      <td>everyone</td>\n",
              "      <td>3</td>\n",
              "      <td>10.0</td>\n",
              "      <td>1.0</td>\n",
              "      <td>EOF</td>\n",
              "    </tr>\n",
              "    <tr>\n",
              "      <th>14</th>\n",
              "      <td>loves</td>\n",
              "      <td>10</td>\n",
              "      <td>1.0</td>\n",
              "      <td>0.0</td>\n",
              "      <td>NaN</td>\n",
              "    </tr>\n",
              "    <tr>\n",
              "      <th>15</th>\n",
              "      <td>biryani</td>\n",
              "      <td>1</td>\n",
              "      <td>0.0</td>\n",
              "      <td>NaN</td>\n",
              "      <td>NaN</td>\n",
              "    </tr>\n",
              "    <tr>\n",
              "      <th>16</th>\n",
              "      <td>EOF</td>\n",
              "      <td>0</td>\n",
              "      <td>NaN</td>\n",
              "      <td>NaN</td>\n",
              "      <td>NaN</td>\n",
              "    </tr>\n",
              "  </tbody>\n",
              "</table>\n",
              "</div>"
            ],
            "text/plain": [
              "          words   n   n-1   n-2       target\n",
              "0            my  11  12.0   8.0  nandhakumar\n",
              "1          name  12   8.0  13.0            i\n",
              "2            is   8  13.0   6.0         live\n",
              "3   nandhakumar  13   6.0   9.0           in\n",
              "4             i   6   9.0   7.0   coimbatore\n",
              "5          live   9   7.0   2.0           my\n",
              "6            in   7   2.0  11.0    favourite\n",
              "7    coimbatore   2  11.0   4.0         food\n",
              "8            my  11   4.0   5.0           is\n",
              "9     favourite   4   5.0   8.0      biryani\n",
              "10         food   5   8.0   1.0     everyone\n",
              "11           is   8   1.0   3.0        loves\n",
              "12      biryani   1   3.0  10.0      biryani\n",
              "13     everyone   3  10.0   1.0          EOF\n",
              "14        loves  10   1.0   0.0          NaN\n",
              "15      biryani   1   0.0   NaN          NaN\n",
              "16          EOF   0   NaN   NaN          NaN"
            ]
          },
          "metadata": {
            "tags": []
          },
          "execution_count": 12
        }
      ]
    },
    {
      "cell_type": "code",
      "metadata": {
        "id": "8CMN9K1FDn5Z"
      },
      "source": [
        "df.fillna(method='ffill', inplace=True)"
      ],
      "execution_count": 13,
      "outputs": []
    },
    {
      "cell_type": "code",
      "metadata": {
        "colab": {
          "base_uri": "https://localhost:8080/",
          "height": 576
        },
        "id": "wFPN8pUwCS6J",
        "outputId": "52f13774-cd02-4c5e-de3a-9785f714186a"
      },
      "source": [
        "df"
      ],
      "execution_count": 14,
      "outputs": [
        {
          "output_type": "execute_result",
          "data": {
            "text/html": [
              "<div>\n",
              "<style scoped>\n",
              "    .dataframe tbody tr th:only-of-type {\n",
              "        vertical-align: middle;\n",
              "    }\n",
              "\n",
              "    .dataframe tbody tr th {\n",
              "        vertical-align: top;\n",
              "    }\n",
              "\n",
              "    .dataframe thead th {\n",
              "        text-align: right;\n",
              "    }\n",
              "</style>\n",
              "<table border=\"1\" class=\"dataframe\">\n",
              "  <thead>\n",
              "    <tr style=\"text-align: right;\">\n",
              "      <th></th>\n",
              "      <th>words</th>\n",
              "      <th>n</th>\n",
              "      <th>n-1</th>\n",
              "      <th>n-2</th>\n",
              "      <th>target</th>\n",
              "    </tr>\n",
              "  </thead>\n",
              "  <tbody>\n",
              "    <tr>\n",
              "      <th>0</th>\n",
              "      <td>my</td>\n",
              "      <td>11</td>\n",
              "      <td>12.0</td>\n",
              "      <td>8.0</td>\n",
              "      <td>nandhakumar</td>\n",
              "    </tr>\n",
              "    <tr>\n",
              "      <th>1</th>\n",
              "      <td>name</td>\n",
              "      <td>12</td>\n",
              "      <td>8.0</td>\n",
              "      <td>13.0</td>\n",
              "      <td>i</td>\n",
              "    </tr>\n",
              "    <tr>\n",
              "      <th>2</th>\n",
              "      <td>is</td>\n",
              "      <td>8</td>\n",
              "      <td>13.0</td>\n",
              "      <td>6.0</td>\n",
              "      <td>live</td>\n",
              "    </tr>\n",
              "    <tr>\n",
              "      <th>3</th>\n",
              "      <td>nandhakumar</td>\n",
              "      <td>13</td>\n",
              "      <td>6.0</td>\n",
              "      <td>9.0</td>\n",
              "      <td>in</td>\n",
              "    </tr>\n",
              "    <tr>\n",
              "      <th>4</th>\n",
              "      <td>i</td>\n",
              "      <td>6</td>\n",
              "      <td>9.0</td>\n",
              "      <td>7.0</td>\n",
              "      <td>coimbatore</td>\n",
              "    </tr>\n",
              "    <tr>\n",
              "      <th>5</th>\n",
              "      <td>live</td>\n",
              "      <td>9</td>\n",
              "      <td>7.0</td>\n",
              "      <td>2.0</td>\n",
              "      <td>my</td>\n",
              "    </tr>\n",
              "    <tr>\n",
              "      <th>6</th>\n",
              "      <td>in</td>\n",
              "      <td>7</td>\n",
              "      <td>2.0</td>\n",
              "      <td>11.0</td>\n",
              "      <td>favourite</td>\n",
              "    </tr>\n",
              "    <tr>\n",
              "      <th>7</th>\n",
              "      <td>coimbatore</td>\n",
              "      <td>2</td>\n",
              "      <td>11.0</td>\n",
              "      <td>4.0</td>\n",
              "      <td>food</td>\n",
              "    </tr>\n",
              "    <tr>\n",
              "      <th>8</th>\n",
              "      <td>my</td>\n",
              "      <td>11</td>\n",
              "      <td>4.0</td>\n",
              "      <td>5.0</td>\n",
              "      <td>is</td>\n",
              "    </tr>\n",
              "    <tr>\n",
              "      <th>9</th>\n",
              "      <td>favourite</td>\n",
              "      <td>4</td>\n",
              "      <td>5.0</td>\n",
              "      <td>8.0</td>\n",
              "      <td>biryani</td>\n",
              "    </tr>\n",
              "    <tr>\n",
              "      <th>10</th>\n",
              "      <td>food</td>\n",
              "      <td>5</td>\n",
              "      <td>8.0</td>\n",
              "      <td>1.0</td>\n",
              "      <td>everyone</td>\n",
              "    </tr>\n",
              "    <tr>\n",
              "      <th>11</th>\n",
              "      <td>is</td>\n",
              "      <td>8</td>\n",
              "      <td>1.0</td>\n",
              "      <td>3.0</td>\n",
              "      <td>loves</td>\n",
              "    </tr>\n",
              "    <tr>\n",
              "      <th>12</th>\n",
              "      <td>biryani</td>\n",
              "      <td>1</td>\n",
              "      <td>3.0</td>\n",
              "      <td>10.0</td>\n",
              "      <td>biryani</td>\n",
              "    </tr>\n",
              "    <tr>\n",
              "      <th>13</th>\n",
              "      <td>everyone</td>\n",
              "      <td>3</td>\n",
              "      <td>10.0</td>\n",
              "      <td>1.0</td>\n",
              "      <td>EOF</td>\n",
              "    </tr>\n",
              "    <tr>\n",
              "      <th>14</th>\n",
              "      <td>loves</td>\n",
              "      <td>10</td>\n",
              "      <td>1.0</td>\n",
              "      <td>0.0</td>\n",
              "      <td>EOF</td>\n",
              "    </tr>\n",
              "    <tr>\n",
              "      <th>15</th>\n",
              "      <td>biryani</td>\n",
              "      <td>1</td>\n",
              "      <td>0.0</td>\n",
              "      <td>0.0</td>\n",
              "      <td>EOF</td>\n",
              "    </tr>\n",
              "    <tr>\n",
              "      <th>16</th>\n",
              "      <td>EOF</td>\n",
              "      <td>0</td>\n",
              "      <td>0.0</td>\n",
              "      <td>0.0</td>\n",
              "      <td>EOF</td>\n",
              "    </tr>\n",
              "  </tbody>\n",
              "</table>\n",
              "</div>"
            ],
            "text/plain": [
              "          words   n   n-1   n-2       target\n",
              "0            my  11  12.0   8.0  nandhakumar\n",
              "1          name  12   8.0  13.0            i\n",
              "2            is   8  13.0   6.0         live\n",
              "3   nandhakumar  13   6.0   9.0           in\n",
              "4             i   6   9.0   7.0   coimbatore\n",
              "5          live   9   7.0   2.0           my\n",
              "6            in   7   2.0  11.0    favourite\n",
              "7    coimbatore   2  11.0   4.0         food\n",
              "8            my  11   4.0   5.0           is\n",
              "9     favourite   4   5.0   8.0      biryani\n",
              "10         food   5   8.0   1.0     everyone\n",
              "11           is   8   1.0   3.0        loves\n",
              "12      biryani   1   3.0  10.0      biryani\n",
              "13     everyone   3  10.0   1.0          EOF\n",
              "14        loves  10   1.0   0.0          EOF\n",
              "15      biryani   1   0.0   0.0          EOF\n",
              "16          EOF   0   0.0   0.0          EOF"
            ]
          },
          "metadata": {
            "tags": []
          },
          "execution_count": 14
        }
      ]
    },
    {
      "cell_type": "code",
      "metadata": {
        "id": "cvhTeIBoF_C5"
      },
      "source": [
        "from sklearn.preprocessing import OneHotEncoder\n",
        "\n",
        "ohe = OneHotEncoder()\n",
        "\n",
        "ohe_array = ohe.fit_transform(np.array(df['target']).reshape(-1,1))\n"
      ],
      "execution_count": 15,
      "outputs": []
    },
    {
      "cell_type": "code",
      "metadata": {
        "id": "jWj4Rb52GcOZ"
      },
      "source": [
        "target_encoded = np.array(ohe_array.todense())"
      ],
      "execution_count": 16,
      "outputs": []
    },
    {
      "cell_type": "code",
      "metadata": {
        "colab": {
          "base_uri": "https://localhost:8080/"
        },
        "id": "Gh5Xd_HdGj_q",
        "outputId": "de132643-6662-417f-eac4-61d137af60b5"
      },
      "source": [
        "ohe.get_feature_names()"
      ],
      "execution_count": 17,
      "outputs": [
        {
          "output_type": "execute_result",
          "data": {
            "text/plain": [
              "array(['x0_EOF', 'x0_biryani', 'x0_coimbatore', 'x0_everyone',\n",
              "       'x0_favourite', 'x0_food', 'x0_i', 'x0_in', 'x0_is', 'x0_live',\n",
              "       'x0_loves', 'x0_my', 'x0_nandhakumar'], dtype=object)"
            ]
          },
          "metadata": {
            "tags": []
          },
          "execution_count": 17
        }
      ]
    },
    {
      "cell_type": "code",
      "metadata": {
        "id": "2YXMrjsRG4gq"
      },
      "source": [
        "y = target_encoded"
      ],
      "execution_count": 18,
      "outputs": []
    },
    {
      "cell_type": "code",
      "metadata": {
        "id": "BEGiA_RFOZi6"
      },
      "source": [
        "X = df[['n','n-1','n-2']]"
      ],
      "execution_count": 19,
      "outputs": []
    },
    {
      "cell_type": "code",
      "metadata": {
        "colab": {
          "base_uri": "https://localhost:8080/"
        },
        "id": "aYdY4LztHXL6",
        "outputId": "8b996ac8-20ad-406b-9eef-e5c5fceeda94"
      },
      "source": [
        "y"
      ],
      "execution_count": 212,
      "outputs": [
        {
          "output_type": "execute_result",
          "data": {
            "text/plain": [
              "array([[0., 0., 0., 0., 0., 0., 0., 0., 0., 0., 0., 0., 1.],\n",
              "       [0., 0., 0., 0., 0., 0., 1., 0., 0., 0., 0., 0., 0.],\n",
              "       [0., 0., 0., 0., 0., 0., 0., 0., 0., 1., 0., 0., 0.],\n",
              "       [0., 0., 0., 0., 0., 0., 0., 1., 0., 0., 0., 0., 0.],\n",
              "       [0., 0., 1., 0., 0., 0., 0., 0., 0., 0., 0., 0., 0.],\n",
              "       [0., 0., 0., 0., 0., 0., 0., 0., 0., 0., 0., 1., 0.],\n",
              "       [0., 0., 0., 0., 1., 0., 0., 0., 0., 0., 0., 0., 0.],\n",
              "       [0., 0., 0., 0., 0., 1., 0., 0., 0., 0., 0., 0., 0.],\n",
              "       [0., 0., 0., 0., 0., 0., 0., 0., 1., 0., 0., 0., 0.],\n",
              "       [0., 1., 0., 0., 0., 0., 0., 0., 0., 0., 0., 0., 0.],\n",
              "       [0., 0., 0., 1., 0., 0., 0., 0., 0., 0., 0., 0., 0.],\n",
              "       [0., 0., 0., 0., 0., 0., 0., 0., 0., 0., 1., 0., 0.],\n",
              "       [0., 1., 0., 0., 0., 0., 0., 0., 0., 0., 0., 0., 0.],\n",
              "       [1., 0., 0., 0., 0., 0., 0., 0., 0., 0., 0., 0., 0.],\n",
              "       [1., 0., 0., 0., 0., 0., 0., 0., 0., 0., 0., 0., 0.],\n",
              "       [1., 0., 0., 0., 0., 0., 0., 0., 0., 0., 0., 0., 0.],\n",
              "       [1., 0., 0., 0., 0., 0., 0., 0., 0., 0., 0., 0., 0.]])"
            ]
          },
          "metadata": {
            "tags": []
          },
          "execution_count": 212
        }
      ]
    },
    {
      "cell_type": "code",
      "metadata": {
        "id": "77ozU1yeHbTL"
      },
      "source": [
        "from tensorflow.keras.models import Model\n",
        "from tensorflow.keras.layers import LSTM, Embedding, Dense, TimeDistributed, Dropout, Bidirectional, Input\n",
        "from tensorflow.keras import Sequential\n",
        "import tensorflow as tf\n",
        "\n"
      ],
      "execution_count": 21,
      "outputs": []
    },
    {
      "cell_type": "code",
      "metadata": {
        "id": "yDI30GnpJEPR"
      },
      "source": [
        "def testit(inputText):\n",
        "  inputarray = lEncoder.transform(word_tokenize(inputText))\n",
        "  pred = model.predict(np.array([inputarray]))[0]\n",
        "  return lEncoder.inverse_transform([pred.argmax()])[0]"
      ],
      "execution_count": 217,
      "outputs": []
    },
    {
      "cell_type": "code",
      "metadata": {
        "id": "0H-XwfDOO3Ta"
      },
      "source": [
        "tf.keras.backend.clear_session()"
      ],
      "execution_count": 219,
      "outputs": []
    },
    {
      "cell_type": "code",
      "metadata": {
        "colab": {
          "base_uri": "https://localhost:8080/"
        },
        "id": "xjeeyHNrIXOa",
        "outputId": "80ef5a52-9ee4-4493-f8a7-9c059e9dac72"
      },
      "source": [
        "model = Sequential()\n",
        "\n",
        "model.add(Embedding(14,13)) # Word embedding layer\n",
        "model.add(LSTM(50))\n",
        "model.add(Dense(200, activation=\"relu\"))\n",
        "model.add(Dense(13, activation='softmax'))\n",
        "\n",
        "model.compile(optimizer='adam', loss='categorical_crossentropy', metrics=['accuracy'])\n",
        "\n",
        "model.fit(X, y, epochs=100,verbose=1) \n",
        "\n"
      ],
      "execution_count": 220,
      "outputs": [
        {
          "output_type": "stream",
          "text": [
            "Epoch 1/100\n",
            "1/1 [==============================] - 1s 1s/step - loss: 2.5646 - accuracy: 0.1176\n",
            "Epoch 2/100\n",
            "1/1 [==============================] - 0s 6ms/step - loss: 2.5612 - accuracy: 0.2941\n",
            "Epoch 3/100\n",
            "1/1 [==============================] - 0s 5ms/step - loss: 2.5582 - accuracy: 0.2353\n",
            "Epoch 4/100\n",
            "1/1 [==============================] - 0s 5ms/step - loss: 2.5556 - accuracy: 0.2353\n",
            "Epoch 5/100\n",
            "1/1 [==============================] - 0s 5ms/step - loss: 2.5529 - accuracy: 0.2353\n",
            "Epoch 6/100\n",
            "1/1 [==============================] - 0s 4ms/step - loss: 2.5501 - accuracy: 0.2353\n",
            "Epoch 7/100\n",
            "1/1 [==============================] - 0s 5ms/step - loss: 2.5471 - accuracy: 0.2353\n",
            "Epoch 8/100\n",
            "1/1 [==============================] - 0s 4ms/step - loss: 2.5439 - accuracy: 0.2353\n",
            "Epoch 9/100\n",
            "1/1 [==============================] - 0s 5ms/step - loss: 2.5405 - accuracy: 0.2353\n",
            "Epoch 10/100\n",
            "1/1 [==============================] - 0s 5ms/step - loss: 2.5368 - accuracy: 0.2353\n",
            "Epoch 11/100\n",
            "1/1 [==============================] - 0s 5ms/step - loss: 2.5330 - accuracy: 0.2353\n",
            "Epoch 12/100\n",
            "1/1 [==============================] - 0s 5ms/step - loss: 2.5288 - accuracy: 0.2353\n",
            "Epoch 13/100\n",
            "1/1 [==============================] - 0s 5ms/step - loss: 2.5243 - accuracy: 0.2353\n",
            "Epoch 14/100\n",
            "1/1 [==============================] - 0s 4ms/step - loss: 2.5195 - accuracy: 0.2353\n",
            "Epoch 15/100\n",
            "1/1 [==============================] - 0s 4ms/step - loss: 2.5143 - accuracy: 0.2353\n",
            "Epoch 16/100\n",
            "1/1 [==============================] - 0s 4ms/step - loss: 2.5087 - accuracy: 0.2353\n",
            "Epoch 17/100\n",
            "1/1 [==============================] - 0s 5ms/step - loss: 2.5027 - accuracy: 0.2353\n",
            "Epoch 18/100\n",
            "1/1 [==============================] - 0s 5ms/step - loss: 2.4963 - accuracy: 0.2353\n",
            "Epoch 19/100\n",
            "1/1 [==============================] - 0s 5ms/step - loss: 2.4893 - accuracy: 0.2353\n",
            "Epoch 20/100\n",
            "1/1 [==============================] - 0s 6ms/step - loss: 2.4818 - accuracy: 0.2353\n",
            "Epoch 21/100\n",
            "1/1 [==============================] - 0s 4ms/step - loss: 2.4737 - accuracy: 0.2353\n",
            "Epoch 22/100\n",
            "1/1 [==============================] - 0s 5ms/step - loss: 2.4650 - accuracy: 0.2353\n",
            "Epoch 23/100\n",
            "1/1 [==============================] - 0s 4ms/step - loss: 2.4556 - accuracy: 0.2353\n",
            "Epoch 24/100\n",
            "1/1 [==============================] - 0s 6ms/step - loss: 2.4455 - accuracy: 0.2353\n",
            "Epoch 25/100\n",
            "1/1 [==============================] - 0s 5ms/step - loss: 2.4346 - accuracy: 0.2353\n",
            "Epoch 26/100\n",
            "1/1 [==============================] - 0s 6ms/step - loss: 2.4229 - accuracy: 0.2353\n",
            "Epoch 27/100\n",
            "1/1 [==============================] - 0s 5ms/step - loss: 2.4103 - accuracy: 0.2353\n",
            "Epoch 28/100\n",
            "1/1 [==============================] - 0s 7ms/step - loss: 2.3968 - accuracy: 0.2353\n",
            "Epoch 29/100\n",
            "1/1 [==============================] - 0s 5ms/step - loss: 2.3823 - accuracy: 0.2353\n",
            "Epoch 30/100\n",
            "1/1 [==============================] - 0s 5ms/step - loss: 2.3669 - accuracy: 0.2353\n",
            "Epoch 31/100\n",
            "1/1 [==============================] - 0s 6ms/step - loss: 2.3504 - accuracy: 0.2353\n",
            "Epoch 32/100\n",
            "1/1 [==============================] - 0s 6ms/step - loss: 2.3330 - accuracy: 0.2353\n",
            "Epoch 33/100\n",
            "1/1 [==============================] - 0s 6ms/step - loss: 2.3145 - accuracy: 0.2353\n",
            "Epoch 34/100\n",
            "1/1 [==============================] - 0s 6ms/step - loss: 2.2950 - accuracy: 0.2353\n",
            "Epoch 35/100\n",
            "1/1 [==============================] - 0s 5ms/step - loss: 2.2746 - accuracy: 0.2353\n",
            "Epoch 36/100\n",
            "1/1 [==============================] - 0s 6ms/step - loss: 2.2534 - accuracy: 0.2353\n",
            "Epoch 37/100\n",
            "1/1 [==============================] - 0s 5ms/step - loss: 2.2315 - accuracy: 0.2353\n",
            "Epoch 38/100\n",
            "1/1 [==============================] - 0s 5ms/step - loss: 2.2090 - accuracy: 0.2353\n",
            "Epoch 39/100\n",
            "1/1 [==============================] - 0s 5ms/step - loss: 2.1861 - accuracy: 0.2353\n",
            "Epoch 40/100\n",
            "1/1 [==============================] - 0s 6ms/step - loss: 2.1629 - accuracy: 0.2353\n",
            "Epoch 41/100\n",
            "1/1 [==============================] - 0s 6ms/step - loss: 2.1396 - accuracy: 0.2353\n",
            "Epoch 42/100\n",
            "1/1 [==============================] - 0s 5ms/step - loss: 2.1162 - accuracy: 0.2353\n",
            "Epoch 43/100\n",
            "1/1 [==============================] - 0s 5ms/step - loss: 2.0926 - accuracy: 0.2353\n",
            "Epoch 44/100\n",
            "1/1 [==============================] - 0s 5ms/step - loss: 2.0685 - accuracy: 0.2353\n",
            "Epoch 45/100\n",
            "1/1 [==============================] - 0s 6ms/step - loss: 2.0439 - accuracy: 0.2353\n",
            "Epoch 46/100\n",
            "1/1 [==============================] - 0s 5ms/step - loss: 2.0184 - accuracy: 0.2353\n",
            "Epoch 47/100\n",
            "1/1 [==============================] - 0s 6ms/step - loss: 1.9918 - accuracy: 0.2353\n",
            "Epoch 48/100\n",
            "1/1 [==============================] - 0s 5ms/step - loss: 1.9643 - accuracy: 0.2941\n",
            "Epoch 49/100\n",
            "1/1 [==============================] - 0s 5ms/step - loss: 1.9365 - accuracy: 0.2941\n",
            "Epoch 50/100\n",
            "1/1 [==============================] - 0s 8ms/step - loss: 1.9086 - accuracy: 0.2941\n",
            "Epoch 51/100\n",
            "1/1 [==============================] - 0s 7ms/step - loss: 1.8808 - accuracy: 0.3529\n",
            "Epoch 52/100\n",
            "1/1 [==============================] - 0s 6ms/step - loss: 1.8534 - accuracy: 0.3529\n",
            "Epoch 53/100\n",
            "1/1 [==============================] - 0s 6ms/step - loss: 1.8264 - accuracy: 0.4118\n",
            "Epoch 54/100\n",
            "1/1 [==============================] - 0s 6ms/step - loss: 1.7995 - accuracy: 0.4118\n",
            "Epoch 55/100\n",
            "1/1 [==============================] - 0s 6ms/step - loss: 1.7732 - accuracy: 0.4706\n",
            "Epoch 56/100\n",
            "1/1 [==============================] - 0s 5ms/step - loss: 1.7475 - accuracy: 0.4706\n",
            "Epoch 57/100\n",
            "1/1 [==============================] - 0s 5ms/step - loss: 1.7226 - accuracy: 0.5294\n",
            "Epoch 58/100\n",
            "1/1 [==============================] - 0s 5ms/step - loss: 1.6980 - accuracy: 0.5294\n",
            "Epoch 59/100\n",
            "1/1 [==============================] - 0s 6ms/step - loss: 1.6731 - accuracy: 0.5882\n",
            "Epoch 60/100\n",
            "1/1 [==============================] - 0s 6ms/step - loss: 1.6479 - accuracy: 0.5882\n",
            "Epoch 61/100\n",
            "1/1 [==============================] - 0s 8ms/step - loss: 1.6219 - accuracy: 0.5882\n",
            "Epoch 62/100\n",
            "1/1 [==============================] - 0s 6ms/step - loss: 1.5949 - accuracy: 0.5882\n",
            "Epoch 63/100\n",
            "1/1 [==============================] - 0s 6ms/step - loss: 1.5671 - accuracy: 0.5882\n",
            "Epoch 64/100\n",
            "1/1 [==============================] - 0s 5ms/step - loss: 1.5384 - accuracy: 0.6471\n",
            "Epoch 65/100\n",
            "1/1 [==============================] - 0s 6ms/step - loss: 1.5091 - accuracy: 0.5882\n",
            "Epoch 66/100\n",
            "1/1 [==============================] - 0s 7ms/step - loss: 1.4792 - accuracy: 0.5882\n",
            "Epoch 67/100\n",
            "1/1 [==============================] - 0s 7ms/step - loss: 1.4489 - accuracy: 0.5882\n",
            "Epoch 68/100\n",
            "1/1 [==============================] - 0s 6ms/step - loss: 1.4181 - accuracy: 0.6471\n",
            "Epoch 69/100\n",
            "1/1 [==============================] - 0s 6ms/step - loss: 1.3872 - accuracy: 0.6471\n",
            "Epoch 70/100\n",
            "1/1 [==============================] - 0s 5ms/step - loss: 1.3562 - accuracy: 0.6471\n",
            "Epoch 71/100\n",
            "1/1 [==============================] - 0s 6ms/step - loss: 1.3253 - accuracy: 0.6471\n",
            "Epoch 72/100\n",
            "1/1 [==============================] - 0s 6ms/step - loss: 1.2940 - accuracy: 0.6471\n",
            "Epoch 73/100\n",
            "1/1 [==============================] - 0s 6ms/step - loss: 1.2626 - accuracy: 0.6471\n",
            "Epoch 74/100\n",
            "1/1 [==============================] - 0s 5ms/step - loss: 1.2309 - accuracy: 0.6471\n",
            "Epoch 75/100\n",
            "1/1 [==============================] - 0s 5ms/step - loss: 1.1991 - accuracy: 0.6471\n",
            "Epoch 76/100\n",
            "1/1 [==============================] - 0s 6ms/step - loss: 1.1672 - accuracy: 0.6471\n",
            "Epoch 77/100\n",
            "1/1 [==============================] - 0s 5ms/step - loss: 1.1351 - accuracy: 0.6471\n",
            "Epoch 78/100\n",
            "1/1 [==============================] - 0s 5ms/step - loss: 1.1029 - accuracy: 0.6471\n",
            "Epoch 79/100\n",
            "1/1 [==============================] - 0s 5ms/step - loss: 1.0709 - accuracy: 0.5882\n",
            "Epoch 80/100\n",
            "1/1 [==============================] - 0s 5ms/step - loss: 1.0391 - accuracy: 0.7059\n",
            "Epoch 81/100\n",
            "1/1 [==============================] - 0s 7ms/step - loss: 1.0076 - accuracy: 0.7059\n",
            "Epoch 82/100\n",
            "1/1 [==============================] - 0s 7ms/step - loss: 0.9765 - accuracy: 0.7059\n",
            "Epoch 83/100\n",
            "1/1 [==============================] - 0s 6ms/step - loss: 0.9458 - accuracy: 0.7647\n",
            "Epoch 84/100\n",
            "1/1 [==============================] - 0s 5ms/step - loss: 0.9154 - accuracy: 0.7647\n",
            "Epoch 85/100\n",
            "1/1 [==============================] - 0s 5ms/step - loss: 0.8855 - accuracy: 0.7647\n",
            "Epoch 86/100\n",
            "1/1 [==============================] - 0s 9ms/step - loss: 0.8561 - accuracy: 0.7647\n",
            "Epoch 87/100\n",
            "1/1 [==============================] - 0s 6ms/step - loss: 0.8271 - accuracy: 0.8235\n",
            "Epoch 88/100\n",
            "1/1 [==============================] - 0s 5ms/step - loss: 0.7986 - accuracy: 0.8235\n",
            "Epoch 89/100\n",
            "1/1 [==============================] - 0s 5ms/step - loss: 0.7706 - accuracy: 0.8235\n",
            "Epoch 90/100\n",
            "1/1 [==============================] - 0s 5ms/step - loss: 0.7431 - accuracy: 0.8235\n",
            "Epoch 91/100\n",
            "1/1 [==============================] - 0s 6ms/step - loss: 0.7160 - accuracy: 0.8235\n",
            "Epoch 92/100\n",
            "1/1 [==============================] - 0s 5ms/step - loss: 0.6893 - accuracy: 0.8235\n",
            "Epoch 93/100\n",
            "1/1 [==============================] - 0s 6ms/step - loss: 0.6631 - accuracy: 0.8235\n",
            "Epoch 94/100\n",
            "1/1 [==============================] - 0s 7ms/step - loss: 0.6372 - accuracy: 0.8235\n",
            "Epoch 95/100\n",
            "1/1 [==============================] - 0s 6ms/step - loss: 0.6117 - accuracy: 0.8235\n",
            "Epoch 96/100\n",
            "1/1 [==============================] - 0s 5ms/step - loss: 0.5869 - accuracy: 0.8235\n",
            "Epoch 97/100\n",
            "1/1 [==============================] - 0s 6ms/step - loss: 0.5625 - accuracy: 0.8235\n",
            "Epoch 98/100\n",
            "1/1 [==============================] - 0s 6ms/step - loss: 0.5385 - accuracy: 0.8824\n",
            "Epoch 99/100\n",
            "1/1 [==============================] - 0s 5ms/step - loss: 0.5148 - accuracy: 0.9412\n",
            "Epoch 100/100\n",
            "1/1 [==============================] - 0s 6ms/step - loss: 0.4915 - accuracy: 0.9412\n"
          ],
          "name": "stdout"
        },
        {
          "output_type": "execute_result",
          "data": {
            "text/plain": [
              "<tensorflow.python.keras.callbacks.History at 0x7f38dee605d0>"
            ]
          },
          "metadata": {
            "tags": []
          },
          "execution_count": 220
        }
      ]
    },
    {
      "cell_type": "code",
      "metadata": {
        "colab": {
          "base_uri": "https://localhost:8080/",
          "height": 35
        },
        "id": "qYIjkJSwQgyr",
        "outputId": "90cff0ae-fefc-4eca-e076-13e9c0b46b48"
      },
      "source": [
        "testit('i live in')"
      ],
      "execution_count": 221,
      "outputs": [
        {
          "output_type": "execute_result",
          "data": {
            "application/vnd.google.colaboratory.intrinsic+json": {
              "type": "string"
            },
            "text/plain": [
              "'coimbatore'"
            ]
          },
          "metadata": {
            "tags": []
          },
          "execution_count": 221
        }
      ]
    },
    {
      "cell_type": "code",
      "metadata": {
        "colab": {
          "base_uri": "https://localhost:8080/",
          "height": 35
        },
        "id": "qsw2dnQ-Z3aG",
        "outputId": "c97f1248-bbae-433b-b72d-921602a4e353"
      },
      "source": [
        "testit('my name is')"
      ],
      "execution_count": 222,
      "outputs": [
        {
          "output_type": "execute_result",
          "data": {
            "application/vnd.google.colaboratory.intrinsic+json": {
              "type": "string"
            },
            "text/plain": [
              "'name'"
            ]
          },
          "metadata": {
            "tags": []
          },
          "execution_count": 222
        }
      ]
    },
    {
      "cell_type": "code",
      "metadata": {
        "colab": {
          "base_uri": "https://localhost:8080/",
          "height": 35
        },
        "id": "5FjG_sWpbnRy",
        "outputId": "a04f1e9d-28d8-4fb5-9bf8-6f26d664f86e"
      },
      "source": [
        "testit('my favourite food')"
      ],
      "execution_count": 223,
      "outputs": [
        {
          "output_type": "execute_result",
          "data": {
            "application/vnd.google.colaboratory.intrinsic+json": {
              "type": "string"
            },
            "text/plain": [
              "'is'"
            ]
          },
          "metadata": {
            "tags": []
          },
          "execution_count": 223
        }
      ]
    },
    {
      "cell_type": "code",
      "metadata": {
        "colab": {
          "base_uri": "https://localhost:8080/",
          "height": 35
        },
        "id": "FOKFllESb2cK",
        "outputId": "2bfe5ee2-6ff0-4dab-d555-1fd962e4b6de"
      },
      "source": [
        "testit('i live in')"
      ],
      "execution_count": 232,
      "outputs": [
        {
          "output_type": "execute_result",
          "data": {
            "application/vnd.google.colaboratory.intrinsic+json": {
              "type": "string"
            },
            "text/plain": [
              "'coimbatore'"
            ]
          },
          "metadata": {
            "tags": []
          },
          "execution_count": 232
        }
      ]
    },
    {
      "cell_type": "code",
      "metadata": {
        "id": "nFOHUbDPcncM"
      },
      "source": [
        ""
      ],
      "execution_count": null,
      "outputs": []
    }
  ]
}