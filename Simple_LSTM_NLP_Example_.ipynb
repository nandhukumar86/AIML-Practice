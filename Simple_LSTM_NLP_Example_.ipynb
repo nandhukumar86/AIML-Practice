{
  "nbformat": 4,
  "nbformat_minor": 0,
  "metadata": {
    "colab": {
      "name": "Simple LSTM - NLP Example .ipynb",
      "provenance": [],
      "collapsed_sections": [],
      "machine_shape": "hm",
      "authorship_tag": "ABX9TyOquStU/c3D7Ba2Q4YPrjbz",
      "include_colab_link": true
    },
    "kernelspec": {
      "name": "python3",
      "display_name": "Python 3"
    },
    "language_info": {
      "name": "python"
    },
    "accelerator": "GPU"
  },
  "cells": [
    {
      "cell_type": "markdown",
      "metadata": {
        "id": "view-in-github",
        "colab_type": "text"
      },
      "source": [
        "<a href=\"https://colab.research.google.com/github/nandhukumar86/AIML-Practice/blob/master/Simple_LSTM_NLP_Example_.ipynb\" target=\"_parent\"><img src=\"https://colab.research.google.com/assets/colab-badge.svg\" alt=\"Open In Colab\"/></a>"
      ]
    },
    {
      "cell_type": "code",
      "metadata": {
        "id": "GmC0Pt1z1nTL"
      },
      "source": [
        "import numpy as np\n",
        "import pandas as pd\n",
        "import seaborn as sns\n",
        "import matplotlib.pyplot as plt\n",
        "sns.set(color_codes=True)\n",
        "%matplotlib inline\n"
      ],
      "execution_count": 1,
      "outputs": []
    },
    {
      "cell_type": "code",
      "metadata": {
        "id": "UsZ3K10p1r-x"
      },
      "source": [
        "import warnings\n",
        "warnings.filterwarnings(\"ignore\")\n"
      ],
      "execution_count": 2,
      "outputs": []
    },
    {
      "cell_type": "code",
      "metadata": {
        "id": "cFtM2AKd1toI"
      },
      "source": [
        "sentence = 'my name is nandhakumar i live in coimbatore my favourite food is biryani everyone loves biryani'\n",
        "sentence = sentence + ' EOF'"
      ],
      "execution_count": 3,
      "outputs": []
    },
    {
      "cell_type": "code",
      "metadata": {
        "colab": {
          "base_uri": "https://localhost:8080/"
        },
        "id": "l_tbU1jw160p",
        "outputId": "a368e692-a945-42d5-8a00-41e5aaf3048a"
      },
      "source": [
        "from keras.preprocessing.text import Tokenizer\n",
        "import nltk\n",
        "from nltk.tokenize import word_tokenize\n",
        "import re\n",
        "nltk.download('punkt')"
      ],
      "execution_count": 4,
      "outputs": [
        {
          "output_type": "stream",
          "text": [
            "[nltk_data] Downloading package punkt to /root/nltk_data...\n",
            "[nltk_data]   Unzipping tokenizers/punkt.zip.\n"
          ],
          "name": "stdout"
        },
        {
          "output_type": "execute_result",
          "data": {
            "text/plain": [
              "True"
            ]
          },
          "metadata": {
            "tags": []
          },
          "execution_count": 4
        }
      ]
    },
    {
      "cell_type": "code",
      "metadata": {
        "colab": {
          "base_uri": "https://localhost:8080/"
        },
        "id": "SORadSJa2DM5",
        "outputId": "dc9a1af1-b133-42a8-bbb2-38936f3189e4"
      },
      "source": [
        "tokens = word_tokenize(sentence)\n",
        "tokens"
      ],
      "execution_count": 5,
      "outputs": [
        {
          "output_type": "execute_result",
          "data": {
            "text/plain": [
              "['my',\n",
              " 'name',\n",
              " 'is',\n",
              " 'nandhakumar',\n",
              " 'i',\n",
              " 'live',\n",
              " 'in',\n",
              " 'coimbatore',\n",
              " 'my',\n",
              " 'favourite',\n",
              " 'food',\n",
              " 'is',\n",
              " 'biryani',\n",
              " 'everyone',\n",
              " 'loves',\n",
              " 'biryani',\n",
              " 'EOF']"
            ]
          },
          "metadata": {
            "tags": []
          },
          "execution_count": 5
        }
      ]
    },
    {
      "cell_type": "code",
      "metadata": {
        "colab": {
          "base_uri": "https://localhost:8080/"
        },
        "id": "R12TnHri2IeY",
        "outputId": "840c18ce-7b9a-4343-95a4-f228f68f3600"
      },
      "source": [
        "dictionatyOfWords = set(tokens)\n",
        "dictionatyOfWords"
      ],
      "execution_count": 6,
      "outputs": [
        {
          "output_type": "execute_result",
          "data": {
            "text/plain": [
              "{'EOF',\n",
              " 'biryani',\n",
              " 'coimbatore',\n",
              " 'everyone',\n",
              " 'favourite',\n",
              " 'food',\n",
              " 'i',\n",
              " 'in',\n",
              " 'is',\n",
              " 'live',\n",
              " 'loves',\n",
              " 'my',\n",
              " 'name',\n",
              " 'nandhakumar'}"
            ]
          },
          "metadata": {
            "tags": []
          },
          "execution_count": 6
        }
      ]
    },
    {
      "cell_type": "code",
      "metadata": {
        "colab": {
          "base_uri": "https://localhost:8080/"
        },
        "id": "Wgg6vmpi2osJ",
        "outputId": "d2bc0ef5-6aed-4cd0-e71b-e576d3d101af"
      },
      "source": [
        "{w: i for i, w in enumerate(tokens)}"
      ],
      "execution_count": 7,
      "outputs": [
        {
          "output_type": "execute_result",
          "data": {
            "text/plain": [
              "{'EOF': 16,\n",
              " 'biryani': 15,\n",
              " 'coimbatore': 7,\n",
              " 'everyone': 13,\n",
              " 'favourite': 9,\n",
              " 'food': 10,\n",
              " 'i': 4,\n",
              " 'in': 6,\n",
              " 'is': 11,\n",
              " 'live': 5,\n",
              " 'loves': 14,\n",
              " 'my': 8,\n",
              " 'name': 1,\n",
              " 'nandhakumar': 3}"
            ]
          },
          "metadata": {
            "tags": []
          },
          "execution_count": 7
        }
      ]
    },
    {
      "cell_type": "code",
      "metadata": {
        "id": "gt6d4HPQAgMJ"
      },
      "source": [
        "df = pd.DataFrame(tokens, columns=['words'])"
      ],
      "execution_count": 8,
      "outputs": []
    },
    {
      "cell_type": "code",
      "metadata": {
        "colab": {
          "base_uri": "https://localhost:8080/",
          "height": 576
        },
        "id": "4L8ofts6AuOa",
        "outputId": "53d85e4b-5663-4b18-922d-50180b75cc76"
      },
      "source": [
        "df"
      ],
      "execution_count": 9,
      "outputs": [
        {
          "output_type": "execute_result",
          "data": {
            "text/html": [
              "<div>\n",
              "<style scoped>\n",
              "    .dataframe tbody tr th:only-of-type {\n",
              "        vertical-align: middle;\n",
              "    }\n",
              "\n",
              "    .dataframe tbody tr th {\n",
              "        vertical-align: top;\n",
              "    }\n",
              "\n",
              "    .dataframe thead th {\n",
              "        text-align: right;\n",
              "    }\n",
              "</style>\n",
              "<table border=\"1\" class=\"dataframe\">\n",
              "  <thead>\n",
              "    <tr style=\"text-align: right;\">\n",
              "      <th></th>\n",
              "      <th>words</th>\n",
              "    </tr>\n",
              "  </thead>\n",
              "  <tbody>\n",
              "    <tr>\n",
              "      <th>0</th>\n",
              "      <td>my</td>\n",
              "    </tr>\n",
              "    <tr>\n",
              "      <th>1</th>\n",
              "      <td>name</td>\n",
              "    </tr>\n",
              "    <tr>\n",
              "      <th>2</th>\n",
              "      <td>is</td>\n",
              "    </tr>\n",
              "    <tr>\n",
              "      <th>3</th>\n",
              "      <td>nandhakumar</td>\n",
              "    </tr>\n",
              "    <tr>\n",
              "      <th>4</th>\n",
              "      <td>i</td>\n",
              "    </tr>\n",
              "    <tr>\n",
              "      <th>5</th>\n",
              "      <td>live</td>\n",
              "    </tr>\n",
              "    <tr>\n",
              "      <th>6</th>\n",
              "      <td>in</td>\n",
              "    </tr>\n",
              "    <tr>\n",
              "      <th>7</th>\n",
              "      <td>coimbatore</td>\n",
              "    </tr>\n",
              "    <tr>\n",
              "      <th>8</th>\n",
              "      <td>my</td>\n",
              "    </tr>\n",
              "    <tr>\n",
              "      <th>9</th>\n",
              "      <td>favourite</td>\n",
              "    </tr>\n",
              "    <tr>\n",
              "      <th>10</th>\n",
              "      <td>food</td>\n",
              "    </tr>\n",
              "    <tr>\n",
              "      <th>11</th>\n",
              "      <td>is</td>\n",
              "    </tr>\n",
              "    <tr>\n",
              "      <th>12</th>\n",
              "      <td>biryani</td>\n",
              "    </tr>\n",
              "    <tr>\n",
              "      <th>13</th>\n",
              "      <td>everyone</td>\n",
              "    </tr>\n",
              "    <tr>\n",
              "      <th>14</th>\n",
              "      <td>loves</td>\n",
              "    </tr>\n",
              "    <tr>\n",
              "      <th>15</th>\n",
              "      <td>biryani</td>\n",
              "    </tr>\n",
              "    <tr>\n",
              "      <th>16</th>\n",
              "      <td>EOF</td>\n",
              "    </tr>\n",
              "  </tbody>\n",
              "</table>\n",
              "</div>"
            ],
            "text/plain": [
              "          words\n",
              "0            my\n",
              "1          name\n",
              "2            is\n",
              "3   nandhakumar\n",
              "4             i\n",
              "5          live\n",
              "6            in\n",
              "7    coimbatore\n",
              "8            my\n",
              "9     favourite\n",
              "10         food\n",
              "11           is\n",
              "12      biryani\n",
              "13     everyone\n",
              "14        loves\n",
              "15      biryani\n",
              "16          EOF"
            ]
          },
          "metadata": {
            "tags": []
          },
          "execution_count": 9
        }
      ]
    },
    {
      "cell_type": "code",
      "metadata": {
        "id": "2sBDN86GAuz5"
      },
      "source": [
        "from sklearn.preprocessing import LabelEncoder\n",
        "\n",
        "lEncoder = LabelEncoder()\n",
        "df['n'] = lEncoder.fit_transform(df['words'])\n"
      ],
      "execution_count": 10,
      "outputs": []
    },
    {
      "cell_type": "code",
      "metadata": {
        "id": "hOx5WUBEBELp"
      },
      "source": [
        "df['n-1'] = df['n'].shift(-1)\n",
        "df['n-2'] = df['n'].shift(-2)\n",
        "df['target'] = df['words'].shift(-3)"
      ],
      "execution_count": 11,
      "outputs": []
    },
    {
      "cell_type": "code",
      "metadata": {
        "colab": {
          "base_uri": "https://localhost:8080/",
          "height": 576
        },
        "id": "zW_xWRATBE_a",
        "outputId": "be577696-df46-460c-d27f-ea9f5365892a"
      },
      "source": [
        "df"
      ],
      "execution_count": 12,
      "outputs": [
        {
          "output_type": "execute_result",
          "data": {
            "text/html": [
              "<div>\n",
              "<style scoped>\n",
              "    .dataframe tbody tr th:only-of-type {\n",
              "        vertical-align: middle;\n",
              "    }\n",
              "\n",
              "    .dataframe tbody tr th {\n",
              "        vertical-align: top;\n",
              "    }\n",
              "\n",
              "    .dataframe thead th {\n",
              "        text-align: right;\n",
              "    }\n",
              "</style>\n",
              "<table border=\"1\" class=\"dataframe\">\n",
              "  <thead>\n",
              "    <tr style=\"text-align: right;\">\n",
              "      <th></th>\n",
              "      <th>words</th>\n",
              "      <th>n</th>\n",
              "      <th>n-1</th>\n",
              "      <th>n-2</th>\n",
              "      <th>target</th>\n",
              "    </tr>\n",
              "  </thead>\n",
              "  <tbody>\n",
              "    <tr>\n",
              "      <th>0</th>\n",
              "      <td>my</td>\n",
              "      <td>11</td>\n",
              "      <td>12.0</td>\n",
              "      <td>8.0</td>\n",
              "      <td>nandhakumar</td>\n",
              "    </tr>\n",
              "    <tr>\n",
              "      <th>1</th>\n",
              "      <td>name</td>\n",
              "      <td>12</td>\n",
              "      <td>8.0</td>\n",
              "      <td>13.0</td>\n",
              "      <td>i</td>\n",
              "    </tr>\n",
              "    <tr>\n",
              "      <th>2</th>\n",
              "      <td>is</td>\n",
              "      <td>8</td>\n",
              "      <td>13.0</td>\n",
              "      <td>6.0</td>\n",
              "      <td>live</td>\n",
              "    </tr>\n",
              "    <tr>\n",
              "      <th>3</th>\n",
              "      <td>nandhakumar</td>\n",
              "      <td>13</td>\n",
              "      <td>6.0</td>\n",
              "      <td>9.0</td>\n",
              "      <td>in</td>\n",
              "    </tr>\n",
              "    <tr>\n",
              "      <th>4</th>\n",
              "      <td>i</td>\n",
              "      <td>6</td>\n",
              "      <td>9.0</td>\n",
              "      <td>7.0</td>\n",
              "      <td>coimbatore</td>\n",
              "    </tr>\n",
              "    <tr>\n",
              "      <th>5</th>\n",
              "      <td>live</td>\n",
              "      <td>9</td>\n",
              "      <td>7.0</td>\n",
              "      <td>2.0</td>\n",
              "      <td>my</td>\n",
              "    </tr>\n",
              "    <tr>\n",
              "      <th>6</th>\n",
              "      <td>in</td>\n",
              "      <td>7</td>\n",
              "      <td>2.0</td>\n",
              "      <td>11.0</td>\n",
              "      <td>favourite</td>\n",
              "    </tr>\n",
              "    <tr>\n",
              "      <th>7</th>\n",
              "      <td>coimbatore</td>\n",
              "      <td>2</td>\n",
              "      <td>11.0</td>\n",
              "      <td>4.0</td>\n",
              "      <td>food</td>\n",
              "    </tr>\n",
              "    <tr>\n",
              "      <th>8</th>\n",
              "      <td>my</td>\n",
              "      <td>11</td>\n",
              "      <td>4.0</td>\n",
              "      <td>5.0</td>\n",
              "      <td>is</td>\n",
              "    </tr>\n",
              "    <tr>\n",
              "      <th>9</th>\n",
              "      <td>favourite</td>\n",
              "      <td>4</td>\n",
              "      <td>5.0</td>\n",
              "      <td>8.0</td>\n",
              "      <td>biryani</td>\n",
              "    </tr>\n",
              "    <tr>\n",
              "      <th>10</th>\n",
              "      <td>food</td>\n",
              "      <td>5</td>\n",
              "      <td>8.0</td>\n",
              "      <td>1.0</td>\n",
              "      <td>everyone</td>\n",
              "    </tr>\n",
              "    <tr>\n",
              "      <th>11</th>\n",
              "      <td>is</td>\n",
              "      <td>8</td>\n",
              "      <td>1.0</td>\n",
              "      <td>3.0</td>\n",
              "      <td>loves</td>\n",
              "    </tr>\n",
              "    <tr>\n",
              "      <th>12</th>\n",
              "      <td>biryani</td>\n",
              "      <td>1</td>\n",
              "      <td>3.0</td>\n",
              "      <td>10.0</td>\n",
              "      <td>biryani</td>\n",
              "    </tr>\n",
              "    <tr>\n",
              "      <th>13</th>\n",
              "      <td>everyone</td>\n",
              "      <td>3</td>\n",
              "      <td>10.0</td>\n",
              "      <td>1.0</td>\n",
              "      <td>EOF</td>\n",
              "    </tr>\n",
              "    <tr>\n",
              "      <th>14</th>\n",
              "      <td>loves</td>\n",
              "      <td>10</td>\n",
              "      <td>1.0</td>\n",
              "      <td>0.0</td>\n",
              "      <td>NaN</td>\n",
              "    </tr>\n",
              "    <tr>\n",
              "      <th>15</th>\n",
              "      <td>biryani</td>\n",
              "      <td>1</td>\n",
              "      <td>0.0</td>\n",
              "      <td>NaN</td>\n",
              "      <td>NaN</td>\n",
              "    </tr>\n",
              "    <tr>\n",
              "      <th>16</th>\n",
              "      <td>EOF</td>\n",
              "      <td>0</td>\n",
              "      <td>NaN</td>\n",
              "      <td>NaN</td>\n",
              "      <td>NaN</td>\n",
              "    </tr>\n",
              "  </tbody>\n",
              "</table>\n",
              "</div>"
            ],
            "text/plain": [
              "          words   n   n-1   n-2       target\n",
              "0            my  11  12.0   8.0  nandhakumar\n",
              "1          name  12   8.0  13.0            i\n",
              "2            is   8  13.0   6.0         live\n",
              "3   nandhakumar  13   6.0   9.0           in\n",
              "4             i   6   9.0   7.0   coimbatore\n",
              "5          live   9   7.0   2.0           my\n",
              "6            in   7   2.0  11.0    favourite\n",
              "7    coimbatore   2  11.0   4.0         food\n",
              "8            my  11   4.0   5.0           is\n",
              "9     favourite   4   5.0   8.0      biryani\n",
              "10         food   5   8.0   1.0     everyone\n",
              "11           is   8   1.0   3.0        loves\n",
              "12      biryani   1   3.0  10.0      biryani\n",
              "13     everyone   3  10.0   1.0          EOF\n",
              "14        loves  10   1.0   0.0          NaN\n",
              "15      biryani   1   0.0   NaN          NaN\n",
              "16          EOF   0   NaN   NaN          NaN"
            ]
          },
          "metadata": {
            "tags": []
          },
          "execution_count": 12
        }
      ]
    },
    {
      "cell_type": "code",
      "metadata": {
        "id": "8CMN9K1FDn5Z"
      },
      "source": [
        "df.fillna(method='ffill', inplace=True)"
      ],
      "execution_count": 13,
      "outputs": []
    },
    {
      "cell_type": "code",
      "metadata": {
        "colab": {
          "base_uri": "https://localhost:8080/",
          "height": 576
        },
        "id": "wFPN8pUwCS6J",
        "outputId": "57b8d16e-2481-48af-a423-e138bca19df7"
      },
      "source": [
        "df"
      ],
      "execution_count": 14,
      "outputs": [
        {
          "output_type": "execute_result",
          "data": {
            "text/html": [
              "<div>\n",
              "<style scoped>\n",
              "    .dataframe tbody tr th:only-of-type {\n",
              "        vertical-align: middle;\n",
              "    }\n",
              "\n",
              "    .dataframe tbody tr th {\n",
              "        vertical-align: top;\n",
              "    }\n",
              "\n",
              "    .dataframe thead th {\n",
              "        text-align: right;\n",
              "    }\n",
              "</style>\n",
              "<table border=\"1\" class=\"dataframe\">\n",
              "  <thead>\n",
              "    <tr style=\"text-align: right;\">\n",
              "      <th></th>\n",
              "      <th>words</th>\n",
              "      <th>n</th>\n",
              "      <th>n-1</th>\n",
              "      <th>n-2</th>\n",
              "      <th>target</th>\n",
              "    </tr>\n",
              "  </thead>\n",
              "  <tbody>\n",
              "    <tr>\n",
              "      <th>0</th>\n",
              "      <td>my</td>\n",
              "      <td>11</td>\n",
              "      <td>12.0</td>\n",
              "      <td>8.0</td>\n",
              "      <td>nandhakumar</td>\n",
              "    </tr>\n",
              "    <tr>\n",
              "      <th>1</th>\n",
              "      <td>name</td>\n",
              "      <td>12</td>\n",
              "      <td>8.0</td>\n",
              "      <td>13.0</td>\n",
              "      <td>i</td>\n",
              "    </tr>\n",
              "    <tr>\n",
              "      <th>2</th>\n",
              "      <td>is</td>\n",
              "      <td>8</td>\n",
              "      <td>13.0</td>\n",
              "      <td>6.0</td>\n",
              "      <td>live</td>\n",
              "    </tr>\n",
              "    <tr>\n",
              "      <th>3</th>\n",
              "      <td>nandhakumar</td>\n",
              "      <td>13</td>\n",
              "      <td>6.0</td>\n",
              "      <td>9.0</td>\n",
              "      <td>in</td>\n",
              "    </tr>\n",
              "    <tr>\n",
              "      <th>4</th>\n",
              "      <td>i</td>\n",
              "      <td>6</td>\n",
              "      <td>9.0</td>\n",
              "      <td>7.0</td>\n",
              "      <td>coimbatore</td>\n",
              "    </tr>\n",
              "    <tr>\n",
              "      <th>5</th>\n",
              "      <td>live</td>\n",
              "      <td>9</td>\n",
              "      <td>7.0</td>\n",
              "      <td>2.0</td>\n",
              "      <td>my</td>\n",
              "    </tr>\n",
              "    <tr>\n",
              "      <th>6</th>\n",
              "      <td>in</td>\n",
              "      <td>7</td>\n",
              "      <td>2.0</td>\n",
              "      <td>11.0</td>\n",
              "      <td>favourite</td>\n",
              "    </tr>\n",
              "    <tr>\n",
              "      <th>7</th>\n",
              "      <td>coimbatore</td>\n",
              "      <td>2</td>\n",
              "      <td>11.0</td>\n",
              "      <td>4.0</td>\n",
              "      <td>food</td>\n",
              "    </tr>\n",
              "    <tr>\n",
              "      <th>8</th>\n",
              "      <td>my</td>\n",
              "      <td>11</td>\n",
              "      <td>4.0</td>\n",
              "      <td>5.0</td>\n",
              "      <td>is</td>\n",
              "    </tr>\n",
              "    <tr>\n",
              "      <th>9</th>\n",
              "      <td>favourite</td>\n",
              "      <td>4</td>\n",
              "      <td>5.0</td>\n",
              "      <td>8.0</td>\n",
              "      <td>biryani</td>\n",
              "    </tr>\n",
              "    <tr>\n",
              "      <th>10</th>\n",
              "      <td>food</td>\n",
              "      <td>5</td>\n",
              "      <td>8.0</td>\n",
              "      <td>1.0</td>\n",
              "      <td>everyone</td>\n",
              "    </tr>\n",
              "    <tr>\n",
              "      <th>11</th>\n",
              "      <td>is</td>\n",
              "      <td>8</td>\n",
              "      <td>1.0</td>\n",
              "      <td>3.0</td>\n",
              "      <td>loves</td>\n",
              "    </tr>\n",
              "    <tr>\n",
              "      <th>12</th>\n",
              "      <td>biryani</td>\n",
              "      <td>1</td>\n",
              "      <td>3.0</td>\n",
              "      <td>10.0</td>\n",
              "      <td>biryani</td>\n",
              "    </tr>\n",
              "    <tr>\n",
              "      <th>13</th>\n",
              "      <td>everyone</td>\n",
              "      <td>3</td>\n",
              "      <td>10.0</td>\n",
              "      <td>1.0</td>\n",
              "      <td>EOF</td>\n",
              "    </tr>\n",
              "    <tr>\n",
              "      <th>14</th>\n",
              "      <td>loves</td>\n",
              "      <td>10</td>\n",
              "      <td>1.0</td>\n",
              "      <td>0.0</td>\n",
              "      <td>EOF</td>\n",
              "    </tr>\n",
              "    <tr>\n",
              "      <th>15</th>\n",
              "      <td>biryani</td>\n",
              "      <td>1</td>\n",
              "      <td>0.0</td>\n",
              "      <td>0.0</td>\n",
              "      <td>EOF</td>\n",
              "    </tr>\n",
              "    <tr>\n",
              "      <th>16</th>\n",
              "      <td>EOF</td>\n",
              "      <td>0</td>\n",
              "      <td>0.0</td>\n",
              "      <td>0.0</td>\n",
              "      <td>EOF</td>\n",
              "    </tr>\n",
              "  </tbody>\n",
              "</table>\n",
              "</div>"
            ],
            "text/plain": [
              "          words   n   n-1   n-2       target\n",
              "0            my  11  12.0   8.0  nandhakumar\n",
              "1          name  12   8.0  13.0            i\n",
              "2            is   8  13.0   6.0         live\n",
              "3   nandhakumar  13   6.0   9.0           in\n",
              "4             i   6   9.0   7.0   coimbatore\n",
              "5          live   9   7.0   2.0           my\n",
              "6            in   7   2.0  11.0    favourite\n",
              "7    coimbatore   2  11.0   4.0         food\n",
              "8            my  11   4.0   5.0           is\n",
              "9     favourite   4   5.0   8.0      biryani\n",
              "10         food   5   8.0   1.0     everyone\n",
              "11           is   8   1.0   3.0        loves\n",
              "12      biryani   1   3.0  10.0      biryani\n",
              "13     everyone   3  10.0   1.0          EOF\n",
              "14        loves  10   1.0   0.0          EOF\n",
              "15      biryani   1   0.0   0.0          EOF\n",
              "16          EOF   0   0.0   0.0          EOF"
            ]
          },
          "metadata": {
            "tags": []
          },
          "execution_count": 14
        }
      ]
    },
    {
      "cell_type": "code",
      "metadata": {
        "id": "cvhTeIBoF_C5"
      },
      "source": [
        "from sklearn.preprocessing import OneHotEncoder\n",
        "\n",
        "ohe = OneHotEncoder()\n",
        "\n",
        "ohe_array = ohe.fit_transform(np.array(df['target']).reshape(-1,1))\n"
      ],
      "execution_count": 15,
      "outputs": []
    },
    {
      "cell_type": "code",
      "metadata": {
        "id": "jWj4Rb52GcOZ"
      },
      "source": [
        "target_encoded = np.array(ohe_array.todense())"
      ],
      "execution_count": 16,
      "outputs": []
    },
    {
      "cell_type": "code",
      "metadata": {
        "colab": {
          "base_uri": "https://localhost:8080/"
        },
        "id": "Gh5Xd_HdGj_q",
        "outputId": "55c4b692-5690-4137-f9f0-c2b99c178d14"
      },
      "source": [
        "ohe.get_feature_names()"
      ],
      "execution_count": 17,
      "outputs": [
        {
          "output_type": "execute_result",
          "data": {
            "text/plain": [
              "array(['x0_EOF', 'x0_biryani', 'x0_coimbatore', 'x0_everyone',\n",
              "       'x0_favourite', 'x0_food', 'x0_i', 'x0_in', 'x0_is', 'x0_live',\n",
              "       'x0_loves', 'x0_my', 'x0_nandhakumar'], dtype=object)"
            ]
          },
          "metadata": {
            "tags": []
          },
          "execution_count": 17
        }
      ]
    },
    {
      "cell_type": "code",
      "metadata": {
        "id": "2YXMrjsRG4gq"
      },
      "source": [
        "y = target_encoded"
      ],
      "execution_count": 18,
      "outputs": []
    },
    {
      "cell_type": "code",
      "metadata": {
        "id": "BEGiA_RFOZi6"
      },
      "source": [
        "X = df[['n','n-1','n-2']]"
      ],
      "execution_count": 19,
      "outputs": []
    },
    {
      "cell_type": "code",
      "metadata": {
        "colab": {
          "base_uri": "https://localhost:8080/"
        },
        "id": "aYdY4LztHXL6",
        "outputId": "bf469027-60a1-4368-8d1d-44eb7edb1128"
      },
      "source": [
        "y"
      ],
      "execution_count": 20,
      "outputs": [
        {
          "output_type": "execute_result",
          "data": {
            "text/plain": [
              "array([[0., 0., 0., 0., 0., 0., 0., 0., 0., 0., 0., 0., 1.],\n",
              "       [0., 0., 0., 0., 0., 0., 1., 0., 0., 0., 0., 0., 0.],\n",
              "       [0., 0., 0., 0., 0., 0., 0., 0., 0., 1., 0., 0., 0.],\n",
              "       [0., 0., 0., 0., 0., 0., 0., 1., 0., 0., 0., 0., 0.],\n",
              "       [0., 0., 1., 0., 0., 0., 0., 0., 0., 0., 0., 0., 0.],\n",
              "       [0., 0., 0., 0., 0., 0., 0., 0., 0., 0., 0., 1., 0.],\n",
              "       [0., 0., 0., 0., 1., 0., 0., 0., 0., 0., 0., 0., 0.],\n",
              "       [0., 0., 0., 0., 0., 1., 0., 0., 0., 0., 0., 0., 0.],\n",
              "       [0., 0., 0., 0., 0., 0., 0., 0., 1., 0., 0., 0., 0.],\n",
              "       [0., 1., 0., 0., 0., 0., 0., 0., 0., 0., 0., 0., 0.],\n",
              "       [0., 0., 0., 1., 0., 0., 0., 0., 0., 0., 0., 0., 0.],\n",
              "       [0., 0., 0., 0., 0., 0., 0., 0., 0., 0., 1., 0., 0.],\n",
              "       [0., 1., 0., 0., 0., 0., 0., 0., 0., 0., 0., 0., 0.],\n",
              "       [1., 0., 0., 0., 0., 0., 0., 0., 0., 0., 0., 0., 0.],\n",
              "       [1., 0., 0., 0., 0., 0., 0., 0., 0., 0., 0., 0., 0.],\n",
              "       [1., 0., 0., 0., 0., 0., 0., 0., 0., 0., 0., 0., 0.],\n",
              "       [1., 0., 0., 0., 0., 0., 0., 0., 0., 0., 0., 0., 0.]])"
            ]
          },
          "metadata": {
            "tags": []
          },
          "execution_count": 20
        }
      ]
    },
    {
      "cell_type": "code",
      "metadata": {
        "id": "77ozU1yeHbTL"
      },
      "source": [
        "from tensorflow.keras.models import Model\n",
        "from tensorflow.keras.layers import LSTM, Embedding, Dense, TimeDistributed, Dropout, Bidirectional, Input\n",
        "from tensorflow.keras import Sequential\n",
        "import tensorflow as tf\n",
        "\n"
      ],
      "execution_count": 21,
      "outputs": []
    },
    {
      "cell_type": "code",
      "metadata": {
        "id": "yDI30GnpJEPR"
      },
      "source": [
        "def testit(inputText):\n",
        "  inputarray = lEncoder.transform(word_tokenize(inputText))\n",
        "  pred = model.predict(np.array([inputarray]))[0]\n",
        "  return lEncoder.inverse_transform([pred.argmax()])[0]"
      ],
      "execution_count": 22,
      "outputs": []
    },
    {
      "cell_type": "code",
      "metadata": {
        "id": "0H-XwfDOO3Ta"
      },
      "source": [
        "tf.keras.backend.clear_session()"
      ],
      "execution_count": 75,
      "outputs": []
    },
    {
      "cell_type": "code",
      "metadata": {
        "colab": {
          "base_uri": "https://localhost:8080/"
        },
        "id": "xjeeyHNrIXOa",
        "outputId": "98d9a5c3-6da8-40c3-ed15-91acf73c6909"
      },
      "source": [
        "model = Sequential()\n",
        "\n",
        "model.add(Embedding(10000,32)) # Word embedding layer\n",
        "model.add(LSTM(100))\n",
        "# model.add(Dropout(0.2))\n",
        "# model.add(Dense(200, activation=\"relu\"))\n",
        "# model.add(Dropout(0.2))\n",
        "model.add(Dense(13, activation='softmax'))\n",
        "\n",
        "model.compile(optimizer='adam', loss='categorical_crossentropy', metrics=['accuracy'])\n",
        "\n",
        "model.fit(X, y, epochs=75, batch_size=2, validation_split = 0.3, verbose=1) \n"
      ],
      "execution_count": 76,
      "outputs": [
        {
          "output_type": "stream",
          "text": [
            "Epoch 1/75\n",
            "6/6 [==============================] - 2s 87ms/step - loss: 2.5673 - accuracy: 0.0000e+00 - val_loss: 2.5767 - val_accuracy: 0.0000e+00\n",
            "Epoch 2/75\n",
            "6/6 [==============================] - 0s 9ms/step - loss: 2.5555 - accuracy: 0.2727 - val_loss: 2.5860 - val_accuracy: 0.0000e+00\n",
            "Epoch 3/75\n",
            "6/6 [==============================] - 0s 9ms/step - loss: 2.5473 - accuracy: 0.3636 - val_loss: 2.5958 - val_accuracy: 0.1667\n",
            "Epoch 4/75\n",
            "6/6 [==============================] - 0s 10ms/step - loss: 2.5382 - accuracy: 0.6364 - val_loss: 2.6054 - val_accuracy: 0.1667\n",
            "Epoch 5/75\n",
            "6/6 [==============================] - 0s 9ms/step - loss: 2.5282 - accuracy: 0.7273 - val_loss: 2.6167 - val_accuracy: 0.1667\n",
            "Epoch 6/75\n",
            "6/6 [==============================] - 0s 9ms/step - loss: 2.5157 - accuracy: 0.8182 - val_loss: 2.6288 - val_accuracy: 0.1667\n",
            "Epoch 7/75\n",
            "6/6 [==============================] - 0s 9ms/step - loss: 2.5016 - accuracy: 0.8182 - val_loss: 2.6418 - val_accuracy: 0.0000e+00\n",
            "Epoch 8/75\n",
            "6/6 [==============================] - 0s 9ms/step - loss: 2.4826 - accuracy: 0.8182 - val_loss: 2.6559 - val_accuracy: 0.1667\n",
            "Epoch 9/75\n",
            "6/6 [==============================] - 0s 9ms/step - loss: 2.4589 - accuracy: 0.8182 - val_loss: 2.6719 - val_accuracy: 0.0000e+00\n",
            "Epoch 10/75\n",
            "6/6 [==============================] - 0s 10ms/step - loss: 2.4266 - accuracy: 0.7273 - val_loss: 2.6896 - val_accuracy: 0.0000e+00\n",
            "Epoch 11/75\n",
            "6/6 [==============================] - 0s 9ms/step - loss: 2.3853 - accuracy: 0.6364 - val_loss: 2.7103 - val_accuracy: 0.0000e+00\n",
            "Epoch 12/75\n",
            "6/6 [==============================] - 0s 9ms/step - loss: 2.3296 - accuracy: 0.6364 - val_loss: 2.7323 - val_accuracy: 0.0000e+00\n",
            "Epoch 13/75\n",
            "6/6 [==============================] - 0s 10ms/step - loss: 2.2529 - accuracy: 0.6364 - val_loss: 2.7578 - val_accuracy: 0.1667\n",
            "Epoch 14/75\n",
            "6/6 [==============================] - 0s 9ms/step - loss: 2.1580 - accuracy: 0.6364 - val_loss: 2.7868 - val_accuracy: 0.1667\n",
            "Epoch 15/75\n",
            "6/6 [==============================] - 0s 9ms/step - loss: 2.0367 - accuracy: 0.4545 - val_loss: 2.8216 - val_accuracy: 0.1667\n",
            "Epoch 16/75\n",
            "6/6 [==============================] - 0s 9ms/step - loss: 1.9020 - accuracy: 0.4545 - val_loss: 2.8633 - val_accuracy: 0.1667\n",
            "Epoch 17/75\n",
            "6/6 [==============================] - 0s 10ms/step - loss: 1.7528 - accuracy: 0.4545 - val_loss: 2.9091 - val_accuracy: 0.0000e+00\n",
            "Epoch 18/75\n",
            "6/6 [==============================] - 0s 10ms/step - loss: 1.6144 - accuracy: 0.5455 - val_loss: 2.9576 - val_accuracy: 0.0000e+00\n",
            "Epoch 19/75\n",
            "6/6 [==============================] - 0s 9ms/step - loss: 1.4866 - accuracy: 0.5455 - val_loss: 3.0091 - val_accuracy: 0.0000e+00\n",
            "Epoch 20/75\n",
            "6/6 [==============================] - 0s 9ms/step - loss: 1.3508 - accuracy: 0.6364 - val_loss: 3.0629 - val_accuracy: 0.0000e+00\n",
            "Epoch 21/75\n",
            "6/6 [==============================] - 0s 9ms/step - loss: 1.2400 - accuracy: 0.6364 - val_loss: 3.1207 - val_accuracy: 0.0000e+00\n",
            "Epoch 22/75\n",
            "6/6 [==============================] - 0s 9ms/step - loss: 1.1212 - accuracy: 0.9091 - val_loss: 3.1965 - val_accuracy: 0.0000e+00\n",
            "Epoch 23/75\n",
            "6/6 [==============================] - 0s 9ms/step - loss: 0.9814 - accuracy: 0.9091 - val_loss: 3.2750 - val_accuracy: 0.0000e+00\n",
            "Epoch 24/75\n",
            "6/6 [==============================] - 0s 9ms/step - loss: 0.8689 - accuracy: 1.0000 - val_loss: 3.3846 - val_accuracy: 0.0000e+00\n",
            "Epoch 25/75\n",
            "6/6 [==============================] - 0s 9ms/step - loss: 0.7454 - accuracy: 1.0000 - val_loss: 3.4914 - val_accuracy: 0.0000e+00\n",
            "Epoch 26/75\n",
            "6/6 [==============================] - 0s 9ms/step - loss: 0.6386 - accuracy: 1.0000 - val_loss: 3.6088 - val_accuracy: 0.0000e+00\n",
            "Epoch 27/75\n",
            "6/6 [==============================] - 0s 10ms/step - loss: 0.5580 - accuracy: 1.0000 - val_loss: 3.7510 - val_accuracy: 0.0000e+00\n",
            "Epoch 28/75\n",
            "6/6 [==============================] - 0s 9ms/step - loss: 0.4796 - accuracy: 1.0000 - val_loss: 3.9085 - val_accuracy: 0.0000e+00\n",
            "Epoch 29/75\n",
            "6/6 [==============================] - 0s 9ms/step - loss: 0.4095 - accuracy: 1.0000 - val_loss: 4.0506 - val_accuracy: 0.0000e+00\n",
            "Epoch 30/75\n",
            "6/6 [==============================] - 0s 10ms/step - loss: 0.3422 - accuracy: 1.0000 - val_loss: 4.1704 - val_accuracy: 0.0000e+00\n",
            "Epoch 31/75\n",
            "6/6 [==============================] - 0s 9ms/step - loss: 0.3031 - accuracy: 1.0000 - val_loss: 4.2630 - val_accuracy: 0.0000e+00\n",
            "Epoch 32/75\n",
            "6/6 [==============================] - 0s 9ms/step - loss: 0.2547 - accuracy: 1.0000 - val_loss: 4.3643 - val_accuracy: 0.0000e+00\n",
            "Epoch 33/75\n",
            "6/6 [==============================] - 0s 9ms/step - loss: 0.2228 - accuracy: 1.0000 - val_loss: 4.4597 - val_accuracy: 0.0000e+00\n",
            "Epoch 34/75\n",
            "6/6 [==============================] - 0s 9ms/step - loss: 0.1984 - accuracy: 1.0000 - val_loss: 4.5532 - val_accuracy: 0.0000e+00\n",
            "Epoch 35/75\n",
            "6/6 [==============================] - 0s 9ms/step - loss: 0.1765 - accuracy: 1.0000 - val_loss: 4.6387 - val_accuracy: 0.0000e+00\n",
            "Epoch 36/75\n",
            "6/6 [==============================] - 0s 9ms/step - loss: 0.1574 - accuracy: 1.0000 - val_loss: 4.7226 - val_accuracy: 0.0000e+00\n",
            "Epoch 37/75\n",
            "6/6 [==============================] - 0s 9ms/step - loss: 0.1407 - accuracy: 1.0000 - val_loss: 4.7904 - val_accuracy: 0.0000e+00\n",
            "Epoch 38/75\n",
            "6/6 [==============================] - 0s 9ms/step - loss: 0.1280 - accuracy: 1.0000 - val_loss: 4.8450 - val_accuracy: 0.0000e+00\n",
            "Epoch 39/75\n",
            "6/6 [==============================] - 0s 9ms/step - loss: 0.1185 - accuracy: 1.0000 - val_loss: 4.8941 - val_accuracy: 0.0000e+00\n",
            "Epoch 40/75\n",
            "6/6 [==============================] - 0s 9ms/step - loss: 0.1043 - accuracy: 1.0000 - val_loss: 4.9423 - val_accuracy: 0.0000e+00\n",
            "Epoch 41/75\n",
            "6/6 [==============================] - 0s 9ms/step - loss: 0.0950 - accuracy: 1.0000 - val_loss: 4.9831 - val_accuracy: 0.0000e+00\n",
            "Epoch 42/75\n",
            "6/6 [==============================] - 0s 9ms/step - loss: 0.0905 - accuracy: 1.0000 - val_loss: 5.0194 - val_accuracy: 0.0000e+00\n",
            "Epoch 43/75\n",
            "6/6 [==============================] - 0s 9ms/step - loss: 0.0829 - accuracy: 1.0000 - val_loss: 5.0549 - val_accuracy: 0.0000e+00\n",
            "Epoch 44/75\n",
            "6/6 [==============================] - 0s 9ms/step - loss: 0.0754 - accuracy: 1.0000 - val_loss: 5.0864 - val_accuracy: 0.0000e+00\n",
            "Epoch 45/75\n",
            "6/6 [==============================] - 0s 11ms/step - loss: 0.0690 - accuracy: 1.0000 - val_loss: 5.1256 - val_accuracy: 0.0000e+00\n",
            "Epoch 46/75\n",
            "6/6 [==============================] - 0s 9ms/step - loss: 0.0646 - accuracy: 1.0000 - val_loss: 5.1562 - val_accuracy: 0.0000e+00\n",
            "Epoch 47/75\n",
            "6/6 [==============================] - 0s 9ms/step - loss: 0.0600 - accuracy: 1.0000 - val_loss: 5.1891 - val_accuracy: 0.0000e+00\n",
            "Epoch 48/75\n",
            "6/6 [==============================] - 0s 9ms/step - loss: 0.0564 - accuracy: 1.0000 - val_loss: 5.2271 - val_accuracy: 0.0000e+00\n",
            "Epoch 49/75\n",
            "6/6 [==============================] - 0s 11ms/step - loss: 0.0524 - accuracy: 1.0000 - val_loss: 5.2602 - val_accuracy: 0.0000e+00\n",
            "Epoch 50/75\n",
            "6/6 [==============================] - 0s 9ms/step - loss: 0.0493 - accuracy: 1.0000 - val_loss: 5.2898 - val_accuracy: 0.0000e+00\n",
            "Epoch 51/75\n",
            "6/6 [==============================] - 0s 9ms/step - loss: 0.0464 - accuracy: 1.0000 - val_loss: 5.3176 - val_accuracy: 0.0000e+00\n",
            "Epoch 52/75\n",
            "6/6 [==============================] - 0s 9ms/step - loss: 0.0442 - accuracy: 1.0000 - val_loss: 5.3458 - val_accuracy: 0.0000e+00\n",
            "Epoch 53/75\n",
            "6/6 [==============================] - 0s 9ms/step - loss: 0.0416 - accuracy: 1.0000 - val_loss: 5.3714 - val_accuracy: 0.0000e+00\n",
            "Epoch 54/75\n",
            "6/6 [==============================] - 0s 9ms/step - loss: 0.0391 - accuracy: 1.0000 - val_loss: 5.3986 - val_accuracy: 0.0000e+00\n",
            "Epoch 55/75\n",
            "6/6 [==============================] - 0s 9ms/step - loss: 0.0372 - accuracy: 1.0000 - val_loss: 5.4213 - val_accuracy: 0.0000e+00\n",
            "Epoch 56/75\n",
            "6/6 [==============================] - 0s 9ms/step - loss: 0.0350 - accuracy: 1.0000 - val_loss: 5.4457 - val_accuracy: 0.0000e+00\n",
            "Epoch 57/75\n",
            "6/6 [==============================] - 0s 9ms/step - loss: 0.0335 - accuracy: 1.0000 - val_loss: 5.4767 - val_accuracy: 0.0000e+00\n",
            "Epoch 58/75\n",
            "6/6 [==============================] - 0s 9ms/step - loss: 0.0317 - accuracy: 1.0000 - val_loss: 5.5041 - val_accuracy: 0.0000e+00\n",
            "Epoch 59/75\n",
            "6/6 [==============================] - 0s 10ms/step - loss: 0.0303 - accuracy: 1.0000 - val_loss: 5.5255 - val_accuracy: 0.0000e+00\n",
            "Epoch 60/75\n",
            "6/6 [==============================] - 0s 9ms/step - loss: 0.0287 - accuracy: 1.0000 - val_loss: 5.5474 - val_accuracy: 0.0000e+00\n",
            "Epoch 61/75\n",
            "6/6 [==============================] - 0s 9ms/step - loss: 0.0275 - accuracy: 1.0000 - val_loss: 5.5669 - val_accuracy: 0.0000e+00\n",
            "Epoch 62/75\n",
            "6/6 [==============================] - 0s 9ms/step - loss: 0.0264 - accuracy: 1.0000 - val_loss: 5.5877 - val_accuracy: 0.0000e+00\n",
            "Epoch 63/75\n",
            "6/6 [==============================] - 0s 10ms/step - loss: 0.0253 - accuracy: 1.0000 - val_loss: 5.6090 - val_accuracy: 0.0000e+00\n",
            "Epoch 64/75\n",
            "6/6 [==============================] - 0s 9ms/step - loss: 0.0243 - accuracy: 1.0000 - val_loss: 5.6270 - val_accuracy: 0.0000e+00\n",
            "Epoch 65/75\n",
            "6/6 [==============================] - 0s 9ms/step - loss: 0.0233 - accuracy: 1.0000 - val_loss: 5.6473 - val_accuracy: 0.0000e+00\n",
            "Epoch 66/75\n",
            "6/6 [==============================] - 0s 9ms/step - loss: 0.0224 - accuracy: 1.0000 - val_loss: 5.6656 - val_accuracy: 0.0000e+00\n",
            "Epoch 67/75\n",
            "6/6 [==============================] - 0s 9ms/step - loss: 0.0215 - accuracy: 1.0000 - val_loss: 5.6836 - val_accuracy: 0.0000e+00\n",
            "Epoch 68/75\n",
            "6/6 [==============================] - 0s 11ms/step - loss: 0.0207 - accuracy: 1.0000 - val_loss: 5.7014 - val_accuracy: 0.0000e+00\n",
            "Epoch 69/75\n",
            "6/6 [==============================] - 0s 9ms/step - loss: 0.0199 - accuracy: 1.0000 - val_loss: 5.7178 - val_accuracy: 0.0000e+00\n",
            "Epoch 70/75\n",
            "6/6 [==============================] - 0s 9ms/step - loss: 0.0192 - accuracy: 1.0000 - val_loss: 5.7314 - val_accuracy: 0.0000e+00\n",
            "Epoch 71/75\n",
            "6/6 [==============================] - 0s 9ms/step - loss: 0.0185 - accuracy: 1.0000 - val_loss: 5.7507 - val_accuracy: 0.0000e+00\n",
            "Epoch 72/75\n",
            "6/6 [==============================] - 0s 9ms/step - loss: 0.0180 - accuracy: 1.0000 - val_loss: 5.7665 - val_accuracy: 0.0000e+00\n",
            "Epoch 73/75\n",
            "6/6 [==============================] - 0s 9ms/step - loss: 0.0173 - accuracy: 1.0000 - val_loss: 5.7808 - val_accuracy: 0.0000e+00\n",
            "Epoch 74/75\n",
            "6/6 [==============================] - 0s 10ms/step - loss: 0.0167 - accuracy: 1.0000 - val_loss: 5.7944 - val_accuracy: 0.0000e+00\n",
            "Epoch 75/75\n",
            "6/6 [==============================] - 0s 9ms/step - loss: 0.0162 - accuracy: 1.0000 - val_loss: 5.8081 - val_accuracy: 0.0000e+00\n"
          ],
          "name": "stdout"
        },
        {
          "output_type": "execute_result",
          "data": {
            "text/plain": [
              "<tensorflow.python.keras.callbacks.History at 0x7f4f414a7290>"
            ]
          },
          "metadata": {
            "tags": []
          },
          "execution_count": 76
        }
      ]
    },
    {
      "cell_type": "code",
      "metadata": {
        "colab": {
          "base_uri": "https://localhost:8080/",
          "height": 35
        },
        "id": "qYIjkJSwQgyr",
        "outputId": "f8d0fe9b-d04a-48ce-c999-eb2e0869c097"
      },
      "source": [
        "testit('i live in')"
      ],
      "execution_count": 77,
      "outputs": [
        {
          "output_type": "execute_result",
          "data": {
            "application/vnd.google.colaboratory.intrinsic+json": {
              "type": "string"
            },
            "text/plain": [
              "'coimbatore'"
            ]
          },
          "metadata": {
            "tags": []
          },
          "execution_count": 77
        }
      ]
    },
    {
      "cell_type": "code",
      "metadata": {
        "colab": {
          "base_uri": "https://localhost:8080/",
          "height": 35
        },
        "id": "qsw2dnQ-Z3aG",
        "outputId": "d531e2f1-7d68-4026-f1f1-821e97f68a18"
      },
      "source": [
        "testit('my name is')"
      ],
      "execution_count": 78,
      "outputs": [
        {
          "output_type": "execute_result",
          "data": {
            "application/vnd.google.colaboratory.intrinsic+json": {
              "type": "string"
            },
            "text/plain": [
              "'name'"
            ]
          },
          "metadata": {
            "tags": []
          },
          "execution_count": 78
        }
      ]
    },
    {
      "cell_type": "code",
      "metadata": {
        "colab": {
          "base_uri": "https://localhost:8080/",
          "height": 35
        },
        "id": "5FjG_sWpbnRy",
        "outputId": "be3d3fc1-097f-4e07-b36f-22297c466f6b"
      },
      "source": [
        "testit('my favourite food')"
      ],
      "execution_count": 79,
      "outputs": [
        {
          "output_type": "execute_result",
          "data": {
            "application/vnd.google.colaboratory.intrinsic+json": {
              "type": "string"
            },
            "text/plain": [
              "'is'"
            ]
          },
          "metadata": {
            "tags": []
          },
          "execution_count": 79
        }
      ]
    },
    {
      "cell_type": "code",
      "metadata": {
        "colab": {
          "base_uri": "https://localhost:8080/",
          "height": 35
        },
        "id": "FOKFllESb2cK",
        "outputId": "e3ef1bef-ef2a-4240-a3f3-5e0a2e8fcf72"
      },
      "source": [
        "testit('i live in')"
      ],
      "execution_count": 80,
      "outputs": [
        {
          "output_type": "execute_result",
          "data": {
            "application/vnd.google.colaboratory.intrinsic+json": {
              "type": "string"
            },
            "text/plain": [
              "'coimbatore'"
            ]
          },
          "metadata": {
            "tags": []
          },
          "execution_count": 80
        }
      ]
    },
    {
      "cell_type": "code",
      "metadata": {
        "colab": {
          "base_uri": "https://localhost:8080/",
          "height": 35
        },
        "id": "11o5SoCbCtDy",
        "outputId": "d32c61d5-c110-46fa-cbdf-d4edf77b08b4"
      },
      "source": [
        "testit('favourite food is')"
      ],
      "execution_count": 81,
      "outputs": [
        {
          "output_type": "execute_result",
          "data": {
            "application/vnd.google.colaboratory.intrinsic+json": {
              "type": "string"
            },
            "text/plain": [
              "'biryani'"
            ]
          },
          "metadata": {
            "tags": []
          },
          "execution_count": 81
        }
      ]
    },
    {
      "cell_type": "code",
      "metadata": {
        "id": "ARu65C6nFi0D"
      },
      "source": [
        ""
      ],
      "execution_count": null,
      "outputs": []
    }
  ]
}