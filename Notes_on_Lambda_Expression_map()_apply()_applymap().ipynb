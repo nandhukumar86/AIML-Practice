{
  "nbformat": 4,
  "nbformat_minor": 0,
  "metadata": {
    "colab": {
      "name": "Notes on Lambda Expression - map() apply() applymap().ipynb",
      "provenance": [],
      "collapsed_sections": [],
      "authorship_tag": "ABX9TyN9JgJiAqG9Zk+aOP7fr0c8",
      "include_colab_link": true
    },
    "kernelspec": {
      "name": "python3",
      "display_name": "Python 3"
    }
  },
  "cells": [
    {
      "cell_type": "markdown",
      "metadata": {
        "id": "view-in-github",
        "colab_type": "text"
      },
      "source": [
        "<a href=\"https://colab.research.google.com/github/nandhukumar86/AIML-Practice/blob/master/Notes_on_Lambda_Expression_map()_apply()_applymap().ipynb\" target=\"_parent\"><img src=\"https://colab.research.google.com/assets/colab-badge.svg\" alt=\"Open In Colab\"/></a>"
      ]
    },
    {
      "cell_type": "code",
      "metadata": {
        "id": "3A3eRVuN35Gl"
      },
      "source": [
        "import numpy as np\n",
        "import pandas as pd"
      ],
      "execution_count": 24,
      "outputs": []
    },
    {
      "cell_type": "markdown",
      "metadata": {
        "id": "kZS5TSQZ4QHX"
      },
      "source": [
        "## Lambda expression"
      ]
    },
    {
      "cell_type": "markdown",
      "metadata": {
        "id": "NO1Iia1n4UU4"
      },
      "source": [
        "Lambda are Short form of functions.\n",
        "\n",
        "Without function name, it has input and return values."
      ]
    },
    {
      "cell_type": "code",
      "metadata": {
        "id": "wUQ32M3H37aN"
      },
      "source": [
        "multi = lambda x, y : x * y"
      ],
      "execution_count": 5,
      "outputs": []
    },
    {
      "cell_type": "markdown",
      "metadata": {
        "id": "E48E_rjO4uUH"
      },
      "source": [
        "The above lambda expression will take \n",
        "\n",
        "Inputs: x, y \n",
        "\n",
        "Outputs/ returns: x * y\n",
        "\n",
        "On calling the lambda expression will return the output."
      ]
    },
    {
      "cell_type": "code",
      "metadata": {
        "id": "Sg9t-oEE4ImI",
        "outputId": "4dd62d87-7cc7-47be-b064-1fbdc08a35c7",
        "colab": {
          "base_uri": "https://localhost:8080/"
        }
      },
      "source": [
        "multi(5,6)"
      ],
      "execution_count": 6,
      "outputs": [
        {
          "output_type": "execute_result",
          "data": {
            "text/plain": [
              "30"
            ]
          },
          "metadata": {
            "tags": []
          },
          "execution_count": 6
        }
      ]
    },
    {
      "cell_type": "markdown",
      "metadata": {
        "id": "Xo7MBdWD5aFf"
      },
      "source": [
        "## Usage of map(), apply(), applymap()"
      ]
    },
    {
      "cell_type": "markdown",
      "metadata": {
        "id": "ip-YeL95527X"
      },
      "source": [
        "#### Map()"
      ]
    },
    {
      "cell_type": "markdown",
      "metadata": {
        "id": "3mfuC41p56tH"
      },
      "source": [
        "Map() works **only** on Series."
      ]
    },
    {
      "cell_type": "code",
      "metadata": {
        "id": "-JFKxRyW5JrZ",
        "outputId": "ae8bdb6e-0ff0-457b-b3fb-6ce6de1f6c3b",
        "colab": {
          "base_uri": "https://localhost:8080/",
          "height": 204
        }
      },
      "source": [
        "from sklearn.datasets import load_iris\n",
        "data = load_iris()\n",
        "features = pd.DataFrame(data = data['data'], columns= data ['feature_names'])\n",
        "features.head() #glance at the data "
      ],
      "execution_count": 7,
      "outputs": [
        {
          "output_type": "execute_result",
          "data": {
            "text/html": [
              "<div>\n",
              "<style scoped>\n",
              "    .dataframe tbody tr th:only-of-type {\n",
              "        vertical-align: middle;\n",
              "    }\n",
              "\n",
              "    .dataframe tbody tr th {\n",
              "        vertical-align: top;\n",
              "    }\n",
              "\n",
              "    .dataframe thead th {\n",
              "        text-align: right;\n",
              "    }\n",
              "</style>\n",
              "<table border=\"1\" class=\"dataframe\">\n",
              "  <thead>\n",
              "    <tr style=\"text-align: right;\">\n",
              "      <th></th>\n",
              "      <th>sepal length (cm)</th>\n",
              "      <th>sepal width (cm)</th>\n",
              "      <th>petal length (cm)</th>\n",
              "      <th>petal width (cm)</th>\n",
              "    </tr>\n",
              "  </thead>\n",
              "  <tbody>\n",
              "    <tr>\n",
              "      <th>0</th>\n",
              "      <td>5.1</td>\n",
              "      <td>3.5</td>\n",
              "      <td>1.4</td>\n",
              "      <td>0.2</td>\n",
              "    </tr>\n",
              "    <tr>\n",
              "      <th>1</th>\n",
              "      <td>4.9</td>\n",
              "      <td>3.0</td>\n",
              "      <td>1.4</td>\n",
              "      <td>0.2</td>\n",
              "    </tr>\n",
              "    <tr>\n",
              "      <th>2</th>\n",
              "      <td>4.7</td>\n",
              "      <td>3.2</td>\n",
              "      <td>1.3</td>\n",
              "      <td>0.2</td>\n",
              "    </tr>\n",
              "    <tr>\n",
              "      <th>3</th>\n",
              "      <td>4.6</td>\n",
              "      <td>3.1</td>\n",
              "      <td>1.5</td>\n",
              "      <td>0.2</td>\n",
              "    </tr>\n",
              "    <tr>\n",
              "      <th>4</th>\n",
              "      <td>5.0</td>\n",
              "      <td>3.6</td>\n",
              "      <td>1.4</td>\n",
              "      <td>0.2</td>\n",
              "    </tr>\n",
              "  </tbody>\n",
              "</table>\n",
              "</div>"
            ],
            "text/plain": [
              "   sepal length (cm)  sepal width (cm)  petal length (cm)  petal width (cm)\n",
              "0                5.1               3.5                1.4               0.2\n",
              "1                4.9               3.0                1.4               0.2\n",
              "2                4.7               3.2                1.3               0.2\n",
              "3                4.6               3.1                1.5               0.2\n",
              "4                5.0               3.6                1.4               0.2"
            ]
          },
          "metadata": {
            "tags": []
          },
          "execution_count": 7
        }
      ]
    },
    {
      "cell_type": "markdown",
      "metadata": {
        "id": "_kQbhSp86a0X"
      },
      "source": [
        "Pick one series from the above dataset. Use Map() method. When you take a Dataframe or more than one Series. Map() will give you Error."
      ]
    },
    {
      "cell_type": "markdown",
      "metadata": {
        "id": "ygVGmrP_64YP"
      },
      "source": [
        "Let us pick one Series and try to map a function. Before that we will create a lambda expression that converts cm to mm."
      ]
    },
    {
      "cell_type": "code",
      "metadata": {
        "id": "iGotJSjH8C30"
      },
      "source": [
        "cm_to_mm = lambda x : x * 10"
      ],
      "execution_count": 9,
      "outputs": []
    },
    {
      "cell_type": "code",
      "metadata": {
        "id": "cUKWxkTn6ScJ",
        "outputId": "1f9fee41-a5cf-4cad-9d24-0e7462c5436f",
        "colab": {
          "base_uri": "https://localhost:8080/"
        }
      },
      "source": [
        "features['sepal length (cm)'].map(cm_to_mm).head()"
      ],
      "execution_count": 12,
      "outputs": [
        {
          "output_type": "execute_result",
          "data": {
            "text/plain": [
              "0    51.0\n",
              "1    49.0\n",
              "2    47.0\n",
              "3    46.0\n",
              "4    50.0\n",
              "Name: sepal length (cm), dtype: float64"
            ]
          },
          "metadata": {
            "tags": []
          },
          "execution_count": 12
        }
      ]
    },
    {
      "cell_type": "markdown",
      "metadata": {
        "id": "j8zkGtuS7ZeY"
      },
      "source": [
        "### Apply()"
      ]
    },
    {
      "cell_type": "markdown",
      "metadata": {
        "id": "cjBxHX_T7bZQ"
      },
      "source": [
        "Apply() works on both Series and DataFrames"
      ]
    },
    {
      "cell_type": "code",
      "metadata": {
        "id": "mXxlonsf6zq5",
        "outputId": "468eaeda-2c61-4ee9-f46f-7f9e6baca3f1",
        "colab": {
          "base_uri": "https://localhost:8080/",
          "height": 204
        }
      },
      "source": [
        "features[['sepal length (cm)',\"sepal width (cm)\"]].apply(cm_to_mm).head()"
      ],
      "execution_count": 13,
      "outputs": [
        {
          "output_type": "execute_result",
          "data": {
            "text/html": [
              "<div>\n",
              "<style scoped>\n",
              "    .dataframe tbody tr th:only-of-type {\n",
              "        vertical-align: middle;\n",
              "    }\n",
              "\n",
              "    .dataframe tbody tr th {\n",
              "        vertical-align: top;\n",
              "    }\n",
              "\n",
              "    .dataframe thead th {\n",
              "        text-align: right;\n",
              "    }\n",
              "</style>\n",
              "<table border=\"1\" class=\"dataframe\">\n",
              "  <thead>\n",
              "    <tr style=\"text-align: right;\">\n",
              "      <th></th>\n",
              "      <th>sepal length (cm)</th>\n",
              "      <th>sepal width (cm)</th>\n",
              "    </tr>\n",
              "  </thead>\n",
              "  <tbody>\n",
              "    <tr>\n",
              "      <th>0</th>\n",
              "      <td>51.0</td>\n",
              "      <td>35.0</td>\n",
              "    </tr>\n",
              "    <tr>\n",
              "      <th>1</th>\n",
              "      <td>49.0</td>\n",
              "      <td>30.0</td>\n",
              "    </tr>\n",
              "    <tr>\n",
              "      <th>2</th>\n",
              "      <td>47.0</td>\n",
              "      <td>32.0</td>\n",
              "    </tr>\n",
              "    <tr>\n",
              "      <th>3</th>\n",
              "      <td>46.0</td>\n",
              "      <td>31.0</td>\n",
              "    </tr>\n",
              "    <tr>\n",
              "      <th>4</th>\n",
              "      <td>50.0</td>\n",
              "      <td>36.0</td>\n",
              "    </tr>\n",
              "  </tbody>\n",
              "</table>\n",
              "</div>"
            ],
            "text/plain": [
              "   sepal length (cm)  sepal width (cm)\n",
              "0               51.0              35.0\n",
              "1               49.0              30.0\n",
              "2               47.0              32.0\n",
              "3               46.0              31.0\n",
              "4               50.0              36.0"
            ]
          },
          "metadata": {
            "tags": []
          },
          "execution_count": 13
        }
      ]
    },
    {
      "cell_type": "code",
      "metadata": {
        "id": "yvAhzdJ68MDt",
        "outputId": "f1d7c766-1d04-4a02-919d-b760c1ecd006",
        "colab": {
          "base_uri": "https://localhost:8080/"
        }
      },
      "source": [
        "features['sepal length (cm)'].apply(cm_to_mm).head()"
      ],
      "execution_count": 21,
      "outputs": [
        {
          "output_type": "execute_result",
          "data": {
            "text/plain": [
              "0    51.0\n",
              "1    49.0\n",
              "2    47.0\n",
              "3    46.0\n",
              "4    50.0\n",
              "Name: sepal length (cm), dtype: float64"
            ]
          },
          "metadata": {
            "tags": []
          },
          "execution_count": 21
        }
      ]
    },
    {
      "cell_type": "markdown",
      "metadata": {
        "id": "ZpowqLwL8azw"
      },
      "source": [
        "**Note**: Check the return types. Map() return as Series, where as Apply() returns a DataFrame."
      ]
    },
    {
      "cell_type": "markdown",
      "metadata": {
        "id": "SZAAf5EY9JJY"
      },
      "source": [
        "## ApplyMap()"
      ]
    },
    {
      "cell_type": "markdown",
      "metadata": {
        "id": "-RDMko3-9MmY"
      },
      "source": [
        "ApplyMap() works only on DataFrame, not on Series."
      ]
    },
    {
      "cell_type": "markdown",
      "metadata": {
        "id": "Ljo1oqbp9XsB"
      },
      "source": [
        "But this can be applied to the entire DataFrame."
      ]
    },
    {
      "cell_type": "code",
      "metadata": {
        "id": "pHDtQEDq8XF5",
        "outputId": "551bc354-56f9-473a-f5ce-3c122d537e83",
        "colab": {
          "base_uri": "https://localhost:8080/",
          "height": 204
        }
      },
      "source": [
        "features[['sepal length (cm)']].applymap(cm_to_mm).head()"
      ],
      "execution_count": 23,
      "outputs": [
        {
          "output_type": "execute_result",
          "data": {
            "text/html": [
              "<div>\n",
              "<style scoped>\n",
              "    .dataframe tbody tr th:only-of-type {\n",
              "        vertical-align: middle;\n",
              "    }\n",
              "\n",
              "    .dataframe tbody tr th {\n",
              "        vertical-align: top;\n",
              "    }\n",
              "\n",
              "    .dataframe thead th {\n",
              "        text-align: right;\n",
              "    }\n",
              "</style>\n",
              "<table border=\"1\" class=\"dataframe\">\n",
              "  <thead>\n",
              "    <tr style=\"text-align: right;\">\n",
              "      <th></th>\n",
              "      <th>sepal length (cm)</th>\n",
              "    </tr>\n",
              "  </thead>\n",
              "  <tbody>\n",
              "    <tr>\n",
              "      <th>0</th>\n",
              "      <td>51.0</td>\n",
              "    </tr>\n",
              "    <tr>\n",
              "      <th>1</th>\n",
              "      <td>49.0</td>\n",
              "    </tr>\n",
              "    <tr>\n",
              "      <th>2</th>\n",
              "      <td>47.0</td>\n",
              "    </tr>\n",
              "    <tr>\n",
              "      <th>3</th>\n",
              "      <td>46.0</td>\n",
              "    </tr>\n",
              "    <tr>\n",
              "      <th>4</th>\n",
              "      <td>50.0</td>\n",
              "    </tr>\n",
              "  </tbody>\n",
              "</table>\n",
              "</div>"
            ],
            "text/plain": [
              "   sepal length (cm)\n",
              "0               51.0\n",
              "1               49.0\n",
              "2               47.0\n",
              "3               46.0\n",
              "4               50.0"
            ]
          },
          "metadata": {
            "tags": []
          },
          "execution_count": 23
        }
      ]
    },
    {
      "cell_type": "markdown",
      "metadata": {
        "id": "ciyF6NNZ--7U"
      },
      "source": [
        "**Note**: [[ 'one col' ]] will be treated as DataFrame, not Series because of double square brackets. "
      ]
    },
    {
      "cell_type": "code",
      "metadata": {
        "id": "3zCREgQo9y_a"
      },
      "source": [
        ""
      ],
      "execution_count": null,
      "outputs": []
    }
  ]
}