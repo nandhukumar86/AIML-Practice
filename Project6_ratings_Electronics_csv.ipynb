{
  "nbformat": 4,
  "nbformat_minor": 0,
  "metadata": {
    "kernelspec": {
      "display_name": "Python 3",
      "language": "python",
      "name": "python3"
    },
    "language_info": {
      "codemirror_mode": {
        "name": "ipython",
        "version": 3
      },
      "file_extension": ".py",
      "mimetype": "text/x-python",
      "name": "python",
      "nbconvert_exporter": "python",
      "pygments_lexer": "ipython3",
      "version": "3.7.6"
    },
    "colab": {
      "name": "Project6_ratings_Electronics_csv.ipynb",
      "provenance": [],
      "include_colab_link": true
    }
  },
  "cells": [
    {
      "cell_type": "markdown",
      "metadata": {
        "id": "view-in-github",
        "colab_type": "text"
      },
      "source": [
        "<a href=\"https://colab.research.google.com/github/nandhukumar86/AIML-Practice/blob/master/Project6_ratings_Electronics_csv.ipynb\" target=\"_parent\"><img src=\"https://colab.research.google.com/assets/colab-badge.svg\" alt=\"Open In Colab\"/></a>"
      ]
    },
    {
      "cell_type": "markdown",
      "metadata": {
        "id": "_S9_Yuho3CGu"
      },
      "source": [
        "### Basic Imports"
      ]
    },
    {
      "cell_type": "code",
      "metadata": {
        "id": "vOLvNFAQ3CGx"
      },
      "source": [
        "import pandas as pd\n",
        "import numpy as np"
      ],
      "execution_count": 2,
      "outputs": []
    },
    {
      "cell_type": "code",
      "metadata": {
        "colab": {
          "base_uri": "https://localhost:8080/"
        },
        "id": "jcdEu6JD3W-P",
        "outputId": "65724932-1909-4e39-a8c9-868efea160f8"
      },
      "source": [
        "from google.colab import drive\r\n",
        "drive.mount('/content/drive')"
      ],
      "execution_count": 5,
      "outputs": [
        {
          "output_type": "stream",
          "text": [
            "Mounted at /content/drive\n"
          ],
          "name": "stdout"
        }
      ]
    },
    {
      "cell_type": "markdown",
      "metadata": {
        "id": "3kikV7Ri3CGz"
      },
      "source": [
        "# 1. Read and explore the given dataset."
      ]
    },
    {
      "cell_type": "code",
      "metadata": {
        "id": "60ggcRTX3CGz"
      },
      "source": [
        "df = pd.read_csv('/content/drive/MyDrive/Colab Notebooks/ratings_Electronics.csv', names=['UserId','ProductId','Ratings','Timestamp'])"
      ],
      "execution_count": 6,
      "outputs": []
    },
    {
      "cell_type": "code",
      "metadata": {
        "colab": {
          "base_uri": "https://localhost:8080/",
          "height": 204
        },
        "id": "T_eHOOBm3CG0",
        "outputId": "193cefb3-2b3e-445d-a73e-28354ff89bcb"
      },
      "source": [
        "df.head()"
      ],
      "execution_count": 7,
      "outputs": [
        {
          "output_type": "execute_result",
          "data": {
            "text/html": [
              "<div>\n",
              "<style scoped>\n",
              "    .dataframe tbody tr th:only-of-type {\n",
              "        vertical-align: middle;\n",
              "    }\n",
              "\n",
              "    .dataframe tbody tr th {\n",
              "        vertical-align: top;\n",
              "    }\n",
              "\n",
              "    .dataframe thead th {\n",
              "        text-align: right;\n",
              "    }\n",
              "</style>\n",
              "<table border=\"1\" class=\"dataframe\">\n",
              "  <thead>\n",
              "    <tr style=\"text-align: right;\">\n",
              "      <th></th>\n",
              "      <th>UserId</th>\n",
              "      <th>ProductId</th>\n",
              "      <th>Ratings</th>\n",
              "      <th>Timestamp</th>\n",
              "    </tr>\n",
              "  </thead>\n",
              "  <tbody>\n",
              "    <tr>\n",
              "      <th>0</th>\n",
              "      <td>AKM1MP6P0OYPR</td>\n",
              "      <td>0132793040</td>\n",
              "      <td>5.0</td>\n",
              "      <td>1365811200</td>\n",
              "    </tr>\n",
              "    <tr>\n",
              "      <th>1</th>\n",
              "      <td>A2CX7LUOHB2NDG</td>\n",
              "      <td>0321732944</td>\n",
              "      <td>5.0</td>\n",
              "      <td>1341100800</td>\n",
              "    </tr>\n",
              "    <tr>\n",
              "      <th>2</th>\n",
              "      <td>A2NWSAGRHCP8N5</td>\n",
              "      <td>0439886341</td>\n",
              "      <td>1.0</td>\n",
              "      <td>1367193600</td>\n",
              "    </tr>\n",
              "    <tr>\n",
              "      <th>3</th>\n",
              "      <td>A2WNBOD3WNDNKT</td>\n",
              "      <td>0439886341</td>\n",
              "      <td>3.0</td>\n",
              "      <td>1374451200</td>\n",
              "    </tr>\n",
              "    <tr>\n",
              "      <th>4</th>\n",
              "      <td>A1GI0U4ZRJA8WN</td>\n",
              "      <td>0439886341</td>\n",
              "      <td>1.0</td>\n",
              "      <td>1334707200</td>\n",
              "    </tr>\n",
              "  </tbody>\n",
              "</table>\n",
              "</div>"
            ],
            "text/plain": [
              "           UserId   ProductId  Ratings   Timestamp\n",
              "0   AKM1MP6P0OYPR  0132793040      5.0  1365811200\n",
              "1  A2CX7LUOHB2NDG  0321732944      5.0  1341100800\n",
              "2  A2NWSAGRHCP8N5  0439886341      1.0  1367193600\n",
              "3  A2WNBOD3WNDNKT  0439886341      3.0  1374451200\n",
              "4  A1GI0U4ZRJA8WN  0439886341      1.0  1334707200"
            ]
          },
          "metadata": {
            "tags": []
          },
          "execution_count": 7
        }
      ]
    },
    {
      "cell_type": "code",
      "metadata": {
        "colab": {
          "base_uri": "https://localhost:8080/"
        },
        "id": "Sd3n7e6v3CG1",
        "outputId": "060c0ced-dff8-48b4-ceed-424fe9c808c5"
      },
      "source": [
        "df.shape"
      ],
      "execution_count": 8,
      "outputs": [
        {
          "output_type": "execute_result",
          "data": {
            "text/plain": [
              "(7824482, 4)"
            ]
          },
          "metadata": {
            "tags": []
          },
          "execution_count": 8
        }
      ]
    },
    {
      "cell_type": "code",
      "metadata": {
        "colab": {
          "base_uri": "https://localhost:8080/"
        },
        "id": "TwZcEoGe3CG3",
        "outputId": "aa13eac5-3d89-4b02-852b-00a5a5ccfb11"
      },
      "source": [
        "df.dtypes"
      ],
      "execution_count": 9,
      "outputs": [
        {
          "output_type": "execute_result",
          "data": {
            "text/plain": [
              "UserId        object\n",
              "ProductId     object\n",
              "Ratings      float64\n",
              "Timestamp      int64\n",
              "dtype: object"
            ]
          },
          "metadata": {
            "tags": []
          },
          "execution_count": 9
        }
      ]
    },
    {
      "cell_type": "code",
      "metadata": {
        "colab": {
          "base_uri": "https://localhost:8080/"
        },
        "id": "0WFYesom3CG4",
        "outputId": "46134ec5-5504-4ebe-f118-582f9ba10a18"
      },
      "source": [
        "df.isnull().sum()"
      ],
      "execution_count": 10,
      "outputs": [
        {
          "output_type": "execute_result",
          "data": {
            "text/plain": [
              "UserId       0\n",
              "ProductId    0\n",
              "Ratings      0\n",
              "Timestamp    0\n",
              "dtype: int64"
            ]
          },
          "metadata": {
            "tags": []
          },
          "execution_count": 10
        }
      ]
    },
    {
      "cell_type": "code",
      "metadata": {
        "colab": {
          "base_uri": "https://localhost:8080/",
          "height": 111
        },
        "id": "oF6P6KB03CG5",
        "outputId": "f22d9370-d1ec-4f8e-dd81-e73179e5c47a"
      },
      "source": [
        "df.describe().T"
      ],
      "execution_count": 11,
      "outputs": [
        {
          "output_type": "execute_result",
          "data": {
            "text/html": [
              "<div>\n",
              "<style scoped>\n",
              "    .dataframe tbody tr th:only-of-type {\n",
              "        vertical-align: middle;\n",
              "    }\n",
              "\n",
              "    .dataframe tbody tr th {\n",
              "        vertical-align: top;\n",
              "    }\n",
              "\n",
              "    .dataframe thead th {\n",
              "        text-align: right;\n",
              "    }\n",
              "</style>\n",
              "<table border=\"1\" class=\"dataframe\">\n",
              "  <thead>\n",
              "    <tr style=\"text-align: right;\">\n",
              "      <th></th>\n",
              "      <th>count</th>\n",
              "      <th>mean</th>\n",
              "      <th>std</th>\n",
              "      <th>min</th>\n",
              "      <th>25%</th>\n",
              "      <th>50%</th>\n",
              "      <th>75%</th>\n",
              "      <th>max</th>\n",
              "    </tr>\n",
              "  </thead>\n",
              "  <tbody>\n",
              "    <tr>\n",
              "      <th>Ratings</th>\n",
              "      <td>7824482.0</td>\n",
              "      <td>4.012337e+00</td>\n",
              "      <td>1.380910e+00</td>\n",
              "      <td>1.0</td>\n",
              "      <td>3.000000e+00</td>\n",
              "      <td>5.000000e+00</td>\n",
              "      <td>5.000000e+00</td>\n",
              "      <td>5.000000e+00</td>\n",
              "    </tr>\n",
              "    <tr>\n",
              "      <th>Timestamp</th>\n",
              "      <td>7824482.0</td>\n",
              "      <td>1.338178e+09</td>\n",
              "      <td>6.900426e+07</td>\n",
              "      <td>912729600.0</td>\n",
              "      <td>1.315354e+09</td>\n",
              "      <td>1.361059e+09</td>\n",
              "      <td>1.386115e+09</td>\n",
              "      <td>1.406074e+09</td>\n",
              "    </tr>\n",
              "  </tbody>\n",
              "</table>\n",
              "</div>"
            ],
            "text/plain": [
              "               count          mean  ...           75%           max\n",
              "Ratings    7824482.0  4.012337e+00  ...  5.000000e+00  5.000000e+00\n",
              "Timestamp  7824482.0  1.338178e+09  ...  1.386115e+09  1.406074e+09\n",
              "\n",
              "[2 rows x 8 columns]"
            ]
          },
          "metadata": {
            "tags": []
          },
          "execution_count": 11
        }
      ]
    },
    {
      "cell_type": "markdown",
      "metadata": {
        "id": "SicHqhcl3CG6"
      },
      "source": [
        "##### Dropping Time stamp as this is not needed as of now."
      ]
    },
    {
      "cell_type": "code",
      "metadata": {
        "id": "PmVcM29a3CG7"
      },
      "source": [
        "df.drop(columns= ['Timestamp'], inplace=True)"
      ],
      "execution_count": 12,
      "outputs": []
    },
    {
      "cell_type": "markdown",
      "metadata": {
        "id": "7mzerIwm3CG7"
      },
      "source": [
        "##### Distinct Users"
      ]
    },
    {
      "cell_type": "code",
      "metadata": {
        "colab": {
          "base_uri": "https://localhost:8080/"
        },
        "id": "_Gz3YU-d3CG8",
        "outputId": "d7fe417f-c7bc-4a5e-851f-5df0bae6f14d"
      },
      "source": [
        "df.UserId.unique().size"
      ],
      "execution_count": 13,
      "outputs": [
        {
          "output_type": "execute_result",
          "data": {
            "text/plain": [
              "4201696"
            ]
          },
          "metadata": {
            "tags": []
          },
          "execution_count": 13
        }
      ]
    },
    {
      "cell_type": "markdown",
      "metadata": {
        "id": "IEMiLMMs3CG8"
      },
      "source": [
        "##### Distinct Products"
      ]
    },
    {
      "cell_type": "code",
      "metadata": {
        "colab": {
          "base_uri": "https://localhost:8080/"
        },
        "id": "DbCzm1L63CG9",
        "outputId": "3fdabf58-2f51-4e32-d5e0-ec0b97f6d6da"
      },
      "source": [
        "df.ProductId.unique().size"
      ],
      "execution_count": 14,
      "outputs": [
        {
          "output_type": "execute_result",
          "data": {
            "text/plain": [
              "476002"
            ]
          },
          "metadata": {
            "tags": []
          },
          "execution_count": 14
        }
      ]
    },
    {
      "cell_type": "code",
      "metadata": {
        "colab": {
          "base_uri": "https://localhost:8080/"
        },
        "id": "oVGg2y7U3CG9",
        "outputId": "7f901ae8-831c-497b-8d4d-b94d10f05880"
      },
      "source": [
        "4201696 * 476002"
      ],
      "execution_count": 15,
      "outputs": [
        {
          "output_type": "execute_result",
          "data": {
            "text/plain": [
              "2000015699392"
            ]
          },
          "metadata": {
            "tags": []
          },
          "execution_count": 15
        }
      ]
    },
    {
      "cell_type": "markdown",
      "metadata": {
        "id": "Kpg6MFWN3CG-"
      },
      "source": [
        "##### But we have 7824482 records available"
      ]
    },
    {
      "cell_type": "code",
      "metadata": {
        "id": "jfiX1Ku93CG_"
      },
      "source": [
        "import seaborn as sns\n",
        "import matplotlib.pyplot as plt\n",
        "sns.set(color_codes=True)\n",
        "%matplotlib inline\n"
      ],
      "execution_count": 16,
      "outputs": []
    },
    {
      "cell_type": "code",
      "metadata": {
        "id": "CLabPMvY3CG_",
        "outputId": "03fdd7b7-4786-449c-fb80-ebe16bee1fa1"
      },
      "source": [
        "sns.distplot(df['Ratings'], kde=False, rug=True)"
      ],
      "execution_count": null,
      "outputs": [
        {
          "output_type": "execute_result",
          "data": {
            "text/plain": [
              "<matplotlib.axes._subplots.AxesSubplot at 0x25e1180af08>"
            ]
          },
          "metadata": {
            "tags": []
          },
          "execution_count": 22
        },
        {
          "output_type": "display_data",
          "data": {
            "image/png": "[encoded data removed]",
            "text/plain": [
              "<Figure size 432x288 with 1 Axes>"
            ]
          },
          "metadata": {
            "tags": [],
            "needs_background": "light"
          }
        }
      ]
    },
    {
      "cell_type": "markdown",
      "metadata": {
        "id": "c0mp0bYl3CHA"
      },
      "source": [
        "##### Ratings reveals that there are no 0 valued ratings in the given data set. However most people rated 5, and least people rated 2."
      ]
    },
    {
      "cell_type": "code",
      "metadata": {
        "colab": {
          "base_uri": "https://localhost:8080/"
        },
        "id": "Qd237Ow03CHA",
        "outputId": "23be1f4b-6f77-4261-be67-157f3c64eeb4"
      },
      "source": [
        "df['Ratings'].value_counts()"
      ],
      "execution_count": 17,
      "outputs": [
        {
          "output_type": "execute_result",
          "data": {
            "text/plain": [
              "5.0    4347541\n",
              "4.0    1485781\n",
              "1.0     901765\n",
              "3.0     633073\n",
              "2.0     456322\n",
              "Name: Ratings, dtype: int64"
            ]
          },
          "metadata": {
            "tags": []
          },
          "execution_count": 17
        }
      ]
    },
    {
      "cell_type": "markdown",
      "metadata": {
        "id": "Sh2t9uWm3CHB"
      },
      "source": [
        "##### Top 5 products which were rated by as many number of users"
      ]
    },
    {
      "cell_type": "code",
      "metadata": {
        "colab": {
          "base_uri": "https://localhost:8080/"
        },
        "id": "UU5Tuh983CHB",
        "outputId": "fc5508a9-933a-423b-dadc-c22b840cdfbb"
      },
      "source": [
        "df['ProductId'].value_counts().head()"
      ],
      "execution_count": 18,
      "outputs": [
        {
          "output_type": "execute_result",
          "data": {
            "text/plain": [
              "B0074BW614    18244\n",
              "B00DR0PDNE    16454\n",
              "B007WTAJTO    14172\n",
              "B0019EHU8G    12285\n",
              "B006GWO5WK    12226\n",
              "Name: ProductId, dtype: int64"
            ]
          },
          "metadata": {
            "tags": []
          },
          "execution_count": 18
        }
      ]
    },
    {
      "cell_type": "markdown",
      "metadata": {
        "id": "ha_cdKVR3CHB"
      },
      "source": [
        "##### Top 5 user who rated rated as many number of products"
      ]
    },
    {
      "cell_type": "code",
      "metadata": {
        "colab": {
          "base_uri": "https://localhost:8080/"
        },
        "id": "iysMjpZW3CHC",
        "outputId": "b18f077d-08f7-4763-aef6-f946a74b2f37"
      },
      "source": [
        "df['UserId'].value_counts().head()"
      ],
      "execution_count": 19,
      "outputs": [
        {
          "output_type": "execute_result",
          "data": {
            "text/plain": [
              "A5JLAU2ARJ0BO     520\n",
              "ADLVFFE4VBT8      501\n",
              "A3OXHLG6DIBRW8    498\n",
              "A6FIAB28IS79      431\n",
              "A680RUE1FDO8B     406\n",
              "Name: UserId, dtype: int64"
            ]
          },
          "metadata": {
            "tags": []
          },
          "execution_count": 19
        }
      ]
    },
    {
      "cell_type": "markdown",
      "metadata": {
        "id": "tpAXuwuC3CHC"
      },
      "source": [
        "# 2. Data Subset"
      ]
    },
    {
      "cell_type": "markdown",
      "metadata": {
        "id": "d06dvNH53CHD"
      },
      "source": [
        "##### Users who has given more than 50 ratings"
      ]
    },
    {
      "cell_type": "code",
      "metadata": {
        "id": "4w6-OQLb3CHD"
      },
      "source": [
        "temp = df['UserId'].value_counts()"
      ],
      "execution_count": 20,
      "outputs": []
    },
    {
      "cell_type": "code",
      "metadata": {
        "id": "3Z-vpaQY3CHE"
      },
      "source": [
        "user_50_ratings = temp[temp >= 50].index"
      ],
      "execution_count": 21,
      "outputs": []
    },
    {
      "cell_type": "code",
      "metadata": {
        "colab": {
          "base_uri": "https://localhost:8080/"
        },
        "id": "YvgZ-qdE3CHE",
        "outputId": "f93b3b7c-2fd6-4d6e-d5a3-11dfc8a677fc"
      },
      "source": [
        "user_50_ratings"
      ],
      "execution_count": 22,
      "outputs": [
        {
          "output_type": "execute_result",
          "data": {
            "text/plain": [
              "Index(['A5JLAU2ARJ0BO', 'ADLVFFE4VBT8', 'A3OXHLG6DIBRW8', 'A6FIAB28IS79',\n",
              "       'A680RUE1FDO8B', 'A1ODOGXEYECQQ8', 'A36K2N527TXXJN', 'A2AY4YUOX2N1BQ',\n",
              "       'AWPODHOB4GFWL', 'A25C2M3QF9G7OQ',\n",
              "       ...\n",
              "       'ANEDXRFDZDL18', 'A3HC7NWLKCPX4X', 'A2FZQF0MH29VYN', 'A3UW0PQLDUACMH',\n",
              "       'A2NYOY6H42SORF', 'A11KQADBYE0UZL', 'A95PWI4S6WHGL', 'A1DSRM2P0WGQNS',\n",
              "       'A3BY5KCNQZXV5U', 'A28CCQNXWV6WA2'],\n",
              "      dtype='object', length=1540)"
            ]
          },
          "metadata": {
            "tags": []
          },
          "execution_count": 22
        }
      ]
    },
    {
      "cell_type": "code",
      "metadata": {
        "id": "q3Y-9Rfe3CHE"
      },
      "source": [
        "df_subset = df[df.UserId.isin(user_50_ratings)]"
      ],
      "execution_count": 23,
      "outputs": []
    },
    {
      "cell_type": "code",
      "metadata": {
        "colab": {
          "base_uri": "https://localhost:8080/"
        },
        "id": "9lNJR9AY3CHF",
        "outputId": "33312188-d090-4028-a700-750b1dffeeed"
      },
      "source": [
        "df_subset.shape"
      ],
      "execution_count": 24,
      "outputs": [
        {
          "output_type": "execute_result",
          "data": {
            "text/plain": [
              "(125871, 3)"
            ]
          },
          "metadata": {
            "tags": []
          },
          "execution_count": 24
        }
      ]
    },
    {
      "cell_type": "markdown",
      "metadata": {
        "id": "RjdB3Mix3CHF"
      },
      "source": [
        "# Popularity Recommender model"
      ]
    },
    {
      "cell_type": "code",
      "metadata": {
        "colab": {
          "base_uri": "https://localhost:8080/"
        },
        "id": "QqOQNkW13CHG",
        "outputId": "feaece79-fa4f-48df-f0a1-49831fed2065"
      },
      "source": [
        "df_subset.groupby(['ProductId'])['Ratings'].mean().sort_values(ascending = False)"
      ],
      "execution_count": 25,
      "outputs": [
        {
          "output_type": "execute_result",
          "data": {
            "text/plain": [
              "ProductId\n",
              "B00LKG1MC8    5.0\n",
              "B002QUZM3M    5.0\n",
              "B002QWNZHU    5.0\n",
              "B002QXZPFE    5.0\n",
              "B002R0DWNS    5.0\n",
              "             ... \n",
              "B000VJ0YQ0    1.0\n",
              "B000MVEBOS    1.0\n",
              "B000C0OF54    1.0\n",
              "B005YXXT7Y    1.0\n",
              "B0080REM4A    1.0\n",
              "Name: Ratings, Length: 48190, dtype: float64"
            ]
          },
          "metadata": {
            "tags": []
          },
          "execution_count": 25
        }
      ]
    },
    {
      "cell_type": "code",
      "metadata": {
        "colab": {
          "base_uri": "https://localhost:8080/",
          "height": 80
        },
        "id": "ytWanbkb3CHG",
        "outputId": "1d065fec-343a-4c33-a0fd-f82a089918d4"
      },
      "source": [
        "df_subset[df_subset.ProductId == 'B00LKG1MC8']"
      ],
      "execution_count": 26,
      "outputs": [
        {
          "output_type": "execute_result",
          "data": {
            "text/html": [
              "<div>\n",
              "<style scoped>\n",
              "    .dataframe tbody tr th:only-of-type {\n",
              "        vertical-align: middle;\n",
              "    }\n",
              "\n",
              "    .dataframe tbody tr th {\n",
              "        vertical-align: top;\n",
              "    }\n",
              "\n",
              "    .dataframe thead th {\n",
              "        text-align: right;\n",
              "    }\n",
              "</style>\n",
              "<table border=\"1\" class=\"dataframe\">\n",
              "  <thead>\n",
              "    <tr style=\"text-align: right;\">\n",
              "      <th></th>\n",
              "      <th>UserId</th>\n",
              "      <th>ProductId</th>\n",
              "      <th>Ratings</th>\n",
              "    </tr>\n",
              "  </thead>\n",
              "  <tbody>\n",
              "    <tr>\n",
              "      <th>7824444</th>\n",
              "      <td>A2BYV7S1QP2YIG</td>\n",
              "      <td>B00LKG1MC8</td>\n",
              "      <td>5.0</td>\n",
              "    </tr>\n",
              "  </tbody>\n",
              "</table>\n",
              "</div>"
            ],
            "text/plain": [
              "                 UserId   ProductId  Ratings\n",
              "7824444  A2BYV7S1QP2YIG  B00LKG1MC8      5.0"
            ]
          },
          "metadata": {
            "tags": []
          },
          "execution_count": 26
        }
      ]
    },
    {
      "cell_type": "markdown",
      "metadata": {
        "id": "lV-hLqMF3CHH"
      },
      "source": [
        "##### But the problem here is even a product which was rated only once by an user is coming on top recommendation. This is not a right recomendation. Let us filter the subset such that the product should be rated by atleast 50 users."
      ]
    },
    {
      "cell_type": "code",
      "metadata": {
        "colab": {
          "base_uri": "https://localhost:8080/"
        },
        "id": "OZJHaSjI3CHH",
        "outputId": "fc311bec-9e88-41e8-e368-f3a11170cd3f"
      },
      "source": [
        "temp = df_subset['ProductId'].value_counts()\n",
        "product_50_ratings = temp[temp >= 50].index\n",
        "product_50_ratings"
      ],
      "execution_count": 27,
      "outputs": [
        {
          "output_type": "execute_result",
          "data": {
            "text/plain": [
              "Index(['B0088CJT4U', 'B003ES5ZUU', 'B000N99BBC', 'B007WTAJTO', 'B00829TIEK',\n",
              "       'B00829THK0', 'B008DWCRQW', 'B002R5AM7C', 'B004CLYEDC', 'B002SZEOLG',\n",
              "       'B00834SJNA', 'B004T9RR6I', 'B0034CL2ZI', 'B002V88HFE', 'B00834SJSK',\n",
              "       'B002WE6D44', 'B00829TIA4', 'B004CLYEFK', 'B009SYZ8OC', 'B0079UAT0A',\n",
              "       'B0019EHU8G', 'B005CT56F8', 'B000QUUFRW', 'B00DR0PDNE', 'B00HFRWWAM',\n",
              "       'B005FYNSPK', 'B004CLYEE6', 'B0041Q38NU', 'B001TH7GUU', 'B00ARB5FLQ',\n",
              "       'B005HMKKH4', 'B002SQK2F2', 'B0015DYMVO', 'B00AQRUW4Q', 'B004CLYEH8',\n",
              "       'B005CLPP84', 'B003M0NURK', 'B00004ZCJE', 'B000LRMS66', 'B000VX6XL6',\n",
              "       'B001E1Y5O6', 'B001XURP7W', 'B00BOHNYTW', 'B001CHHVCU', 'B0002L5R78',\n",
              "       'B00884WH74', 'B000JMJWV2', 'B0082E9K7U', 'B004QK7HI8', 'B009NHWVIA',\n",
              "       'B00BOHNYU6', 'B001TH7GSW', 'B0074BW614', 'B00007E7JU', 'B005QCDY50',\n",
              "       'B002QEBMAK', 'B000Q8UAWY', 'B00BGGDVOO', 'B006W8U2MU', 'B005DKZTMG',\n",
              "       'B00G4UQ6U8', 'B0097CXWUW', 'B002WE4HE2', 'B004Q3R9AQ', 'B0081FLFQE',\n",
              "       'B000BQ7GW8', 'B00829THEG', 'B001TOD7ME', 'B0063705PE', 'B000JE7GPY',\n",
              "       'B004GUT1QO', 'B0097CZHAU', 'B000HPV3RW', 'B006I5MKZY', 'B003LSTD38',\n",
              "       'B00JP12170', 'B009HQCAPQ'],\n",
              "      dtype='object')"
            ]
          },
          "metadata": {
            "tags": []
          },
          "execution_count": 27
        }
      ]
    },
    {
      "cell_type": "code",
      "metadata": {
        "id": "XmVhZEFB3CHI"
      },
      "source": [
        "df_subset = df_subset[df_subset.ProductId.isin(product_50_ratings)]"
      ],
      "execution_count": 28,
      "outputs": []
    },
    {
      "cell_type": "code",
      "metadata": {
        "colab": {
          "base_uri": "https://localhost:8080/"
        },
        "id": "QbOiK8Jq3CHJ",
        "outputId": "1c0ab9fd-b50a-41fa-eb2c-e391ecf55dca"
      },
      "source": [
        "df_subset.groupby(['ProductId'])['Ratings'].mean().sort_values(ascending = False)"
      ],
      "execution_count": 29,
      "outputs": [
        {
          "output_type": "execute_result",
          "data": {
            "text/plain": [
              "ProductId\n",
              "B001TH7GUU    4.871795\n",
              "B003ES5ZUU    4.864130\n",
              "B0019EHU8G    4.855556\n",
              "B006W8U2MU    4.824561\n",
              "B000QUUFRW    4.809524\n",
              "                ...   \n",
              "B00DR0PDNE    3.785714\n",
              "B00ARB5FLQ    3.730769\n",
              "B001CHHVCU    3.611940\n",
              "B006I5MKZY    3.392157\n",
              "B002SQK2F2    2.987013\n",
              "Name: Ratings, Length: 77, dtype: float64"
            ]
          },
          "metadata": {
            "tags": []
          },
          "execution_count": 29
        }
      ]
    },
    {
      "cell_type": "markdown",
      "metadata": {
        "id": "pBZuFf0F3CHK"
      },
      "source": [
        "## Popularity based Recommendation"
      ]
    },
    {
      "cell_type": "code",
      "metadata": {
        "colab": {
          "base_uri": "https://localhost:8080/"
        },
        "id": "Bl1R9FrD3CHK",
        "outputId": "a6a06c76-37b4-4d5b-c66f-53eba3c82e13"
      },
      "source": [
        "df_subset.groupby(['ProductId'])['Ratings'].mean().sort_values(ascending = False).head()"
      ],
      "execution_count": 30,
      "outputs": [
        {
          "output_type": "execute_result",
          "data": {
            "text/plain": [
              "ProductId\n",
              "B001TH7GUU    4.871795\n",
              "B003ES5ZUU    4.864130\n",
              "B0019EHU8G    4.855556\n",
              "B006W8U2MU    4.824561\n",
              "B000QUUFRW    4.809524\n",
              "Name: Ratings, dtype: float64"
            ]
          },
          "metadata": {
            "tags": []
          },
          "execution_count": 30
        }
      ]
    },
    {
      "cell_type": "markdown",
      "metadata": {
        "id": "h8C0D5LD5AaM"
      },
      "source": [
        "# 4. Train Test Split"
      ]
    },
    {
      "cell_type": "code",
      "metadata": {
        "colab": {
          "base_uri": "https://localhost:8080/"
        },
        "id": "v3qr78R73CHM",
        "outputId": "c0125555-b439-48c9-d7b2-4ca85f700a7a"
      },
      "source": [
        "!pip install surprise"
      ],
      "execution_count": 31,
      "outputs": [
        {
          "output_type": "stream",
          "text": [
            "Collecting surprise\n",
            "  Downloading https://files.pythonhosted.org/packages/61/de/e5cba8682201fcf9c3719a6fdda95693468ed061945493dea2dd37c5618b/surprise-0.1-py2.py3-none-any.whl\n",
            "Collecting scikit-surprise\n",
            "\u001b[?25l  Downloading https://files.pythonhosted.org/packages/97/37/5d334adaf5ddd65da99fc65f6507e0e4599d092ba048f4302fe8775619e8/scikit-surprise-1.1.1.tar.gz (11.8MB)\n",
            "\u001b[K     |████████████████████████████████| 11.8MB 5.6MB/s \n",
            "\u001b[?25hRequirement already satisfied: joblib>=0.11 in /usr/local/lib/python3.6/dist-packages (from scikit-surprise->surprise) (1.0.0)\n",
            "Requirement already satisfied: numpy>=1.11.2 in /usr/local/lib/python3.6/dist-packages (from scikit-surprise->surprise) (1.19.4)\n",
            "Requirement already satisfied: scipy>=1.0.0 in /usr/local/lib/python3.6/dist-packages (from scikit-surprise->surprise) (1.4.1)\n",
            "Requirement already satisfied: six>=1.10.0 in /usr/local/lib/python3.6/dist-packages (from scikit-surprise->surprise) (1.15.0)\n",
            "Building wheels for collected packages: scikit-surprise\n",
            "  Building wheel for scikit-surprise (setup.py) ... \u001b[?25l\u001b[?25hdone\n",
            "  Created wheel for scikit-surprise: filename=scikit_surprise-1.1.1-cp36-cp36m-linux_x86_64.whl size=1618278 sha256=f77a0c89e4325785788a41c3ee2e9deb49fed3e6e2a39ae8c724d296ef0b89e8\n",
            "  Stored in directory: /root/.cache/pip/wheels/78/9c/3d/41b419c9d2aff5b6e2b4c0fc8d25c538202834058f9ed110d0\n",
            "Successfully built scikit-surprise\n",
            "Installing collected packages: scikit-surprise, surprise\n",
            "Successfully installed scikit-surprise-1.1.1 surprise-0.1\n"
          ],
          "name": "stdout"
        }
      ]
    },
    {
      "cell_type": "code",
      "metadata": {
        "id": "dIMHXgvR3CHM"
      },
      "source": [
        "from surprise import Dataset,Reader\r\n",
        "from surprise.model_selection import cross_validate\r\n",
        "from surprise import NormalPredictor\r\n",
        "\r\n",
        "reader = Reader(rating_scale=(1, 5))"
      ],
      "execution_count": 32,
      "outputs": []
    },
    {
      "cell_type": "code",
      "metadata": {
        "colab": {
          "base_uri": "https://localhost:8080/"
        },
        "id": "NjGG7krn4X2v",
        "outputId": "e4ff20ca-ef84-4cf8-c28e-fd37ba3eb641"
      },
      "source": [
        "df_subset.shape"
      ],
      "execution_count": 33,
      "outputs": [
        {
          "output_type": "execute_result",
          "data": {
            "text/plain": [
              "(6234, 3)"
            ]
          },
          "metadata": {
            "tags": []
          },
          "execution_count": 33
        }
      ]
    },
    {
      "cell_type": "code",
      "metadata": {
        "id": "Ltg5ixNM4b5l"
      },
      "source": [
        "data = Dataset.load_from_df(df_subset[['UserId', 'ProductId', 'Ratings']], reader)"
      ],
      "execution_count": 34,
      "outputs": []
    },
    {
      "cell_type": "code",
      "metadata": {
        "id": "vILVmEbM4qol"
      },
      "source": [
        "from surprise.model_selection import train_test_split\r\n",
        "trainset, testset = train_test_split(data, test_size=.3,random_state=123)"
      ],
      "execution_count": 36,
      "outputs": []
    },
    {
      "cell_type": "markdown",
      "metadata": {
        "id": "EHmrePD35ROQ"
      },
      "source": [
        "# 5. Collaborative filter model"
      ]
    },
    {
      "cell_type": "markdown",
      "metadata": {
        "id": "CMTbQART5_Ul"
      },
      "source": [
        "## SVD based"
      ]
    },
    {
      "cell_type": "code",
      "metadata": {
        "id": "bkhEMD0f5Q1O"
      },
      "source": [
        "from surprise import SVD, KNNWithMeans\r\n",
        "from surprise import accuracy"
      ],
      "execution_count": 45,
      "outputs": []
    },
    {
      "cell_type": "code",
      "metadata": {
        "colab": {
          "base_uri": "https://localhost:8080/"
        },
        "id": "dH1lV3Jb5Mpv",
        "outputId": "a93e44dc-5c90-43cc-92e2-2ff7d6070905"
      },
      "source": [
        "svd_model = SVD(n_factors=5,biased=False)\r\n",
        "svd_model.fit(trainset)"
      ],
      "execution_count": 46,
      "outputs": [
        {
          "output_type": "execute_result",
          "data": {
            "text/plain": [
              "<surprise.prediction_algorithms.matrix_factorization.SVD at 0x7f694a3d0a20>"
            ]
          },
          "metadata": {
            "tags": []
          },
          "execution_count": 46
        }
      ]
    },
    {
      "cell_type": "code",
      "metadata": {
        "id": "4E6NozZM5rsf"
      },
      "source": [
        "test_pred = svd_model.test(testset)"
      ],
      "execution_count": 47,
      "outputs": []
    },
    {
      "cell_type": "markdown",
      "metadata": {
        "id": "bSHsxG_k6i5q"
      },
      "source": [
        "# 6. Model Evaluation"
      ]
    },
    {
      "cell_type": "code",
      "metadata": {
        "colab": {
          "base_uri": "https://localhost:8080/"
        },
        "id": "6EZEM30G5u82",
        "outputId": "3c148fb9-559f-4aa2-b44a-fb661b503e6f"
      },
      "source": [
        "accuracy.mae(test_pred)"
      ],
      "execution_count": 48,
      "outputs": [
        {
          "output_type": "stream",
          "text": [
            "MAE:  1.1537\n"
          ],
          "name": "stdout"
        },
        {
          "output_type": "execute_result",
          "data": {
            "text/plain": [
              "1.1536523000358427"
            ]
          },
          "metadata": {
            "tags": []
          },
          "execution_count": 48
        }
      ]
    },
    {
      "cell_type": "markdown",
      "metadata": {
        "id": "gDxVehYK54RK"
      },
      "source": [
        "## KNNWithMeans based"
      ]
    },
    {
      "cell_type": "code",
      "metadata": {
        "colab": {
          "base_uri": "https://localhost:8080/"
        },
        "id": "OMua0-nA5x4W",
        "outputId": "b7bb416a-8254-491b-9fd3-6288640729c2"
      },
      "source": [
        "from surprise import KNNWithMeans\r\n",
        "from surprise import accuracy\r\n",
        "\r\n",
        "algo_i = KNNWithMeans(k=10, sim_options={ 'user_based': False})\r\n",
        "\r\n",
        "algo_i.fit(trainset)"
      ],
      "execution_count": 49,
      "outputs": [
        {
          "output_type": "stream",
          "text": [
            "Computing the msd similarity matrix...\n",
            "Done computing similarity matrix.\n"
          ],
          "name": "stdout"
        },
        {
          "output_type": "execute_result",
          "data": {
            "text/plain": [
              "<surprise.prediction_algorithms.knns.KNNWithMeans at 0x7f694a3d05c0>"
            ]
          },
          "metadata": {
            "tags": []
          },
          "execution_count": 49
        }
      ]
    },
    {
      "cell_type": "markdown",
      "metadata": {
        "id": "DCISTWVl6m9U"
      },
      "source": [
        "# 6. Model Evaluation"
      ]
    },
    {
      "cell_type": "code",
      "metadata": {
        "colab": {
          "base_uri": "https://localhost:8080/"
        },
        "id": "2-CqWiHs6LvV",
        "outputId": "4bb57881-08e7-47a4-f0e9-8110b7ad95eb"
      },
      "source": [
        "test_pred=algo_i.test(testset)\r\n",
        "print(accuracy.mae(test_pred))"
      ],
      "execution_count": 50,
      "outputs": [
        {
          "output_type": "stream",
          "text": [
            "MAE:  0.6086\n",
            "0.608618989768703\n"
          ],
          "name": "stdout"
        }
      ]
    },
    {
      "cell_type": "markdown",
      "metadata": {
        "id": "r7BjKHbf6W4i"
      },
      "source": [
        "### KNNWithMeans gave better results in MAE, and RMSE [ran behind]"
      ]
    },
    {
      "cell_type": "markdown",
      "metadata": {
        "id": "9hA4nEFf7BLU"
      },
      "source": [
        "# 7. Top 5 Recommendations for Every user"
      ]
    },
    {
      "cell_type": "code",
      "metadata": {
        "colab": {
          "base_uri": "https://localhost:8080/",
          "height": 419
        },
        "id": "nwwihrAT8LDD",
        "outputId": "0f830ee3-e278-4124-cb0b-81d29e39d7c2"
      },
      "source": [
        "df_subset"
      ],
      "execution_count": 57,
      "outputs": [
        {
          "output_type": "execute_result",
          "data": {
            "text/html": [
              "<div>\n",
              "<style scoped>\n",
              "    .dataframe tbody tr th:only-of-type {\n",
              "        vertical-align: middle;\n",
              "    }\n",
              "\n",
              "    .dataframe tbody tr th {\n",
              "        vertical-align: top;\n",
              "    }\n",
              "\n",
              "    .dataframe thead th {\n",
              "        text-align: right;\n",
              "    }\n",
              "</style>\n",
              "<table border=\"1\" class=\"dataframe\">\n",
              "  <thead>\n",
              "    <tr style=\"text-align: right;\">\n",
              "      <th></th>\n",
              "      <th>UserId</th>\n",
              "      <th>ProductId</th>\n",
              "      <th>Ratings</th>\n",
              "    </tr>\n",
              "  </thead>\n",
              "  <tbody>\n",
              "    <tr>\n",
              "      <th>72043</th>\n",
              "      <td>A2YRX8J4WM5BRX</td>\n",
              "      <td>B00004ZCJE</td>\n",
              "      <td>5.0</td>\n",
              "    </tr>\n",
              "    <tr>\n",
              "      <th>72059</th>\n",
              "      <td>AU627A4UGIW6V</td>\n",
              "      <td>B00004ZCJE</td>\n",
              "      <td>5.0</td>\n",
              "    </tr>\n",
              "    <tr>\n",
              "      <th>72077</th>\n",
              "      <td>A16RL0RMRF974O</td>\n",
              "      <td>B00004ZCJE</td>\n",
              "      <td>5.0</td>\n",
              "    </tr>\n",
              "    <tr>\n",
              "      <th>72121</th>\n",
              "      <td>AR8LWDT6TUKNZ</td>\n",
              "      <td>B00004ZCJE</td>\n",
              "      <td>5.0</td>\n",
              "    </tr>\n",
              "    <tr>\n",
              "      <th>72122</th>\n",
              "      <td>AD9ZL63H0VKCZ</td>\n",
              "      <td>B00004ZCJE</td>\n",
              "      <td>5.0</td>\n",
              "    </tr>\n",
              "    <tr>\n",
              "      <th>...</th>\n",
              "      <td>...</td>\n",
              "      <td>...</td>\n",
              "      <td>...</td>\n",
              "    </tr>\n",
              "    <tr>\n",
              "      <th>7814821</th>\n",
              "      <td>A30KPB2ILF6K6J</td>\n",
              "      <td>B00JP12170</td>\n",
              "      <td>5.0</td>\n",
              "    </tr>\n",
              "    <tr>\n",
              "      <th>7814822</th>\n",
              "      <td>AE88D7OM7YU99</td>\n",
              "      <td>B00JP12170</td>\n",
              "      <td>5.0</td>\n",
              "    </tr>\n",
              "    <tr>\n",
              "      <th>7814823</th>\n",
              "      <td>A2WLNSZ9U0T1S3</td>\n",
              "      <td>B00JP12170</td>\n",
              "      <td>5.0</td>\n",
              "    </tr>\n",
              "    <tr>\n",
              "      <th>7814826</th>\n",
              "      <td>A3M7R4PD0FEPUB</td>\n",
              "      <td>B00JP12170</td>\n",
              "      <td>5.0</td>\n",
              "    </tr>\n",
              "    <tr>\n",
              "      <th>7814827</th>\n",
              "      <td>A96JD9312DHWC</td>\n",
              "      <td>B00JP12170</td>\n",
              "      <td>4.0</td>\n",
              "    </tr>\n",
              "  </tbody>\n",
              "</table>\n",
              "<p>6234 rows × 3 columns</p>\n",
              "</div>"
            ],
            "text/plain": [
              "                 UserId   ProductId  Ratings\n",
              "72043    A2YRX8J4WM5BRX  B00004ZCJE      5.0\n",
              "72059     AU627A4UGIW6V  B00004ZCJE      5.0\n",
              "72077    A16RL0RMRF974O  B00004ZCJE      5.0\n",
              "72121     AR8LWDT6TUKNZ  B00004ZCJE      5.0\n",
              "72122     AD9ZL63H0VKCZ  B00004ZCJE      5.0\n",
              "...                 ...         ...      ...\n",
              "7814821  A30KPB2ILF6K6J  B00JP12170      5.0\n",
              "7814822   AE88D7OM7YU99  B00JP12170      5.0\n",
              "7814823  A2WLNSZ9U0T1S3  B00JP12170      5.0\n",
              "7814826  A3M7R4PD0FEPUB  B00JP12170      5.0\n",
              "7814827   A96JD9312DHWC  B00JP12170      4.0\n",
              "\n",
              "[6234 rows x 3 columns]"
            ]
          },
          "metadata": {
            "tags": []
          },
          "execution_count": 57
        }
      ]
    },
    {
      "cell_type": "code",
      "metadata": {
        "colab": {
          "base_uri": "https://localhost:8080/",
          "height": 173
        },
        "id": "eBPr80uO6N30",
        "outputId": "14160e73-ff51-4224-bb65-05d2c6462ad9"
      },
      "source": [
        "pred = pd.DataFrame(test_pred)\r\n",
        "pred[pred['uid'] == 'A2WLNSZ9U0T1S3'][['iid', 'r_ui','est']].sort_values(by = 'r_ui',ascending = False).head(5)"
      ],
      "execution_count": 66,
      "outputs": [
        {
          "output_type": "execute_result",
          "data": {
            "text/html": [
              "<div>\n",
              "<style scoped>\n",
              "    .dataframe tbody tr th:only-of-type {\n",
              "        vertical-align: middle;\n",
              "    }\n",
              "\n",
              "    .dataframe tbody tr th {\n",
              "        vertical-align: top;\n",
              "    }\n",
              "\n",
              "    .dataframe thead th {\n",
              "        text-align: right;\n",
              "    }\n",
              "</style>\n",
              "<table border=\"1\" class=\"dataframe\">\n",
              "  <thead>\n",
              "    <tr style=\"text-align: right;\">\n",
              "      <th></th>\n",
              "      <th>iid</th>\n",
              "      <th>r_ui</th>\n",
              "      <th>est</th>\n",
              "    </tr>\n",
              "  </thead>\n",
              "  <tbody>\n",
              "    <tr>\n",
              "      <th>1846</th>\n",
              "      <td>B00JP12170</td>\n",
              "      <td>5.0</td>\n",
              "      <td>3.613850</td>\n",
              "    </tr>\n",
              "    <tr>\n",
              "      <th>1857</th>\n",
              "      <td>B0015DYMVO</td>\n",
              "      <td>5.0</td>\n",
              "      <td>4.169316</td>\n",
              "    </tr>\n",
              "    <tr>\n",
              "      <th>763</th>\n",
              "      <td>B002SQK2F2</td>\n",
              "      <td>2.0</td>\n",
              "      <td>2.662591</td>\n",
              "    </tr>\n",
              "    <tr>\n",
              "      <th>836</th>\n",
              "      <td>B008DWCRQW</td>\n",
              "      <td>1.0</td>\n",
              "      <td>3.863930</td>\n",
              "    </tr>\n",
              "  </tbody>\n",
              "</table>\n",
              "</div>"
            ],
            "text/plain": [
              "             iid  r_ui       est\n",
              "1846  B00JP12170   5.0  3.613850\n",
              "1857  B0015DYMVO   5.0  4.169316\n",
              "763   B002SQK2F2   2.0  2.662591\n",
              "836   B008DWCRQW   1.0  3.863930"
            ]
          },
          "metadata": {
            "tags": []
          },
          "execution_count": 66
        }
      ]
    },
    {
      "cell_type": "markdown",
      "metadata": {
        "id": "LQ-0dx6d8yf7"
      },
      "source": [
        "# 8. Insights"
      ]
    },
    {
      "cell_type": "markdown",
      "metadata": {
        "id": "zcZS0ruc82kZ"
      },
      "source": [
        "1. The samples that I have considered is very less, hence my recommendations are less than 5. Constraint applied: every product should be rated by atleast 50 users. and every user should have rated minimum of 50 products.\r\n",
        "2. Model predicts average rating wherever estimation is not possible\r\n",
        "\r\n",
        "3. Model-based Collaborative Filtering is a personalised recommender system, the recommendations are based on the past behavior of the user and it is not dependent on any additional information.\r\n",
        "\r\n",
        "4. The Popularity-based recommender system is non-personalised and the recommendations are based on frequecy counts, which may be not suitable to the user."
      ]
    },
    {
      "cell_type": "code",
      "metadata": {
        "id": "JcUTnlkM7Yx8"
      },
      "source": [
        ""
      ],
      "execution_count": null,
      "outputs": []
    }
  ]
}