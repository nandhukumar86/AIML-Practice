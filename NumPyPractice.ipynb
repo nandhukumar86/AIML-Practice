{
 "cells": [
  {
   "cell_type": "code",
   "execution_count": 8,
   "metadata": {},
   "outputs": [],
   "source": [
    "import numpy as np"
   ]
  },
  {
   "cell_type": "code",
   "execution_count": 11,
   "metadata": {
    "tags": []
   },
   "outputs": [
    {
     "output_type": "stream",
     "name": "stdout",
     "text": "[1 2 3]\n"
    }
   ],
   "source": [
    "vec = np.array([1,2,3])\n",
    "print (vec)"
   ]
  },
  {
   "cell_type": "code",
   "execution_count": 12,
   "metadata": {
    "tags": []
   },
   "outputs": [
    {
     "output_type": "stream",
     "name": "stdout",
     "text": "[[1 2 3]\n [4 5 6]\n [7 8 9]]\n"
    }
   ],
   "source": [
    "mat = np.array([[1,2,3],[4,5,6],[7,8,9]])\n",
    "print(mat)"
   ]
  },
  {
   "cell_type": "code",
   "execution_count": 13,
   "metadata": {
    "tags": []
   },
   "outputs": [
    {
     "output_type": "stream",
     "name": "stdout",
     "text": "[[1 4 7]\n [2 5 8]\n [3 6 9]]\n"
    }
   ],
   "source": [
    "print(mat.T)"
   ]
  },
  {
   "cell_type": "code",
   "execution_count": 14,
   "metadata": {
    "tags": []
   },
   "outputs": [
    {
     "output_type": "stream",
     "name": "stdout",
     "text": "range(0, 5)\n"
    }
   ],
   "source": [
    "lst = range(5)\n",
    "print(lst)"
   ]
  },
  {
   "cell_type": "code",
   "execution_count": 19,
   "metadata": {
    "tags": []
   },
   "outputs": [
    {
     "output_type": "stream",
     "name": "stdout",
     "text": "[3 4 5 6 7 8 9]\n"
    }
   ],
   "source": [
    "vec2 = np.arange(3,10)\n",
    "print(vec2)"
   ]
  },
  {
   "cell_type": "code",
   "execution_count": 21,
   "metadata": {
    "tags": []
   },
   "outputs": [
    {
     "output_type": "stream",
     "name": "stdout",
     "text": "[ 0  3  6  9 12]\n"
    }
   ],
   "source": [
    "vec3 = np.arange(0, 14 ,3)\n",
    "print(vec3)"
   ]
  },
  {
   "cell_type": "code",
   "execution_count": 23,
   "metadata": {
    "tags": []
   },
   "outputs": [
    {
     "output_type": "stream",
     "name": "stdout",
     "text": "[ 0.  6. 12.]\n"
    }
   ],
   "source": [
    "vec4 = np.linspace(0,12,3)\n",
    "print(vec4)"
   ]
  },
  {
   "cell_type": "code",
   "execution_count": 25,
   "metadata": {
    "tags": []
   },
   "outputs": [
    {
     "output_type": "stream",
     "name": "stdout",
     "text": "[[0. 0. 0.]\n [0. 0. 0.]]\n"
    }
   ],
   "source": [
    "zeromat23 = np.zeros([2,3])\n",
    "print(zeromat23)\n"
   ]
  },
  {
   "cell_type": "code",
   "execution_count": 26,
   "metadata": {
    "tags": []
   },
   "outputs": [
    {
     "output_type": "stream",
     "name": "stdout",
     "text": "[ 0.          0.71428571  1.42857143  2.14285714  2.85714286  3.57142857\n  4.28571429  5.          5.71428571  6.42857143  7.14285714  7.85714286\n  8.57142857  9.28571429 10.        ]\n"
    }
   ],
   "source": [
    "vec5 = np.linspace(0,10,15)\n",
    "print(vec5)"
   ]
  },
  {
   "cell_type": "code",
   "execution_count": 27,
   "metadata": {},
   "outputs": [
    {
     "output_type": "execute_result",
     "data": {
      "text/plain": "array([[ 0.        ,  0.71428571,  1.42857143,  2.14285714,  2.85714286],\n       [ 3.57142857,  4.28571429,  5.        ,  5.71428571,  6.42857143],\n       [ 7.14285714,  7.85714286,  8.57142857,  9.28571429, 10.        ]])"
     },
     "metadata": {},
     "execution_count": 27
    }
   ],
   "source": [
    "vec5.reshape(3,5)"
   ]
  },
  {
   "cell_type": "code",
   "execution_count": 29,
   "metadata": {
    "tags": []
   },
   "outputs": [
    {
     "output_type": "stream",
     "name": "stdout",
     "text": "[ 0.          0.71428571  1.42857143  2.14285714  2.85714286  3.57142857\n  4.28571429  5.          5.71428571  6.42857143  7.14285714  7.85714286\n  8.57142857  9.28571429 10.        ]\n"
    }
   ],
   "source": [
    "print(vec5)"
   ]
  },
  {
   "cell_type": "code",
   "execution_count": 30,
   "metadata": {},
   "outputs": [
    {
     "output_type": "execute_result",
     "data": {
      "text/plain": "array([[ 0.        ,  0.71428571,  1.42857143],\n       [ 2.14285714,  2.85714286,  3.57142857],\n       [ 4.28571429,  5.        ,  5.71428571],\n       [ 6.42857143,  7.14285714,  7.85714286],\n       [ 8.57142857,  9.28571429, 10.        ]])"
     },
     "metadata": {},
     "execution_count": 30
    }
   ],
   "source": [
    "vec5.reshape(5,3)"
   ]
  },
  {
   "cell_type": "code",
   "execution_count": 32,
   "metadata": {
    "tags": []
   },
   "outputs": [
    {
     "output_type": "stream",
     "name": "stdout",
     "text": "[[1. 1. 1.]\n [1. 1. 1.]]\n"
    }
   ],
   "source": [
    "onesmat = np.ones([2,3])\n",
    "print(onesmat)"
   ]
  },
  {
   "cell_type": "code",
   "execution_count": 33,
   "metadata": {
    "tags": []
   },
   "outputs": [
    {
     "output_type": "stream",
     "name": "stdout",
     "text": "[[1. 0. 0. 0. 0.]\n [0. 1. 0. 0. 0.]\n [0. 0. 1. 0. 0.]\n [0. 0. 0. 1. 0.]\n [0. 0. 0. 0. 1.]]\n"
    }
   ],
   "source": [
    "identitymat = np.eye(5)\n",
    "print(identitymat)"
   ]
  },
  {
   "cell_type": "code",
   "execution_count": 37,
   "metadata": {
    "tags": []
   },
   "outputs": [
    {
     "output_type": "stream",
     "name": "stdout",
     "text": "[1 2 3]\n[3 4 5]\n[4 6 8]\n"
    }
   ],
   "source": [
    "vec1 = np.arange(1,4)\n",
    "vec2 = np.arange(3,6)\n",
    "print(vec1)\n",
    "print(vec2)\n",
    "print(vec1+vec2)"
   ]
  },
  {
   "cell_type": "code",
   "execution_count": 38,
   "metadata": {
    "tags": []
   },
   "outputs": [
    {
     "output_type": "stream",
     "name": "stdout",
     "text": "[-2 -2 -2]\n"
    }
   ],
   "source": [
    "print(vec1-vec2)"
   ]
  },
  {
   "cell_type": "code",
   "execution_count": 39,
   "metadata": {
    "tags": []
   },
   "outputs": [
    {
     "output_type": "stream",
     "name": "stdout",
     "text": "[ 3  8 15]\n"
    }
   ],
   "source": [
    "print(vec1*vec2)"
   ]
  },
  {
   "cell_type": "code",
   "execution_count": 40,
   "metadata": {
    "tags": []
   },
   "outputs": [
    {
     "output_type": "stream",
     "name": "stdout",
     "text": "[1.         0.5        0.33333333]\n"
    }
   ],
   "source": [
    "print(1/vec1)"
   ]
  },
  {
   "cell_type": "code",
   "execution_count": 49,
   "metadata": {
    "tags": []
   },
   "outputs": [
    {
     "output_type": "stream",
     "name": "stdout",
     "text": "[1 2 3]\n[3 4 5]\n26\n26\n26\n"
    }
   ],
   "source": [
    "print(vec1)\n",
    "print(vec2)\n",
    "print(np.matmul(vec1, vec2.T))\n",
    "print(np.matmul(vec2.T, vec1))\n",
    "print(np.matmul(vec1, vec2))"
   ]
  },
  {
   "cell_type": "code",
   "execution_count": 46,
   "metadata": {
    "tags": []
   },
   "outputs": [
    {
     "output_type": "stream",
     "name": "stdout",
     "text": "[[0.54700605 0.01898652 0.07700384]\n [0.18624163 0.02913668 0.61809445]\n [0.43877226 0.32016531 0.77564046]]\n"
    }
   ],
   "source": [
    "vec3 = np.random.rand(3,3)\n",
    "print(vec3)"
   ]
  },
  {
   "cell_type": "code",
   "execution_count": 48,
   "metadata": {
    "tags": []
   },
   "outputs": [
    {
     "output_type": "stream",
     "name": "stdout",
     "text": "[4.57984597 1.77433283 6.58159164]\n[2.10198344 3.76574385 6.47518034]\n"
    }
   ],
   "source": [
    "print(np.matmul(vec3.T, vec2))\n",
    "print(np.matmul(vec2, vec3.T))\n",
    "\n"
   ]
  },
  {
   "cell_type": "code",
   "execution_count": 50,
   "metadata": {},
   "outputs": [
    {
     "output_type": "execute_result",
     "data": {
      "text/plain": "array([3, 4, 5, 6])"
     },
     "metadata": {},
     "execution_count": 50
    }
   ],
   "source": [
    "samplearray = np.array([3, 4, 5, 6, 5, 4])\n",
    "np.unique(samplearray)"
   ]
  },
  {
   "cell_type": "code",
   "execution_count": 52,
   "metadata": {
    "tags": []
   },
   "outputs": [
    {
     "output_type": "stream",
     "name": "stdout",
     "text": "[[0.1127185  0.41958556 0.59121649]\n [0.51670694 0.54642596 0.61159574]\n [0.78061697 0.67209467 0.51891396]\n [0.51928365 0.41413303 0.42441779]\n [0.58426063 0.6330739  0.05299675]]\n"
    }
   ],
   "source": [
    "randmat = np.random.rand(5,3)\n",
    "print(randmat)"
   ]
  },
  {
   "cell_type": "code",
   "execution_count": 53,
   "metadata": {},
   "outputs": [
    {
     "output_type": "execute_result",
     "data": {
      "text/plain": "0.4932027022091136"
     },
     "metadata": {},
     "execution_count": 53
    }
   ],
   "source": [
    "np.mean(randmat)"
   ]
  },
  {
   "cell_type": "code",
   "execution_count": 54,
   "metadata": {},
   "outputs": [
    {
     "output_type": "execute_result",
     "data": {
      "text/plain": "0.7806169695257911"
     },
     "metadata": {},
     "execution_count": 54
    }
   ],
   "source": [
    "np.max(randmat)"
   ]
  },
  {
   "cell_type": "code",
   "execution_count": 60,
   "metadata": {
    "tags": []
   },
   "outputs": [
    {
     "output_type": "stream",
     "name": "stdout",
     "text": "[[0.1127185  0.41958556 0.59121649]\n [0.51670694 0.54642596 0.61159574]\n [0.78061697 0.67209467 0.51891396]\n [0.51928365 0.41413303 0.42441779]\n [0.58426063 0.6330739  0.05299675]]\n[[0.41413303 0.42441779]]\n[[ 1.12718498e-01  4.19585558e-01  5.91216485e-01]\n [ 5.16706942e-01  5.46425965e-01  6.11595739e-01]\n [ 7.80616970e-01  6.72094675e-01  5.18913955e-01]\n [ 5.19283647e-01 -5.00000000e+02 -5.00000000e+02]\n [ 5.84260633e-01  6.33073899e-01  5.29967459e-02]]\n"
    }
   ],
   "source": [
    "print(randmat)\n",
    "print(randmat[3:4, 1:3])\n",
    "randmat[3:4, 1:3] = -500\n",
    "print(randmat)"
   ]
  },
  {
   "cell_type": "code",
   "execution_count": 62,
   "metadata": {
    "tags": []
   },
   "outputs": [
    {
     "output_type": "stream",
     "name": "stdout",
     "text": "[[-500. -500.]]\n[[99. 99.]]\n[[1.12718498e-01 4.19585558e-01 5.91216485e-01]\n [5.16706942e-01 5.46425965e-01 6.11595739e-01]\n [7.80616970e-01 6.72094675e-01 5.18913955e-01]\n [5.19283647e-01 9.90000000e+01 9.90000000e+01]\n [5.84260633e-01 6.33073899e-01 5.29967459e-02]]\n"
    }
   ],
   "source": [
    "submat = randmat[3:4, 1:3]\n",
    "print(submat)\n",
    "submat[:] = 99\n",
    "print(submat)\n",
    "print(randmat)"
   ]
  },
  {
   "cell_type": "code",
   "execution_count": 63,
   "metadata": {
    "tags": []
   },
   "outputs": [
    {
     "output_type": "stream",
     "name": "stdout",
     "text": "[[0. 0.]]\n[[1.12718498e-01 4.19585558e-01 5.91216485e-01]\n [5.16706942e-01 5.46425965e-01 6.11595739e-01]\n [7.80616970e-01 6.72094675e-01 5.18913955e-01]\n [5.19283647e-01 9.90000000e+01 9.90000000e+01]\n [5.84260633e-01 6.33073899e-01 5.29967459e-02]]\n"
    }
   ],
   "source": [
    "submat = randmat[3:4, 1:3].copy()\n",
    "submat[:] = 0\n",
    "print(submat)\n",
    "print(randmat)"
   ]
  },
  {
   "cell_type": "code",
   "execution_count": 66,
   "metadata": {
    "tags": []
   },
   "outputs": [
    {
     "output_type": "stream",
     "name": "stdout",
     "text": "[[-0.20915083  0.34298744 -1.01957185]\n [ 1.16092854  1.8809495  -0.02164859]]\n"
    }
   ],
   "source": [
    "randvec2 = np.random.randn(2,3)\n",
    "print(randvec2)"
   ]
  },
  {
   "cell_type": "code",
   "execution_count": 67,
   "metadata": {},
   "outputs": [
    {
     "output_type": "execute_result",
     "data": {
      "text/plain": "array([[False,  True, False],\n       [ True,  True, False]])"
     },
     "metadata": {},
     "execution_count": 67
    }
   ],
   "source": [
    "randvec2 > 0"
   ]
  },
  {
   "cell_type": "code",
   "execution_count": 69,
   "metadata": {},
   "outputs": [],
   "source": [
    "randvec2[randvec2 < 0] = 0 "
   ]
  },
  {
   "cell_type": "code",
   "execution_count": 70,
   "metadata": {
    "tags": []
   },
   "outputs": [
    {
     "output_type": "stream",
     "name": "stdout",
     "text": "[[0.         0.34298744 0.        ]\n [1.16092854 1.8809495  0.        ]]\n"
    }
   ],
   "source": [
    "print(randvec2)"
   ]
  },
  {
   "cell_type": "code",
   "execution_count": 71,
   "metadata": {
    "tags": []
   },
   "outputs": [
    {
     "output_type": "stream",
     "name": "stdout",
     "text": "[[0.         0.34298744 0.        ]\n [1.16092854 1.8809495  0.        ]]\n"
    }
   ],
   "source": [
    "print(randvec2)"
   ]
  },
  {
   "cell_type": "code",
   "execution_count": 74,
   "metadata": {},
   "outputs": [],
   "source": [
    "np.save('randvec2',randvec2)\n",
    "np.savez('filezip',a = randvec2, b = randmat)"
   ]
  },
  {
   "cell_type": "code",
   "execution_count": 75,
   "metadata": {},
   "outputs": [],
   "source": [
    "val = np.load('randvec2.npy')"
   ]
  },
  {
   "cell_type": "code",
   "execution_count": 76,
   "metadata": {
    "tags": []
   },
   "outputs": [
    {
     "output_type": "stream",
     "name": "stdout",
     "text": "[[0.         0.34298744 0.        ]\n [1.16092854 1.8809495  0.        ]]\n"
    }
   ],
   "source": [
    "print(val)"
   ]
  },
  {
   "cell_type": "code",
   "execution_count": 77,
   "metadata": {},
   "outputs": [],
   "source": [
    "val2 = np.load('filezip.npz')"
   ]
  },
  {
   "cell_type": "code",
   "execution_count": 81,
   "metadata": {
    "tags": []
   },
   "outputs": [
    {
     "output_type": "stream",
     "name": "stdout",
     "text": "[[0.         0.34298744 0.        ]\n [1.16092854 1.8809495  0.        ]]\n[[1.12718498e-01 4.19585558e-01 5.91216485e-01]\n [5.16706942e-01 5.46425965e-01 6.11595739e-01]\n [7.80616970e-01 6.72094675e-01 5.18913955e-01]\n [5.19283647e-01 9.90000000e+01 9.90000000e+01]\n [5.84260633e-01 6.33073899e-01 5.29967459e-02]]\n"
    }
   ],
   "source": [
    "print(val2['a'])\n",
    "print(val2['b'])"
   ]
  },
  {
   "cell_type": "code",
   "execution_count": 84,
   "metadata": {},
   "outputs": [],
   "source": [
    "np.savetxt('superfile.txt', randvec2, delimiter=',')"
   ]
  },
  {
   "cell_type": "code",
   "execution_count": 85,
   "metadata": {
    "tags": []
   },
   "outputs": [
    {
     "output_type": "stream",
     "name": "stdout",
     "text": "[[0.         0.34298744 0.        ]\n [1.16092854 1.8809495  0.        ]]\n"
    }
   ],
   "source": [
    "data = np.loadtxt('superfile.txt',delimiter=',')\n",
    "print(data)"
   ]
  },
  {
   "cell_type": "code",
   "execution_count": null,
   "metadata": {},
   "outputs": [],
   "source": []
  }
 ],
 "metadata": {
  "language_info": {
   "codemirror_mode": {
    "name": "ipython",
    "version": 3
   },
   "file_extension": ".py",
   "mimetype": "text/x-python",
   "name": "python",
   "nbconvert_exporter": "python",
   "pygments_lexer": "ipython3",
   "version": "3.7.6-final"
  },
  "orig_nbformat": 2,
  "kernelspec": {
   "name": "python3",
   "display_name": "Python 3"
  }
 },
 "nbformat": 4,
 "nbformat_minor": 2
}