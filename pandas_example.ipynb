{
 "cells": [
  {
   "cell_type": "markdown",
   "metadata": {},
   "source": [
    "# Pandas\n",
    "\n",
    "Pandas is a package used for managing data.\n",
    "\n",
    "Pandas main use is that it creates 2 new data types for storing data: series and dataframe.\n",
    "\n",
    "Think of a pandas dataframe like an excel spreadsheet that is storing some data.  One column can have customer name, one column can have product sold name, another column can have price or quantity... Then the rows could be individual sales.\n",
    "\n",
    "A dataframe is made up of several series.  Each column of a dataframe is a series.\n",
    "\n",
    "We can name each column and row of a dataframe.\n",
    "\n",
    "A pandas dataframe is very similar to a data.frame in R.\n",
    "\n",
    "Similar to numpy arrays, a dataframe is a more robust data type for storing data than lists of lists. Dataframes are more flexible than numpy arrays.\n",
    "\n",
    "A numpy array can create a matrix with all entries of the same data type.  In a dataframe each column can have its own datatype.  \n",
    "\n",
    "That's not to say numpy arrays aren't useful.  It is often easiest to convert some subset of a dataframe to a numpy array and then use that to do some math.\n",
    "\n",
    "Pandas also has SQL-like functions for merging, joining, and sorting dataframes.\n",
    "\n"
   ]
  },
  {
   "cell_type": "code",
   "execution_count": 1,
   "metadata": {},
   "outputs": [],
   "source": [
    "import pandas as pd\n",
    "import numpy as np  # numpy is not necessary for pandas, but we will use some np code in this example\n",
    "# in general it's good practice to import all pacakages at the beginning"
   ]
  },
  {
   "cell_type": "code",
   "execution_count": 3,
   "metadata": {
    "tags": []
   },
   "outputs": [
    {
     "output_type": "stream",
     "name": "stdout",
     "text": "[ 5.4  6.1  1.7 99.8]\n"
    }
   ],
   "source": [
    "# first let's look at series - think of this as a single column of a spreadsheet\n",
    "# each entry in a series corresponds to an individual row in the spreadsheet\n",
    "# we can create a series by converting a list, or numpy array\n",
    "\n",
    "mylist = [5.4,6.1,1.7,99.8]\n",
    "myarray = np.array(mylist)\n",
    "print(myarray)\n"
   ]
  },
  {
   "cell_type": "code",
   "execution_count": 4,
   "metadata": {
    "tags": []
   },
   "outputs": [
    {
     "output_type": "stream",
     "name": "stdout",
     "text": "0     5.4\n1     6.1\n2     1.7\n3    99.8\ndtype: float64\n0     5.4\n1     6.1\n2     1.7\n3    99.8\ndtype: float64\n"
    }
   ],
   "source": [
    "myseries1 = pd.Series(data=mylist)\n",
    "print(myseries1)\n",
    "myseries2 = pd.Series(data=myarray)\n",
    "print(myseries2)"
   ]
  },
  {
   "cell_type": "code",
   "execution_count": 5,
   "metadata": {
    "tags": []
   },
   "outputs": [
    {
     "output_type": "stream",
     "name": "stdout",
     "text": "1.7\n"
    }
   ],
   "source": [
    "# we access individual entries the same way as with lists and arrays\n",
    "print(myseries1[2])"
   ]
  },
  {
   "cell_type": "code",
   "execution_count": 6,
   "metadata": {
    "tags": []
   },
   "outputs": [
    {
     "output_type": "stream",
     "name": "stdout",
     "text": "first      5.4\nsecond     6.1\nthird      1.7\nfourth    99.8\ndtype: float64\n"
    }
   ],
   "source": [
    "# we can add labels to the entries of a series\n",
    "\n",
    "mylabels = ['first','second','third','fourth']\n",
    "myseries3 = pd.Series(data=mylist,index=mylabels)\n",
    "print(myseries3)"
   ]
  },
  {
   "cell_type": "code",
   "execution_count": 7,
   "metadata": {
    "tags": []
   },
   "outputs": [
    {
     "output_type": "stream",
     "name": "stdout",
     "text": "first      5.4\nsecond     6.1\nthird      1.7\nfourth    99.8\ndtype: float64\n"
    }
   ],
   "source": [
    "# we need not be explicit about the entries of pd.Series\n",
    "myseries4 = pd.Series(mylist,mylabels)\n",
    "print(myseries4)"
   ]
  },
  {
   "cell_type": "code",
   "execution_count": 8,
   "metadata": {
    "tags": []
   },
   "outputs": [
    {
     "output_type": "stream",
     "name": "stdout",
     "text": "6.1\n"
    }
   ],
   "source": [
    "# we can also access entries using the index labels\n",
    "print(myseries4['second'])"
   ]
  },
  {
   "cell_type": "code",
   "execution_count": 9,
   "metadata": {
    "tags": []
   },
   "outputs": [
    {
     "output_type": "stream",
     "name": "stdout",
     "text": "first     5.5\nthird     1.1\nfourth    8.8\nfifth     1.6\ndtype: float64\n\nfifth       NaN\nfirst      10.9\nfourth    108.6\nsecond      NaN\nthird       2.8\ndtype: float64\n"
    }
   ],
   "source": [
    "# we can do math on series \n",
    "myseries5 = pd.Series([5.5,1.1,8.8,1.6],['first','third','fourth','fifth'])\n",
    "print(myseries5)\n",
    "print('')\n",
    "print(myseries5+myseries4)"
   ]
  },
  {
   "cell_type": "code",
   "execution_count": 10,
   "metadata": {},
   "outputs": [
    {
     "output_type": "execute_result",
     "data": {
      "text/plain": "           0    1\nfirst    5.4  5.5\nsecond   6.1  NaN\nthird    1.7  1.1\nfourth  99.8  8.8\nfifth    NaN  1.6",
      "text/html": "<div>\n<style scoped>\n    .dataframe tbody tr th:only-of-type {\n        vertical-align: middle;\n    }\n\n    .dataframe tbody tr th {\n        vertical-align: top;\n    }\n\n    .dataframe thead th {\n        text-align: right;\n    }\n</style>\n<table border=\"1\" class=\"dataframe\">\n  <thead>\n    <tr style=\"text-align: right;\">\n      <th></th>\n      <th>0</th>\n      <th>1</th>\n    </tr>\n  </thead>\n  <tbody>\n    <tr>\n      <th>first</th>\n      <td>5.4</td>\n      <td>5.5</td>\n    </tr>\n    <tr>\n      <th>second</th>\n      <td>6.1</td>\n      <td>NaN</td>\n    </tr>\n    <tr>\n      <th>third</th>\n      <td>1.7</td>\n      <td>1.1</td>\n    </tr>\n    <tr>\n      <th>fourth</th>\n      <td>99.8</td>\n      <td>8.8</td>\n    </tr>\n    <tr>\n      <th>fifth</th>\n      <td>NaN</td>\n      <td>1.6</td>\n    </tr>\n  </tbody>\n</table>\n</div>"
     },
     "metadata": {},
     "execution_count": 10
    }
   ],
   "source": [
    "# we can combine series to create a dataframe using the concat function\n",
    "df1 = pd.concat([myseries4,myseries5],axis=1,sort=False)\n",
    "df1"
   ]
  },
  {
   "cell_type": "code",
   "execution_count": 11,
   "metadata": {},
   "outputs": [
    {
     "output_type": "execute_result",
     "data": {
      "text/plain": "          0         1         2         3         4\n0 -0.006769  0.964501 -1.076352  0.035369  0.488272\n1 -0.401622 -0.993823  0.652488 -0.366713  2.574663\n2 -0.581256  0.960519 -1.897517  1.814711  1.452002\n3  1.109240  0.855616  1.286430  1.901889  1.182677\n4 -0.887193  0.124904  1.591463 -1.193017  0.054761",
      "text/html": "<div>\n<style scoped>\n    .dataframe tbody tr th:only-of-type {\n        vertical-align: middle;\n    }\n\n    .dataframe tbody tr th {\n        vertical-align: top;\n    }\n\n    .dataframe thead th {\n        text-align: right;\n    }\n</style>\n<table border=\"1\" class=\"dataframe\">\n  <thead>\n    <tr style=\"text-align: right;\">\n      <th></th>\n      <th>0</th>\n      <th>1</th>\n      <th>2</th>\n      <th>3</th>\n      <th>4</th>\n    </tr>\n  </thead>\n  <tbody>\n    <tr>\n      <th>0</th>\n      <td>-0.006769</td>\n      <td>0.964501</td>\n      <td>-1.076352</td>\n      <td>0.035369</td>\n      <td>0.488272</td>\n    </tr>\n    <tr>\n      <th>1</th>\n      <td>-0.401622</td>\n      <td>-0.993823</td>\n      <td>0.652488</td>\n      <td>-0.366713</td>\n      <td>2.574663</td>\n    </tr>\n    <tr>\n      <th>2</th>\n      <td>-0.581256</td>\n      <td>0.960519</td>\n      <td>-1.897517</td>\n      <td>1.814711</td>\n      <td>1.452002</td>\n    </tr>\n    <tr>\n      <th>3</th>\n      <td>1.109240</td>\n      <td>0.855616</td>\n      <td>1.286430</td>\n      <td>1.901889</td>\n      <td>1.182677</td>\n    </tr>\n    <tr>\n      <th>4</th>\n      <td>-0.887193</td>\n      <td>0.124904</td>\n      <td>1.591463</td>\n      <td>-1.193017</td>\n      <td>0.054761</td>\n    </tr>\n  </tbody>\n</table>\n</div>"
     },
     "metadata": {},
     "execution_count": 11
    }
   ],
   "source": [
    "# we can create a new dataframe \n",
    "df2 = pd.DataFrame(np.random.randn(5,5))\n",
    "df2"
   ]
  },
  {
   "cell_type": "code",
   "execution_count": 12,
   "metadata": {},
   "outputs": [
    {
     "output_type": "execute_result",
     "data": {
      "text/plain": "            first col  second col  third col  fourth col  fifth col\nfirst row   -1.058758   -0.904285  -0.192164    0.925097   1.289694\nsecond row  -1.322525    0.502461  -0.020441   -0.713711  -1.257157\nthird row    0.865552   -1.485987  -1.042689    1.553261   0.490722\nfourth row  -0.828089    0.617805  -0.446672    0.071520   1.490294\nfifth row   -0.521146   -0.351046  -0.755082    0.100168   0.611243",
      "text/html": "<div>\n<style scoped>\n    .dataframe tbody tr th:only-of-type {\n        vertical-align: middle;\n    }\n\n    .dataframe tbody tr th {\n        vertical-align: top;\n    }\n\n    .dataframe thead th {\n        text-align: right;\n    }\n</style>\n<table border=\"1\" class=\"dataframe\">\n  <thead>\n    <tr style=\"text-align: right;\">\n      <th></th>\n      <th>first col</th>\n      <th>second col</th>\n      <th>third col</th>\n      <th>fourth col</th>\n      <th>fifth col</th>\n    </tr>\n  </thead>\n  <tbody>\n    <tr>\n      <th>first row</th>\n      <td>-1.058758</td>\n      <td>-0.904285</td>\n      <td>-0.192164</td>\n      <td>0.925097</td>\n      <td>1.289694</td>\n    </tr>\n    <tr>\n      <th>second row</th>\n      <td>-1.322525</td>\n      <td>0.502461</td>\n      <td>-0.020441</td>\n      <td>-0.713711</td>\n      <td>-1.257157</td>\n    </tr>\n    <tr>\n      <th>third row</th>\n      <td>0.865552</td>\n      <td>-1.485987</td>\n      <td>-1.042689</td>\n      <td>1.553261</td>\n      <td>0.490722</td>\n    </tr>\n    <tr>\n      <th>fourth row</th>\n      <td>-0.828089</td>\n      <td>0.617805</td>\n      <td>-0.446672</td>\n      <td>0.071520</td>\n      <td>1.490294</td>\n    </tr>\n    <tr>\n      <th>fifth row</th>\n      <td>-0.521146</td>\n      <td>-0.351046</td>\n      <td>-0.755082</td>\n      <td>0.100168</td>\n      <td>0.611243</td>\n    </tr>\n  </tbody>\n</table>\n</div>"
     },
     "metadata": {},
     "execution_count": 12
    }
   ],
   "source": [
    "# lets give labels to rows and columns\n",
    "df3 = pd.DataFrame(np.random.randn(5,5),index=['first row','second row','third row','fourth row','fifth row'],\n",
    "                   columns=['first col','second col','third col','fourth col','fifth col'])\n",
    "df3"
   ]
  },
  {
   "cell_type": "code",
   "execution_count": 21,
   "metadata": {
    "tags": []
   },
   "outputs": [
    {
     "output_type": "stream",
     "name": "stdout",
     "text": "first row    -0.904285\nsecond row    0.502461\nthird row    -1.485987\nfourth row    0.617805\nfifth row    -0.351046\nName: second col, dtype: float64\n\n"
    },
    {
     "output_type": "execute_result",
     "data": {
      "text/plain": "            third col  first col\nfirst row   -0.192164  -1.058758\nsecond row  -0.020441  -1.322525\nthird row   -1.042689   0.865552\nfourth row  -0.446672  -0.828089\nfifth row   -0.755082  -0.521146",
      "text/html": "<div>\n<style scoped>\n    .dataframe tbody tr th:only-of-type {\n        vertical-align: middle;\n    }\n\n    .dataframe tbody tr th {\n        vertical-align: top;\n    }\n\n    .dataframe thead th {\n        text-align: right;\n    }\n</style>\n<table border=\"1\" class=\"dataframe\">\n  <thead>\n    <tr style=\"text-align: right;\">\n      <th></th>\n      <th>third col</th>\n      <th>first col</th>\n    </tr>\n  </thead>\n  <tbody>\n    <tr>\n      <th>first row</th>\n      <td>-0.192164</td>\n      <td>-1.058758</td>\n    </tr>\n    <tr>\n      <th>second row</th>\n      <td>-0.020441</td>\n      <td>-1.322525</td>\n    </tr>\n    <tr>\n      <th>third row</th>\n      <td>-1.042689</td>\n      <td>0.865552</td>\n    </tr>\n    <tr>\n      <th>fourth row</th>\n      <td>-0.446672</td>\n      <td>-0.828089</td>\n    </tr>\n    <tr>\n      <th>fifth row</th>\n      <td>-0.755082</td>\n      <td>-0.521146</td>\n    </tr>\n  </tbody>\n</table>\n</div>"
     },
     "metadata": {},
     "execution_count": 21
    }
   ],
   "source": [
    "# we can access individual series in a data frame\n",
    "print(df3['second col'])\n",
    "print('')\n",
    "df3[['third col','first col']]"
   ]
  },
  {
   "cell_type": "code",
   "execution_count": 22,
   "metadata": {},
   "outputs": [
    {
     "output_type": "execute_result",
     "data": {
      "text/plain": "first col    -0.828089\nsecond col    0.617805\nthird col    -0.446672\nfourth col    0.071520\nfifth col     1.490294\nName: fourth row, dtype: float64"
     },
     "metadata": {},
     "execution_count": 22
    }
   ],
   "source": [
    "# we can access rows of a dataframe\n",
    "df3.loc['fourth row']"
   ]
  },
  {
   "cell_type": "code",
   "execution_count": 23,
   "metadata": {},
   "outputs": [
    {
     "output_type": "execute_result",
     "data": {
      "text/plain": "first col     0.865552\nsecond col   -1.485987\nthird col    -1.042689\nfourth col    1.553261\nfifth col     0.490722\nName: third row, dtype: float64"
     },
     "metadata": {},
     "execution_count": 23
    }
   ],
   "source": [
    "df3.iloc[2]"
   ]
  },
  {
   "cell_type": "code",
   "execution_count": 24,
   "metadata": {},
   "outputs": [
    {
     "output_type": "execute_result",
     "data": {
      "text/plain": "            second col  third col\nfourth row    0.617805  -0.446672\nfirst row    -0.904285  -0.192164",
      "text/html": "<div>\n<style scoped>\n    .dataframe tbody tr th:only-of-type {\n        vertical-align: middle;\n    }\n\n    .dataframe tbody tr th {\n        vertical-align: top;\n    }\n\n    .dataframe thead th {\n        text-align: right;\n    }\n</style>\n<table border=\"1\" class=\"dataframe\">\n  <thead>\n    <tr style=\"text-align: right;\">\n      <th></th>\n      <th>second col</th>\n      <th>third col</th>\n    </tr>\n  </thead>\n  <tbody>\n    <tr>\n      <th>fourth row</th>\n      <td>0.617805</td>\n      <td>-0.446672</td>\n    </tr>\n    <tr>\n      <th>first row</th>\n      <td>-0.904285</td>\n      <td>-0.192164</td>\n    </tr>\n  </tbody>\n</table>\n</div>"
     },
     "metadata": {},
     "execution_count": 24
    }
   ],
   "source": [
    "df3.loc[['fourth row','first row'],['second col','third col']]"
   ]
  },
  {
   "cell_type": "code",
   "execution_count": 25,
   "metadata": {},
   "outputs": [
    {
     "output_type": "execute_result",
     "data": {
      "text/plain": "            first col  second col  third col  fourth col  fifth col\nfirst row       False       False      False        True       True\nsecond row      False        True      False       False      False\nthird row        True       False      False        True       True\nfourth row      False        True      False        True       True\nfifth row       False       False      False        True       True",
      "text/html": "<div>\n<style scoped>\n    .dataframe tbody tr th:only-of-type {\n        vertical-align: middle;\n    }\n\n    .dataframe tbody tr th {\n        vertical-align: top;\n    }\n\n    .dataframe thead th {\n        text-align: right;\n    }\n</style>\n<table border=\"1\" class=\"dataframe\">\n  <thead>\n    <tr style=\"text-align: right;\">\n      <th></th>\n      <th>first col</th>\n      <th>second col</th>\n      <th>third col</th>\n      <th>fourth col</th>\n      <th>fifth col</th>\n    </tr>\n  </thead>\n  <tbody>\n    <tr>\n      <th>first row</th>\n      <td>False</td>\n      <td>False</td>\n      <td>False</td>\n      <td>True</td>\n      <td>True</td>\n    </tr>\n    <tr>\n      <th>second row</th>\n      <td>False</td>\n      <td>True</td>\n      <td>False</td>\n      <td>False</td>\n      <td>False</td>\n    </tr>\n    <tr>\n      <th>third row</th>\n      <td>True</td>\n      <td>False</td>\n      <td>False</td>\n      <td>True</td>\n      <td>True</td>\n    </tr>\n    <tr>\n      <th>fourth row</th>\n      <td>False</td>\n      <td>True</td>\n      <td>False</td>\n      <td>True</td>\n      <td>True</td>\n    </tr>\n    <tr>\n      <th>fifth row</th>\n      <td>False</td>\n      <td>False</td>\n      <td>False</td>\n      <td>True</td>\n      <td>True</td>\n    </tr>\n  </tbody>\n</table>\n</div>"
     },
     "metadata": {},
     "execution_count": 25
    }
   ],
   "source": [
    "# we can use logical indexing for dataframes just like for numpy arrays\n",
    "df3>0"
   ]
  },
  {
   "cell_type": "code",
   "execution_count": 26,
   "metadata": {
    "tags": []
   },
   "outputs": [
    {
     "output_type": "stream",
     "name": "stdout",
     "text": "first col  second col  third col  fourth col  fifth col\nfirst row         NaN         NaN        NaN    0.925097   1.289694\nsecond row        NaN    0.502461        NaN         NaN        NaN\nthird row    0.865552         NaN        NaN    1.553261   0.490722\nfourth row        NaN    0.617805        NaN    0.071520   1.490294\nfifth row         NaN         NaN        NaN    0.100168   0.611243\n"
    }
   ],
   "source": [
    "print(df3[df3>0])"
   ]
  },
  {
   "cell_type": "code",
   "execution_count": 27,
   "metadata": {},
   "outputs": [
    {
     "output_type": "execute_result",
     "data": {
      "text/plain": "            first col  second col  third col  fourth col  fifth col  sixth col\nfirst row   -1.058758   -0.904285  -0.192164    0.925097   1.289694  -1.025255\nsecond row  -1.322525    0.502461  -0.020441   -0.713711  -1.257157  -0.167622\nthird row    0.865552   -1.485987  -1.042689    1.553261   0.490722  -0.896537\nfourth row  -0.828089    0.617805  -0.446672    0.071520   1.490294   0.063504\nfifth row   -0.521146   -0.351046  -0.755082    0.100168   0.611243   0.170522",
      "text/html": "<div>\n<style scoped>\n    .dataframe tbody tr th:only-of-type {\n        vertical-align: middle;\n    }\n\n    .dataframe tbody tr th {\n        vertical-align: top;\n    }\n\n    .dataframe thead th {\n        text-align: right;\n    }\n</style>\n<table border=\"1\" class=\"dataframe\">\n  <thead>\n    <tr style=\"text-align: right;\">\n      <th></th>\n      <th>first col</th>\n      <th>second col</th>\n      <th>third col</th>\n      <th>fourth col</th>\n      <th>fifth col</th>\n      <th>sixth col</th>\n    </tr>\n  </thead>\n  <tbody>\n    <tr>\n      <th>first row</th>\n      <td>-1.058758</td>\n      <td>-0.904285</td>\n      <td>-0.192164</td>\n      <td>0.925097</td>\n      <td>1.289694</td>\n      <td>-1.025255</td>\n    </tr>\n    <tr>\n      <th>second row</th>\n      <td>-1.322525</td>\n      <td>0.502461</td>\n      <td>-0.020441</td>\n      <td>-0.713711</td>\n      <td>-1.257157</td>\n      <td>-0.167622</td>\n    </tr>\n    <tr>\n      <th>third row</th>\n      <td>0.865552</td>\n      <td>-1.485987</td>\n      <td>-1.042689</td>\n      <td>1.553261</td>\n      <td>0.490722</td>\n      <td>-0.896537</td>\n    </tr>\n    <tr>\n      <th>fourth row</th>\n      <td>-0.828089</td>\n      <td>0.617805</td>\n      <td>-0.446672</td>\n      <td>0.071520</td>\n      <td>1.490294</td>\n      <td>0.063504</td>\n    </tr>\n    <tr>\n      <th>fifth row</th>\n      <td>-0.521146</td>\n      <td>-0.351046</td>\n      <td>-0.755082</td>\n      <td>0.100168</td>\n      <td>0.611243</td>\n      <td>0.170522</td>\n    </tr>\n  </tbody>\n</table>\n</div>"
     },
     "metadata": {},
     "execution_count": 27
    }
   ],
   "source": [
    "# we can add columns to a dataframe\n",
    "df3['sixth col'] = np.random.randn(5,1)\n",
    "df3"
   ]
  },
  {
   "cell_type": "code",
   "execution_count": 29,
   "metadata": {},
   "outputs": [
    {
     "output_type": "error",
     "ename": "KeyError",
     "evalue": "\"['first col'] not found in axis\"",
     "traceback": [
      "\u001b[1;31m---------------------------------------------------------------------------\u001b[0m",
      "\u001b[1;31mKeyError\u001b[0m                                  Traceback (most recent call last)",
      "\u001b[1;32m<ipython-input-29-18785828149f>\u001b[0m in \u001b[0;36m<module>\u001b[1;34m\u001b[0m\n\u001b[0;32m      1\u001b[0m \u001b[1;31m# we can remove columns or rows from a dataframe\u001b[0m\u001b[1;33m\u001b[0m\u001b[1;33m\u001b[0m\u001b[1;33m\u001b[0m\u001b[0m\n\u001b[1;32m----> 2\u001b[1;33m \u001b[0mdf3\u001b[0m\u001b[1;33m.\u001b[0m\u001b[0mdrop\u001b[0m\u001b[1;33m(\u001b[0m\u001b[1;34m'first col'\u001b[0m\u001b[1;33m,\u001b[0m\u001b[0maxis\u001b[0m\u001b[1;33m=\u001b[0m\u001b[1;36m1\u001b[0m\u001b[1;33m,\u001b[0m\u001b[0minplace\u001b[0m\u001b[1;33m=\u001b[0m\u001b[1;32mTrue\u001b[0m\u001b[1;33m)\u001b[0m\u001b[1;33m\u001b[0m\u001b[1;33m\u001b[0m\u001b[0m\n\u001b[0m",
      "\u001b[1;32m~\\anaconda3\\lib\\site-packages\\pandas\\core\\frame.py\u001b[0m in \u001b[0;36mdrop\u001b[1;34m(self, labels, axis, index, columns, level, inplace, errors)\u001b[0m\n\u001b[0;32m   3995\u001b[0m             \u001b[0mlevel\u001b[0m\u001b[1;33m=\u001b[0m\u001b[0mlevel\u001b[0m\u001b[1;33m,\u001b[0m\u001b[1;33m\u001b[0m\u001b[1;33m\u001b[0m\u001b[0m\n\u001b[0;32m   3996\u001b[0m             \u001b[0minplace\u001b[0m\u001b[1;33m=\u001b[0m\u001b[0minplace\u001b[0m\u001b[1;33m,\u001b[0m\u001b[1;33m\u001b[0m\u001b[1;33m\u001b[0m\u001b[0m\n\u001b[1;32m-> 3997\u001b[1;33m             \u001b[0merrors\u001b[0m\u001b[1;33m=\u001b[0m\u001b[0merrors\u001b[0m\u001b[1;33m,\u001b[0m\u001b[1;33m\u001b[0m\u001b[1;33m\u001b[0m\u001b[0m\n\u001b[0m\u001b[0;32m   3998\u001b[0m         )\n\u001b[0;32m   3999\u001b[0m \u001b[1;33m\u001b[0m\u001b[0m\n",
      "\u001b[1;32m~\\anaconda3\\lib\\site-packages\\pandas\\core\\generic.py\u001b[0m in \u001b[0;36mdrop\u001b[1;34m(self, labels, axis, index, columns, level, inplace, errors)\u001b[0m\n\u001b[0;32m   3934\u001b[0m         \u001b[1;32mfor\u001b[0m \u001b[0maxis\u001b[0m\u001b[1;33m,\u001b[0m \u001b[0mlabels\u001b[0m \u001b[1;32min\u001b[0m \u001b[0maxes\u001b[0m\u001b[1;33m.\u001b[0m\u001b[0mitems\u001b[0m\u001b[1;33m(\u001b[0m\u001b[1;33m)\u001b[0m\u001b[1;33m:\u001b[0m\u001b[1;33m\u001b[0m\u001b[1;33m\u001b[0m\u001b[0m\n\u001b[0;32m   3935\u001b[0m             \u001b[1;32mif\u001b[0m \u001b[0mlabels\u001b[0m \u001b[1;32mis\u001b[0m \u001b[1;32mnot\u001b[0m \u001b[1;32mNone\u001b[0m\u001b[1;33m:\u001b[0m\u001b[1;33m\u001b[0m\u001b[1;33m\u001b[0m\u001b[0m\n\u001b[1;32m-> 3936\u001b[1;33m                 \u001b[0mobj\u001b[0m \u001b[1;33m=\u001b[0m \u001b[0mobj\u001b[0m\u001b[1;33m.\u001b[0m\u001b[0m_drop_axis\u001b[0m\u001b[1;33m(\u001b[0m\u001b[0mlabels\u001b[0m\u001b[1;33m,\u001b[0m \u001b[0maxis\u001b[0m\u001b[1;33m,\u001b[0m \u001b[0mlevel\u001b[0m\u001b[1;33m=\u001b[0m\u001b[0mlevel\u001b[0m\u001b[1;33m,\u001b[0m \u001b[0merrors\u001b[0m\u001b[1;33m=\u001b[0m\u001b[0merrors\u001b[0m\u001b[1;33m)\u001b[0m\u001b[1;33m\u001b[0m\u001b[1;33m\u001b[0m\u001b[0m\n\u001b[0m\u001b[0;32m   3937\u001b[0m \u001b[1;33m\u001b[0m\u001b[0m\n\u001b[0;32m   3938\u001b[0m         \u001b[1;32mif\u001b[0m \u001b[0minplace\u001b[0m\u001b[1;33m:\u001b[0m\u001b[1;33m\u001b[0m\u001b[1;33m\u001b[0m\u001b[0m\n",
      "\u001b[1;32m~\\anaconda3\\lib\\site-packages\\pandas\\core\\generic.py\u001b[0m in \u001b[0;36m_drop_axis\u001b[1;34m(self, labels, axis, level, errors)\u001b[0m\n\u001b[0;32m   3968\u001b[0m                 \u001b[0mnew_axis\u001b[0m \u001b[1;33m=\u001b[0m \u001b[0maxis\u001b[0m\u001b[1;33m.\u001b[0m\u001b[0mdrop\u001b[0m\u001b[1;33m(\u001b[0m\u001b[0mlabels\u001b[0m\u001b[1;33m,\u001b[0m \u001b[0mlevel\u001b[0m\u001b[1;33m=\u001b[0m\u001b[0mlevel\u001b[0m\u001b[1;33m,\u001b[0m \u001b[0merrors\u001b[0m\u001b[1;33m=\u001b[0m\u001b[0merrors\u001b[0m\u001b[1;33m)\u001b[0m\u001b[1;33m\u001b[0m\u001b[1;33m\u001b[0m\u001b[0m\n\u001b[0;32m   3969\u001b[0m             \u001b[1;32melse\u001b[0m\u001b[1;33m:\u001b[0m\u001b[1;33m\u001b[0m\u001b[1;33m\u001b[0m\u001b[0m\n\u001b[1;32m-> 3970\u001b[1;33m                 \u001b[0mnew_axis\u001b[0m \u001b[1;33m=\u001b[0m \u001b[0maxis\u001b[0m\u001b[1;33m.\u001b[0m\u001b[0mdrop\u001b[0m\u001b[1;33m(\u001b[0m\u001b[0mlabels\u001b[0m\u001b[1;33m,\u001b[0m \u001b[0merrors\u001b[0m\u001b[1;33m=\u001b[0m\u001b[0merrors\u001b[0m\u001b[1;33m)\u001b[0m\u001b[1;33m\u001b[0m\u001b[1;33m\u001b[0m\u001b[0m\n\u001b[0m\u001b[0;32m   3971\u001b[0m             \u001b[0mresult\u001b[0m \u001b[1;33m=\u001b[0m \u001b[0mself\u001b[0m\u001b[1;33m.\u001b[0m\u001b[0mreindex\u001b[0m\u001b[1;33m(\u001b[0m\u001b[1;33m**\u001b[0m\u001b[1;33m{\u001b[0m\u001b[0maxis_name\u001b[0m\u001b[1;33m:\u001b[0m \u001b[0mnew_axis\u001b[0m\u001b[1;33m}\u001b[0m\u001b[1;33m)\u001b[0m\u001b[1;33m\u001b[0m\u001b[1;33m\u001b[0m\u001b[0m\n\u001b[0;32m   3972\u001b[0m \u001b[1;33m\u001b[0m\u001b[0m\n",
      "\u001b[1;32m~\\anaconda3\\lib\\site-packages\\pandas\\core\\indexes\\base.py\u001b[0m in \u001b[0;36mdrop\u001b[1;34m(self, labels, errors)\u001b[0m\n\u001b[0;32m   5016\u001b[0m         \u001b[1;32mif\u001b[0m \u001b[0mmask\u001b[0m\u001b[1;33m.\u001b[0m\u001b[0many\u001b[0m\u001b[1;33m(\u001b[0m\u001b[1;33m)\u001b[0m\u001b[1;33m:\u001b[0m\u001b[1;33m\u001b[0m\u001b[1;33m\u001b[0m\u001b[0m\n\u001b[0;32m   5017\u001b[0m             \u001b[1;32mif\u001b[0m \u001b[0merrors\u001b[0m \u001b[1;33m!=\u001b[0m \u001b[1;34m\"ignore\"\u001b[0m\u001b[1;33m:\u001b[0m\u001b[1;33m\u001b[0m\u001b[1;33m\u001b[0m\u001b[0m\n\u001b[1;32m-> 5018\u001b[1;33m                 \u001b[1;32mraise\u001b[0m \u001b[0mKeyError\u001b[0m\u001b[1;33m(\u001b[0m\u001b[1;34mf\"{labels[mask]} not found in axis\"\u001b[0m\u001b[1;33m)\u001b[0m\u001b[1;33m\u001b[0m\u001b[1;33m\u001b[0m\u001b[0m\n\u001b[0m\u001b[0;32m   5019\u001b[0m             \u001b[0mindexer\u001b[0m \u001b[1;33m=\u001b[0m \u001b[0mindexer\u001b[0m\u001b[1;33m[\u001b[0m\u001b[1;33m~\u001b[0m\u001b[0mmask\u001b[0m\u001b[1;33m]\u001b[0m\u001b[1;33m\u001b[0m\u001b[1;33m\u001b[0m\u001b[0m\n\u001b[0;32m   5020\u001b[0m         \u001b[1;32mreturn\u001b[0m \u001b[0mself\u001b[0m\u001b[1;33m.\u001b[0m\u001b[0mdelete\u001b[0m\u001b[1;33m(\u001b[0m\u001b[0mindexer\u001b[0m\u001b[1;33m)\u001b[0m\u001b[1;33m\u001b[0m\u001b[1;33m\u001b[0m\u001b[0m\n",
      "\u001b[1;31mKeyError\u001b[0m: \"['first col'] not found in axis\""
     ]
    }
   ],
   "source": [
    "# we can remove columns or rows from a dataframe\n",
    "df3.drop('first col',axis=1,inplace=True)"
   ]
  },
  {
   "cell_type": "code",
   "execution_count": 30,
   "metadata": {},
   "outputs": [
    {
     "output_type": "execute_result",
     "data": {
      "text/plain": "            second col  third col  fourth col  fifth col  sixth col\nfirst row    -0.904285  -0.192164    0.925097   1.289694  -1.025255\nsecond row    0.502461  -0.020441   -0.713711  -1.257157  -0.167622\nthird row    -1.485987  -1.042689    1.553261   0.490722  -0.896537\nfourth row    0.617805  -0.446672    0.071520   1.490294   0.063504\nfifth row    -0.351046  -0.755082    0.100168   0.611243   0.170522",
      "text/html": "<div>\n<style scoped>\n    .dataframe tbody tr th:only-of-type {\n        vertical-align: middle;\n    }\n\n    .dataframe tbody tr th {\n        vertical-align: top;\n    }\n\n    .dataframe thead th {\n        text-align: right;\n    }\n</style>\n<table border=\"1\" class=\"dataframe\">\n  <thead>\n    <tr style=\"text-align: right;\">\n      <th></th>\n      <th>second col</th>\n      <th>third col</th>\n      <th>fourth col</th>\n      <th>fifth col</th>\n      <th>sixth col</th>\n    </tr>\n  </thead>\n  <tbody>\n    <tr>\n      <th>first row</th>\n      <td>-0.904285</td>\n      <td>-0.192164</td>\n      <td>0.925097</td>\n      <td>1.289694</td>\n      <td>-1.025255</td>\n    </tr>\n    <tr>\n      <th>second row</th>\n      <td>0.502461</td>\n      <td>-0.020441</td>\n      <td>-0.713711</td>\n      <td>-1.257157</td>\n      <td>-0.167622</td>\n    </tr>\n    <tr>\n      <th>third row</th>\n      <td>-1.485987</td>\n      <td>-1.042689</td>\n      <td>1.553261</td>\n      <td>0.490722</td>\n      <td>-0.896537</td>\n    </tr>\n    <tr>\n      <th>fourth row</th>\n      <td>0.617805</td>\n      <td>-0.446672</td>\n      <td>0.071520</td>\n      <td>1.490294</td>\n      <td>0.063504</td>\n    </tr>\n    <tr>\n      <th>fifth row</th>\n      <td>-0.351046</td>\n      <td>-0.755082</td>\n      <td>0.100168</td>\n      <td>0.611243</td>\n      <td>0.170522</td>\n    </tr>\n  </tbody>\n</table>\n</div>"
     },
     "metadata": {},
     "execution_count": 30
    }
   ],
   "source": [
    "df3"
   ]
  },
  {
   "cell_type": "code",
   "execution_count": 31,
   "metadata": {},
   "outputs": [
    {
     "output_type": "error",
     "ename": "KeyError",
     "evalue": "\"['first col'] not found in axis\"",
     "traceback": [
      "\u001b[1;31m---------------------------------------------------------------------------\u001b[0m",
      "\u001b[1;31mKeyError\u001b[0m                                  Traceback (most recent call last)",
      "\u001b[1;32m<ipython-input-31-48cd63bfd0e7>\u001b[0m in \u001b[0;36m<module>\u001b[1;34m\u001b[0m\n\u001b[1;32m----> 1\u001b[1;33m \u001b[0mdf4\u001b[0m \u001b[1;33m=\u001b[0m \u001b[0mdf3\u001b[0m\u001b[1;33m.\u001b[0m\u001b[0mdrop\u001b[0m\u001b[1;33m(\u001b[0m\u001b[1;34m'first col'\u001b[0m\u001b[1;33m,\u001b[0m\u001b[0maxis\u001b[0m\u001b[1;33m=\u001b[0m\u001b[1;36m1\u001b[0m\u001b[1;33m)\u001b[0m\u001b[1;33m\u001b[0m\u001b[1;33m\u001b[0m\u001b[0m\n\u001b[0m\u001b[0;32m      2\u001b[0m \u001b[0mdf4\u001b[0m\u001b[1;33m\u001b[0m\u001b[1;33m\u001b[0m\u001b[0m\n",
      "\u001b[1;32m~\\anaconda3\\lib\\site-packages\\pandas\\core\\frame.py\u001b[0m in \u001b[0;36mdrop\u001b[1;34m(self, labels, axis, index, columns, level, inplace, errors)\u001b[0m\n\u001b[0;32m   3995\u001b[0m             \u001b[0mlevel\u001b[0m\u001b[1;33m=\u001b[0m\u001b[0mlevel\u001b[0m\u001b[1;33m,\u001b[0m\u001b[1;33m\u001b[0m\u001b[1;33m\u001b[0m\u001b[0m\n\u001b[0;32m   3996\u001b[0m             \u001b[0minplace\u001b[0m\u001b[1;33m=\u001b[0m\u001b[0minplace\u001b[0m\u001b[1;33m,\u001b[0m\u001b[1;33m\u001b[0m\u001b[1;33m\u001b[0m\u001b[0m\n\u001b[1;32m-> 3997\u001b[1;33m             \u001b[0merrors\u001b[0m\u001b[1;33m=\u001b[0m\u001b[0merrors\u001b[0m\u001b[1;33m,\u001b[0m\u001b[1;33m\u001b[0m\u001b[1;33m\u001b[0m\u001b[0m\n\u001b[0m\u001b[0;32m   3998\u001b[0m         )\n\u001b[0;32m   3999\u001b[0m \u001b[1;33m\u001b[0m\u001b[0m\n",
      "\u001b[1;32m~\\anaconda3\\lib\\site-packages\\pandas\\core\\generic.py\u001b[0m in \u001b[0;36mdrop\u001b[1;34m(self, labels, axis, index, columns, level, inplace, errors)\u001b[0m\n\u001b[0;32m   3934\u001b[0m         \u001b[1;32mfor\u001b[0m \u001b[0maxis\u001b[0m\u001b[1;33m,\u001b[0m \u001b[0mlabels\u001b[0m \u001b[1;32min\u001b[0m \u001b[0maxes\u001b[0m\u001b[1;33m.\u001b[0m\u001b[0mitems\u001b[0m\u001b[1;33m(\u001b[0m\u001b[1;33m)\u001b[0m\u001b[1;33m:\u001b[0m\u001b[1;33m\u001b[0m\u001b[1;33m\u001b[0m\u001b[0m\n\u001b[0;32m   3935\u001b[0m             \u001b[1;32mif\u001b[0m \u001b[0mlabels\u001b[0m \u001b[1;32mis\u001b[0m \u001b[1;32mnot\u001b[0m \u001b[1;32mNone\u001b[0m\u001b[1;33m:\u001b[0m\u001b[1;33m\u001b[0m\u001b[1;33m\u001b[0m\u001b[0m\n\u001b[1;32m-> 3936\u001b[1;33m                 \u001b[0mobj\u001b[0m \u001b[1;33m=\u001b[0m \u001b[0mobj\u001b[0m\u001b[1;33m.\u001b[0m\u001b[0m_drop_axis\u001b[0m\u001b[1;33m(\u001b[0m\u001b[0mlabels\u001b[0m\u001b[1;33m,\u001b[0m \u001b[0maxis\u001b[0m\u001b[1;33m,\u001b[0m \u001b[0mlevel\u001b[0m\u001b[1;33m=\u001b[0m\u001b[0mlevel\u001b[0m\u001b[1;33m,\u001b[0m \u001b[0merrors\u001b[0m\u001b[1;33m=\u001b[0m\u001b[0merrors\u001b[0m\u001b[1;33m)\u001b[0m\u001b[1;33m\u001b[0m\u001b[1;33m\u001b[0m\u001b[0m\n\u001b[0m\u001b[0;32m   3937\u001b[0m \u001b[1;33m\u001b[0m\u001b[0m\n\u001b[0;32m   3938\u001b[0m         \u001b[1;32mif\u001b[0m \u001b[0minplace\u001b[0m\u001b[1;33m:\u001b[0m\u001b[1;33m\u001b[0m\u001b[1;33m\u001b[0m\u001b[0m\n",
      "\u001b[1;32m~\\anaconda3\\lib\\site-packages\\pandas\\core\\generic.py\u001b[0m in \u001b[0;36m_drop_axis\u001b[1;34m(self, labels, axis, level, errors)\u001b[0m\n\u001b[0;32m   3968\u001b[0m                 \u001b[0mnew_axis\u001b[0m \u001b[1;33m=\u001b[0m \u001b[0maxis\u001b[0m\u001b[1;33m.\u001b[0m\u001b[0mdrop\u001b[0m\u001b[1;33m(\u001b[0m\u001b[0mlabels\u001b[0m\u001b[1;33m,\u001b[0m \u001b[0mlevel\u001b[0m\u001b[1;33m=\u001b[0m\u001b[0mlevel\u001b[0m\u001b[1;33m,\u001b[0m \u001b[0merrors\u001b[0m\u001b[1;33m=\u001b[0m\u001b[0merrors\u001b[0m\u001b[1;33m)\u001b[0m\u001b[1;33m\u001b[0m\u001b[1;33m\u001b[0m\u001b[0m\n\u001b[0;32m   3969\u001b[0m             \u001b[1;32melse\u001b[0m\u001b[1;33m:\u001b[0m\u001b[1;33m\u001b[0m\u001b[1;33m\u001b[0m\u001b[0m\n\u001b[1;32m-> 3970\u001b[1;33m                 \u001b[0mnew_axis\u001b[0m \u001b[1;33m=\u001b[0m \u001b[0maxis\u001b[0m\u001b[1;33m.\u001b[0m\u001b[0mdrop\u001b[0m\u001b[1;33m(\u001b[0m\u001b[0mlabels\u001b[0m\u001b[1;33m,\u001b[0m \u001b[0merrors\u001b[0m\u001b[1;33m=\u001b[0m\u001b[0merrors\u001b[0m\u001b[1;33m)\u001b[0m\u001b[1;33m\u001b[0m\u001b[1;33m\u001b[0m\u001b[0m\n\u001b[0m\u001b[0;32m   3971\u001b[0m             \u001b[0mresult\u001b[0m \u001b[1;33m=\u001b[0m \u001b[0mself\u001b[0m\u001b[1;33m.\u001b[0m\u001b[0mreindex\u001b[0m\u001b[1;33m(\u001b[0m\u001b[1;33m**\u001b[0m\u001b[1;33m{\u001b[0m\u001b[0maxis_name\u001b[0m\u001b[1;33m:\u001b[0m \u001b[0mnew_axis\u001b[0m\u001b[1;33m}\u001b[0m\u001b[1;33m)\u001b[0m\u001b[1;33m\u001b[0m\u001b[1;33m\u001b[0m\u001b[0m\n\u001b[0;32m   3972\u001b[0m \u001b[1;33m\u001b[0m\u001b[0m\n",
      "\u001b[1;32m~\\anaconda3\\lib\\site-packages\\pandas\\core\\indexes\\base.py\u001b[0m in \u001b[0;36mdrop\u001b[1;34m(self, labels, errors)\u001b[0m\n\u001b[0;32m   5016\u001b[0m         \u001b[1;32mif\u001b[0m \u001b[0mmask\u001b[0m\u001b[1;33m.\u001b[0m\u001b[0many\u001b[0m\u001b[1;33m(\u001b[0m\u001b[1;33m)\u001b[0m\u001b[1;33m:\u001b[0m\u001b[1;33m\u001b[0m\u001b[1;33m\u001b[0m\u001b[0m\n\u001b[0;32m   5017\u001b[0m             \u001b[1;32mif\u001b[0m \u001b[0merrors\u001b[0m \u001b[1;33m!=\u001b[0m \u001b[1;34m\"ignore\"\u001b[0m\u001b[1;33m:\u001b[0m\u001b[1;33m\u001b[0m\u001b[1;33m\u001b[0m\u001b[0m\n\u001b[1;32m-> 5018\u001b[1;33m                 \u001b[1;32mraise\u001b[0m \u001b[0mKeyError\u001b[0m\u001b[1;33m(\u001b[0m\u001b[1;34mf\"{labels[mask]} not found in axis\"\u001b[0m\u001b[1;33m)\u001b[0m\u001b[1;33m\u001b[0m\u001b[1;33m\u001b[0m\u001b[0m\n\u001b[0m\u001b[0;32m   5019\u001b[0m             \u001b[0mindexer\u001b[0m \u001b[1;33m=\u001b[0m \u001b[0mindexer\u001b[0m\u001b[1;33m[\u001b[0m\u001b[1;33m~\u001b[0m\u001b[0mmask\u001b[0m\u001b[1;33m]\u001b[0m\u001b[1;33m\u001b[0m\u001b[1;33m\u001b[0m\u001b[0m\n\u001b[0;32m   5020\u001b[0m         \u001b[1;32mreturn\u001b[0m \u001b[0mself\u001b[0m\u001b[1;33m.\u001b[0m\u001b[0mdelete\u001b[0m\u001b[1;33m(\u001b[0m\u001b[0mindexer\u001b[0m\u001b[1;33m)\u001b[0m\u001b[1;33m\u001b[0m\u001b[1;33m\u001b[0m\u001b[0m\n",
      "\u001b[1;31mKeyError\u001b[0m: \"['first col'] not found in axis\""
     ]
    }
   ],
   "source": [
    "df4 = df3.drop('first col',axis=1)\n",
    "df4"
   ]
  },
  {
   "cell_type": "code",
   "execution_count": 32,
   "metadata": {},
   "outputs": [
    {
     "output_type": "execute_result",
     "data": {
      "text/plain": "            second col  third col  fourth col  fifth col  sixth col\nfirst row    -0.904285  -0.192164    0.925097   1.289694  -1.025255\nthird row    -1.485987  -1.042689    1.553261   0.490722  -0.896537\nfourth row    0.617805  -0.446672    0.071520   1.490294   0.063504\nfifth row    -0.351046  -0.755082    0.100168   0.611243   0.170522",
      "text/html": "<div>\n<style scoped>\n    .dataframe tbody tr th:only-of-type {\n        vertical-align: middle;\n    }\n\n    .dataframe tbody tr th {\n        vertical-align: top;\n    }\n\n    .dataframe thead th {\n        text-align: right;\n    }\n</style>\n<table border=\"1\" class=\"dataframe\">\n  <thead>\n    <tr style=\"text-align: right;\">\n      <th></th>\n      <th>second col</th>\n      <th>third col</th>\n      <th>fourth col</th>\n      <th>fifth col</th>\n      <th>sixth col</th>\n    </tr>\n  </thead>\n  <tbody>\n    <tr>\n      <th>first row</th>\n      <td>-0.904285</td>\n      <td>-0.192164</td>\n      <td>0.925097</td>\n      <td>1.289694</td>\n      <td>-1.025255</td>\n    </tr>\n    <tr>\n      <th>third row</th>\n      <td>-1.485987</td>\n      <td>-1.042689</td>\n      <td>1.553261</td>\n      <td>0.490722</td>\n      <td>-0.896537</td>\n    </tr>\n    <tr>\n      <th>fourth row</th>\n      <td>0.617805</td>\n      <td>-0.446672</td>\n      <td>0.071520</td>\n      <td>1.490294</td>\n      <td>0.063504</td>\n    </tr>\n    <tr>\n      <th>fifth row</th>\n      <td>-0.351046</td>\n      <td>-0.755082</td>\n      <td>0.100168</td>\n      <td>0.611243</td>\n      <td>0.170522</td>\n    </tr>\n  </tbody>\n</table>\n</div>"
     },
     "metadata": {},
     "execution_count": 32
    }
   ],
   "source": [
    "df5 = df3.drop('second row',axis=0)\n",
    "df5"
   ]
  },
  {
   "cell_type": "code",
   "execution_count": 33,
   "metadata": {},
   "outputs": [
    {
     "output_type": "execute_result",
     "data": {
      "text/plain": "        index  second col  third col  fourth col  fifth col  sixth col\n0   first row   -0.904285  -0.192164    0.925097   1.289694  -1.025255\n1   third row   -1.485987  -1.042689    1.553261   0.490722  -0.896537\n2  fourth row    0.617805  -0.446672    0.071520   1.490294   0.063504\n3   fifth row   -0.351046  -0.755082    0.100168   0.611243   0.170522",
      "text/html": "<div>\n<style scoped>\n    .dataframe tbody tr th:only-of-type {\n        vertical-align: middle;\n    }\n\n    .dataframe tbody tr th {\n        vertical-align: top;\n    }\n\n    .dataframe thead th {\n        text-align: right;\n    }\n</style>\n<table border=\"1\" class=\"dataframe\">\n  <thead>\n    <tr style=\"text-align: right;\">\n      <th></th>\n      <th>index</th>\n      <th>second col</th>\n      <th>third col</th>\n      <th>fourth col</th>\n      <th>fifth col</th>\n      <th>sixth col</th>\n    </tr>\n  </thead>\n  <tbody>\n    <tr>\n      <th>0</th>\n      <td>first row</td>\n      <td>-0.904285</td>\n      <td>-0.192164</td>\n      <td>0.925097</td>\n      <td>1.289694</td>\n      <td>-1.025255</td>\n    </tr>\n    <tr>\n      <th>1</th>\n      <td>third row</td>\n      <td>-1.485987</td>\n      <td>-1.042689</td>\n      <td>1.553261</td>\n      <td>0.490722</td>\n      <td>-0.896537</td>\n    </tr>\n    <tr>\n      <th>2</th>\n      <td>fourth row</td>\n      <td>0.617805</td>\n      <td>-0.446672</td>\n      <td>0.071520</td>\n      <td>1.490294</td>\n      <td>0.063504</td>\n    </tr>\n    <tr>\n      <th>3</th>\n      <td>fifth row</td>\n      <td>-0.351046</td>\n      <td>-0.755082</td>\n      <td>0.100168</td>\n      <td>0.611243</td>\n      <td>0.170522</td>\n    </tr>\n  </tbody>\n</table>\n</div>"
     },
     "metadata": {},
     "execution_count": 33
    }
   ],
   "source": [
    "# we can remove a dataframe's index labels\n",
    "df5.reset_index()"
   ]
  },
  {
   "cell_type": "code",
   "execution_count": 34,
   "metadata": {},
   "outputs": [
    {
     "output_type": "execute_result",
     "data": {
      "text/plain": "            second col  third col  fourth col  fifth col  sixth col\nfirst row    -0.904285  -0.192164    0.925097   1.289694  -1.025255\nthird row    -1.485987  -1.042689    1.553261   0.490722  -0.896537\nfourth row    0.617805  -0.446672    0.071520   1.490294   0.063504\nfifth row    -0.351046  -0.755082    0.100168   0.611243   0.170522",
      "text/html": "<div>\n<style scoped>\n    .dataframe tbody tr th:only-of-type {\n        vertical-align: middle;\n    }\n\n    .dataframe tbody tr th {\n        vertical-align: top;\n    }\n\n    .dataframe thead th {\n        text-align: right;\n    }\n</style>\n<table border=\"1\" class=\"dataframe\">\n  <thead>\n    <tr style=\"text-align: right;\">\n      <th></th>\n      <th>second col</th>\n      <th>third col</th>\n      <th>fourth col</th>\n      <th>fifth col</th>\n      <th>sixth col</th>\n    </tr>\n  </thead>\n  <tbody>\n    <tr>\n      <th>first row</th>\n      <td>-0.904285</td>\n      <td>-0.192164</td>\n      <td>0.925097</td>\n      <td>1.289694</td>\n      <td>-1.025255</td>\n    </tr>\n    <tr>\n      <th>third row</th>\n      <td>-1.485987</td>\n      <td>-1.042689</td>\n      <td>1.553261</td>\n      <td>0.490722</td>\n      <td>-0.896537</td>\n    </tr>\n    <tr>\n      <th>fourth row</th>\n      <td>0.617805</td>\n      <td>-0.446672</td>\n      <td>0.071520</td>\n      <td>1.490294</td>\n      <td>0.063504</td>\n    </tr>\n    <tr>\n      <th>fifth row</th>\n      <td>-0.351046</td>\n      <td>-0.755082</td>\n      <td>0.100168</td>\n      <td>0.611243</td>\n      <td>0.170522</td>\n    </tr>\n  </tbody>\n</table>\n</div>"
     },
     "metadata": {},
     "execution_count": 34
    }
   ],
   "source": [
    "df5"
   ]
  },
  {
   "cell_type": "code",
   "execution_count": 35,
   "metadata": {},
   "outputs": [
    {
     "output_type": "execute_result",
     "data": {
      "text/plain": "        index  second col  third col  fourth col  fifth col  sixth col\n0   first row   -0.904285  -0.192164    0.925097   1.289694  -1.025255\n1   third row   -1.485987  -1.042689    1.553261   0.490722  -0.896537\n2  fourth row    0.617805  -0.446672    0.071520   1.490294   0.063504\n3   fifth row   -0.351046  -0.755082    0.100168   0.611243   0.170522",
      "text/html": "<div>\n<style scoped>\n    .dataframe tbody tr th:only-of-type {\n        vertical-align: middle;\n    }\n\n    .dataframe tbody tr th {\n        vertical-align: top;\n    }\n\n    .dataframe thead th {\n        text-align: right;\n    }\n</style>\n<table border=\"1\" class=\"dataframe\">\n  <thead>\n    <tr style=\"text-align: right;\">\n      <th></th>\n      <th>index</th>\n      <th>second col</th>\n      <th>third col</th>\n      <th>fourth col</th>\n      <th>fifth col</th>\n      <th>sixth col</th>\n    </tr>\n  </thead>\n  <tbody>\n    <tr>\n      <th>0</th>\n      <td>first row</td>\n      <td>-0.904285</td>\n      <td>-0.192164</td>\n      <td>0.925097</td>\n      <td>1.289694</td>\n      <td>-1.025255</td>\n    </tr>\n    <tr>\n      <th>1</th>\n      <td>third row</td>\n      <td>-1.485987</td>\n      <td>-1.042689</td>\n      <td>1.553261</td>\n      <td>0.490722</td>\n      <td>-0.896537</td>\n    </tr>\n    <tr>\n      <th>2</th>\n      <td>fourth row</td>\n      <td>0.617805</td>\n      <td>-0.446672</td>\n      <td>0.071520</td>\n      <td>1.490294</td>\n      <td>0.063504</td>\n    </tr>\n    <tr>\n      <th>3</th>\n      <td>fifth row</td>\n      <td>-0.351046</td>\n      <td>-0.755082</td>\n      <td>0.100168</td>\n      <td>0.611243</td>\n      <td>0.170522</td>\n    </tr>\n  </tbody>\n</table>\n</div>"
     },
     "metadata": {},
     "execution_count": 35
    }
   ],
   "source": [
    "df5.reset_index(inplace=True)\n",
    "df5"
   ]
  },
  {
   "cell_type": "code",
   "execution_count": 36,
   "metadata": {},
   "outputs": [
    {
     "output_type": "execute_result",
     "data": {
      "text/plain": "        index  second col  third col  fourth col  fifth col  sixth col  \\\n0   first row   -0.904285  -0.192164    0.925097   1.289694  -1.025255   \n1   third row   -1.485987  -1.042689    1.553261   0.490722  -0.896537   \n2  fourth row    0.617805  -0.446672    0.071520   1.490294   0.063504   \n3   fifth row   -0.351046  -0.755082    0.100168   0.611243   0.170522   \n\n  new name  \n0     This  \n1       is  \n2      the  \n3      row  ",
      "text/html": "<div>\n<style scoped>\n    .dataframe tbody tr th:only-of-type {\n        vertical-align: middle;\n    }\n\n    .dataframe tbody tr th {\n        vertical-align: top;\n    }\n\n    .dataframe thead th {\n        text-align: right;\n    }\n</style>\n<table border=\"1\" class=\"dataframe\">\n  <thead>\n    <tr style=\"text-align: right;\">\n      <th></th>\n      <th>index</th>\n      <th>second col</th>\n      <th>third col</th>\n      <th>fourth col</th>\n      <th>fifth col</th>\n      <th>sixth col</th>\n      <th>new name</th>\n    </tr>\n  </thead>\n  <tbody>\n    <tr>\n      <th>0</th>\n      <td>first row</td>\n      <td>-0.904285</td>\n      <td>-0.192164</td>\n      <td>0.925097</td>\n      <td>1.289694</td>\n      <td>-1.025255</td>\n      <td>This</td>\n    </tr>\n    <tr>\n      <th>1</th>\n      <td>third row</td>\n      <td>-1.485987</td>\n      <td>-1.042689</td>\n      <td>1.553261</td>\n      <td>0.490722</td>\n      <td>-0.896537</td>\n      <td>is</td>\n    </tr>\n    <tr>\n      <th>2</th>\n      <td>fourth row</td>\n      <td>0.617805</td>\n      <td>-0.446672</td>\n      <td>0.071520</td>\n      <td>1.490294</td>\n      <td>0.063504</td>\n      <td>the</td>\n    </tr>\n    <tr>\n      <th>3</th>\n      <td>fifth row</td>\n      <td>-0.351046</td>\n      <td>-0.755082</td>\n      <td>0.100168</td>\n      <td>0.611243</td>\n      <td>0.170522</td>\n      <td>row</td>\n    </tr>\n  </tbody>\n</table>\n</div>"
     },
     "metadata": {},
     "execution_count": 36
    }
   ],
   "source": [
    "# we can assign new names to the index\n",
    "df5['new name'] = ['This','is','the','row']\n",
    "df5\n"
   ]
  },
  {
   "cell_type": "code",
   "execution_count": 37,
   "metadata": {
    "scrolled": true
   },
   "outputs": [
    {
     "output_type": "execute_result",
     "data": {
      "text/plain": "               index  second col  third col  fourth col  fifth col  sixth col\nnew name                                                                     \nThis       first row   -0.904285  -0.192164    0.925097   1.289694  -1.025255\nis         third row   -1.485987  -1.042689    1.553261   0.490722  -0.896537\nthe       fourth row    0.617805  -0.446672    0.071520   1.490294   0.063504\nrow        fifth row   -0.351046  -0.755082    0.100168   0.611243   0.170522",
      "text/html": "<div>\n<style scoped>\n    .dataframe tbody tr th:only-of-type {\n        vertical-align: middle;\n    }\n\n    .dataframe tbody tr th {\n        vertical-align: top;\n    }\n\n    .dataframe thead th {\n        text-align: right;\n    }\n</style>\n<table border=\"1\" class=\"dataframe\">\n  <thead>\n    <tr style=\"text-align: right;\">\n      <th></th>\n      <th>index</th>\n      <th>second col</th>\n      <th>third col</th>\n      <th>fourth col</th>\n      <th>fifth col</th>\n      <th>sixth col</th>\n    </tr>\n    <tr>\n      <th>new name</th>\n      <th></th>\n      <th></th>\n      <th></th>\n      <th></th>\n      <th></th>\n      <th></th>\n    </tr>\n  </thead>\n  <tbody>\n    <tr>\n      <th>This</th>\n      <td>first row</td>\n      <td>-0.904285</td>\n      <td>-0.192164</td>\n      <td>0.925097</td>\n      <td>1.289694</td>\n      <td>-1.025255</td>\n    </tr>\n    <tr>\n      <th>is</th>\n      <td>third row</td>\n      <td>-1.485987</td>\n      <td>-1.042689</td>\n      <td>1.553261</td>\n      <td>0.490722</td>\n      <td>-0.896537</td>\n    </tr>\n    <tr>\n      <th>the</th>\n      <td>fourth row</td>\n      <td>0.617805</td>\n      <td>-0.446672</td>\n      <td>0.071520</td>\n      <td>1.490294</td>\n      <td>0.063504</td>\n    </tr>\n    <tr>\n      <th>row</th>\n      <td>fifth row</td>\n      <td>-0.351046</td>\n      <td>-0.755082</td>\n      <td>0.100168</td>\n      <td>0.611243</td>\n      <td>0.170522</td>\n    </tr>\n  </tbody>\n</table>\n</div>"
     },
     "metadata": {},
     "execution_count": 37
    }
   ],
   "source": [
    "df5.set_index('new name',inplace=True)\n",
    "df5"
   ]
  },
  {
   "cell_type": "markdown",
   "metadata": {},
   "source": [
    "# Combining data frames\n",
    "\n",
    "The ways dataframes are combined in pandas is similar to SQL\n",
    "\n",
    "We will examine 3 methods for combining dataframes\n",
    "\n",
    "1. concat\n",
    "2. join\n",
    "3. merge"
   ]
  },
  {
   "cell_type": "code",
   "execution_count": 38,
   "metadata": {},
   "outputs": [],
   "source": [
    "\n",
    "\n",
    "df7 = pd.DataFrame({\"customer\":['101','102','103','104'], \n",
    "                    'category': ['cat2','cat2','cat1','cat3'],\n",
    "                    'important': ['yes','no','yes','yes'],\n",
    "                    'sales': [123,52,214,663]},index=[0,1,2,3])\n",
    "\n",
    "df8 = pd.DataFrame({\"customer\":['101','103','104','105'], \n",
    "                    'color': ['yellow','green','green','blue'],\n",
    "                    'distance': [12,9,44,21],\n",
    "                    'sales': [123,214,663,331]},index=[4,5,6,7])"
   ]
  },
  {
   "cell_type": "code",
   "execution_count": 39,
   "metadata": {},
   "outputs": [
    {
     "output_type": "execute_result",
     "data": {
      "text/plain": "  customer category important  sales   color  distance\n0      101     cat2       yes    123     NaN       NaN\n1      102     cat2        no     52     NaN       NaN\n2      103     cat1       yes    214     NaN       NaN\n3      104     cat3       yes    663     NaN       NaN\n4      101      NaN       NaN    123  yellow      12.0\n5      103      NaN       NaN    214   green       9.0\n6      104      NaN       NaN    663   green      44.0\n7      105      NaN       NaN    331    blue      21.0",
      "text/html": "<div>\n<style scoped>\n    .dataframe tbody tr th:only-of-type {\n        vertical-align: middle;\n    }\n\n    .dataframe tbody tr th {\n        vertical-align: top;\n    }\n\n    .dataframe thead th {\n        text-align: right;\n    }\n</style>\n<table border=\"1\" class=\"dataframe\">\n  <thead>\n    <tr style=\"text-align: right;\">\n      <th></th>\n      <th>customer</th>\n      <th>category</th>\n      <th>important</th>\n      <th>sales</th>\n      <th>color</th>\n      <th>distance</th>\n    </tr>\n  </thead>\n  <tbody>\n    <tr>\n      <th>0</th>\n      <td>101</td>\n      <td>cat2</td>\n      <td>yes</td>\n      <td>123</td>\n      <td>NaN</td>\n      <td>NaN</td>\n    </tr>\n    <tr>\n      <th>1</th>\n      <td>102</td>\n      <td>cat2</td>\n      <td>no</td>\n      <td>52</td>\n      <td>NaN</td>\n      <td>NaN</td>\n    </tr>\n    <tr>\n      <th>2</th>\n      <td>103</td>\n      <td>cat1</td>\n      <td>yes</td>\n      <td>214</td>\n      <td>NaN</td>\n      <td>NaN</td>\n    </tr>\n    <tr>\n      <th>3</th>\n      <td>104</td>\n      <td>cat3</td>\n      <td>yes</td>\n      <td>663</td>\n      <td>NaN</td>\n      <td>NaN</td>\n    </tr>\n    <tr>\n      <th>4</th>\n      <td>101</td>\n      <td>NaN</td>\n      <td>NaN</td>\n      <td>123</td>\n      <td>yellow</td>\n      <td>12.0</td>\n    </tr>\n    <tr>\n      <th>5</th>\n      <td>103</td>\n      <td>NaN</td>\n      <td>NaN</td>\n      <td>214</td>\n      <td>green</td>\n      <td>9.0</td>\n    </tr>\n    <tr>\n      <th>6</th>\n      <td>104</td>\n      <td>NaN</td>\n      <td>NaN</td>\n      <td>663</td>\n      <td>green</td>\n      <td>44.0</td>\n    </tr>\n    <tr>\n      <th>7</th>\n      <td>105</td>\n      <td>NaN</td>\n      <td>NaN</td>\n      <td>331</td>\n      <td>blue</td>\n      <td>21.0</td>\n    </tr>\n  </tbody>\n</table>\n</div>"
     },
     "metadata": {},
     "execution_count": 39
    }
   ],
   "source": [
    "pd.concat([df7,df8],axis=0,sort=False)"
   ]
  },
  {
   "cell_type": "code",
   "execution_count": 40,
   "metadata": {},
   "outputs": [
    {
     "output_type": "execute_result",
     "data": {
      "text/plain": "  category   color customer  distance important  sales\n0     cat2     NaN      101       NaN       yes    123\n1     cat2     NaN      102       NaN        no     52\n2     cat1     NaN      103       NaN       yes    214\n3     cat3     NaN      104       NaN       yes    663\n4      NaN  yellow      101      12.0       NaN    123\n5      NaN   green      103       9.0       NaN    214\n6      NaN   green      104      44.0       NaN    663\n7      NaN    blue      105      21.0       NaN    331",
      "text/html": "<div>\n<style scoped>\n    .dataframe tbody tr th:only-of-type {\n        vertical-align: middle;\n    }\n\n    .dataframe tbody tr th {\n        vertical-align: top;\n    }\n\n    .dataframe thead th {\n        text-align: right;\n    }\n</style>\n<table border=\"1\" class=\"dataframe\">\n  <thead>\n    <tr style=\"text-align: right;\">\n      <th></th>\n      <th>category</th>\n      <th>color</th>\n      <th>customer</th>\n      <th>distance</th>\n      <th>important</th>\n      <th>sales</th>\n    </tr>\n  </thead>\n  <tbody>\n    <tr>\n      <th>0</th>\n      <td>cat2</td>\n      <td>NaN</td>\n      <td>101</td>\n      <td>NaN</td>\n      <td>yes</td>\n      <td>123</td>\n    </tr>\n    <tr>\n      <th>1</th>\n      <td>cat2</td>\n      <td>NaN</td>\n      <td>102</td>\n      <td>NaN</td>\n      <td>no</td>\n      <td>52</td>\n    </tr>\n    <tr>\n      <th>2</th>\n      <td>cat1</td>\n      <td>NaN</td>\n      <td>103</td>\n      <td>NaN</td>\n      <td>yes</td>\n      <td>214</td>\n    </tr>\n    <tr>\n      <th>3</th>\n      <td>cat3</td>\n      <td>NaN</td>\n      <td>104</td>\n      <td>NaN</td>\n      <td>yes</td>\n      <td>663</td>\n    </tr>\n    <tr>\n      <th>4</th>\n      <td>NaN</td>\n      <td>yellow</td>\n      <td>101</td>\n      <td>12.0</td>\n      <td>NaN</td>\n      <td>123</td>\n    </tr>\n    <tr>\n      <th>5</th>\n      <td>NaN</td>\n      <td>green</td>\n      <td>103</td>\n      <td>9.0</td>\n      <td>NaN</td>\n      <td>214</td>\n    </tr>\n    <tr>\n      <th>6</th>\n      <td>NaN</td>\n      <td>green</td>\n      <td>104</td>\n      <td>44.0</td>\n      <td>NaN</td>\n      <td>663</td>\n    </tr>\n    <tr>\n      <th>7</th>\n      <td>NaN</td>\n      <td>blue</td>\n      <td>105</td>\n      <td>21.0</td>\n      <td>NaN</td>\n      <td>331</td>\n    </tr>\n  </tbody>\n</table>\n</div>"
     },
     "metadata": {},
     "execution_count": 40
    }
   ],
   "source": [
    "pd.concat([df7,df8],axis=0,sort=True)"
   ]
  },
  {
   "cell_type": "code",
   "execution_count": 41,
   "metadata": {},
   "outputs": [
    {
     "output_type": "execute_result",
     "data": {
      "text/plain": "  customer category important  sales customer   color  distance  sales\n0      101     cat2       yes  123.0      NaN     NaN       NaN    NaN\n1      102     cat2        no   52.0      NaN     NaN       NaN    NaN\n2      103     cat1       yes  214.0      NaN     NaN       NaN    NaN\n3      104     cat3       yes  663.0      NaN     NaN       NaN    NaN\n4      NaN      NaN       NaN    NaN      101  yellow      12.0  123.0\n5      NaN      NaN       NaN    NaN      103   green       9.0  214.0\n6      NaN      NaN       NaN    NaN      104   green      44.0  663.0\n7      NaN      NaN       NaN    NaN      105    blue      21.0  331.0",
      "text/html": "<div>\n<style scoped>\n    .dataframe tbody tr th:only-of-type {\n        vertical-align: middle;\n    }\n\n    .dataframe tbody tr th {\n        vertical-align: top;\n    }\n\n    .dataframe thead th {\n        text-align: right;\n    }\n</style>\n<table border=\"1\" class=\"dataframe\">\n  <thead>\n    <tr style=\"text-align: right;\">\n      <th></th>\n      <th>customer</th>\n      <th>category</th>\n      <th>important</th>\n      <th>sales</th>\n      <th>customer</th>\n      <th>color</th>\n      <th>distance</th>\n      <th>sales</th>\n    </tr>\n  </thead>\n  <tbody>\n    <tr>\n      <th>0</th>\n      <td>101</td>\n      <td>cat2</td>\n      <td>yes</td>\n      <td>123.0</td>\n      <td>NaN</td>\n      <td>NaN</td>\n      <td>NaN</td>\n      <td>NaN</td>\n    </tr>\n    <tr>\n      <th>1</th>\n      <td>102</td>\n      <td>cat2</td>\n      <td>no</td>\n      <td>52.0</td>\n      <td>NaN</td>\n      <td>NaN</td>\n      <td>NaN</td>\n      <td>NaN</td>\n    </tr>\n    <tr>\n      <th>2</th>\n      <td>103</td>\n      <td>cat1</td>\n      <td>yes</td>\n      <td>214.0</td>\n      <td>NaN</td>\n      <td>NaN</td>\n      <td>NaN</td>\n      <td>NaN</td>\n    </tr>\n    <tr>\n      <th>3</th>\n      <td>104</td>\n      <td>cat3</td>\n      <td>yes</td>\n      <td>663.0</td>\n      <td>NaN</td>\n      <td>NaN</td>\n      <td>NaN</td>\n      <td>NaN</td>\n    </tr>\n    <tr>\n      <th>4</th>\n      <td>NaN</td>\n      <td>NaN</td>\n      <td>NaN</td>\n      <td>NaN</td>\n      <td>101</td>\n      <td>yellow</td>\n      <td>12.0</td>\n      <td>123.0</td>\n    </tr>\n    <tr>\n      <th>5</th>\n      <td>NaN</td>\n      <td>NaN</td>\n      <td>NaN</td>\n      <td>NaN</td>\n      <td>103</td>\n      <td>green</td>\n      <td>9.0</td>\n      <td>214.0</td>\n    </tr>\n    <tr>\n      <th>6</th>\n      <td>NaN</td>\n      <td>NaN</td>\n      <td>NaN</td>\n      <td>NaN</td>\n      <td>104</td>\n      <td>green</td>\n      <td>44.0</td>\n      <td>663.0</td>\n    </tr>\n    <tr>\n      <th>7</th>\n      <td>NaN</td>\n      <td>NaN</td>\n      <td>NaN</td>\n      <td>NaN</td>\n      <td>105</td>\n      <td>blue</td>\n      <td>21.0</td>\n      <td>331.0</td>\n    </tr>\n  </tbody>\n</table>\n</div>"
     },
     "metadata": {},
     "execution_count": 41
    }
   ],
   "source": [
    "pd.concat([df7,df8],axis=1,sort=False)"
   ]
  },
  {
   "cell_type": "markdown",
   "metadata": {},
   "source": [
    "# Merge and Join\n",
    "\n",
    "Merge combines dataframes using a column's values to identify common entries\n",
    "\n",
    "Join combines dataframes using the index to identify common entries"
   ]
  },
  {
   "cell_type": "code",
   "execution_count": 42,
   "metadata": {},
   "outputs": [
    {
     "output_type": "execute_result",
     "data": {
      "text/plain": "  customer category important  sales_x   color  distance  sales_y\n0      101     cat2       yes    123.0  yellow      12.0    123.0\n1      102     cat2        no     52.0     NaN       NaN      NaN\n2      103     cat1       yes    214.0   green       9.0    214.0\n3      104     cat3       yes    663.0   green      44.0    663.0\n4      105      NaN       NaN      NaN    blue      21.0    331.0",
      "text/html": "<div>\n<style scoped>\n    .dataframe tbody tr th:only-of-type {\n        vertical-align: middle;\n    }\n\n    .dataframe tbody tr th {\n        vertical-align: top;\n    }\n\n    .dataframe thead th {\n        text-align: right;\n    }\n</style>\n<table border=\"1\" class=\"dataframe\">\n  <thead>\n    <tr style=\"text-align: right;\">\n      <th></th>\n      <th>customer</th>\n      <th>category</th>\n      <th>important</th>\n      <th>sales_x</th>\n      <th>color</th>\n      <th>distance</th>\n      <th>sales_y</th>\n    </tr>\n  </thead>\n  <tbody>\n    <tr>\n      <th>0</th>\n      <td>101</td>\n      <td>cat2</td>\n      <td>yes</td>\n      <td>123.0</td>\n      <td>yellow</td>\n      <td>12.0</td>\n      <td>123.0</td>\n    </tr>\n    <tr>\n      <th>1</th>\n      <td>102</td>\n      <td>cat2</td>\n      <td>no</td>\n      <td>52.0</td>\n      <td>NaN</td>\n      <td>NaN</td>\n      <td>NaN</td>\n    </tr>\n    <tr>\n      <th>2</th>\n      <td>103</td>\n      <td>cat1</td>\n      <td>yes</td>\n      <td>214.0</td>\n      <td>green</td>\n      <td>9.0</td>\n      <td>214.0</td>\n    </tr>\n    <tr>\n      <th>3</th>\n      <td>104</td>\n      <td>cat3</td>\n      <td>yes</td>\n      <td>663.0</td>\n      <td>green</td>\n      <td>44.0</td>\n      <td>663.0</td>\n    </tr>\n    <tr>\n      <th>4</th>\n      <td>105</td>\n      <td>NaN</td>\n      <td>NaN</td>\n      <td>NaN</td>\n      <td>blue</td>\n      <td>21.0</td>\n      <td>331.0</td>\n    </tr>\n  </tbody>\n</table>\n</div>"
     },
     "metadata": {},
     "execution_count": 42
    }
   ],
   "source": [
    "pd.merge(df7,df8,how='outer',on='customer') # outer merge is union of on"
   ]
  },
  {
   "cell_type": "code",
   "execution_count": 43,
   "metadata": {},
   "outputs": [
    {
     "output_type": "execute_result",
     "data": {
      "text/plain": "  customer category important  sales_x   color  distance  sales_y\n0      101     cat2       yes      123  yellow        12      123\n1      103     cat1       yes      214   green         9      214\n2      104     cat3       yes      663   green        44      663",
      "text/html": "<div>\n<style scoped>\n    .dataframe tbody tr th:only-of-type {\n        vertical-align: middle;\n    }\n\n    .dataframe tbody tr th {\n        vertical-align: top;\n    }\n\n    .dataframe thead th {\n        text-align: right;\n    }\n</style>\n<table border=\"1\" class=\"dataframe\">\n  <thead>\n    <tr style=\"text-align: right;\">\n      <th></th>\n      <th>customer</th>\n      <th>category</th>\n      <th>important</th>\n      <th>sales_x</th>\n      <th>color</th>\n      <th>distance</th>\n      <th>sales_y</th>\n    </tr>\n  </thead>\n  <tbody>\n    <tr>\n      <th>0</th>\n      <td>101</td>\n      <td>cat2</td>\n      <td>yes</td>\n      <td>123</td>\n      <td>yellow</td>\n      <td>12</td>\n      <td>123</td>\n    </tr>\n    <tr>\n      <th>1</th>\n      <td>103</td>\n      <td>cat1</td>\n      <td>yes</td>\n      <td>214</td>\n      <td>green</td>\n      <td>9</td>\n      <td>214</td>\n    </tr>\n    <tr>\n      <th>2</th>\n      <td>104</td>\n      <td>cat3</td>\n      <td>yes</td>\n      <td>663</td>\n      <td>green</td>\n      <td>44</td>\n      <td>663</td>\n    </tr>\n  </tbody>\n</table>\n</div>"
     },
     "metadata": {},
     "execution_count": 43
    }
   ],
   "source": [
    "pd.merge(df7,df8,how='inner',on='customer') # inner merge is intersection of on"
   ]
  },
  {
   "cell_type": "code",
   "execution_count": 44,
   "metadata": {},
   "outputs": [
    {
     "output_type": "execute_result",
     "data": {
      "text/plain": "  customer category important  sales_x   color  distance  sales_y\n0      101     cat2       yes    123.0  yellow        12      123\n1      103     cat1       yes    214.0   green         9      214\n2      104     cat3       yes    663.0   green        44      663\n3      105      NaN       NaN      NaN    blue        21      331",
      "text/html": "<div>\n<style scoped>\n    .dataframe tbody tr th:only-of-type {\n        vertical-align: middle;\n    }\n\n    .dataframe tbody tr th {\n        vertical-align: top;\n    }\n\n    .dataframe thead th {\n        text-align: right;\n    }\n</style>\n<table border=\"1\" class=\"dataframe\">\n  <thead>\n    <tr style=\"text-align: right;\">\n      <th></th>\n      <th>customer</th>\n      <th>category</th>\n      <th>important</th>\n      <th>sales_x</th>\n      <th>color</th>\n      <th>distance</th>\n      <th>sales_y</th>\n    </tr>\n  </thead>\n  <tbody>\n    <tr>\n      <th>0</th>\n      <td>101</td>\n      <td>cat2</td>\n      <td>yes</td>\n      <td>123.0</td>\n      <td>yellow</td>\n      <td>12</td>\n      <td>123</td>\n    </tr>\n    <tr>\n      <th>1</th>\n      <td>103</td>\n      <td>cat1</td>\n      <td>yes</td>\n      <td>214.0</td>\n      <td>green</td>\n      <td>9</td>\n      <td>214</td>\n    </tr>\n    <tr>\n      <th>2</th>\n      <td>104</td>\n      <td>cat3</td>\n      <td>yes</td>\n      <td>663.0</td>\n      <td>green</td>\n      <td>44</td>\n      <td>663</td>\n    </tr>\n    <tr>\n      <th>3</th>\n      <td>105</td>\n      <td>NaN</td>\n      <td>NaN</td>\n      <td>NaN</td>\n      <td>blue</td>\n      <td>21</td>\n      <td>331</td>\n    </tr>\n  </tbody>\n</table>\n</div>"
     },
     "metadata": {},
     "execution_count": 44
    }
   ],
   "source": [
    "pd.merge(df7,df8,how='right',on='customer') # left merge is just first on, but all columns ... right is second"
   ]
  },
  {
   "cell_type": "code",
   "execution_count": 45,
   "metadata": {},
   "outputs": [],
   "source": [
    "df9 = pd.DataFrame({'Q1': [101,102,103],\n",
    "                    'Q2': [201,202,203]},\n",
    "                   index=['I0','I1','I2'])\n",
    "\n",
    "df10 = pd.DataFrame({'Q3': [301,302,303],\n",
    "                    'Q4': [401,402,403]},\n",
    "                   index=['I0','I2','I3'])"
   ]
  },
  {
   "cell_type": "code",
   "execution_count": 46,
   "metadata": {},
   "outputs": [
    {
     "output_type": "execute_result",
     "data": {
      "text/plain": "       Q1     Q2   Q3   Q4\nI0  101.0  201.0  301  401\nI2  103.0  203.0  302  402\nI3    NaN    NaN  303  403",
      "text/html": "<div>\n<style scoped>\n    .dataframe tbody tr th:only-of-type {\n        vertical-align: middle;\n    }\n\n    .dataframe tbody tr th {\n        vertical-align: top;\n    }\n\n    .dataframe thead th {\n        text-align: right;\n    }\n</style>\n<table border=\"1\" class=\"dataframe\">\n  <thead>\n    <tr style=\"text-align: right;\">\n      <th></th>\n      <th>Q1</th>\n      <th>Q2</th>\n      <th>Q3</th>\n      <th>Q4</th>\n    </tr>\n  </thead>\n  <tbody>\n    <tr>\n      <th>I0</th>\n      <td>101.0</td>\n      <td>201.0</td>\n      <td>301</td>\n      <td>401</td>\n    </tr>\n    <tr>\n      <th>I2</th>\n      <td>103.0</td>\n      <td>203.0</td>\n      <td>302</td>\n      <td>402</td>\n    </tr>\n    <tr>\n      <th>I3</th>\n      <td>NaN</td>\n      <td>NaN</td>\n      <td>303</td>\n      <td>403</td>\n    </tr>\n  </tbody>\n</table>\n</div>"
     },
     "metadata": {},
     "execution_count": 46
    }
   ],
   "source": [
    "# join behaves just like merge, \n",
    "# except instead of using the values of one of the columns \n",
    "# to combine data frames, it uses the index labels\n",
    "df9.join(df10,how='right') # outer, inner, left, and right work the same as merge"
   ]
  },
  {
   "cell_type": "code",
   "execution_count": 47,
   "metadata": {},
   "outputs": [
    {
     "output_type": "execute_result",
     "data": {
      "text/plain": "array(['yellow', 'green', 'blue'], dtype=object)"
     },
     "metadata": {},
     "execution_count": 47
    }
   ],
   "source": [
    "# let's now go over a few more basic functialities of pandas\n",
    "\n",
    "df8['color'].unique()"
   ]
  },
  {
   "cell_type": "code",
   "execution_count": 48,
   "metadata": {},
   "outputs": [
    {
     "output_type": "execute_result",
     "data": {
      "text/plain": "green     2\nblue      1\nyellow    1\nName: color, dtype: int64"
     },
     "metadata": {},
     "execution_count": 48
    }
   ],
   "source": [
    "df8['color'].value_counts()"
   ]
  },
  {
   "cell_type": "code",
   "execution_count": 49,
   "metadata": {},
   "outputs": [
    {
     "output_type": "execute_result",
     "data": {
      "text/plain": "Q1    102.0\nQ2    202.0\ndtype: float64"
     },
     "metadata": {},
     "execution_count": 49
    }
   ],
   "source": [
    "df9.mean()"
   ]
  },
  {
   "cell_type": "code",
   "execution_count": 50,
   "metadata": {},
   "outputs": [
    {
     "output_type": "execute_result",
     "data": {
      "text/plain": "Index(['customer', 'color', 'distance', 'sales'], dtype='object')"
     },
     "metadata": {},
     "execution_count": 50
    }
   ],
   "source": [
    "df8.columns"
   ]
  },
  {
   "cell_type": "code",
   "execution_count": 51,
   "metadata": {},
   "outputs": [
    {
     "output_type": "execute_result",
     "data": {
      "text/plain": "  customer   color  distance  sales\n4      101  yellow        12    123\n5      103   green         9    214\n6      104   green        44    663\n7      105    blue        21    331",
      "text/html": "<div>\n<style scoped>\n    .dataframe tbody tr th:only-of-type {\n        vertical-align: middle;\n    }\n\n    .dataframe tbody tr th {\n        vertical-align: top;\n    }\n\n    .dataframe thead th {\n        text-align: right;\n    }\n</style>\n<table border=\"1\" class=\"dataframe\">\n  <thead>\n    <tr style=\"text-align: right;\">\n      <th></th>\n      <th>customer</th>\n      <th>color</th>\n      <th>distance</th>\n      <th>sales</th>\n    </tr>\n  </thead>\n  <tbody>\n    <tr>\n      <th>4</th>\n      <td>101</td>\n      <td>yellow</td>\n      <td>12</td>\n      <td>123</td>\n    </tr>\n    <tr>\n      <th>5</th>\n      <td>103</td>\n      <td>green</td>\n      <td>9</td>\n      <td>214</td>\n    </tr>\n    <tr>\n      <th>6</th>\n      <td>104</td>\n      <td>green</td>\n      <td>44</td>\n      <td>663</td>\n    </tr>\n    <tr>\n      <th>7</th>\n      <td>105</td>\n      <td>blue</td>\n      <td>21</td>\n      <td>331</td>\n    </tr>\n  </tbody>\n</table>\n</div>"
     },
     "metadata": {},
     "execution_count": 51
    }
   ],
   "source": [
    "df8"
   ]
  },
  {
   "cell_type": "code",
   "execution_count": 52,
   "metadata": {},
   "outputs": [
    {
     "output_type": "execute_result",
     "data": {
      "text/plain": "  customer   color  distance  sales\n4      101  yellow        12    123",
      "text/html": "<div>\n<style scoped>\n    .dataframe tbody tr th:only-of-type {\n        vertical-align: middle;\n    }\n\n    .dataframe tbody tr th {\n        vertical-align: top;\n    }\n\n    .dataframe thead th {\n        text-align: right;\n    }\n</style>\n<table border=\"1\" class=\"dataframe\">\n  <thead>\n    <tr style=\"text-align: right;\">\n      <th></th>\n      <th>customer</th>\n      <th>color</th>\n      <th>distance</th>\n      <th>sales</th>\n    </tr>\n  </thead>\n  <tbody>\n    <tr>\n      <th>4</th>\n      <td>101</td>\n      <td>yellow</td>\n      <td>12</td>\n      <td>123</td>\n    </tr>\n  </tbody>\n</table>\n</div>"
     },
     "metadata": {},
     "execution_count": 52
    }
   ],
   "source": [
    "new_df = df8[(df8['customer']!='105') & (df8['color']!='green')]\n",
    "new_df"
   ]
  },
  {
   "cell_type": "code",
   "execution_count": 53,
   "metadata": {
    "tags": []
   },
   "outputs": [
    {
     "output_type": "stream",
     "name": "stdout",
     "text": "1331\n9\n"
    }
   ],
   "source": [
    "print(df8['sales'].sum())\n",
    "print(df8['distance'].min())\n"
   ]
  },
  {
   "cell_type": "code",
   "execution_count": 54,
   "metadata": {},
   "outputs": [],
   "source": [
    "def profit(s):\n",
    "    return s*0.5 # 50% markup..."
   ]
  },
  {
   "cell_type": "code",
   "execution_count": 55,
   "metadata": {},
   "outputs": [
    {
     "output_type": "execute_result",
     "data": {
      "text/plain": "4     61.5\n5    107.0\n6    331.5\n7    165.5\nName: sales, dtype: float64"
     },
     "metadata": {},
     "execution_count": 55
    }
   ],
   "source": [
    "df8['sales'].apply(profit)"
   ]
  },
  {
   "cell_type": "code",
   "execution_count": 56,
   "metadata": {},
   "outputs": [
    {
     "output_type": "execute_result",
     "data": {
      "text/plain": "4    6\n5    5\n6    5\n7    4\nName: color, dtype: int64"
     },
     "metadata": {},
     "execution_count": 56
    }
   ],
   "source": [
    "df8['color'].apply(len)"
   ]
  },
  {
   "cell_type": "code",
   "execution_count": 57,
   "metadata": {},
   "outputs": [
    {
     "output_type": "execute_result",
     "data": {
      "text/plain": "   distance  sales\n4       6.0   61.5\n5       4.5  107.0\n6      22.0  331.5\n7      10.5  165.5",
      "text/html": "<div>\n<style scoped>\n    .dataframe tbody tr th:only-of-type {\n        vertical-align: middle;\n    }\n\n    .dataframe tbody tr th {\n        vertical-align: top;\n    }\n\n    .dataframe thead th {\n        text-align: right;\n    }\n</style>\n<table border=\"1\" class=\"dataframe\">\n  <thead>\n    <tr style=\"text-align: right;\">\n      <th></th>\n      <th>distance</th>\n      <th>sales</th>\n    </tr>\n  </thead>\n  <tbody>\n    <tr>\n      <th>4</th>\n      <td>6.0</td>\n      <td>61.5</td>\n    </tr>\n    <tr>\n      <th>5</th>\n      <td>4.5</td>\n      <td>107.0</td>\n    </tr>\n    <tr>\n      <th>6</th>\n      <td>22.0</td>\n      <td>331.5</td>\n    </tr>\n    <tr>\n      <th>7</th>\n      <td>10.5</td>\n      <td>165.5</td>\n    </tr>\n  </tbody>\n</table>\n</div>"
     },
     "metadata": {},
     "execution_count": 57
    }
   ],
   "source": [
    "df11 = df8[['distance','sales']]\n",
    "df11.applymap(profit)"
   ]
  },
  {
   "cell_type": "code",
   "execution_count": 58,
   "metadata": {},
   "outputs": [
    {
     "output_type": "execute_result",
     "data": {
      "text/plain": "distance      86\nsales       1331\ndtype: int64"
     },
     "metadata": {},
     "execution_count": 58
    }
   ],
   "source": [
    "def col_sum(co):\n",
    "    return sum(co)\n",
    "df11.apply(col_sum)"
   ]
  },
  {
   "cell_type": "code",
   "execution_count": 59,
   "metadata": {},
   "outputs": [
    {
     "output_type": "error",
     "ename": "TypeError",
     "evalue": "'int' object is not iterable",
     "traceback": [
      "\u001b[1;31m---------------------------------------------------------------------------\u001b[0m",
      "\u001b[1;31mTypeError\u001b[0m                                 Traceback (most recent call last)",
      "\u001b[1;32m<ipython-input-59-e7bcaa3ec13d>\u001b[0m in \u001b[0;36m<module>\u001b[1;34m\u001b[0m\n\u001b[1;32m----> 1\u001b[1;33m \u001b[0mdf11\u001b[0m\u001b[1;33m.\u001b[0m\u001b[0mapplymap\u001b[0m\u001b[1;33m(\u001b[0m\u001b[0mcol_sum\u001b[0m\u001b[1;33m)\u001b[0m\u001b[1;33m\u001b[0m\u001b[1;33m\u001b[0m\u001b[0m\n\u001b[0m",
      "\u001b[1;32m~\\anaconda3\\lib\\site-packages\\pandas\\core\\frame.py\u001b[0m in \u001b[0;36mapplymap\u001b[1;34m(self, func)\u001b[0m\n\u001b[0;32m   6942\u001b[0m             \u001b[1;32mreturn\u001b[0m \u001b[0mlib\u001b[0m\u001b[1;33m.\u001b[0m\u001b[0mmap_infer\u001b[0m\u001b[1;33m(\u001b[0m\u001b[0mx\u001b[0m\u001b[1;33m.\u001b[0m\u001b[0mastype\u001b[0m\u001b[1;33m(\u001b[0m\u001b[0mobject\u001b[0m\u001b[1;33m)\u001b[0m\u001b[1;33m.\u001b[0m\u001b[0mvalues\u001b[0m\u001b[1;33m,\u001b[0m \u001b[0mfunc\u001b[0m\u001b[1;33m)\u001b[0m\u001b[1;33m\u001b[0m\u001b[1;33m\u001b[0m\u001b[0m\n\u001b[0;32m   6943\u001b[0m \u001b[1;33m\u001b[0m\u001b[0m\n\u001b[1;32m-> 6944\u001b[1;33m         \u001b[1;32mreturn\u001b[0m \u001b[0mself\u001b[0m\u001b[1;33m.\u001b[0m\u001b[0mapply\u001b[0m\u001b[1;33m(\u001b[0m\u001b[0minfer\u001b[0m\u001b[1;33m)\u001b[0m\u001b[1;33m\u001b[0m\u001b[1;33m\u001b[0m\u001b[0m\n\u001b[0m\u001b[0;32m   6945\u001b[0m \u001b[1;33m\u001b[0m\u001b[0m\n\u001b[0;32m   6946\u001b[0m     \u001b[1;31m# ----------------------------------------------------------------------\u001b[0m\u001b[1;33m\u001b[0m\u001b[1;33m\u001b[0m\u001b[1;33m\u001b[0m\u001b[0m\n",
      "\u001b[1;32m~\\anaconda3\\lib\\site-packages\\pandas\\core\\frame.py\u001b[0m in \u001b[0;36mapply\u001b[1;34m(self, func, axis, raw, result_type, args, **kwds)\u001b[0m\n\u001b[0;32m   6876\u001b[0m             \u001b[0mkwds\u001b[0m\u001b[1;33m=\u001b[0m\u001b[0mkwds\u001b[0m\u001b[1;33m,\u001b[0m\u001b[1;33m\u001b[0m\u001b[1;33m\u001b[0m\u001b[0m\n\u001b[0;32m   6877\u001b[0m         )\n\u001b[1;32m-> 6878\u001b[1;33m         \u001b[1;32mreturn\u001b[0m \u001b[0mop\u001b[0m\u001b[1;33m.\u001b[0m\u001b[0mget_result\u001b[0m\u001b[1;33m(\u001b[0m\u001b[1;33m)\u001b[0m\u001b[1;33m\u001b[0m\u001b[1;33m\u001b[0m\u001b[0m\n\u001b[0m\u001b[0;32m   6879\u001b[0m \u001b[1;33m\u001b[0m\u001b[0m\n\u001b[0;32m   6880\u001b[0m     \u001b[1;32mdef\u001b[0m \u001b[0mapplymap\u001b[0m\u001b[1;33m(\u001b[0m\u001b[0mself\u001b[0m\u001b[1;33m,\u001b[0m \u001b[0mfunc\u001b[0m\u001b[1;33m)\u001b[0m \u001b[1;33m->\u001b[0m \u001b[1;34m\"DataFrame\"\u001b[0m\u001b[1;33m:\u001b[0m\u001b[1;33m\u001b[0m\u001b[1;33m\u001b[0m\u001b[0m\n",
      "\u001b[1;32m~\\anaconda3\\lib\\site-packages\\pandas\\core\\apply.py\u001b[0m in \u001b[0;36mget_result\u001b[1;34m(self)\u001b[0m\n\u001b[0;32m    184\u001b[0m             \u001b[1;32mreturn\u001b[0m \u001b[0mself\u001b[0m\u001b[1;33m.\u001b[0m\u001b[0mapply_raw\u001b[0m\u001b[1;33m(\u001b[0m\u001b[1;33m)\u001b[0m\u001b[1;33m\u001b[0m\u001b[1;33m\u001b[0m\u001b[0m\n\u001b[0;32m    185\u001b[0m \u001b[1;33m\u001b[0m\u001b[0m\n\u001b[1;32m--> 186\u001b[1;33m         \u001b[1;32mreturn\u001b[0m \u001b[0mself\u001b[0m\u001b[1;33m.\u001b[0m\u001b[0mapply_standard\u001b[0m\u001b[1;33m(\u001b[0m\u001b[1;33m)\u001b[0m\u001b[1;33m\u001b[0m\u001b[1;33m\u001b[0m\u001b[0m\n\u001b[0m\u001b[0;32m    187\u001b[0m \u001b[1;33m\u001b[0m\u001b[0m\n\u001b[0;32m    188\u001b[0m     \u001b[1;32mdef\u001b[0m \u001b[0mapply_empty_result\u001b[0m\u001b[1;33m(\u001b[0m\u001b[0mself\u001b[0m\u001b[1;33m)\u001b[0m\u001b[1;33m:\u001b[0m\u001b[1;33m\u001b[0m\u001b[1;33m\u001b[0m\u001b[0m\n",
      "\u001b[1;32m~\\anaconda3\\lib\\site-packages\\pandas\\core\\apply.py\u001b[0m in \u001b[0;36mapply_standard\u001b[1;34m(self)\u001b[0m\n\u001b[0;32m    294\u001b[0m             \u001b[1;32mtry\u001b[0m\u001b[1;33m:\u001b[0m\u001b[1;33m\u001b[0m\u001b[1;33m\u001b[0m\u001b[0m\n\u001b[0;32m    295\u001b[0m                 result = libreduction.compute_reduction(\n\u001b[1;32m--> 296\u001b[1;33m                     \u001b[0mvalues\u001b[0m\u001b[1;33m,\u001b[0m \u001b[0mself\u001b[0m\u001b[1;33m.\u001b[0m\u001b[0mf\u001b[0m\u001b[1;33m,\u001b[0m \u001b[0maxis\u001b[0m\u001b[1;33m=\u001b[0m\u001b[0mself\u001b[0m\u001b[1;33m.\u001b[0m\u001b[0maxis\u001b[0m\u001b[1;33m,\u001b[0m \u001b[0mdummy\u001b[0m\u001b[1;33m=\u001b[0m\u001b[0mdummy\u001b[0m\u001b[1;33m,\u001b[0m \u001b[0mlabels\u001b[0m\u001b[1;33m=\u001b[0m\u001b[0mlabels\u001b[0m\u001b[1;33m\u001b[0m\u001b[1;33m\u001b[0m\u001b[0m\n\u001b[0m\u001b[0;32m    297\u001b[0m                 )\n\u001b[0;32m    298\u001b[0m             \u001b[1;32mexcept\u001b[0m \u001b[0mValueError\u001b[0m \u001b[1;32mas\u001b[0m \u001b[0merr\u001b[0m\u001b[1;33m:\u001b[0m\u001b[1;33m\u001b[0m\u001b[1;33m\u001b[0m\u001b[0m\n",
      "\u001b[1;32mpandas\\_libs\\reduction.pyx\u001b[0m in \u001b[0;36mpandas._libs.reduction.compute_reduction\u001b[1;34m()\u001b[0m\n",
      "\u001b[1;32mpandas\\_libs\\reduction.pyx\u001b[0m in \u001b[0;36mpandas._libs.reduction.Reducer.get_result\u001b[1;34m()\u001b[0m\n",
      "\u001b[1;32m~\\anaconda3\\lib\\site-packages\\pandas\\core\\frame.py\u001b[0m in \u001b[0;36minfer\u001b[1;34m(x)\u001b[0m\n\u001b[0;32m   6940\u001b[0m             \u001b[1;32mif\u001b[0m \u001b[0mx\u001b[0m\u001b[1;33m.\u001b[0m\u001b[0mempty\u001b[0m\u001b[1;33m:\u001b[0m\u001b[1;33m\u001b[0m\u001b[1;33m\u001b[0m\u001b[0m\n\u001b[0;32m   6941\u001b[0m                 \u001b[1;32mreturn\u001b[0m \u001b[0mlib\u001b[0m\u001b[1;33m.\u001b[0m\u001b[0mmap_infer\u001b[0m\u001b[1;33m(\u001b[0m\u001b[0mx\u001b[0m\u001b[1;33m,\u001b[0m \u001b[0mfunc\u001b[0m\u001b[1;33m)\u001b[0m\u001b[1;33m\u001b[0m\u001b[1;33m\u001b[0m\u001b[0m\n\u001b[1;32m-> 6942\u001b[1;33m             \u001b[1;32mreturn\u001b[0m \u001b[0mlib\u001b[0m\u001b[1;33m.\u001b[0m\u001b[0mmap_infer\u001b[0m\u001b[1;33m(\u001b[0m\u001b[0mx\u001b[0m\u001b[1;33m.\u001b[0m\u001b[0mastype\u001b[0m\u001b[1;33m(\u001b[0m\u001b[0mobject\u001b[0m\u001b[1;33m)\u001b[0m\u001b[1;33m.\u001b[0m\u001b[0mvalues\u001b[0m\u001b[1;33m,\u001b[0m \u001b[0mfunc\u001b[0m\u001b[1;33m)\u001b[0m\u001b[1;33m\u001b[0m\u001b[1;33m\u001b[0m\u001b[0m\n\u001b[0m\u001b[0;32m   6943\u001b[0m \u001b[1;33m\u001b[0m\u001b[0m\n\u001b[0;32m   6944\u001b[0m         \u001b[1;32mreturn\u001b[0m \u001b[0mself\u001b[0m\u001b[1;33m.\u001b[0m\u001b[0mapply\u001b[0m\u001b[1;33m(\u001b[0m\u001b[0minfer\u001b[0m\u001b[1;33m)\u001b[0m\u001b[1;33m\u001b[0m\u001b[1;33m\u001b[0m\u001b[0m\n",
      "\u001b[1;32mpandas\\_libs\\lib.pyx\u001b[0m in \u001b[0;36mpandas._libs.lib.map_infer\u001b[1;34m()\u001b[0m\n",
      "\u001b[1;32m<ipython-input-58-972de7d355da>\u001b[0m in \u001b[0;36mcol_sum\u001b[1;34m(co)\u001b[0m\n\u001b[0;32m      1\u001b[0m \u001b[1;32mdef\u001b[0m \u001b[0mcol_sum\u001b[0m\u001b[1;33m(\u001b[0m\u001b[0mco\u001b[0m\u001b[1;33m)\u001b[0m\u001b[1;33m:\u001b[0m\u001b[1;33m\u001b[0m\u001b[1;33m\u001b[0m\u001b[0m\n\u001b[1;32m----> 2\u001b[1;33m     \u001b[1;32mreturn\u001b[0m \u001b[0msum\u001b[0m\u001b[1;33m(\u001b[0m\u001b[0mco\u001b[0m\u001b[1;33m)\u001b[0m\u001b[1;33m\u001b[0m\u001b[1;33m\u001b[0m\u001b[0m\n\u001b[0m\u001b[0;32m      3\u001b[0m \u001b[0mdf11\u001b[0m\u001b[1;33m.\u001b[0m\u001b[0mapply\u001b[0m\u001b[1;33m(\u001b[0m\u001b[0mcol_sum\u001b[0m\u001b[1;33m)\u001b[0m\u001b[1;33m\u001b[0m\u001b[1;33m\u001b[0m\u001b[0m\n",
      "\u001b[1;31mTypeError\u001b[0m: 'int' object is not iterable"
     ]
    }
   ],
   "source": [
    "df11.applymap(col_sum)"
   ]
  },
  {
   "cell_type": "code",
   "execution_count": 60,
   "metadata": {},
   "outputs": [
    {
     "output_type": "execute_result",
     "data": {
      "text/plain": "  customer  distance  sales\n4      101        12    123\n5      103         9    214\n6      104        44    663\n7      105        21    331",
      "text/html": "<div>\n<style scoped>\n    .dataframe tbody tr th:only-of-type {\n        vertical-align: middle;\n    }\n\n    .dataframe tbody tr th {\n        vertical-align: top;\n    }\n\n    .dataframe thead th {\n        text-align: right;\n    }\n</style>\n<table border=\"1\" class=\"dataframe\">\n  <thead>\n    <tr style=\"text-align: right;\">\n      <th></th>\n      <th>customer</th>\n      <th>distance</th>\n      <th>sales</th>\n    </tr>\n  </thead>\n  <tbody>\n    <tr>\n      <th>4</th>\n      <td>101</td>\n      <td>12</td>\n      <td>123</td>\n    </tr>\n    <tr>\n      <th>5</th>\n      <td>103</td>\n      <td>9</td>\n      <td>214</td>\n    </tr>\n    <tr>\n      <th>6</th>\n      <td>104</td>\n      <td>44</td>\n      <td>663</td>\n    </tr>\n    <tr>\n      <th>7</th>\n      <td>105</td>\n      <td>21</td>\n      <td>331</td>\n    </tr>\n  </tbody>\n</table>\n</div>"
     },
     "metadata": {},
     "execution_count": 60
    }
   ],
   "source": [
    "del df8['color']\n",
    "df8"
   ]
  },
  {
   "cell_type": "code",
   "execution_count": 61,
   "metadata": {},
   "outputs": [
    {
     "output_type": "execute_result",
     "data": {
      "text/plain": "Int64Index([4, 5, 6, 7], dtype='int64')"
     },
     "metadata": {},
     "execution_count": 61
    }
   ],
   "source": [
    "df8.index"
   ]
  },
  {
   "cell_type": "code",
   "execution_count": 62,
   "metadata": {},
   "outputs": [
    {
     "output_type": "execute_result",
     "data": {
      "text/plain": "  customer  distance  sales\n5      103         9    214\n4      101        12    123\n7      105        21    331\n6      104        44    663",
      "text/html": "<div>\n<style scoped>\n    .dataframe tbody tr th:only-of-type {\n        vertical-align: middle;\n    }\n\n    .dataframe tbody tr th {\n        vertical-align: top;\n    }\n\n    .dataframe thead th {\n        text-align: right;\n    }\n</style>\n<table border=\"1\" class=\"dataframe\">\n  <thead>\n    <tr style=\"text-align: right;\">\n      <th></th>\n      <th>customer</th>\n      <th>distance</th>\n      <th>sales</th>\n    </tr>\n  </thead>\n  <tbody>\n    <tr>\n      <th>5</th>\n      <td>103</td>\n      <td>9</td>\n      <td>214</td>\n    </tr>\n    <tr>\n      <th>4</th>\n      <td>101</td>\n      <td>12</td>\n      <td>123</td>\n    </tr>\n    <tr>\n      <th>7</th>\n      <td>105</td>\n      <td>21</td>\n      <td>331</td>\n    </tr>\n    <tr>\n      <th>6</th>\n      <td>104</td>\n      <td>44</td>\n      <td>663</td>\n    </tr>\n  </tbody>\n</table>\n</div>"
     },
     "metadata": {},
     "execution_count": 62
    }
   ],
   "source": [
    "df8.sort_values(by='distance',inplace=True)\n",
    "df8"
   ]
  },
  {
   "cell_type": "code",
   "execution_count": 63,
   "metadata": {},
   "outputs": [
    {
     "output_type": "execute_result",
     "data": {
      "text/plain": "  customer  distance  sales\n5      103         9    214\n4      101        12    123\n7      105        21    331\n6      104        44    663",
      "text/html": "<div>\n<style scoped>\n    .dataframe tbody tr th:only-of-type {\n        vertical-align: middle;\n    }\n\n    .dataframe tbody tr th {\n        vertical-align: top;\n    }\n\n    .dataframe thead th {\n        text-align: right;\n    }\n</style>\n<table border=\"1\" class=\"dataframe\">\n  <thead>\n    <tr style=\"text-align: right;\">\n      <th></th>\n      <th>customer</th>\n      <th>distance</th>\n      <th>sales</th>\n    </tr>\n  </thead>\n  <tbody>\n    <tr>\n      <th>5</th>\n      <td>103</td>\n      <td>9</td>\n      <td>214</td>\n    </tr>\n    <tr>\n      <th>4</th>\n      <td>101</td>\n      <td>12</td>\n      <td>123</td>\n    </tr>\n    <tr>\n      <th>7</th>\n      <td>105</td>\n      <td>21</td>\n      <td>331</td>\n    </tr>\n    <tr>\n      <th>6</th>\n      <td>104</td>\n      <td>44</td>\n      <td>663</td>\n    </tr>\n  </tbody>\n</table>\n</div>"
     },
     "metadata": {},
     "execution_count": 63
    }
   ],
   "source": [
    "df8"
   ]
  },
  {
   "cell_type": "code",
   "execution_count": 64,
   "metadata": {},
   "outputs": [
    {
     "output_type": "execute_result",
     "data": {
      "text/plain": "              customer  product1  product2\nPurchase 1  Customer 1       1.1      8.20\nPurchase 2  Customer 1       2.1      9.10\nPurchase 3   Customer2       3.8     11.10\nPurchase 4   Customer2       4.2      5.20\nPurchase 5   Customer3       5.5     44.66\nPurchase 6   Customer3       6.9    983.00",
      "text/html": "<div>\n<style scoped>\n    .dataframe tbody tr th:only-of-type {\n        vertical-align: middle;\n    }\n\n    .dataframe tbody tr th {\n        vertical-align: top;\n    }\n\n    .dataframe thead th {\n        text-align: right;\n    }\n</style>\n<table border=\"1\" class=\"dataframe\">\n  <thead>\n    <tr style=\"text-align: right;\">\n      <th></th>\n      <th>customer</th>\n      <th>product1</th>\n      <th>product2</th>\n    </tr>\n  </thead>\n  <tbody>\n    <tr>\n      <th>Purchase 1</th>\n      <td>Customer 1</td>\n      <td>1.1</td>\n      <td>8.20</td>\n    </tr>\n    <tr>\n      <th>Purchase 2</th>\n      <td>Customer 1</td>\n      <td>2.1</td>\n      <td>9.10</td>\n    </tr>\n    <tr>\n      <th>Purchase 3</th>\n      <td>Customer2</td>\n      <td>3.8</td>\n      <td>11.10</td>\n    </tr>\n    <tr>\n      <th>Purchase 4</th>\n      <td>Customer2</td>\n      <td>4.2</td>\n      <td>5.20</td>\n    </tr>\n    <tr>\n      <th>Purchase 5</th>\n      <td>Customer3</td>\n      <td>5.5</td>\n      <td>44.66</td>\n    </tr>\n    <tr>\n      <th>Purchase 6</th>\n      <td>Customer3</td>\n      <td>6.9</td>\n      <td>983.00</td>\n    </tr>\n  </tbody>\n</table>\n</div>"
     },
     "metadata": {},
     "execution_count": 64
    }
   ],
   "source": [
    "# if some series has multiple of the same value then we can group all the unique entries together\n",
    "mydict = {'customer': ['Customer 1','Customer 1','Customer2','Customer2','Customer3','Customer3'], \n",
    "          'product1': [1.1,2.1,3.8,4.2,5.5,6.9],\n",
    "          'product2': [8.2,9.1,11.1,5.2,44.66,983]}\n",
    "df6 = pd.DataFrame(mydict,index=['Purchase 1','Purchase 2','Purchase 3','Purchase 4','Purchase 5','Purchase 6'])\n",
    "df6"
   ]
  },
  {
   "cell_type": "code",
   "execution_count": 65,
   "metadata": {
    "tags": []
   },
   "outputs": [
    {
     "output_type": "stream",
     "name": "stdout",
     "text": "<pandas.core.groupby.generic.DataFrameGroupBy object at 0x000002215550D9C8>\n"
    }
   ],
   "source": [
    "grouped_data = df6.groupby('customer')\n",
    "print(grouped_data)"
   ]
  },
  {
   "cell_type": "code",
   "execution_count": 66,
   "metadata": {},
   "outputs": [
    {
     "output_type": "execute_result",
     "data": {
      "text/plain": "            product1    product2\ncustomer                        \nCustomer 1  0.707107    0.636396\nCustomer2   0.282843    4.171930\nCustomer3   0.989949  663.506577",
      "text/html": "<div>\n<style scoped>\n    .dataframe tbody tr th:only-of-type {\n        vertical-align: middle;\n    }\n\n    .dataframe tbody tr th {\n        vertical-align: top;\n    }\n\n    .dataframe thead th {\n        text-align: right;\n    }\n</style>\n<table border=\"1\" class=\"dataframe\">\n  <thead>\n    <tr style=\"text-align: right;\">\n      <th></th>\n      <th>product1</th>\n      <th>product2</th>\n    </tr>\n    <tr>\n      <th>customer</th>\n      <th></th>\n      <th></th>\n    </tr>\n  </thead>\n  <tbody>\n    <tr>\n      <th>Customer 1</th>\n      <td>0.707107</td>\n      <td>0.636396</td>\n    </tr>\n    <tr>\n      <th>Customer2</th>\n      <td>0.282843</td>\n      <td>4.171930</td>\n    </tr>\n    <tr>\n      <th>Customer3</th>\n      <td>0.989949</td>\n      <td>663.506577</td>\n    </tr>\n  </tbody>\n</table>\n</div>"
     },
     "metadata": {},
     "execution_count": 66
    }
   ],
   "source": [
    "grouped_data.std()"
   ]
  },
  {
   "cell_type": "code",
   "execution_count": 68,
   "metadata": {},
   "outputs": [
    {
     "output_type": "execute_result",
     "data": {
      "text/plain": "            product1  product2\ncustomer                      \nCustomer 1       3.2     17.30\nCustomer2        8.0     16.30\nCustomer3       12.4   1027.66",
      "text/html": "<div>\n<style scoped>\n    .dataframe tbody tr th:only-of-type {\n        vertical-align: middle;\n    }\n\n    .dataframe tbody tr th {\n        vertical-align: top;\n    }\n\n    .dataframe thead th {\n        text-align: right;\n    }\n</style>\n<table border=\"1\" class=\"dataframe\">\n  <thead>\n    <tr style=\"text-align: right;\">\n      <th></th>\n      <th>product1</th>\n      <th>product2</th>\n    </tr>\n    <tr>\n      <th>customer</th>\n      <th></th>\n      <th></th>\n    </tr>\n  </thead>\n  <tbody>\n    <tr>\n      <th>Customer 1</th>\n      <td>3.2</td>\n      <td>17.30</td>\n    </tr>\n    <tr>\n      <th>Customer2</th>\n      <td>8.0</td>\n      <td>16.30</td>\n    </tr>\n    <tr>\n      <th>Customer3</th>\n      <td>12.4</td>\n      <td>1027.66</td>\n    </tr>\n  </tbody>\n</table>\n</div>"
     },
     "metadata": {},
     "execution_count": 68
    }
   ],
   "source": [
    "grouped_data.sum()"
   ]
  },
  {
   "cell_type": "code",
   "execution_count": 80,
   "metadata": {},
   "outputs": [],
   "source": [
    "# similar to numpy arrays, we can also save and load dataframes to csv files, and also Excel files\n",
    "\n",
    "df8.to_csv('df8.csv',index=True) # whether to store index column or not."
   ]
  },
  {
   "cell_type": "code",
   "execution_count": 77,
   "metadata": {},
   "outputs": [
    {
     "output_type": "execute_result",
     "data": {
      "text/plain": "   customer  distance  sales\n0       103         9    214\n1       101        12    123\n2       105        21    331\n3       104        44    663",
      "text/html": "<div>\n<style scoped>\n    .dataframe tbody tr th:only-of-type {\n        vertical-align: middle;\n    }\n\n    .dataframe tbody tr th {\n        vertical-align: top;\n    }\n\n    .dataframe thead th {\n        text-align: right;\n    }\n</style>\n<table border=\"1\" class=\"dataframe\">\n  <thead>\n    <tr style=\"text-align: right;\">\n      <th></th>\n      <th>customer</th>\n      <th>distance</th>\n      <th>sales</th>\n    </tr>\n  </thead>\n  <tbody>\n    <tr>\n      <th>0</th>\n      <td>103</td>\n      <td>9</td>\n      <td>214</td>\n    </tr>\n    <tr>\n      <th>1</th>\n      <td>101</td>\n      <td>12</td>\n      <td>123</td>\n    </tr>\n    <tr>\n      <th>2</th>\n      <td>105</td>\n      <td>21</td>\n      <td>331</td>\n    </tr>\n    <tr>\n      <th>3</th>\n      <td>104</td>\n      <td>44</td>\n      <td>663</td>\n    </tr>\n  </tbody>\n</table>\n</div>"
     },
     "metadata": {},
     "execution_count": 77
    }
   ],
   "source": [
    "new_df8 = pd.read_csv('df8.csv',index_col=0) # index_col specifies which column is the index.\n",
    "new_df8"
   ]
  },
  {
   "cell_type": "code",
   "execution_count": null,
   "metadata": {},
   "outputs": [],
   "source": [
    "df8.to_excel('df8.xlsx',index=False,sheet_name='first sheet')\n",
    "newer_df8 = pd.read_excel('df8.xlsx',sheet_name='first sheet',index_col=1)\n",
    "newer_df8"
   ]
  },
  {
   "cell_type": "code",
   "execution_count": null,
   "metadata": {},
   "outputs": [],
   "source": []
  }
 ],
 "metadata": {
  "kernelspec": {
   "display_name": "Python 3",
   "language": "python",
   "name": "python3"
  },
  "language_info": {
   "codemirror_mode": {
    "name": "ipython",
    "version": 3
   },
   "file_extension": ".py",
   "mimetype": "text/x-python",
   "name": "python",
   "nbconvert_exporter": "python",
   "pygments_lexer": "ipython3",
   "version": "3.7.6-final"
  }
 },
 "nbformat": 4,
 "nbformat_minor": 2
}