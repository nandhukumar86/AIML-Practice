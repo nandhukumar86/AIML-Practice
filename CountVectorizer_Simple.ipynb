{
  "nbformat": 4,
  "nbformat_minor": 0,
  "metadata": {
    "colab": {
      "name": "CountVectorizer - Simple.ipynb",
      "provenance": [],
      "authorship_tag": "ABX9TyNJNi9Jx29ZFC6fUNoOJr7l",
      "include_colab_link": true
    },
    "kernelspec": {
      "name": "python3",
      "display_name": "Python 3"
    }
  },
  "cells": [
    {
      "cell_type": "markdown",
      "metadata": {
        "id": "view-in-github",
        "colab_type": "text"
      },
      "source": [
        "<a href=\"https://colab.research.google.com/github/nandhukumar86/AIML-Practice/blob/master/CountVectorizer_Simple.ipynb\" target=\"_parent\"><img src=\"https://colab.research.google.com/assets/colab-badge.svg\" alt=\"Open In Colab\"/></a>"
      ]
    },
    {
      "cell_type": "code",
      "metadata": {
        "id": "dnikJL5PtO7K"
      },
      "source": [
        "import numpy as np\n",
        "import pandas as pd\n",
        "import seaborn as sns\n",
        "import matplotlib.pyplot as plt\n",
        "sns.set(color_codes=True)\n",
        "%matplotlib inline\n"
      ],
      "execution_count": 90,
      "outputs": []
    },
    {
      "cell_type": "code",
      "metadata": {
        "id": "p5V9L9nptWsa"
      },
      "source": [
        "data = {'TextDesc': ['My name is Java',\n",
        "                     'Java is also a good', \n",
        "                     'Python is new', \n",
        "                     'Java is the one I am learning', \n",
        "                     'He is using Python', \n",
        "                     'Python is a good language']}\n",
        "df = pd.DataFrame(data,columns= ['TextDesc'])\n"
      ],
      "execution_count": 91,
      "outputs": []
    },
    {
      "cell_type": "code",
      "metadata": {
        "id": "OnU7P5gpt10W"
      },
      "source": [
        "from sklearn.feature_extraction.text import CountVectorizer\n",
        "cvetor = CountVectorizer()\n",
        "d = cvetor.fit_transform(df.TextDesc)"
      ],
      "execution_count": 92,
      "outputs": []
    },
    {
      "cell_type": "code",
      "metadata": {
        "id": "UmZCh2Lju9pF"
      },
      "source": [
        "df = pd.DataFrame(d.toarray(), columns= cvetor.get_feature_names()) "
      ],
      "execution_count": 93,
      "outputs": []
    },
    {
      "cell_type": "code",
      "metadata": {
        "id": "M8GjTAoovh_W"
      },
      "source": [
        "from sklearn.cluster import KMeans\n",
        "\n",
        "model = KMeans(n_clusters=2, random_state=10)\n",
        "cluster_labels = model.fit_predict(df)\n"
      ],
      "execution_count": 94,
      "outputs": []
    },
    {
      "cell_type": "code",
      "metadata": {
        "id": "emQ9brUDvpMF",
        "outputId": "0bd87060-a3f2-4355-f7e0-d02c07d0bd8b",
        "colab": {
          "base_uri": "https://localhost:8080/"
        }
      },
      "source": [
        "cluster_labels"
      ],
      "execution_count": 95,
      "outputs": [
        {
          "output_type": "execute_result",
          "data": {
            "text/plain": [
              "array([1, 1, 0, 1, 0, 0], dtype=int32)"
            ]
          },
          "metadata": {
            "tags": []
          },
          "execution_count": 95
        }
      ]
    },
    {
      "cell_type": "code",
      "metadata": {
        "id": "3QB6CAQSvru1"
      },
      "source": [
        ""
      ],
      "execution_count": 95,
      "outputs": []
    }
  ]
}