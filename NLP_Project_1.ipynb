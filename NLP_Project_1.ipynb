{
  "nbformat": 4,
  "nbformat_minor": 0,
  "metadata": {
    "colab": {
      "name": "NLP Project - 1.ipynb",
      "provenance": [],
      "collapsed_sections": [],
      "machine_shape": "hm",
      "mount_file_id": "17IVN1MMosKApaHBBH92RBXrws4yiUR3W",
      "authorship_tag": "ABX9TyN7Vfv8nTOuDGWPCh9l/vxC",
      "include_colab_link": true
    },
    "kernelspec": {
      "name": "python3",
      "display_name": "Python 3"
    },
    "language_info": {
      "name": "python"
    },
    "accelerator": "GPU"
  },
  "cells": [
    {
      "cell_type": "markdown",
      "metadata": {
        "id": "view-in-github",
        "colab_type": "text"
      },
      "source": [
        "<a href=\"https://colab.research.google.com/github/nandhukumar86/AIML-Practice/blob/master/NLP_Project_1.ipynb\" target=\"_parent\"><img src=\"https://colab.research.google.com/assets/colab-badge.svg\" alt=\"Open In Colab\"/></a>"
      ]
    },
    {
      "cell_type": "markdown",
      "metadata": {
        "id": "rt69HPJmyiBu"
      },
      "source": [
        "# Part 1"
      ]
    },
    {
      "cell_type": "markdown",
      "metadata": {
        "id": "euHnorGg0Fvc"
      },
      "source": [
        "### Basic Imports"
      ]
    },
    {
      "cell_type": "code",
      "metadata": {
        "id": "ncQR5ANjloNx"
      },
      "source": [
        "import nltk\n",
        "import pandas as pd\n",
        "import numpy as np\n",
        "\n",
        "import seaborn as sns\n",
        "import matplotlib.pyplot as plt\n",
        "sns.set(color_codes=True)\n",
        "%matplotlib inline\n"
      ],
      "execution_count": 1,
      "outputs": []
    },
    {
      "cell_type": "code",
      "metadata": {
        "id": "4vuazu5lmZgj"
      },
      "source": [
        "fileUrl = '/content/drive/MyDrive/blogtext.csv'"
      ],
      "execution_count": 2,
      "outputs": []
    },
    {
      "cell_type": "markdown",
      "metadata": {
        "id": "3n3YUE2J0MYz"
      },
      "source": [
        "### Read CSV"
      ]
    },
    {
      "cell_type": "code",
      "metadata": {
        "id": "dX1lZEJ5oxx0"
      },
      "source": [
        "df = pd.read_csv(fileUrl)"
      ],
      "execution_count": 3,
      "outputs": []
    },
    {
      "cell_type": "markdown",
      "metadata": {
        "id": "nwy2CdPj0Qo0"
      },
      "source": [
        "### Basic Details"
      ]
    },
    {
      "cell_type": "code",
      "metadata": {
        "colab": {
          "base_uri": "https://localhost:8080/"
        },
        "id": "B_yDaZF3qXM0",
        "outputId": "e15f8304-cd71-4898-be0a-f8e5d2b84fc2"
      },
      "source": [
        "print('\\nColumns:\\n',df.columns)\n",
        "print('\\nData types:\\n',df.dtypes)\n",
        "print('\\nSize:\\n',df.size)\n",
        "print('\\nShape:\\n',df.shape)\n",
        "print('\\nNull checks:\\n',df.isnull().sum())\n",
        "print('\\nDescribe:\\n',df.describe().T)\n"
      ],
      "execution_count": 4,
      "outputs": [
        {
          "output_type": "stream",
          "text": [
            "\n",
            "Columns:\n",
            " Index(['id', 'gender', 'age', 'topic', 'sign', 'date', 'text'], dtype='object')\n",
            "\n",
            "Data types:\n",
            " id         int64\n",
            "gender    object\n",
            "age        int64\n",
            "topic     object\n",
            "sign      object\n",
            "date      object\n",
            "text      object\n",
            "dtype: object\n",
            "\n",
            "Size:\n",
            " 4768988\n",
            "\n",
            "Shape:\n",
            " (681284, 7)\n",
            "\n",
            "Null checks:\n",
            " id        0\n",
            "gender    0\n",
            "age       0\n",
            "topic     0\n",
            "sign      0\n",
            "date      0\n",
            "text      0\n",
            "dtype: int64\n",
            "\n",
            "Describe:\n",
            "         count          mean           std  ...        50%        75%        max\n",
            "id   681284.0  2.397802e+06  1.247723e+06  ...  2607577.0  3525660.0  4337650.0\n",
            "age  681284.0  2.393233e+01  7.786009e+00  ...       24.0       26.0       48.0\n",
            "\n",
            "[2 rows x 8 columns]\n"
          ],
          "name": "stdout"
        }
      ]
    },
    {
      "cell_type": "code",
      "metadata": {
        "colab": {
          "base_uri": "https://localhost:8080/",
          "height": 204
        },
        "id": "vTMcd5Yqqc1D",
        "outputId": "0b6df991-ca80-4d26-cf09-c1e6d98e21f0"
      },
      "source": [
        "df.head()"
      ],
      "execution_count": 5,
      "outputs": [
        {
          "output_type": "execute_result",
          "data": {
            "text/html": [
              "<div>\n",
              "<style scoped>\n",
              "    .dataframe tbody tr th:only-of-type {\n",
              "        vertical-align: middle;\n",
              "    }\n",
              "\n",
              "    .dataframe tbody tr th {\n",
              "        vertical-align: top;\n",
              "    }\n",
              "\n",
              "    .dataframe thead th {\n",
              "        text-align: right;\n",
              "    }\n",
              "</style>\n",
              "<table border=\"1\" class=\"dataframe\">\n",
              "  <thead>\n",
              "    <tr style=\"text-align: right;\">\n",
              "      <th></th>\n",
              "      <th>id</th>\n",
              "      <th>gender</th>\n",
              "      <th>age</th>\n",
              "      <th>topic</th>\n",
              "      <th>sign</th>\n",
              "      <th>date</th>\n",
              "      <th>text</th>\n",
              "    </tr>\n",
              "  </thead>\n",
              "  <tbody>\n",
              "    <tr>\n",
              "      <th>0</th>\n",
              "      <td>2059027</td>\n",
              "      <td>male</td>\n",
              "      <td>15</td>\n",
              "      <td>Student</td>\n",
              "      <td>Leo</td>\n",
              "      <td>14,May,2004</td>\n",
              "      <td>Info has been found (+/- 100 pages,...</td>\n",
              "    </tr>\n",
              "    <tr>\n",
              "      <th>1</th>\n",
              "      <td>2059027</td>\n",
              "      <td>male</td>\n",
              "      <td>15</td>\n",
              "      <td>Student</td>\n",
              "      <td>Leo</td>\n",
              "      <td>13,May,2004</td>\n",
              "      <td>These are the team members:   Drewe...</td>\n",
              "    </tr>\n",
              "    <tr>\n",
              "      <th>2</th>\n",
              "      <td>2059027</td>\n",
              "      <td>male</td>\n",
              "      <td>15</td>\n",
              "      <td>Student</td>\n",
              "      <td>Leo</td>\n",
              "      <td>12,May,2004</td>\n",
              "      <td>In het kader van kernfusie op aarde...</td>\n",
              "    </tr>\n",
              "    <tr>\n",
              "      <th>3</th>\n",
              "      <td>2059027</td>\n",
              "      <td>male</td>\n",
              "      <td>15</td>\n",
              "      <td>Student</td>\n",
              "      <td>Leo</td>\n",
              "      <td>12,May,2004</td>\n",
              "      <td>testing!!!  testing!!!</td>\n",
              "    </tr>\n",
              "    <tr>\n",
              "      <th>4</th>\n",
              "      <td>3581210</td>\n",
              "      <td>male</td>\n",
              "      <td>33</td>\n",
              "      <td>InvestmentBanking</td>\n",
              "      <td>Aquarius</td>\n",
              "      <td>11,June,2004</td>\n",
              "      <td>Thanks to Yahoo!'s Toolbar I can ...</td>\n",
              "    </tr>\n",
              "  </tbody>\n",
              "</table>\n",
              "</div>"
            ],
            "text/plain": [
              "        id  ...                                               text\n",
              "0  2059027  ...             Info has been found (+/- 100 pages,...\n",
              "1  2059027  ...             These are the team members:   Drewe...\n",
              "2  2059027  ...             In het kader van kernfusie op aarde...\n",
              "3  2059027  ...                   testing!!!  testing!!!          \n",
              "4  3581210  ...               Thanks to Yahoo!'s Toolbar I can ...\n",
              "\n",
              "[5 rows x 7 columns]"
            ]
          },
          "metadata": {
            "tags": []
          },
          "execution_count": 5
        }
      ]
    },
    {
      "cell_type": "markdown",
      "metadata": {
        "id": "msj-i_7jjAWF"
      },
      "source": [
        "### taking sample of 10% as processing is taking more time"
      ]
    },
    {
      "cell_type": "code",
      "metadata": {
        "id": "sGHh43OCixZV"
      },
      "source": [
        "df = df.sample(frac = 0.1)"
      ],
      "execution_count": 6,
      "outputs": []
    },
    {
      "cell_type": "code",
      "metadata": {
        "colab": {
          "base_uri": "https://localhost:8080/"
        },
        "id": "xGAe6NrDjH9p",
        "outputId": "b835b7f2-384a-4cde-cb60-8188858abbbd"
      },
      "source": [
        "df.shape"
      ],
      "execution_count": 7,
      "outputs": [
        {
          "output_type": "execute_result",
          "data": {
            "text/plain": [
              "(68128, 7)"
            ]
          },
          "metadata": {
            "tags": []
          },
          "execution_count": 7
        }
      ]
    },
    {
      "cell_type": "markdown",
      "metadata": {
        "id": "5P9-X6_l0W6d"
      },
      "source": [
        "**We can remove the Id, date columns as it is not significant on this classification**"
      ]
    },
    {
      "cell_type": "code",
      "metadata": {
        "id": "rEgl7hdfrOmE"
      },
      "source": [
        "df.drop(columns= ['id','date'], inplace=True)"
      ],
      "execution_count": 8,
      "outputs": []
    },
    {
      "cell_type": "code",
      "metadata": {
        "colab": {
          "base_uri": "https://localhost:8080/",
          "height": 204
        },
        "id": "_qIegehi0rva",
        "outputId": "24a027db-55b5-48b0-9eb9-5a64aedfb69e"
      },
      "source": [
        "df.head()"
      ],
      "execution_count": 9,
      "outputs": [
        {
          "output_type": "execute_result",
          "data": {
            "text/html": [
              "<div>\n",
              "<style scoped>\n",
              "    .dataframe tbody tr th:only-of-type {\n",
              "        vertical-align: middle;\n",
              "    }\n",
              "\n",
              "    .dataframe tbody tr th {\n",
              "        vertical-align: top;\n",
              "    }\n",
              "\n",
              "    .dataframe thead th {\n",
              "        text-align: right;\n",
              "    }\n",
              "</style>\n",
              "<table border=\"1\" class=\"dataframe\">\n",
              "  <thead>\n",
              "    <tr style=\"text-align: right;\">\n",
              "      <th></th>\n",
              "      <th>gender</th>\n",
              "      <th>age</th>\n",
              "      <th>topic</th>\n",
              "      <th>sign</th>\n",
              "      <th>text</th>\n",
              "    </tr>\n",
              "  </thead>\n",
              "  <tbody>\n",
              "    <tr>\n",
              "      <th>75136</th>\n",
              "      <td>female</td>\n",
              "      <td>14</td>\n",
              "      <td>Student</td>\n",
              "      <td>Virgo</td>\n",
              "      <td>urlLink    More original art from The ...</td>\n",
              "    </tr>\n",
              "    <tr>\n",
              "      <th>489247</th>\n",
              "      <td>female</td>\n",
              "      <td>16</td>\n",
              "      <td>Student</td>\n",
              "      <td>Aries</td>\n",
              "      <td>mood: tired, sad music: simpsons ...</td>\n",
              "    </tr>\n",
              "    <tr>\n",
              "      <th>267405</th>\n",
              "      <td>female</td>\n",
              "      <td>16</td>\n",
              "      <td>Student</td>\n",
              "      <td>Sagittarius</td>\n",
              "      <td>i duno im really really tured and dont ...</td>\n",
              "    </tr>\n",
              "    <tr>\n",
              "      <th>48768</th>\n",
              "      <td>female</td>\n",
              "      <td>46</td>\n",
              "      <td>indUnk</td>\n",
              "      <td>Leo</td>\n",
              "      <td>urlLink This  is a disturbing trend, ...</td>\n",
              "    </tr>\n",
              "    <tr>\n",
              "      <th>637997</th>\n",
              "      <td>female</td>\n",
              "      <td>25</td>\n",
              "      <td>indUnk</td>\n",
              "      <td>Cancer</td>\n",
              "      <td>The party's over! (a.k.a. Please...</td>\n",
              "    </tr>\n",
              "  </tbody>\n",
              "</table>\n",
              "</div>"
            ],
            "text/plain": [
              "        gender  ...                                               text\n",
              "75136   female  ...          urlLink    More original art from The ...\n",
              "489247  female  ...               mood: tired, sad music: simpsons ...\n",
              "267405  female  ...         i duno im really really tured and dont ...\n",
              "48768   female  ...           urlLink This  is a disturbing trend, ...\n",
              "637997  female  ...                The party's over! (a.k.a. Please...\n",
              "\n",
              "[5 rows x 5 columns]"
            ]
          },
          "metadata": {
            "tags": []
          },
          "execution_count": 9
        }
      ]
    },
    {
      "cell_type": "code",
      "metadata": {
        "colab": {
          "base_uri": "https://localhost:8080/"
        },
        "id": "6TFFz4ah0zGU",
        "outputId": "f70ecd71-491b-4e9f-e8a7-472949ac693d"
      },
      "source": [
        "df.info()"
      ],
      "execution_count": 10,
      "outputs": [
        {
          "output_type": "stream",
          "text": [
            "<class 'pandas.core.frame.DataFrame'>\n",
            "Int64Index: 68128 entries, 75136 to 103864\n",
            "Data columns (total 5 columns):\n",
            " #   Column  Non-Null Count  Dtype \n",
            "---  ------  --------------  ----- \n",
            " 0   gender  68128 non-null  object\n",
            " 1   age     68128 non-null  int64 \n",
            " 2   topic   68128 non-null  object\n",
            " 3   sign    68128 non-null  object\n",
            " 4   text    68128 non-null  object\n",
            "dtypes: int64(1), object(4)\n",
            "memory usage: 3.1+ MB\n"
          ],
          "name": "stdout"
        }
      ]
    },
    {
      "cell_type": "markdown",
      "metadata": {
        "id": "bZoTYZBc1IjL"
      },
      "source": [
        "### Distribution of Age"
      ]
    },
    {
      "cell_type": "code",
      "metadata": {
        "colab": {
          "base_uri": "https://localhost:8080/",
          "height": 285
        },
        "id": "v5Ci9l12069U",
        "outputId": "57998832-70b6-4a4d-e718-8791c502f80b"
      },
      "source": [
        "sns.countplot(y = df['age']);"
      ],
      "execution_count": 11,
      "outputs": [
        {
          "output_type": "display_data",
          "data": {
            "image/png": "[encoded data removed]",
            "text/plain": [
              "<Figure size 432x288 with 1 Axes>"
            ]
          },
          "metadata": {
            "tags": [],
            "needs_background": "light"
          }
        }
      ]
    },
    {
      "cell_type": "markdown",
      "metadata": {
        "id": "TMM--cja1mO0"
      },
      "source": [
        "**The Problem statement is Multi label classification.**\n",
        "\n",
        "**Input**: Text\n",
        "\n",
        "**Output**: Gender, Age, Topic, Sign"
      ]
    },
    {
      "cell_type": "markdown",
      "metadata": {
        "id": "AbdaxV393co8"
      },
      "source": [
        "### Distribution of Gender"
      ]
    },
    {
      "cell_type": "code",
      "metadata": {
        "colab": {
          "base_uri": "https://localhost:8080/",
          "height": 356
        },
        "id": "RQuIs-yi1BAU",
        "outputId": "11eefe39-6c28-4f5b-f780-109fa970c058"
      },
      "source": [
        "sns.countplot(df['gender'])"
      ],
      "execution_count": 12,
      "outputs": [
        {
          "output_type": "stream",
          "text": [
            "/usr/local/lib/python3.7/dist-packages/seaborn/_decorators.py:43: FutureWarning: Pass the following variable as a keyword arg: x. From version 0.12, the only valid positional argument will be `data`, and passing other arguments without an explicit keyword will result in an error or misinterpretation.\n",
            "  FutureWarning\n"
          ],
          "name": "stderr"
        },
        {
          "output_type": "execute_result",
          "data": {
            "text/plain": [
              "<matplotlib.axes._subplots.AxesSubplot at 0x7f9525e25f50>"
            ]
          },
          "metadata": {
            "tags": []
          },
          "execution_count": 12
        },
        {
          "output_type": "display_data",
          "data": {
            "image/png": "[encoded data removed]",
            "text/plain": [
              "<Figure size 432x288 with 1 Axes>"
            ]
          },
          "metadata": {
            "tags": [],
            "needs_background": "light"
          }
        }
      ]
    },
    {
      "cell_type": "markdown",
      "metadata": {
        "id": "Z-NzdEDr3hSc"
      },
      "source": [
        "### Distribution of Sign"
      ]
    },
    {
      "cell_type": "code",
      "metadata": {
        "colab": {
          "base_uri": "https://localhost:8080/",
          "height": 302
        },
        "id": "eOxUbcuT2QXr",
        "outputId": "0f1e926e-e326-4e47-dcf2-5436f5060fb9"
      },
      "source": [
        "sns.countplot(y = df['sign'], hue=df[\"gender\"])"
      ],
      "execution_count": 13,
      "outputs": [
        {
          "output_type": "execute_result",
          "data": {
            "text/plain": [
              "<matplotlib.axes._subplots.AxesSubplot at 0x7f9525939950>"
            ]
          },
          "metadata": {
            "tags": []
          },
          "execution_count": 13
        },
        {
          "output_type": "display_data",
          "data": {
            "image/png": "[encoded data removed]",
            "text/plain": [
              "<Figure size 432x288 with 1 Axes>"
            ]
          },
          "metadata": {
            "tags": [],
            "needs_background": "light"
          }
        }
      ]
    },
    {
      "cell_type": "markdown",
      "metadata": {
        "id": "UWnNhHWl4cjd"
      },
      "source": [
        "### Unique Topics"
      ]
    },
    {
      "cell_type": "code",
      "metadata": {
        "colab": {
          "base_uri": "https://localhost:8080/"
        },
        "id": "2GyQkecE2Xtm",
        "outputId": "878c652f-94b0-4287-ff5b-0facac57adee"
      },
      "source": [
        "df['topic'].unique()"
      ],
      "execution_count": 14,
      "outputs": [
        {
          "output_type": "execute_result",
          "data": {
            "text/plain": [
              "array(['Student', 'indUnk', 'Science', 'Non-Profit',\n",
              "       'Communications-Media', 'Tourism', 'Education', 'Transportation',\n",
              "       'Technology', 'Publishing', 'Telecommunications', 'Fashion',\n",
              "       'Government', 'HumanResources', 'Marketing', 'Accounting', 'Arts',\n",
              "       'Engineering', 'Sports-Recreation', 'BusinessServices',\n",
              "       'Chemicals', 'Internet', 'RealEstate', 'Agriculture',\n",
              "       'Advertising', 'Military', 'Automotive', 'Biotech',\n",
              "       'Museums-Libraries', 'Manufacturing', 'Consulting', 'Banking',\n",
              "       'Religion', 'Law', 'Architecture', 'Construction',\n",
              "       'LawEnforcement-Security', 'InvestmentBanking', 'Environment',\n",
              "       'Maritime'], dtype=object)"
            ]
          },
          "metadata": {
            "tags": []
          },
          "execution_count": 14
        }
      ]
    },
    {
      "cell_type": "code",
      "metadata": {
        "colab": {
          "base_uri": "https://localhost:8080/"
        },
        "id": "K4fjn1kK4f8l",
        "outputId": "b2caea0c-6653-417a-a2aa-25edbe858ab9"
      },
      "source": [
        "df['topic'].value_counts()"
      ],
      "execution_count": 15,
      "outputs": [
        {
          "output_type": "execute_result",
          "data": {
            "text/plain": [
              "indUnk                     25120\n",
              "Student                    15371\n",
              "Technology                  4184\n",
              "Arts                        3240\n",
              "Education                   2953\n",
              "Communications-Media        2005\n",
              "Internet                    1627\n",
              "Non-Profit                  1507\n",
              "Engineering                 1190\n",
              "Law                          863\n",
              "Publishing                   771\n",
              "Science                      707\n",
              "Government                   685\n",
              "Consulting                   584\n",
              "Religion                     531\n",
              "Fashion                      480\n",
              "Marketing                    462\n",
              "BusinessServices             431\n",
              "Banking                      412\n",
              "Telecommunications           412\n",
              "Advertising                  403\n",
              "Chemicals                    399\n",
              "Accounting                   389\n",
              "Military                     340\n",
              "Sports-Recreation            339\n",
              "Museums-Libraries            331\n",
              "RealEstate                   315\n",
              "HumanResources               294\n",
              "Transportation               237\n",
              "Biotech                      237\n",
              "Manufacturing                227\n",
              "LawEnforcement-Security      197\n",
              "Tourism                      196\n",
              "Architecture                 169\n",
              "InvestmentBanking            124\n",
              "Automotive                   122\n",
              "Agriculture                  101\n",
              "Construction                  99\n",
              "Environment                   44\n",
              "Maritime                      30\n",
              "Name: topic, dtype: int64"
            ]
          },
          "metadata": {
            "tags": []
          },
          "execution_count": 15
        }
      ]
    },
    {
      "cell_type": "markdown",
      "metadata": {
        "id": "Zgf7wD9V6tBb"
      },
      "source": [
        "### Some Stats"
      ]
    },
    {
      "cell_type": "code",
      "metadata": {
        "colab": {
          "base_uri": "https://localhost:8080/",
          "height": 173
        },
        "id": "Gj0nB9z74tp1",
        "outputId": "cb891242-02ab-4737-9ded-8ccb9cc194d1"
      },
      "source": [
        "df.describe(include = [np.object]).T"
      ],
      "execution_count": 16,
      "outputs": [
        {
          "output_type": "execute_result",
          "data": {
            "text/html": [
              "<div>\n",
              "<style scoped>\n",
              "    .dataframe tbody tr th:only-of-type {\n",
              "        vertical-align: middle;\n",
              "    }\n",
              "\n",
              "    .dataframe tbody tr th {\n",
              "        vertical-align: top;\n",
              "    }\n",
              "\n",
              "    .dataframe thead th {\n",
              "        text-align: right;\n",
              "    }\n",
              "</style>\n",
              "<table border=\"1\" class=\"dataframe\">\n",
              "  <thead>\n",
              "    <tr style=\"text-align: right;\">\n",
              "      <th></th>\n",
              "      <th>count</th>\n",
              "      <th>unique</th>\n",
              "      <th>top</th>\n",
              "      <th>freq</th>\n",
              "    </tr>\n",
              "  </thead>\n",
              "  <tbody>\n",
              "    <tr>\n",
              "      <th>gender</th>\n",
              "      <td>68128</td>\n",
              "      <td>2</td>\n",
              "      <td>male</td>\n",
              "      <td>34428</td>\n",
              "    </tr>\n",
              "    <tr>\n",
              "      <th>topic</th>\n",
              "      <td>68128</td>\n",
              "      <td>40</td>\n",
              "      <td>indUnk</td>\n",
              "      <td>25120</td>\n",
              "    </tr>\n",
              "    <tr>\n",
              "      <th>sign</th>\n",
              "      <td>68128</td>\n",
              "      <td>12</td>\n",
              "      <td>Aries</td>\n",
              "      <td>6510</td>\n",
              "    </tr>\n",
              "    <tr>\n",
              "      <th>text</th>\n",
              "      <td>68128</td>\n",
              "      <td>66559</td>\n",
              "      <td>urlLink</td>\n",
              "      <td>42</td>\n",
              "    </tr>\n",
              "  </tbody>\n",
              "</table>\n",
              "</div>"
            ],
            "text/plain": [
              "        count unique                  top   freq\n",
              "gender  68128      2                 male  34428\n",
              "topic   68128     40               indUnk  25120\n",
              "sign    68128     12                Aries   6510\n",
              "text    68128  66559           urlLink        42"
            ]
          },
          "metadata": {
            "tags": []
          },
          "execution_count": 16
        }
      ]
    },
    {
      "cell_type": "code",
      "metadata": {
        "colab": {
          "base_uri": "https://localhost:8080/",
          "height": 80
        },
        "id": "YDpyfMQj6ecG",
        "outputId": "f89b9bd7-db7c-4739-dcb2-dc62ed59b750"
      },
      "source": [
        "df.describe().T"
      ],
      "execution_count": 17,
      "outputs": [
        {
          "output_type": "execute_result",
          "data": {
            "text/html": [
              "<div>\n",
              "<style scoped>\n",
              "    .dataframe tbody tr th:only-of-type {\n",
              "        vertical-align: middle;\n",
              "    }\n",
              "\n",
              "    .dataframe tbody tr th {\n",
              "        vertical-align: top;\n",
              "    }\n",
              "\n",
              "    .dataframe thead th {\n",
              "        text-align: right;\n",
              "    }\n",
              "</style>\n",
              "<table border=\"1\" class=\"dataframe\">\n",
              "  <thead>\n",
              "    <tr style=\"text-align: right;\">\n",
              "      <th></th>\n",
              "      <th>count</th>\n",
              "      <th>mean</th>\n",
              "      <th>std</th>\n",
              "      <th>min</th>\n",
              "      <th>25%</th>\n",
              "      <th>50%</th>\n",
              "      <th>75%</th>\n",
              "      <th>max</th>\n",
              "    </tr>\n",
              "  </thead>\n",
              "  <tbody>\n",
              "    <tr>\n",
              "      <th>age</th>\n",
              "      <td>68128.0</td>\n",
              "      <td>23.953617</td>\n",
              "      <td>7.804783</td>\n",
              "      <td>13.0</td>\n",
              "      <td>17.0</td>\n",
              "      <td>24.0</td>\n",
              "      <td>26.0</td>\n",
              "      <td>48.0</td>\n",
              "    </tr>\n",
              "  </tbody>\n",
              "</table>\n",
              "</div>"
            ],
            "text/plain": [
              "       count       mean       std   min   25%   50%   75%   max\n",
              "age  68128.0  23.953617  7.804783  13.0  17.0  24.0  26.0  48.0"
            ]
          },
          "metadata": {
            "tags": []
          },
          "execution_count": 17
        }
      ]
    },
    {
      "cell_type": "markdown",
      "metadata": {
        "id": "rkeOXlBT9sAk"
      },
      "source": [
        "**Defining X, y as Input and Output**"
      ]
    },
    {
      "cell_type": "code",
      "metadata": {
        "id": "ar8iD2Uf6qT0"
      },
      "source": [
        "X = df[['text']]\n",
        "y = df[['age','gender','topic','sign']]"
      ],
      "execution_count": 18,
      "outputs": []
    },
    {
      "cell_type": "code",
      "metadata": {
        "colab": {
          "base_uri": "https://localhost:8080/",
          "height": 204
        },
        "id": "svP0Y4xU9kYs",
        "outputId": "5b7e375a-883b-414f-9a76-fec4b2df1371"
      },
      "source": [
        "X.head()"
      ],
      "execution_count": 19,
      "outputs": [
        {
          "output_type": "execute_result",
          "data": {
            "text/html": [
              "<div>\n",
              "<style scoped>\n",
              "    .dataframe tbody tr th:only-of-type {\n",
              "        vertical-align: middle;\n",
              "    }\n",
              "\n",
              "    .dataframe tbody tr th {\n",
              "        vertical-align: top;\n",
              "    }\n",
              "\n",
              "    .dataframe thead th {\n",
              "        text-align: right;\n",
              "    }\n",
              "</style>\n",
              "<table border=\"1\" class=\"dataframe\">\n",
              "  <thead>\n",
              "    <tr style=\"text-align: right;\">\n",
              "      <th></th>\n",
              "      <th>text</th>\n",
              "    </tr>\n",
              "  </thead>\n",
              "  <tbody>\n",
              "    <tr>\n",
              "      <th>75136</th>\n",
              "      <td>urlLink    More original art from The ...</td>\n",
              "    </tr>\n",
              "    <tr>\n",
              "      <th>489247</th>\n",
              "      <td>mood: tired, sad music: simpsons ...</td>\n",
              "    </tr>\n",
              "    <tr>\n",
              "      <th>267405</th>\n",
              "      <td>i duno im really really tured and dont ...</td>\n",
              "    </tr>\n",
              "    <tr>\n",
              "      <th>48768</th>\n",
              "      <td>urlLink This  is a disturbing trend, ...</td>\n",
              "    </tr>\n",
              "    <tr>\n",
              "      <th>637997</th>\n",
              "      <td>The party's over! (a.k.a. Please...</td>\n",
              "    </tr>\n",
              "  </tbody>\n",
              "</table>\n",
              "</div>"
            ],
            "text/plain": [
              "                                                     text\n",
              "75136           urlLink    More original art from The ...\n",
              "489247               mood: tired, sad music: simpsons ...\n",
              "267405         i duno im really really tured and dont ...\n",
              "48768            urlLink This  is a disturbing trend, ...\n",
              "637997                The party's over! (a.k.a. Please..."
            ]
          },
          "metadata": {
            "tags": []
          },
          "execution_count": 19
        }
      ]
    },
    {
      "cell_type": "markdown",
      "metadata": {
        "id": "ZnwdACelEWLk"
      },
      "source": [
        "**Processing y**"
      ]
    },
    {
      "cell_type": "code",
      "metadata": {
        "colab": {
          "base_uri": "https://localhost:8080/",
          "height": 204
        },
        "id": "6Xoc4sC59lwk",
        "outputId": "55350caf-942f-4e32-918e-0ccdd5284c17"
      },
      "source": [
        "y.head()"
      ],
      "execution_count": 20,
      "outputs": [
        {
          "output_type": "execute_result",
          "data": {
            "text/html": [
              "<div>\n",
              "<style scoped>\n",
              "    .dataframe tbody tr th:only-of-type {\n",
              "        vertical-align: middle;\n",
              "    }\n",
              "\n",
              "    .dataframe tbody tr th {\n",
              "        vertical-align: top;\n",
              "    }\n",
              "\n",
              "    .dataframe thead th {\n",
              "        text-align: right;\n",
              "    }\n",
              "</style>\n",
              "<table border=\"1\" class=\"dataframe\">\n",
              "  <thead>\n",
              "    <tr style=\"text-align: right;\">\n",
              "      <th></th>\n",
              "      <th>age</th>\n",
              "      <th>gender</th>\n",
              "      <th>topic</th>\n",
              "      <th>sign</th>\n",
              "    </tr>\n",
              "  </thead>\n",
              "  <tbody>\n",
              "    <tr>\n",
              "      <th>75136</th>\n",
              "      <td>14</td>\n",
              "      <td>female</td>\n",
              "      <td>Student</td>\n",
              "      <td>Virgo</td>\n",
              "    </tr>\n",
              "    <tr>\n",
              "      <th>489247</th>\n",
              "      <td>16</td>\n",
              "      <td>female</td>\n",
              "      <td>Student</td>\n",
              "      <td>Aries</td>\n",
              "    </tr>\n",
              "    <tr>\n",
              "      <th>267405</th>\n",
              "      <td>16</td>\n",
              "      <td>female</td>\n",
              "      <td>Student</td>\n",
              "      <td>Sagittarius</td>\n",
              "    </tr>\n",
              "    <tr>\n",
              "      <th>48768</th>\n",
              "      <td>46</td>\n",
              "      <td>female</td>\n",
              "      <td>indUnk</td>\n",
              "      <td>Leo</td>\n",
              "    </tr>\n",
              "    <tr>\n",
              "      <th>637997</th>\n",
              "      <td>25</td>\n",
              "      <td>female</td>\n",
              "      <td>indUnk</td>\n",
              "      <td>Cancer</td>\n",
              "    </tr>\n",
              "  </tbody>\n",
              "</table>\n",
              "</div>"
            ],
            "text/plain": [
              "        age  gender    topic         sign\n",
              "75136    14  female  Student        Virgo\n",
              "489247   16  female  Student        Aries\n",
              "267405   16  female  Student  Sagittarius\n",
              "48768    46  female   indUnk          Leo\n",
              "637997   25  female   indUnk       Cancer"
            ]
          },
          "metadata": {
            "tags": []
          },
          "execution_count": 20
        }
      ]
    },
    {
      "cell_type": "code",
      "metadata": {
        "id": "FGPLraFHCPw8"
      },
      "source": [
        "def age_mod(x):\n",
        "  if x>=13 and x<=17:\n",
        "    return '10s'\n",
        "  elif x>=23 and x<=27:\n",
        "    return '20s'\n",
        "  else:\n",
        "    return '30s' "
      ],
      "execution_count": 21,
      "outputs": []
    },
    {
      "cell_type": "code",
      "metadata": {
        "colab": {
          "base_uri": "https://localhost:8080/"
        },
        "id": "W3yH0yhSA1M0",
        "outputId": "3fb0461e-9024-4287-df4d-924b76bfdbb8"
      },
      "source": [
        "y['age'] = y['age'].apply(age_mod)\n"
      ],
      "execution_count": 22,
      "outputs": [
        {
          "output_type": "stream",
          "text": [
            "/usr/local/lib/python3.7/dist-packages/ipykernel_launcher.py:1: SettingWithCopyWarning: \n",
            "A value is trying to be set on a copy of a slice from a DataFrame.\n",
            "Try using .loc[row_indexer,col_indexer] = value instead\n",
            "\n",
            "See the caveats in the documentation: https://pandas.pydata.org/pandas-docs/stable/user_guide/indexing.html#returning-a-view-versus-a-copy\n",
            "  \"\"\"Entry point for launching an IPython kernel.\n"
          ],
          "name": "stderr"
        }
      ]
    },
    {
      "cell_type": "code",
      "metadata": {
        "colab": {
          "base_uri": "https://localhost:8080/",
          "height": 204
        },
        "id": "38TRamhUCTtF",
        "outputId": "e853e83f-54e7-4f48-b6fc-439da6ceec08"
      },
      "source": [
        "y.head()"
      ],
      "execution_count": 23,
      "outputs": [
        {
          "output_type": "execute_result",
          "data": {
            "text/html": [
              "<div>\n",
              "<style scoped>\n",
              "    .dataframe tbody tr th:only-of-type {\n",
              "        vertical-align: middle;\n",
              "    }\n",
              "\n",
              "    .dataframe tbody tr th {\n",
              "        vertical-align: top;\n",
              "    }\n",
              "\n",
              "    .dataframe thead th {\n",
              "        text-align: right;\n",
              "    }\n",
              "</style>\n",
              "<table border=\"1\" class=\"dataframe\">\n",
              "  <thead>\n",
              "    <tr style=\"text-align: right;\">\n",
              "      <th></th>\n",
              "      <th>age</th>\n",
              "      <th>gender</th>\n",
              "      <th>topic</th>\n",
              "      <th>sign</th>\n",
              "    </tr>\n",
              "  </thead>\n",
              "  <tbody>\n",
              "    <tr>\n",
              "      <th>75136</th>\n",
              "      <td>10s</td>\n",
              "      <td>female</td>\n",
              "      <td>Student</td>\n",
              "      <td>Virgo</td>\n",
              "    </tr>\n",
              "    <tr>\n",
              "      <th>489247</th>\n",
              "      <td>10s</td>\n",
              "      <td>female</td>\n",
              "      <td>Student</td>\n",
              "      <td>Aries</td>\n",
              "    </tr>\n",
              "    <tr>\n",
              "      <th>267405</th>\n",
              "      <td>10s</td>\n",
              "      <td>female</td>\n",
              "      <td>Student</td>\n",
              "      <td>Sagittarius</td>\n",
              "    </tr>\n",
              "    <tr>\n",
              "      <th>48768</th>\n",
              "      <td>30s</td>\n",
              "      <td>female</td>\n",
              "      <td>indUnk</td>\n",
              "      <td>Leo</td>\n",
              "    </tr>\n",
              "    <tr>\n",
              "      <th>637997</th>\n",
              "      <td>20s</td>\n",
              "      <td>female</td>\n",
              "      <td>indUnk</td>\n",
              "      <td>Cancer</td>\n",
              "    </tr>\n",
              "  </tbody>\n",
              "</table>\n",
              "</div>"
            ],
            "text/plain": [
              "        age  gender    topic         sign\n",
              "75136   10s  female  Student        Virgo\n",
              "489247  10s  female  Student        Aries\n",
              "267405  10s  female  Student  Sagittarius\n",
              "48768   30s  female   indUnk          Leo\n",
              "637997  20s  female   indUnk       Cancer"
            ]
          },
          "metadata": {
            "tags": []
          },
          "execution_count": 23
        }
      ]
    },
    {
      "cell_type": "code",
      "metadata": {
        "id": "PhExdtSwDAjA"
      },
      "source": [
        "# get dummies for the given columns\n",
        "y_processed = pd.get_dummies(y, columns=['age', 'gender', 'topic', 'sign'])\n",
        "# not dropping first values as I am going to use Neural Nets for the classification"
      ],
      "execution_count": 24,
      "outputs": []
    },
    {
      "cell_type": "code",
      "metadata": {
        "colab": {
          "base_uri": "https://localhost:8080/",
          "height": 241
        },
        "id": "o0dxkd5tDgTe",
        "outputId": "e85bb8fc-3427-45aa-bd80-76758aa04f3b"
      },
      "source": [
        "y_processed.head()"
      ],
      "execution_count": 25,
      "outputs": [
        {
          "output_type": "execute_result",
          "data": {
            "text/html": [
              "<div>\n",
              "<style scoped>\n",
              "    .dataframe tbody tr th:only-of-type {\n",
              "        vertical-align: middle;\n",
              "    }\n",
              "\n",
              "    .dataframe tbody tr th {\n",
              "        vertical-align: top;\n",
              "    }\n",
              "\n",
              "    .dataframe thead th {\n",
              "        text-align: right;\n",
              "    }\n",
              "</style>\n",
              "<table border=\"1\" class=\"dataframe\">\n",
              "  <thead>\n",
              "    <tr style=\"text-align: right;\">\n",
              "      <th></th>\n",
              "      <th>age_10s</th>\n",
              "      <th>age_20s</th>\n",
              "      <th>age_30s</th>\n",
              "      <th>gender_female</th>\n",
              "      <th>gender_male</th>\n",
              "      <th>topic_Accounting</th>\n",
              "      <th>topic_Advertising</th>\n",
              "      <th>topic_Agriculture</th>\n",
              "      <th>topic_Architecture</th>\n",
              "      <th>topic_Arts</th>\n",
              "      <th>topic_Automotive</th>\n",
              "      <th>topic_Banking</th>\n",
              "      <th>topic_Biotech</th>\n",
              "      <th>topic_BusinessServices</th>\n",
              "      <th>topic_Chemicals</th>\n",
              "      <th>topic_Communications-Media</th>\n",
              "      <th>topic_Construction</th>\n",
              "      <th>topic_Consulting</th>\n",
              "      <th>topic_Education</th>\n",
              "      <th>topic_Engineering</th>\n",
              "      <th>topic_Environment</th>\n",
              "      <th>topic_Fashion</th>\n",
              "      <th>topic_Government</th>\n",
              "      <th>topic_HumanResources</th>\n",
              "      <th>topic_Internet</th>\n",
              "      <th>topic_InvestmentBanking</th>\n",
              "      <th>topic_Law</th>\n",
              "      <th>topic_LawEnforcement-Security</th>\n",
              "      <th>topic_Manufacturing</th>\n",
              "      <th>topic_Maritime</th>\n",
              "      <th>topic_Marketing</th>\n",
              "      <th>topic_Military</th>\n",
              "      <th>topic_Museums-Libraries</th>\n",
              "      <th>topic_Non-Profit</th>\n",
              "      <th>topic_Publishing</th>\n",
              "      <th>topic_RealEstate</th>\n",
              "      <th>topic_Religion</th>\n",
              "      <th>topic_Science</th>\n",
              "      <th>topic_Sports-Recreation</th>\n",
              "      <th>topic_Student</th>\n",
              "      <th>topic_Technology</th>\n",
              "      <th>topic_Telecommunications</th>\n",
              "      <th>topic_Tourism</th>\n",
              "      <th>topic_Transportation</th>\n",
              "      <th>topic_indUnk</th>\n",
              "      <th>sign_Aquarius</th>\n",
              "      <th>sign_Aries</th>\n",
              "      <th>sign_Cancer</th>\n",
              "      <th>sign_Capricorn</th>\n",
              "      <th>sign_Gemini</th>\n",
              "      <th>sign_Leo</th>\n",
              "      <th>sign_Libra</th>\n",
              "      <th>sign_Pisces</th>\n",
              "      <th>sign_Sagittarius</th>\n",
              "      <th>sign_Scorpio</th>\n",
              "      <th>sign_Taurus</th>\n",
              "      <th>sign_Virgo</th>\n",
              "    </tr>\n",
              "  </thead>\n",
              "  <tbody>\n",
              "    <tr>\n",
              "      <th>75136</th>\n",
              "      <td>1</td>\n",
              "      <td>0</td>\n",
              "      <td>0</td>\n",
              "      <td>1</td>\n",
              "      <td>0</td>\n",
              "      <td>0</td>\n",
              "      <td>0</td>\n",
              "      <td>0</td>\n",
              "      <td>0</td>\n",
              "      <td>0</td>\n",
              "      <td>0</td>\n",
              "      <td>0</td>\n",
              "      <td>0</td>\n",
              "      <td>0</td>\n",
              "      <td>0</td>\n",
              "      <td>0</td>\n",
              "      <td>0</td>\n",
              "      <td>0</td>\n",
              "      <td>0</td>\n",
              "      <td>0</td>\n",
              "      <td>0</td>\n",
              "      <td>0</td>\n",
              "      <td>0</td>\n",
              "      <td>0</td>\n",
              "      <td>0</td>\n",
              "      <td>0</td>\n",
              "      <td>0</td>\n",
              "      <td>0</td>\n",
              "      <td>0</td>\n",
              "      <td>0</td>\n",
              "      <td>0</td>\n",
              "      <td>0</td>\n",
              "      <td>0</td>\n",
              "      <td>0</td>\n",
              "      <td>0</td>\n",
              "      <td>0</td>\n",
              "      <td>0</td>\n",
              "      <td>0</td>\n",
              "      <td>0</td>\n",
              "      <td>1</td>\n",
              "      <td>0</td>\n",
              "      <td>0</td>\n",
              "      <td>0</td>\n",
              "      <td>0</td>\n",
              "      <td>0</td>\n",
              "      <td>0</td>\n",
              "      <td>0</td>\n",
              "      <td>0</td>\n",
              "      <td>0</td>\n",
              "      <td>0</td>\n",
              "      <td>0</td>\n",
              "      <td>0</td>\n",
              "      <td>0</td>\n",
              "      <td>0</td>\n",
              "      <td>0</td>\n",
              "      <td>0</td>\n",
              "      <td>1</td>\n",
              "    </tr>\n",
              "    <tr>\n",
              "      <th>489247</th>\n",
              "      <td>1</td>\n",
              "      <td>0</td>\n",
              "      <td>0</td>\n",
              "      <td>1</td>\n",
              "      <td>0</td>\n",
              "      <td>0</td>\n",
              "      <td>0</td>\n",
              "      <td>0</td>\n",
              "      <td>0</td>\n",
              "      <td>0</td>\n",
              "      <td>0</td>\n",
              "      <td>0</td>\n",
              "      <td>0</td>\n",
              "      <td>0</td>\n",
              "      <td>0</td>\n",
              "      <td>0</td>\n",
              "      <td>0</td>\n",
              "      <td>0</td>\n",
              "      <td>0</td>\n",
              "      <td>0</td>\n",
              "      <td>0</td>\n",
              "      <td>0</td>\n",
              "      <td>0</td>\n",
              "      <td>0</td>\n",
              "      <td>0</td>\n",
              "      <td>0</td>\n",
              "      <td>0</td>\n",
              "      <td>0</td>\n",
              "      <td>0</td>\n",
              "      <td>0</td>\n",
              "      <td>0</td>\n",
              "      <td>0</td>\n",
              "      <td>0</td>\n",
              "      <td>0</td>\n",
              "      <td>0</td>\n",
              "      <td>0</td>\n",
              "      <td>0</td>\n",
              "      <td>0</td>\n",
              "      <td>0</td>\n",
              "      <td>1</td>\n",
              "      <td>0</td>\n",
              "      <td>0</td>\n",
              "      <td>0</td>\n",
              "      <td>0</td>\n",
              "      <td>0</td>\n",
              "      <td>0</td>\n",
              "      <td>1</td>\n",
              "      <td>0</td>\n",
              "      <td>0</td>\n",
              "      <td>0</td>\n",
              "      <td>0</td>\n",
              "      <td>0</td>\n",
              "      <td>0</td>\n",
              "      <td>0</td>\n",
              "      <td>0</td>\n",
              "      <td>0</td>\n",
              "      <td>0</td>\n",
              "    </tr>\n",
              "    <tr>\n",
              "      <th>267405</th>\n",
              "      <td>1</td>\n",
              "      <td>0</td>\n",
              "      <td>0</td>\n",
              "      <td>1</td>\n",
              "      <td>0</td>\n",
              "      <td>0</td>\n",
              "      <td>0</td>\n",
              "      <td>0</td>\n",
              "      <td>0</td>\n",
              "      <td>0</td>\n",
              "      <td>0</td>\n",
              "      <td>0</td>\n",
              "      <td>0</td>\n",
              "      <td>0</td>\n",
              "      <td>0</td>\n",
              "      <td>0</td>\n",
              "      <td>0</td>\n",
              "      <td>0</td>\n",
              "      <td>0</td>\n",
              "      <td>0</td>\n",
              "      <td>0</td>\n",
              "      <td>0</td>\n",
              "      <td>0</td>\n",
              "      <td>0</td>\n",
              "      <td>0</td>\n",
              "      <td>0</td>\n",
              "      <td>0</td>\n",
              "      <td>0</td>\n",
              "      <td>0</td>\n",
              "      <td>0</td>\n",
              "      <td>0</td>\n",
              "      <td>0</td>\n",
              "      <td>0</td>\n",
              "      <td>0</td>\n",
              "      <td>0</td>\n",
              "      <td>0</td>\n",
              "      <td>0</td>\n",
              "      <td>0</td>\n",
              "      <td>0</td>\n",
              "      <td>1</td>\n",
              "      <td>0</td>\n",
              "      <td>0</td>\n",
              "      <td>0</td>\n",
              "      <td>0</td>\n",
              "      <td>0</td>\n",
              "      <td>0</td>\n",
              "      <td>0</td>\n",
              "      <td>0</td>\n",
              "      <td>0</td>\n",
              "      <td>0</td>\n",
              "      <td>0</td>\n",
              "      <td>0</td>\n",
              "      <td>0</td>\n",
              "      <td>1</td>\n",
              "      <td>0</td>\n",
              "      <td>0</td>\n",
              "      <td>0</td>\n",
              "    </tr>\n",
              "    <tr>\n",
              "      <th>48768</th>\n",
              "      <td>0</td>\n",
              "      <td>0</td>\n",
              "      <td>1</td>\n",
              "      <td>1</td>\n",
              "      <td>0</td>\n",
              "      <td>0</td>\n",
              "      <td>0</td>\n",
              "      <td>0</td>\n",
              "      <td>0</td>\n",
              "      <td>0</td>\n",
              "      <td>0</td>\n",
              "      <td>0</td>\n",
              "      <td>0</td>\n",
              "      <td>0</td>\n",
              "      <td>0</td>\n",
              "      <td>0</td>\n",
              "      <td>0</td>\n",
              "      <td>0</td>\n",
              "      <td>0</td>\n",
              "      <td>0</td>\n",
              "      <td>0</td>\n",
              "      <td>0</td>\n",
              "      <td>0</td>\n",
              "      <td>0</td>\n",
              "      <td>0</td>\n",
              "      <td>0</td>\n",
              "      <td>0</td>\n",
              "      <td>0</td>\n",
              "      <td>0</td>\n",
              "      <td>0</td>\n",
              "      <td>0</td>\n",
              "      <td>0</td>\n",
              "      <td>0</td>\n",
              "      <td>0</td>\n",
              "      <td>0</td>\n",
              "      <td>0</td>\n",
              "      <td>0</td>\n",
              "      <td>0</td>\n",
              "      <td>0</td>\n",
              "      <td>0</td>\n",
              "      <td>0</td>\n",
              "      <td>0</td>\n",
              "      <td>0</td>\n",
              "      <td>0</td>\n",
              "      <td>1</td>\n",
              "      <td>0</td>\n",
              "      <td>0</td>\n",
              "      <td>0</td>\n",
              "      <td>0</td>\n",
              "      <td>0</td>\n",
              "      <td>1</td>\n",
              "      <td>0</td>\n",
              "      <td>0</td>\n",
              "      <td>0</td>\n",
              "      <td>0</td>\n",
              "      <td>0</td>\n",
              "      <td>0</td>\n",
              "    </tr>\n",
              "    <tr>\n",
              "      <th>637997</th>\n",
              "      <td>0</td>\n",
              "      <td>1</td>\n",
              "      <td>0</td>\n",
              "      <td>1</td>\n",
              "      <td>0</td>\n",
              "      <td>0</td>\n",
              "      <td>0</td>\n",
              "      <td>0</td>\n",
              "      <td>0</td>\n",
              "      <td>0</td>\n",
              "      <td>0</td>\n",
              "      <td>0</td>\n",
              "      <td>0</td>\n",
              "      <td>0</td>\n",
              "      <td>0</td>\n",
              "      <td>0</td>\n",
              "      <td>0</td>\n",
              "      <td>0</td>\n",
              "      <td>0</td>\n",
              "      <td>0</td>\n",
              "      <td>0</td>\n",
              "      <td>0</td>\n",
              "      <td>0</td>\n",
              "      <td>0</td>\n",
              "      <td>0</td>\n",
              "      <td>0</td>\n",
              "      <td>0</td>\n",
              "      <td>0</td>\n",
              "      <td>0</td>\n",
              "      <td>0</td>\n",
              "      <td>0</td>\n",
              "      <td>0</td>\n",
              "      <td>0</td>\n",
              "      <td>0</td>\n",
              "      <td>0</td>\n",
              "      <td>0</td>\n",
              "      <td>0</td>\n",
              "      <td>0</td>\n",
              "      <td>0</td>\n",
              "      <td>0</td>\n",
              "      <td>0</td>\n",
              "      <td>0</td>\n",
              "      <td>0</td>\n",
              "      <td>0</td>\n",
              "      <td>1</td>\n",
              "      <td>0</td>\n",
              "      <td>0</td>\n",
              "      <td>1</td>\n",
              "      <td>0</td>\n",
              "      <td>0</td>\n",
              "      <td>0</td>\n",
              "      <td>0</td>\n",
              "      <td>0</td>\n",
              "      <td>0</td>\n",
              "      <td>0</td>\n",
              "      <td>0</td>\n",
              "      <td>0</td>\n",
              "    </tr>\n",
              "  </tbody>\n",
              "</table>\n",
              "</div>"
            ],
            "text/plain": [
              "        age_10s  age_20s  age_30s  ...  sign_Scorpio  sign_Taurus  sign_Virgo\n",
              "75136         1        0        0  ...             0            0           1\n",
              "489247        1        0        0  ...             0            0           0\n",
              "267405        1        0        0  ...             0            0           0\n",
              "48768         0        0        1  ...             0            0           0\n",
              "637997        0        1        0  ...             0            0           0\n",
              "\n",
              "[5 rows x 57 columns]"
            ]
          },
          "metadata": {
            "tags": []
          },
          "execution_count": 25
        }
      ]
    },
    {
      "cell_type": "markdown",
      "metadata": {
        "id": "IKnzPcyUEaWF"
      },
      "source": [
        "**Processing X**"
      ]
    },
    {
      "cell_type": "markdown",
      "metadata": {
        "id": "vPnsX0QcHlAU"
      },
      "source": [
        "1. remove extra space, special character, punctuations\n",
        "2. remove the stop words\n",
        "3. convert to lower case\n",
        "4. Stemming"
      ]
    },
    {
      "cell_type": "code",
      "metadata": {
        "colab": {
          "base_uri": "https://localhost:8080/",
          "height": 204
        },
        "id": "x3cfhurGEL-7",
        "outputId": "ae8b6924-c240-46ca-f3c9-4716ffdfdb0a"
      },
      "source": [
        "X.head()"
      ],
      "execution_count": 26,
      "outputs": [
        {
          "output_type": "execute_result",
          "data": {
            "text/html": [
              "<div>\n",
              "<style scoped>\n",
              "    .dataframe tbody tr th:only-of-type {\n",
              "        vertical-align: middle;\n",
              "    }\n",
              "\n",
              "    .dataframe tbody tr th {\n",
              "        vertical-align: top;\n",
              "    }\n",
              "\n",
              "    .dataframe thead th {\n",
              "        text-align: right;\n",
              "    }\n",
              "</style>\n",
              "<table border=\"1\" class=\"dataframe\">\n",
              "  <thead>\n",
              "    <tr style=\"text-align: right;\">\n",
              "      <th></th>\n",
              "      <th>text</th>\n",
              "    </tr>\n",
              "  </thead>\n",
              "  <tbody>\n",
              "    <tr>\n",
              "      <th>75136</th>\n",
              "      <td>urlLink    More original art from The ...</td>\n",
              "    </tr>\n",
              "    <tr>\n",
              "      <th>489247</th>\n",
              "      <td>mood: tired, sad music: simpsons ...</td>\n",
              "    </tr>\n",
              "    <tr>\n",
              "      <th>267405</th>\n",
              "      <td>i duno im really really tured and dont ...</td>\n",
              "    </tr>\n",
              "    <tr>\n",
              "      <th>48768</th>\n",
              "      <td>urlLink This  is a disturbing trend, ...</td>\n",
              "    </tr>\n",
              "    <tr>\n",
              "      <th>637997</th>\n",
              "      <td>The party's over! (a.k.a. Please...</td>\n",
              "    </tr>\n",
              "  </tbody>\n",
              "</table>\n",
              "</div>"
            ],
            "text/plain": [
              "                                                     text\n",
              "75136           urlLink    More original art from The ...\n",
              "489247               mood: tired, sad music: simpsons ...\n",
              "267405         i duno im really really tured and dont ...\n",
              "48768            urlLink This  is a disturbing trend, ...\n",
              "637997                The party's over! (a.k.a. Please..."
            ]
          },
          "metadata": {
            "tags": []
          },
          "execution_count": 26
        }
      ]
    },
    {
      "cell_type": "code",
      "metadata": {
        "colab": {
          "base_uri": "https://localhost:8080/"
        },
        "id": "mfjuRRxcEisV",
        "outputId": "cf5dae29-7a18-453c-e884-798f854836c0"
      },
      "source": [
        "X.info()"
      ],
      "execution_count": 27,
      "outputs": [
        {
          "output_type": "stream",
          "text": [
            "<class 'pandas.core.frame.DataFrame'>\n",
            "Int64Index: 68128 entries, 75136 to 103864\n",
            "Data columns (total 1 columns):\n",
            " #   Column  Non-Null Count  Dtype \n",
            "---  ------  --------------  ----- \n",
            " 0   text    68128 non-null  object\n",
            "dtypes: object(1)\n",
            "memory usage: 3.5+ MB\n"
          ],
          "name": "stdout"
        }
      ]
    },
    {
      "cell_type": "code",
      "metadata": {
        "id": "IW9FNQ77Iv33"
      },
      "source": [
        "X = X.astype(str)"
      ],
      "execution_count": 28,
      "outputs": []
    },
    {
      "cell_type": "code",
      "metadata": {
        "colab": {
          "base_uri": "https://localhost:8080/"
        },
        "id": "n9zkxbeWI_CW",
        "outputId": "a0c19fbd-2b6b-41e1-820e-95d0f4864eb6"
      },
      "source": [
        "X.info()"
      ],
      "execution_count": 29,
      "outputs": [
        {
          "output_type": "stream",
          "text": [
            "<class 'pandas.core.frame.DataFrame'>\n",
            "Int64Index: 68128 entries, 75136 to 103864\n",
            "Data columns (total 1 columns):\n",
            " #   Column  Non-Null Count  Dtype \n",
            "---  ------  --------------  ----- \n",
            " 0   text    68128 non-null  object\n",
            "dtypes: object(1)\n",
            "memory usage: 3.5+ MB\n"
          ],
          "name": "stdout"
        }
      ]
    },
    {
      "cell_type": "code",
      "metadata": {
        "id": "Q-Y1QOJsJA4m"
      },
      "source": [
        "X['text'] = X['text'].str.lower()"
      ],
      "execution_count": 30,
      "outputs": []
    },
    {
      "cell_type": "code",
      "metadata": {
        "colab": {
          "base_uri": "https://localhost:8080/",
          "height": 111
        },
        "id": "JntlMQC9JPnl",
        "outputId": "67b84ae4-49da-44f1-f38e-120cfb9049b4"
      },
      "source": [
        "X.head(2)"
      ],
      "execution_count": 31,
      "outputs": [
        {
          "output_type": "execute_result",
          "data": {
            "text/html": [
              "<div>\n",
              "<style scoped>\n",
              "    .dataframe tbody tr th:only-of-type {\n",
              "        vertical-align: middle;\n",
              "    }\n",
              "\n",
              "    .dataframe tbody tr th {\n",
              "        vertical-align: top;\n",
              "    }\n",
              "\n",
              "    .dataframe thead th {\n",
              "        text-align: right;\n",
              "    }\n",
              "</style>\n",
              "<table border=\"1\" class=\"dataframe\">\n",
              "  <thead>\n",
              "    <tr style=\"text-align: right;\">\n",
              "      <th></th>\n",
              "      <th>text</th>\n",
              "    </tr>\n",
              "  </thead>\n",
              "  <tbody>\n",
              "    <tr>\n",
              "      <th>75136</th>\n",
              "      <td>urllink    more original art from the ...</td>\n",
              "    </tr>\n",
              "    <tr>\n",
              "      <th>489247</th>\n",
              "      <td>mood: tired, sad music: simpsons ...</td>\n",
              "    </tr>\n",
              "  </tbody>\n",
              "</table>\n",
              "</div>"
            ],
            "text/plain": [
              "                                                     text\n",
              "75136           urllink    more original art from the ...\n",
              "489247               mood: tired, sad music: simpsons ..."
            ]
          },
          "metadata": {
            "tags": []
          },
          "execution_count": 31
        }
      ]
    },
    {
      "cell_type": "code",
      "metadata": {
        "id": "GomSGgv5JW6m"
      },
      "source": [
        "X['text'] = X['text'].str.replace('[^\\w\\s]','')"
      ],
      "execution_count": 32,
      "outputs": []
    },
    {
      "cell_type": "code",
      "metadata": {
        "colab": {
          "base_uri": "https://localhost:8080/",
          "height": 111
        },
        "id": "PGeHNneJLjiu",
        "outputId": "dacaf328-df34-432e-9571-1f3075ec5652"
      },
      "source": [
        "X.head(2)"
      ],
      "execution_count": 33,
      "outputs": [
        {
          "output_type": "execute_result",
          "data": {
            "text/html": [
              "<div>\n",
              "<style scoped>\n",
              "    .dataframe tbody tr th:only-of-type {\n",
              "        vertical-align: middle;\n",
              "    }\n",
              "\n",
              "    .dataframe tbody tr th {\n",
              "        vertical-align: top;\n",
              "    }\n",
              "\n",
              "    .dataframe thead th {\n",
              "        text-align: right;\n",
              "    }\n",
              "</style>\n",
              "<table border=\"1\" class=\"dataframe\">\n",
              "  <thead>\n",
              "    <tr style=\"text-align: right;\">\n",
              "      <th></th>\n",
              "      <th>text</th>\n",
              "    </tr>\n",
              "  </thead>\n",
              "  <tbody>\n",
              "    <tr>\n",
              "      <th>75136</th>\n",
              "      <td>urllink    more original art from the ...</td>\n",
              "    </tr>\n",
              "    <tr>\n",
              "      <th>489247</th>\n",
              "      <td>mood tired sad music simpsons  si...</td>\n",
              "    </tr>\n",
              "  </tbody>\n",
              "</table>\n",
              "</div>"
            ],
            "text/plain": [
              "                                                     text\n",
              "75136           urllink    more original art from the ...\n",
              "489247               mood tired sad music simpsons  si..."
            ]
          },
          "metadata": {
            "tags": []
          },
          "execution_count": 33
        }
      ]
    },
    {
      "cell_type": "code",
      "metadata": {
        "colab": {
          "base_uri": "https://localhost:8080/"
        },
        "id": "-WhJVR39LlB8",
        "outputId": "7711dc40-90f0-42eb-868c-5990407afc8c"
      },
      "source": [
        "from nltk.corpus import stopwords\n",
        "nltk.download('stopwords')\n",
        "\n",
        "eng_stopwords = set(stopwords.words('english'))\n",
        "\n",
        "X['text'] = X['text'].apply(lambda text: \" \".join([word for word in str(text).split() if word not in eng_stopwords]))"
      ],
      "execution_count": 34,
      "outputs": [
        {
          "output_type": "stream",
          "text": [
            "[nltk_data] Downloading package stopwords to /root/nltk_data...\n",
            "[nltk_data]   Package stopwords is already up-to-date!\n"
          ],
          "name": "stdout"
        }
      ]
    },
    {
      "cell_type": "code",
      "metadata": {
        "colab": {
          "base_uri": "https://localhost:8080/",
          "height": 204
        },
        "id": "VbrTi0FcMNjm",
        "outputId": "3573fe10-d076-4183-98da-64f7558ee476"
      },
      "source": [
        "X.head()"
      ],
      "execution_count": 35,
      "outputs": [
        {
          "output_type": "execute_result",
          "data": {
            "text/html": [
              "<div>\n",
              "<style scoped>\n",
              "    .dataframe tbody tr th:only-of-type {\n",
              "        vertical-align: middle;\n",
              "    }\n",
              "\n",
              "    .dataframe tbody tr th {\n",
              "        vertical-align: top;\n",
              "    }\n",
              "\n",
              "    .dataframe thead th {\n",
              "        text-align: right;\n",
              "    }\n",
              "</style>\n",
              "<table border=\"1\" class=\"dataframe\">\n",
              "  <thead>\n",
              "    <tr style=\"text-align: right;\">\n",
              "      <th></th>\n",
              "      <th>text</th>\n",
              "    </tr>\n",
              "  </thead>\n",
              "  <tbody>\n",
              "    <tr>\n",
              "      <th>75136</th>\n",
              "      <td>urllink original art rick makes smile toogrin</td>\n",
              "    </tr>\n",
              "    <tr>\n",
              "      <th>489247</th>\n",
              "      <td>mood tired sad music simpsons sigh fighting dy...</td>\n",
              "    </tr>\n",
              "    <tr>\n",
              "      <th>267405</th>\n",
              "      <td>duno im really really tured dont went cross co...</td>\n",
              "    </tr>\n",
              "    <tr>\n",
              "      <th>48768</th>\n",
              "      <td>urllink disturbing trend especially surprising...</td>\n",
              "    </tr>\n",
              "    <tr>\n",
              "      <th>637997</th>\n",
              "      <td>partys aka please excuse bawl eyes may know wo...</td>\n",
              "    </tr>\n",
              "  </tbody>\n",
              "</table>\n",
              "</div>"
            ],
            "text/plain": [
              "                                                     text\n",
              "75136       urllink original art rick makes smile toogrin\n",
              "489247  mood tired sad music simpsons sigh fighting dy...\n",
              "267405  duno im really really tured dont went cross co...\n",
              "48768   urllink disturbing trend especially surprising...\n",
              "637997  partys aka please excuse bawl eyes may know wo..."
            ]
          },
          "metadata": {
            "tags": []
          },
          "execution_count": 35
        }
      ]
    },
    {
      "cell_type": "code",
      "metadata": {
        "id": "z24lSy8GNLOd"
      },
      "source": [
        "X['text'] = X['text'].apply(lambda text: \" \".join(text.split()))"
      ],
      "execution_count": 36,
      "outputs": []
    },
    {
      "cell_type": "code",
      "metadata": {
        "colab": {
          "base_uri": "https://localhost:8080/",
          "height": 204
        },
        "id": "wMZZOUArPD4H",
        "outputId": "66f0b1cb-480d-41d3-88a2-25e16a5ef134"
      },
      "source": [
        "X.head()"
      ],
      "execution_count": 37,
      "outputs": [
        {
          "output_type": "execute_result",
          "data": {
            "text/html": [
              "<div>\n",
              "<style scoped>\n",
              "    .dataframe tbody tr th:only-of-type {\n",
              "        vertical-align: middle;\n",
              "    }\n",
              "\n",
              "    .dataframe tbody tr th {\n",
              "        vertical-align: top;\n",
              "    }\n",
              "\n",
              "    .dataframe thead th {\n",
              "        text-align: right;\n",
              "    }\n",
              "</style>\n",
              "<table border=\"1\" class=\"dataframe\">\n",
              "  <thead>\n",
              "    <tr style=\"text-align: right;\">\n",
              "      <th></th>\n",
              "      <th>text</th>\n",
              "    </tr>\n",
              "  </thead>\n",
              "  <tbody>\n",
              "    <tr>\n",
              "      <th>75136</th>\n",
              "      <td>urllink original art rick makes smile toogrin</td>\n",
              "    </tr>\n",
              "    <tr>\n",
              "      <th>489247</th>\n",
              "      <td>mood tired sad music simpsons sigh fighting dy...</td>\n",
              "    </tr>\n",
              "    <tr>\n",
              "      <th>267405</th>\n",
              "      <td>duno im really really tured dont went cross co...</td>\n",
              "    </tr>\n",
              "    <tr>\n",
              "      <th>48768</th>\n",
              "      <td>urllink disturbing trend especially surprising...</td>\n",
              "    </tr>\n",
              "    <tr>\n",
              "      <th>637997</th>\n",
              "      <td>partys aka please excuse bawl eyes may know wo...</td>\n",
              "    </tr>\n",
              "  </tbody>\n",
              "</table>\n",
              "</div>"
            ],
            "text/plain": [
              "                                                     text\n",
              "75136       urllink original art rick makes smile toogrin\n",
              "489247  mood tired sad music simpsons sigh fighting dy...\n",
              "267405  duno im really really tured dont went cross co...\n",
              "48768   urllink disturbing trend especially surprising...\n",
              "637997  partys aka please excuse bawl eyes may know wo..."
            ]
          },
          "metadata": {
            "tags": []
          },
          "execution_count": 37
        }
      ]
    },
    {
      "cell_type": "code",
      "metadata": {
        "id": "ypDoopFUREwW"
      },
      "source": [
        "# from nltk.stem import PorterStemmer\n",
        "# # from nltk.stem import LancasterStemmer\n",
        "# # from nltk.stem.snowball import SnowballStemmer\n",
        "\n",
        "# stemmer = PorterStemmer()\n",
        "# # stemmer = SnowballStemmer(\"english\", ignore_stopwords=True)\n",
        "\n",
        "# df[\"text\"].apply(lambda texts : [stemmer.stem(text) for text in texts])"
      ],
      "execution_count": 38,
      "outputs": []
    },
    {
      "cell_type": "code",
      "metadata": {
        "id": "Xgpg_8YgTEwG"
      },
      "source": [
        "# unable to run the stemmer as it was time consuming and colab is crashing"
      ],
      "execution_count": 39,
      "outputs": []
    },
    {
      "cell_type": "code",
      "metadata": {
        "id": "st5VxcsBWdw4"
      },
      "source": [
        "from sklearn.feature_extraction.text import TfidfVectorizer\n",
        "\n",
        "vertorizer = TfidfVectorizer()\n",
        "\n",
        "X_vector = vertorizer.fit_transform(X['text'])"
      ],
      "execution_count": 40,
      "outputs": []
    },
    {
      "cell_type": "code",
      "metadata": {
        "colab": {
          "base_uri": "https://localhost:8080/"
        },
        "id": "gvwRUKldfEeY",
        "outputId": "a172aff3-7719-4089-b53e-7459e1a6dd0a"
      },
      "source": [
        "X_vector.shape"
      ],
      "execution_count": 41,
      "outputs": [
        {
          "output_type": "execute_result",
          "data": {
            "text/plain": [
              "(68128, 294661)"
            ]
          },
          "metadata": {
            "tags": []
          },
          "execution_count": 41
        }
      ]
    },
    {
      "cell_type": "code",
      "metadata": {
        "colab": {
          "base_uri": "https://localhost:8080/"
        },
        "id": "UjmbFogUge84",
        "outputId": "ec8c2d46-84d3-4077-ee45-069c34042425"
      },
      "source": [
        "X_vector[10].todense().shape"
      ],
      "execution_count": 42,
      "outputs": [
        {
          "output_type": "execute_result",
          "data": {
            "text/plain": [
              "(1, 294661)"
            ]
          },
          "metadata": {
            "tags": []
          },
          "execution_count": 42
        }
      ]
    },
    {
      "cell_type": "code",
      "metadata": {
        "id": "-P6OVEPtgqIo"
      },
      "source": [
        "from sklearn.model_selection import train_test_split\n",
        "X_train, X_test, y_train, y_test = train_test_split(X_vector, y_processed, test_size=0.30, random_state=100)\n"
      ],
      "execution_count": 43,
      "outputs": []
    },
    {
      "cell_type": "code",
      "metadata": {
        "id": "GyfTr-kThX4u"
      },
      "source": [
        "from sklearn.preprocessing import MultiLabelBinarizer\n",
        "from sklearn.multiclass import OneVsRestClassifier\n",
        "from sklearn.linear_model import LogisticRegression\n",
        "from sklearn.tree import DecisionTreeClassifier\n",
        "\n",
        "\n"
      ],
      "execution_count": 44,
      "outputs": []
    },
    {
      "cell_type": "code",
      "metadata": {
        "id": "brugFehLhc53"
      },
      "source": [
        "model = OneVsRestClassifier(LogisticRegression(solver='sag'))\n",
        "# model = OneVsRestClassifier(DecisionTreeClassifier(criterion = 'gini', random_state=1))"
      ],
      "execution_count": 45,
      "outputs": []
    },
    {
      "cell_type": "code",
      "metadata": {
        "colab": {
          "base_uri": "https://localhost:8080/"
        },
        "id": "UCIyNY5ih81o",
        "outputId": "6a7c5a15-efe7-4209-f9af-ad79329c04e6"
      },
      "source": [
        "model.fit(X_train, y_train)\n"
      ],
      "execution_count": 46,
      "outputs": [
        {
          "output_type": "execute_result",
          "data": {
            "text/plain": [
              "OneVsRestClassifier(estimator=LogisticRegression(C=1.0, class_weight=None,\n",
              "                                                 dual=False, fit_intercept=True,\n",
              "                                                 intercept_scaling=1,\n",
              "                                                 l1_ratio=None, max_iter=100,\n",
              "                                                 multi_class='auto',\n",
              "                                                 n_jobs=None, penalty='l2',\n",
              "                                                 random_state=None,\n",
              "                                                 solver='sag', tol=0.0001,\n",
              "                                                 verbose=0, warm_start=False),\n",
              "                    n_jobs=None)"
            ]
          },
          "metadata": {
            "tags": []
          },
          "execution_count": 46
        }
      ]
    },
    {
      "cell_type": "code",
      "metadata": {
        "id": "YyC2wA7IiC6o"
      },
      "source": [
        "y_test_predict = model.predict(X_test)\n",
        "y_train_predict = model.predict(X_train)\n"
      ],
      "execution_count": 47,
      "outputs": []
    },
    {
      "cell_type": "code",
      "metadata": {
        "colab": {
          "base_uri": "https://localhost:8080/"
        },
        "id": "qjh11k0WkANZ",
        "outputId": "becb6832-5b81-4a58-d166-68ae4f5ab987"
      },
      "source": [
        "from sklearn.metrics import accuracy_score, precision_score, recall_score, f1_score\n",
        "\n",
        "print('Accuracy_train: ',accuracy_score(y_train, y_train_predict))\n",
        "print('Accuracy_test: ',accuracy_score(y_test, y_test_predict))\n",
        "\n",
        "print('Precision_train: ',precision_score(y_train, y_train_predict, average='micro'))\n",
        "print('Precision_test: ',precision_score(y_test, y_test_predict, average='micro'))\n",
        "\n",
        "print('Recall_train: ',recall_score(y_train, y_train_predict, average='micro'))\n",
        "print('Recall_test: ',recall_score(y_test, y_test_predict, average='micro'))\n",
        "\n",
        "print('F1_train: ',f1_score(y_train, y_train_predict, average='micro'))\n",
        "print('F1_test: ',f1_score(y_test, y_test_predict, average='micro'))\n",
        "\n"
      ],
      "execution_count": 48,
      "outputs": [
        {
          "output_type": "stream",
          "text": [
            "Accuracy_train:  0.004403531212648619\n",
            "Accuracy_test:  0.0031312686530652186\n",
            "Precision_train:  0.8343968955481298\n",
            "Precision_test:  0.677862796833773\n",
            "Recall_train:  0.40579064354463296\n",
            "Recall_test:  0.31423993346054113\n",
            "F1_train:  0.5460310518259348\n",
            "F1_test:  0.4294143210536872\n"
          ],
          "name": "stdout"
        }
      ]
    },
    {
      "cell_type": "code",
      "metadata": {
        "id": "W2nri3emqDng"
      },
      "source": [
        "columns = y_test.columns"
      ],
      "execution_count": 49,
      "outputs": []
    },
    {
      "cell_type": "code",
      "metadata": {
        "id": "w1TSAFWsqaCi"
      },
      "source": [
        "def printresults(id):\n",
        "  print('Actual Value:', columns[np.array(y_test)[id] == 1])\n",
        "  print('Predicted Value:', columns[y_test_predict[id] == 1])"
      ],
      "execution_count": 50,
      "outputs": []
    },
    {
      "cell_type": "code",
      "metadata": {
        "colab": {
          "base_uri": "https://localhost:8080/"
        },
        "id": "GsXJtqt8kk8t",
        "outputId": "e578be95-a5b4-4b92-8917-25eccdef62e1"
      },
      "source": [
        "printresults(5000)"
      ],
      "execution_count": 51,
      "outputs": [
        {
          "output_type": "stream",
          "text": [
            "Actual Value: Index(['age_20s', 'gender_female', 'topic_Student', 'sign_Cancer'], dtype='object')\n",
            "Predicted Value: Index(['age_30s', 'gender_male'], dtype='object')\n"
          ],
          "name": "stdout"
        }
      ]
    },
    {
      "cell_type": "code",
      "metadata": {
        "colab": {
          "base_uri": "https://localhost:8080/"
        },
        "id": "v38jCBcbpzI6",
        "outputId": "f43cd455-e1e1-4ab1-b774-de22f225dd56"
      },
      "source": [
        "printresults(6000)"
      ],
      "execution_count": 52,
      "outputs": [
        {
          "output_type": "stream",
          "text": [
            "Actual Value: Index(['age_10s', 'gender_male', 'topic_indUnk', 'sign_Gemini'], dtype='object')\n",
            "Predicted Value: Index(['gender_male'], dtype='object')\n"
          ],
          "name": "stdout"
        }
      ]
    },
    {
      "cell_type": "code",
      "metadata": {
        "colab": {
          "base_uri": "https://localhost:8080/"
        },
        "id": "2O5ILRdEqP7J",
        "outputId": "3b76f4e6-0338-48a3-88d6-c06e540b9abe"
      },
      "source": [
        "printresults(10000)"
      ],
      "execution_count": 53,
      "outputs": [
        {
          "output_type": "stream",
          "text": [
            "Actual Value: Index(['age_20s', 'gender_male', 'topic_Education', 'sign_Taurus'], dtype='object')\n",
            "Predicted Value: Index(['age_20s', 'gender_female'], dtype='object')\n"
          ],
          "name": "stdout"
        }
      ]
    },
    {
      "cell_type": "code",
      "metadata": {
        "colab": {
          "base_uri": "https://localhost:8080/"
        },
        "id": "NXNUaqJ0q75g",
        "outputId": "1a463a5d-c4eb-47cf-b724-9f123f8a3b0b"
      },
      "source": [
        "printresults(10001)"
      ],
      "execution_count": 54,
      "outputs": [
        {
          "output_type": "stream",
          "text": [
            "Actual Value: Index(['age_20s', 'gender_male', 'topic_indUnk', 'sign_Libra'], dtype='object')\n",
            "Predicted Value: Index(['age_20s', 'gender_female'], dtype='object')\n"
          ],
          "name": "stdout"
        }
      ]
    },
    {
      "cell_type": "code",
      "metadata": {
        "colab": {
          "base_uri": "https://localhost:8080/"
        },
        "id": "SVXjIFbWtaYI",
        "outputId": "270fcd2f-7f71-4ed8-81f6-4d82d2d97e5c"
      },
      "source": [
        "printresults(10002)"
      ],
      "execution_count": 55,
      "outputs": [
        {
          "output_type": "stream",
          "text": [
            "Actual Value: Index(['age_20s', 'gender_female', 'topic_indUnk', 'sign_Pisces'], dtype='object')\n",
            "Predicted Value: Index(['age_20s', 'gender_female', 'topic_indUnk'], dtype='object')\n"
          ],
          "name": "stdout"
        }
      ]
    },
    {
      "cell_type": "markdown",
      "metadata": {
        "id": "4Y7wKQ2Jyl9m"
      },
      "source": [
        "# Part 2"
      ]
    },
    {
      "cell_type": "code",
      "metadata": {
        "id": "o4B1isHyynLB"
      },
      "source": [
        "botPath = '/content/drive/MyDrive/GL Bot.json'"
      ],
      "execution_count": 68,
      "outputs": []
    },
    {
      "cell_type": "code",
      "metadata": {
        "id": "1oRwFsRzzqeb"
      },
      "source": [
        "import json"
      ],
      "execution_count": 69,
      "outputs": []
    },
    {
      "cell_type": "code",
      "metadata": {
        "id": "tCn4IAKVzvb6"
      },
      "source": [
        "with open(botPath) as file:\n",
        "  corpus = json.load(file)"
      ],
      "execution_count": 70,
      "outputs": []
    },
    {
      "cell_type": "code",
      "metadata": {
        "colab": {
          "base_uri": "https://localhost:8080/"
        },
        "id": "NlhN-19fz469",
        "outputId": "be1465a3-9b5b-46ac-c6e5-8d7401b25740"
      },
      "source": [
        "print(corpus)"
      ],
      "execution_count": 71,
      "outputs": [
        {
          "output_type": "stream",
          "text": [
            "{'intents': [{'tag': 'Intro', 'patterns': ['hi', 'how are you', 'is anyone there', 'hello', 'whats up', 'hey', 'yo', 'listen', 'please help me', 'i am learner from', 'i belong to', 'aiml batch', 'aifl batch', 'i am from', 'my pm is', 'blended', 'online', 'i am from', 'hey ya', 'talking to you for first time'], 'responses': ['Hello! how can i help you ?'], 'context_set': ''}, {'tag': 'Exit', 'patterns': ['thank you', 'thanks', 'cya', 'see you', 'later', 'see you later', 'goodbye', 'i am leaving', 'have a Good day', 'you helped me', 'thanks a lot', 'thanks a ton', 'you are the best', 'great help', 'too good', 'you are a good learning buddy'], 'responses': ['I hope I was able to assist you, Good Bye'], 'context_set': ''}, {'tag': 'Olympus', 'patterns': ['olympus', 'explain me how olympus works', 'I am not able to understand olympus', 'olympus window not working', 'no access to olympus', 'unable to see link in olympus', 'no link visible on olympus', 'whom to contact for olympus', 'lot of problem with olympus', 'olypus is not a good tool', 'lot of problems with olympus', 'how to use olympus', 'teach me olympus'], 'responses': ['Link: Olympus wiki'], 'context_set': ''}, {'tag': 'SL', 'patterns': ['i am not able to understand svm', 'explain me how machine learning works', 'i am not able to understand naive bayes', 'i am not able to understand logistic regression', 'i am not able to understand ensemble techb=niques', 'i am not able to understand knn', 'i am not able to understand knn imputer', 'i am not able to understand cross validation', 'i am not able to understand boosting', 'i am not able to understand random forest', 'i am not able to understand ada boosting', 'i am not able to understand gradient boosting', 'machine learning', 'ML', 'SL', 'supervised learning', 'knn', 'logistic regression', 'regression', 'classification', 'naive bayes', 'nb', 'ensemble techniques', 'bagging', 'boosting', 'ada boosting', 'ada', 'gradient boosting', 'hyper parameters'], 'responses': ['Link: Machine Learning wiki '], 'context_set': ''}, {'tag': 'NN', 'patterns': ['what is deep learning', 'unable to understand deep learning', 'explain me how deep learning works', 'i am not able to understand deep learning', 'not able to understand neural nets', 'very diffult to understand neural nets', 'unable to understand neural nets', 'ann', 'artificial intelligence', 'artificial neural networks', 'weights', 'activation function', 'hidden layers', 'softmax', 'sigmoid', 'relu', 'otimizer', 'forward propagation', 'backward propagation', 'epochs', 'epoch', 'what is an epoch', 'adam', 'sgd'], 'responses': ['Link: Neural Nets wiki'], 'context_set': ''}, {'tag': 'Bot', 'patterns': ['what is your name', 'who are you', 'name please', 'when are your hours of opertions', 'what are your working hours', 'hours of operation', 'working hours', 'hours'], 'responses': ['I am your virtual learning assistant'], 'context_set': ''}, {'tag': 'Profane', 'patterns': ['what the hell', 'bloody stupid bot', 'do you think you are very smart', 'screw you', 'i hate you', 'you are stupid', 'jerk', 'you are a joke', 'useless piece of shit'], 'responses': ['Please use respectful words'], 'context_set': ''}, {'tag': 'Ticket', 'patterns': ['my problem is not solved', 'you did not help me', 'not a good solution', 'bad solution', 'not good solution', 'no help', 'wasted my time', 'useless bot', 'create a ticket'], 'responses': ['Tarnsferring the request to your PM'], 'context_set': ''}]}\n"
          ],
          "name": "stdout"
        }
      ]
    },
    {
      "cell_type": "code",
      "metadata": {
        "colab": {
          "base_uri": "https://localhost:8080/"
        },
        "id": "KjGDs_kFz7MK",
        "outputId": "433eb53e-edf3-4ed5-c478-4be61740b687"
      },
      "source": [
        "nltk.download('punkt')"
      ],
      "execution_count": 72,
      "outputs": [
        {
          "output_type": "stream",
          "text": [
            "[nltk_data] Downloading package punkt to /root/nltk_data...\n",
            "[nltk_data]   Unzipping tokenizers/punkt.zip.\n"
          ],
          "name": "stdout"
        },
        {
          "output_type": "execute_result",
          "data": {
            "text/plain": [
              "True"
            ]
          },
          "metadata": {
            "tags": []
          },
          "execution_count": 72
        }
      ]
    },
    {
      "cell_type": "code",
      "metadata": {
        "id": "ViiQSvvd6spM"
      },
      "source": [
        "from nltk.stem import PorterStemmer\n",
        "stemmer = PorterStemmer()\n",
        "\n",
        "X_chat = []\n",
        "y_chat = []\n",
        "\n",
        "for intent in corpus['intents']:\n",
        "  for pattern in intent['patterns']:\n",
        "    pattern = nltk.word_tokenize(pattern)\n",
        "    X_chat.append(pattern)\n",
        "    \n",
        "    response = intent['responses'][0]\n",
        "    y_chat.append(response)"
      ],
      "execution_count": 516,
      "outputs": []
    },
    {
      "cell_type": "code",
      "metadata": {
        "id": "ZowpY3En_2Mr"
      },
      "source": [
        "from sklearn.feature_extraction.text import TfidfVectorizer, CountVectorizer\n",
        "\n",
        "chat_vertorizer = TfidfVectorizer(preprocessor=lambda x: x, tokenizer=lambda x: x)\n",
        "\n",
        "# chat_vertorizer = CountVectorizer()"
      ],
      "execution_count": 517,
      "outputs": []
    },
    {
      "cell_type": "code",
      "metadata": {
        "colab": {
          "base_uri": "https://localhost:8080/"
        },
        "id": "kUiORID1FQwt",
        "outputId": "02e8f33a-3d01-474f-b788-2f08949d7d41"
      },
      "source": [
        "X_chat_array = np.array([np.array(xi) for xi in X_chat])"
      ],
      "execution_count": 518,
      "outputs": [
        {
          "output_type": "stream",
          "text": [
            "/usr/local/lib/python3.7/dist-packages/ipykernel_launcher.py:1: VisibleDeprecationWarning: Creating an ndarray from ragged nested sequences (which is a list-or-tuple of lists-or-tuples-or ndarrays with different lengths or shapes) is deprecated. If you meant to do this, you must specify 'dtype=object' when creating the ndarray\n",
            "  \"\"\"Entry point for launching an IPython kernel.\n"
          ],
          "name": "stderr"
        }
      ]
    },
    {
      "cell_type": "code",
      "metadata": {
        "colab": {
          "base_uri": "https://localhost:8080/"
        },
        "id": "zcdEF0g2FV2L",
        "outputId": "1da2c4a2-cd57-4c96-92e4-6a87599c7fd0"
      },
      "source": [
        "chat_vertorizer.fit(X_chat_array)\n",
        "X_chat_transformed = chat_vertorizer.fit_transform(X_chat_array)"
      ],
      "execution_count": 519,
      "outputs": [
        {
          "output_type": "stream",
          "text": [
            "/usr/local/lib/python3.7/dist-packages/sklearn/feature_extraction/text.py:507: UserWarning: The parameter 'token_pattern' will not be used since 'tokenizer' is not None'\n",
            "  warnings.warn(\"The parameter 'token_pattern' will not be used\"\n"
          ],
          "name": "stderr"
        }
      ]
    },
    {
      "cell_type": "code",
      "metadata": {
        "id": "pbMLd95qF94c"
      },
      "source": [
        "X_chat_transfomed_array = np.array(X_chat_transformed.todense())"
      ],
      "execution_count": 520,
      "outputs": []
    },
    {
      "cell_type": "code",
      "metadata": {
        "colab": {
          "base_uri": "https://localhost:8080/"
        },
        "id": "wt4DzM5SW4Vc",
        "outputId": "5ad7d529-c96b-4282-9fee-96557254dc5a"
      },
      "source": [
        "X_chat_transfomed_array"
      ],
      "execution_count": 521,
      "outputs": [
        {
          "output_type": "execute_result",
          "data": {
            "text/plain": [
              "array([[0.        , 0.        , 0.        , ..., 0.        , 0.        ,\n",
              "        0.        ],\n",
              "       [0.        , 0.        , 0.        , ..., 0.        , 0.49604679,\n",
              "        0.        ],\n",
              "       [0.        , 0.        , 0.        , ..., 0.        , 0.        ,\n",
              "        0.        ],\n",
              "       ...,\n",
              "       [0.        , 0.        , 0.        , ..., 0.        , 0.        ,\n",
              "        0.        ],\n",
              "       [0.        , 0.        , 0.        , ..., 0.        , 0.        ,\n",
              "        0.        ],\n",
              "       [0.        , 0.        , 0.        , ..., 0.        , 0.        ,\n",
              "        0.        ]])"
            ]
          },
          "metadata": {
            "tags": []
          },
          "execution_count": 521
        }
      ]
    },
    {
      "cell_type": "code",
      "metadata": {
        "colab": {
          "base_uri": "https://localhost:8080/"
        },
        "id": "1XrI57glHVY9",
        "outputId": "ee10d037-81ac-4ab2-9a96-91fc310354d6"
      },
      "source": [
        "type(y_chat)"
      ],
      "execution_count": 522,
      "outputs": [
        {
          "output_type": "execute_result",
          "data": {
            "text/plain": [
              "list"
            ]
          },
          "metadata": {
            "tags": []
          },
          "execution_count": 522
        }
      ]
    },
    {
      "cell_type": "code",
      "metadata": {
        "id": "CGkG_RSMH7HM"
      },
      "source": [
        "# get dummies for the given columns\n",
        "y_chat_encoded = pd.get_dummies(pd.DataFrame(y_chat))\n",
        "\n"
      ],
      "execution_count": 523,
      "outputs": []
    },
    {
      "cell_type": "code",
      "metadata": {
        "colab": {
          "base_uri": "https://localhost:8080/",
          "height": 453
        },
        "id": "yWXIibHqIhEc",
        "outputId": "9fd47b70-8d02-426c-b812-8da62e68e9e1"
      },
      "source": [
        "y_chat_encoded"
      ],
      "execution_count": 524,
      "outputs": [
        {
          "output_type": "execute_result",
          "data": {
            "text/html": [
              "<div>\n",
              "<style scoped>\n",
              "    .dataframe tbody tr th:only-of-type {\n",
              "        vertical-align: middle;\n",
              "    }\n",
              "\n",
              "    .dataframe tbody tr th {\n",
              "        vertical-align: top;\n",
              "    }\n",
              "\n",
              "    .dataframe thead th {\n",
              "        text-align: right;\n",
              "    }\n",
              "</style>\n",
              "<table border=\"1\" class=\"dataframe\">\n",
              "  <thead>\n",
              "    <tr style=\"text-align: right;\">\n",
              "      <th></th>\n",
              "      <th>0_Hello! how can i help you ?</th>\n",
              "      <th>0_I am your virtual learning assistant</th>\n",
              "      <th>0_I hope I was able to assist you, Good Bye</th>\n",
              "      <th>0_Link: Machine Learning wiki</th>\n",
              "      <th>0_Link: Neural Nets wiki</th>\n",
              "      <th>0_Link: Olympus wiki</th>\n",
              "      <th>0_Please use respectful words</th>\n",
              "      <th>0_Tarnsferring the request to your PM</th>\n",
              "    </tr>\n",
              "  </thead>\n",
              "  <tbody>\n",
              "    <tr>\n",
              "      <th>0</th>\n",
              "      <td>1</td>\n",
              "      <td>0</td>\n",
              "      <td>0</td>\n",
              "      <td>0</td>\n",
              "      <td>0</td>\n",
              "      <td>0</td>\n",
              "      <td>0</td>\n",
              "      <td>0</td>\n",
              "    </tr>\n",
              "    <tr>\n",
              "      <th>1</th>\n",
              "      <td>1</td>\n",
              "      <td>0</td>\n",
              "      <td>0</td>\n",
              "      <td>0</td>\n",
              "      <td>0</td>\n",
              "      <td>0</td>\n",
              "      <td>0</td>\n",
              "      <td>0</td>\n",
              "    </tr>\n",
              "    <tr>\n",
              "      <th>2</th>\n",
              "      <td>1</td>\n",
              "      <td>0</td>\n",
              "      <td>0</td>\n",
              "      <td>0</td>\n",
              "      <td>0</td>\n",
              "      <td>0</td>\n",
              "      <td>0</td>\n",
              "      <td>0</td>\n",
              "    </tr>\n",
              "    <tr>\n",
              "      <th>3</th>\n",
              "      <td>1</td>\n",
              "      <td>0</td>\n",
              "      <td>0</td>\n",
              "      <td>0</td>\n",
              "      <td>0</td>\n",
              "      <td>0</td>\n",
              "      <td>0</td>\n",
              "      <td>0</td>\n",
              "    </tr>\n",
              "    <tr>\n",
              "      <th>4</th>\n",
              "      <td>1</td>\n",
              "      <td>0</td>\n",
              "      <td>0</td>\n",
              "      <td>0</td>\n",
              "      <td>0</td>\n",
              "      <td>0</td>\n",
              "      <td>0</td>\n",
              "      <td>0</td>\n",
              "    </tr>\n",
              "    <tr>\n",
              "      <th>...</th>\n",
              "      <td>...</td>\n",
              "      <td>...</td>\n",
              "      <td>...</td>\n",
              "      <td>...</td>\n",
              "      <td>...</td>\n",
              "      <td>...</td>\n",
              "      <td>...</td>\n",
              "      <td>...</td>\n",
              "    </tr>\n",
              "    <tr>\n",
              "      <th>123</th>\n",
              "      <td>0</td>\n",
              "      <td>0</td>\n",
              "      <td>0</td>\n",
              "      <td>0</td>\n",
              "      <td>0</td>\n",
              "      <td>0</td>\n",
              "      <td>0</td>\n",
              "      <td>1</td>\n",
              "    </tr>\n",
              "    <tr>\n",
              "      <th>124</th>\n",
              "      <td>0</td>\n",
              "      <td>0</td>\n",
              "      <td>0</td>\n",
              "      <td>0</td>\n",
              "      <td>0</td>\n",
              "      <td>0</td>\n",
              "      <td>0</td>\n",
              "      <td>1</td>\n",
              "    </tr>\n",
              "    <tr>\n",
              "      <th>125</th>\n",
              "      <td>0</td>\n",
              "      <td>0</td>\n",
              "      <td>0</td>\n",
              "      <td>0</td>\n",
              "      <td>0</td>\n",
              "      <td>0</td>\n",
              "      <td>0</td>\n",
              "      <td>1</td>\n",
              "    </tr>\n",
              "    <tr>\n",
              "      <th>126</th>\n",
              "      <td>0</td>\n",
              "      <td>0</td>\n",
              "      <td>0</td>\n",
              "      <td>0</td>\n",
              "      <td>0</td>\n",
              "      <td>0</td>\n",
              "      <td>0</td>\n",
              "      <td>1</td>\n",
              "    </tr>\n",
              "    <tr>\n",
              "      <th>127</th>\n",
              "      <td>0</td>\n",
              "      <td>0</td>\n",
              "      <td>0</td>\n",
              "      <td>0</td>\n",
              "      <td>0</td>\n",
              "      <td>0</td>\n",
              "      <td>0</td>\n",
              "      <td>1</td>\n",
              "    </tr>\n",
              "  </tbody>\n",
              "</table>\n",
              "<p>128 rows × 8 columns</p>\n",
              "</div>"
            ],
            "text/plain": [
              "     0_Hello! how can i help you ?  ...  0_Tarnsferring the request to your PM\n",
              "0                                1  ...                                      0\n",
              "1                                1  ...                                      0\n",
              "2                                1  ...                                      0\n",
              "3                                1  ...                                      0\n",
              "4                                1  ...                                      0\n",
              "..                             ...  ...                                    ...\n",
              "123                              0  ...                                      1\n",
              "124                              0  ...                                      1\n",
              "125                              0  ...                                      1\n",
              "126                              0  ...                                      1\n",
              "127                              0  ...                                      1\n",
              "\n",
              "[128 rows x 8 columns]"
            ]
          },
          "metadata": {
            "tags": []
          },
          "execution_count": 524
        }
      ]
    },
    {
      "cell_type": "code",
      "metadata": {
        "id": "jk4w6ASOJAJM"
      },
      "source": [
        "chat_columns = y_chat_encoded.columns"
      ],
      "execution_count": 525,
      "outputs": []
    },
    {
      "cell_type": "code",
      "metadata": {
        "colab": {
          "base_uri": "https://localhost:8080/"
        },
        "id": "EJ2XEEOiJcnb",
        "outputId": "ed8188b0-109b-43e4-89e6-e46a62bccbda"
      },
      "source": [
        "chat_columns.size"
      ],
      "execution_count": 526,
      "outputs": [
        {
          "output_type": "execute_result",
          "data": {
            "text/plain": [
              "8"
            ]
          },
          "metadata": {
            "tags": []
          },
          "execution_count": 526
        }
      ]
    },
    {
      "cell_type": "code",
      "metadata": {
        "colab": {
          "base_uri": "https://localhost:8080/"
        },
        "id": "cdF8ekuwKNZ0",
        "outputId": "7eb9a195-6a08-4a26-e885-d498eb690586"
      },
      "source": [
        "X_chat_transfomed_array.shape"
      ],
      "execution_count": 527,
      "outputs": [
        {
          "output_type": "execute_result",
          "data": {
            "text/plain": [
              "(128, 162)"
            ]
          },
          "metadata": {
            "tags": []
          },
          "execution_count": 527
        }
      ]
    },
    {
      "cell_type": "code",
      "metadata": {
        "id": "u0hPPAMiPqVV"
      },
      "source": [
        "# from sklearn.tree import DecisionTreeClassifier\n",
        "\n",
        "# model = OneVsRestClassifier(DecisionTreeClassifier(criterion = 'gini', random_state=1))\n",
        "\n",
        "# model.fit(X_chat_transfomed_array, y_chat_encoded)\n",
        "\n",
        "\n"
      ],
      "execution_count": 528,
      "outputs": []
    },
    {
      "cell_type": "code",
      "metadata": {
        "id": "D1-GEiWlP9rc"
      },
      "source": [
        "tf.keras.backend.clear_session()"
      ],
      "execution_count": 582,
      "outputs": []
    },
    {
      "cell_type": "code",
      "metadata": {
        "id": "xhNlFPN7Jn_c"
      },
      "source": [
        "import tensorflow as tf\n",
        "from tensorflow.keras import Sequential\n",
        "from tensorflow.keras.layers import Dense\n",
        "from tensorflow.keras.layers import Dropout\n",
        "\n",
        "model = Sequential()\n",
        "model.add(Dense(128, activation='relu', kernel_initializer='he_normal', input_shape=(162,)))\n",
        "model.add(Dense(64, activation='relu', kernel_initializer='he_normal'))\n",
        "model.add(Dense(8, activation='softmax'))\n",
        "\n",
        "\n"
      ],
      "execution_count": 583,
      "outputs": []
    },
    {
      "cell_type": "code",
      "metadata": {
        "colab": {
          "base_uri": "https://localhost:8080/"
        },
        "id": "CN2ihNNBKpTF",
        "outputId": "4525ee96-7b2f-4950-bee7-048224490536"
      },
      "source": [
        "model.summary()"
      ],
      "execution_count": 584,
      "outputs": [
        {
          "output_type": "stream",
          "text": [
            "Model: \"sequential\"\n",
            "_________________________________________________________________\n",
            "Layer (type)                 Output Shape              Param #   \n",
            "=================================================================\n",
            "dense (Dense)                (None, 128)               20864     \n",
            "_________________________________________________________________\n",
            "dense_1 (Dense)              (None, 64)                8256      \n",
            "_________________________________________________________________\n",
            "dense_2 (Dense)              (None, 8)                 520       \n",
            "=================================================================\n",
            "Total params: 29,640\n",
            "Trainable params: 29,640\n",
            "Non-trainable params: 0\n",
            "_________________________________________________________________\n"
          ],
          "name": "stdout"
        }
      ]
    },
    {
      "cell_type": "code",
      "metadata": {
        "id": "Ixko2NYNKurt"
      },
      "source": [
        "model.compile(optimizer='adam', loss='categorical_crossentropy', metrics=['accuracy'])\n",
        "\n",
        "# # \"binary_crossentropy\" for binary classification.\n",
        "# # \"categorical_crossentropy\" for multi-class classification.\n",
        "# # \"mse\" for regression\n"
      ],
      "execution_count": 585,
      "outputs": []
    },
    {
      "cell_type": "code",
      "metadata": {
        "id": "0vKiqk-qNqlb"
      },
      "source": [
        "# pass callback as property during fit: callbacks=[earlystop]\n",
        "earlystop = tf.keras.callbacks.EarlyStopping(monitor='accuracy', patience=10, min_delta=0.01)\n"
      ],
      "execution_count": 586,
      "outputs": []
    },
    {
      "cell_type": "code",
      "metadata": {
        "colab": {
          "base_uri": "https://localhost:8080/"
        },
        "id": "NC5jaNMuK3Dd",
        "outputId": "f6accfd2-fdb4-412b-83ed-258c06a000c4"
      },
      "source": [
        "model.fit(X_chat_transfomed_array, y_chat_encoded, epochs=50, batch_size=32, verbose=1, callbacks=[earlystop]) \n"
      ],
      "execution_count": 587,
      "outputs": [
        {
          "output_type": "stream",
          "text": [
            "Epoch 1/50\n",
            "4/4 [==============================] - 0s 3ms/step - loss: 2.0941 - accuracy: 0.1021\n",
            "Epoch 2/50\n",
            "4/4 [==============================] - 0s 3ms/step - loss: 2.0528 - accuracy: 0.1792\n",
            "Epoch 3/50\n",
            "4/4 [==============================] - 0s 3ms/step - loss: 2.0194 - accuracy: 0.2396\n",
            "Epoch 4/50\n",
            "4/4 [==============================] - 0s 3ms/step - loss: 1.9772 - accuracy: 0.4229\n",
            "Epoch 5/50\n",
            "4/4 [==============================] - 0s 3ms/step - loss: 1.9367 - accuracy: 0.4948\n",
            "Epoch 6/50\n",
            "4/4 [==============================] - 0s 3ms/step - loss: 1.8916 - accuracy: 0.6073\n",
            "Epoch 7/50\n",
            "4/4 [==============================] - 0s 3ms/step - loss: 1.8692 - accuracy: 0.6135\n",
            "Epoch 8/50\n",
            "4/4 [==============================] - 0s 3ms/step - loss: 1.8025 - accuracy: 0.6698\n",
            "Epoch 9/50\n",
            "4/4 [==============================] - 0s 3ms/step - loss: 1.7527 - accuracy: 0.6896\n",
            "Epoch 10/50\n",
            "4/4 [==============================] - 0s 3ms/step - loss: 1.6909 - accuracy: 0.7188\n",
            "Epoch 11/50\n",
            "4/4 [==============================] - 0s 3ms/step - loss: 1.6432 - accuracy: 0.7240\n",
            "Epoch 12/50\n",
            "4/4 [==============================] - 0s 3ms/step - loss: 1.5704 - accuracy: 0.7521\n",
            "Epoch 13/50\n",
            "4/4 [==============================] - 0s 3ms/step - loss: 1.5630 - accuracy: 0.6625\n",
            "Epoch 14/50\n",
            "4/4 [==============================] - 0s 3ms/step - loss: 1.4564 - accuracy: 0.7448\n",
            "Epoch 15/50\n",
            "4/4 [==============================] - 0s 3ms/step - loss: 1.3964 - accuracy: 0.7438\n",
            "Epoch 16/50\n",
            "4/4 [==============================] - 0s 3ms/step - loss: 1.3383 - accuracy: 0.7031\n",
            "Epoch 17/50\n",
            "4/4 [==============================] - 0s 3ms/step - loss: 1.2723 - accuracy: 0.7667\n",
            "Epoch 18/50\n",
            "4/4 [==============================] - 0s 3ms/step - loss: 1.1443 - accuracy: 0.8323\n",
            "Epoch 19/50\n",
            "4/4 [==============================] - 0s 3ms/step - loss: 1.0529 - accuracy: 0.8938\n",
            "Epoch 20/50\n",
            "4/4 [==============================] - 0s 3ms/step - loss: 1.0066 - accuracy: 0.8292\n",
            "Epoch 21/50\n",
            "4/4 [==============================] - 0s 3ms/step - loss: 0.9032 - accuracy: 0.8708\n",
            "Epoch 22/50\n",
            "4/4 [==============================] - 0s 3ms/step - loss: 0.8498 - accuracy: 0.9146\n",
            "Epoch 23/50\n",
            "4/4 [==============================] - 0s 3ms/step - loss: 0.7078 - accuracy: 0.9521\n",
            "Epoch 24/50\n",
            "4/4 [==============================] - 0s 3ms/step - loss: 0.6398 - accuracy: 0.9708\n",
            "Epoch 25/50\n",
            "4/4 [==============================] - 0s 3ms/step - loss: 0.5730 - accuracy: 0.9938\n",
            "Epoch 26/50\n",
            "4/4 [==============================] - 0s 3ms/step - loss: 0.4735 - accuracy: 0.9948\n",
            "Epoch 27/50\n",
            "4/4 [==============================] - 0s 3ms/step - loss: 0.4329 - accuracy: 0.9917\n",
            "Epoch 28/50\n",
            "4/4 [==============================] - 0s 3ms/step - loss: 0.3696 - accuracy: 0.9969\n",
            "Epoch 29/50\n",
            "4/4 [==============================] - 0s 3ms/step - loss: 0.3305 - accuracy: 0.9854\n",
            "Epoch 30/50\n",
            "4/4 [==============================] - 0s 3ms/step - loss: 0.2905 - accuracy: 0.9948\n",
            "Epoch 31/50\n",
            "4/4 [==============================] - 0s 3ms/step - loss: 0.2424 - accuracy: 0.9948\n",
            "Epoch 32/50\n",
            "4/4 [==============================] - 0s 4ms/step - loss: 0.2037 - accuracy: 1.0000\n",
            "Epoch 33/50\n",
            "4/4 [==============================] - 0s 3ms/step - loss: 0.1761 - accuracy: 1.0000\n",
            "Epoch 34/50\n",
            "4/4 [==============================] - 0s 3ms/step - loss: 0.1578 - accuracy: 1.0000\n",
            "Epoch 35/50\n",
            "4/4 [==============================] - 0s 3ms/step - loss: 0.1319 - accuracy: 1.0000\n",
            "Epoch 36/50\n",
            "4/4 [==============================] - 0s 4ms/step - loss: 0.1162 - accuracy: 1.0000\n",
            "Epoch 37/50\n",
            "4/4 [==============================] - 0s 3ms/step - loss: 0.1014 - accuracy: 1.0000\n",
            "Epoch 38/50\n",
            "4/4 [==============================] - 0s 3ms/step - loss: 0.0911 - accuracy: 1.0000\n",
            "Epoch 39/50\n",
            "4/4 [==============================] - 0s 3ms/step - loss: 0.0786 - accuracy: 1.0000\n",
            "Epoch 40/50\n",
            "4/4 [==============================] - 0s 3ms/step - loss: 0.0675 - accuracy: 1.0000\n",
            "Epoch 41/50\n",
            "4/4 [==============================] - 0s 3ms/step - loss: 0.0627 - accuracy: 1.0000\n",
            "Epoch 42/50\n",
            "4/4 [==============================] - 0s 3ms/step - loss: 0.0571 - accuracy: 1.0000\n"
          ],
          "name": "stdout"
        },
        {
          "output_type": "execute_result",
          "data": {
            "text/plain": [
              "<tensorflow.python.keras.callbacks.History at 0x7f9367e28990>"
            ]
          },
          "metadata": {
            "tags": []
          },
          "execution_count": 587
        }
      ]
    },
    {
      "cell_type": "code",
      "metadata": {
        "id": "3JxcuPEGK-GM"
      },
      "source": [
        "def reply(inputtext):\n",
        "  inputtext = nltk.word_tokenize(inputtext)\n",
        "  testing = [inputtext]\n",
        "  testing2 = np.array(chat_vertorizer.transform(testing).todense())\n",
        "  return chat_columns[model.predict(testing2).argmax()]"
      ],
      "execution_count": 598,
      "outputs": []
    },
    {
      "cell_type": "code",
      "metadata": {
        "colab": {
          "base_uri": "https://localhost:8080/",
          "height": 35
        },
        "id": "0gnTJBdAMvu-",
        "outputId": "219fe434-6ca3-4308-c882-c8a54165218a"
      },
      "source": [
        "reply('add a ticket')"
      ],
      "execution_count": 599,
      "outputs": [
        {
          "output_type": "execute_result",
          "data": {
            "application/vnd.google.colaboratory.intrinsic+json": {
              "type": "string"
            },
            "text/plain": [
              "'0_Tarnsferring the request to your PM'"
            ]
          },
          "metadata": {
            "tags": []
          },
          "execution_count": 599
        }
      ]
    },
    {
      "cell_type": "code",
      "metadata": {
        "id": "NJDQ0ZooajXe"
      },
      "source": [
        "def chat():\n",
        "  print(\"Nippu: You are chatting with Nippu!! \\n type 'quit' to end the conversation\")\n",
        "  while True:\n",
        "    userinput = input(\"\\n You:\")\n",
        "    if userinput.lower() == 'quit':\n",
        "      break\n",
        "    result = reply(userinput.lower()).split('_')[1]\n",
        "    print('\\nNippu: ', result)"
      ],
      "execution_count": 603,
      "outputs": []
    },
    {
      "cell_type": "code",
      "metadata": {
        "colab": {
          "base_uri": "https://localhost:8080/"
        },
        "id": "3Wh7xbWegkxf",
        "outputId": "57d8353a-6440-4e6f-ffd5-84dee8fcfbba"
      },
      "source": [
        "chat()"
      ],
      "execution_count": 605,
      "outputs": [
        {
          "output_type": "stream",
          "text": [
            "Nippu: You are chatting with Nippu!! \n",
            " type 'quit' to end the conversation\n",
            "\n",
            " You:hi\n",
            "\n",
            "Nippu:  Hello! how can i help you ?\n",
            "\n",
            " You:not having access to olympus\n",
            "\n",
            "Nippu:  Link: Olympus wiki\n",
            "\n",
            " You:what is machine learning\n",
            "\n",
            "Nippu:  Link: Machine Learning wiki \n",
            "\n",
            " You:what is epoch?\n",
            "\n",
            "Nippu:  Link: Neural Nets wiki\n",
            "\n",
            " You:what is your sweet name?\n",
            "\n",
            "Nippu:  I am your virtual learning assistant\n",
            "\n",
            " You:useless fellow\n",
            "\n",
            "Nippu:  Tarnsferring the request to your PM\n",
            "\n",
            " You:you are stupid machine\n",
            "\n",
            "Nippu:  Please use respectful words\n",
            "\n",
            " You:how to create a ticket\n",
            "\n",
            "Nippu:  Tarnsferring the request to your PM\n",
            "\n",
            " You:quit\n"
          ],
          "name": "stdout"
        }
      ]
    },
    {
      "cell_type": "code",
      "metadata": {
        "id": "HcLeMzl2gmQe"
      },
      "source": [
        ""
      ],
      "execution_count": null,
      "outputs": []
    }
  ]
}